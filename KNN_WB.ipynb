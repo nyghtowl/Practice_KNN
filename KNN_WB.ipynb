{
 "metadata": {
  "name": ""
 },
 "nbformat": 3,
 "nbformat_minor": 0,
 "worksheets": [
  {
   "cells": [
    {
     "cell_type": "code",
     "collapsed": false,
     "input": [
      "%pylab inline\n",
      "\n",
      "import numpy as np\n",
      "from sklearn import datasets\n",
      "from sklearn.datasets import fetch_20newsgroups\n",
      "import matplotlib.pyplot as plt\n",
      "\n",
      "from sklearn.svm import SVC\n",
      "import pandas as pd\n",
      "from sklearn.cross_validation import train_test_split\n",
      "from sklearn.cross_validation import cross_val_score, KFold\n",
      "from sklearn.neighbors import KNeighborsClassifier\n",
      "from sklearn.naive_bayes import MultinomialNB\n",
      "from sklearn.feature_extraction.text import TfidfVectorizer\n",
      "from sklearn.linear_model import LogisticRegression\n",
      "from sklearn.multiclass import OneVsRestClassifier\n",
      "from sklearn.svm import LinearSVC\n",
      "\n",
      "from pprint import pprint\n",
      "\n",
      "import seaborn"
     ],
     "language": "python",
     "metadata": {},
     "outputs": [
      {
       "output_type": "stream",
       "stream": "stdout",
       "text": [
        "Populating the interactive namespace from numpy and matplotlib\n"
       ]
      }
     ],
     "prompt_number": 127
    },
    {
     "cell_type": "code",
     "collapsed": false,
     "input": [
      "# download Enron dataset (only need to do this once)\n",
      "for i in range(6):\n",
      "    url = 'http://www.aueb.gr/users/ion/data/enron-spam/preprocessed/enron%d.tar.gz' % (i + 1)\n",
      "    !wget -nc {url}"
     ],
     "language": "python",
     "metadata": {},
     "outputs": [
      {
       "output_type": "stream",
       "stream": "stdout",
       "text": [
        "--2014-03-03 12:32:43--  http://www.aueb.gr/users/ion/data/enron-spam/preprocessed/enron1.tar.gz\r\n",
        "Resolving www.aueb.gr... "
       ]
      },
      {
       "output_type": "stream",
       "stream": "stdout",
       "text": [
        "195.251.255.138\r\n",
        "Connecting to www.aueb.gr|195.251.255.138|:80... "
       ]
      },
      {
       "output_type": "stream",
       "stream": "stdout",
       "text": [
        "connected.\r\n",
        "HTTP request sent, awaiting response... "
       ]
      },
      {
       "output_type": "stream",
       "stream": "stdout",
       "text": [
        "200 OK\r\n",
        "Length: 1802573 (1.7M) [application/x-gzip]\r\n",
        "Saving to: \u2018enron1.tar.gz\u2019\r\n",
        "\r\n",
        "\r",
        " 0% [                                       ] 0           --.-K/s              "
       ]
      },
      {
       "output_type": "stream",
       "stream": "stdout",
       "text": [
        "\r",
        " 0% [                                       ] 4,568       15.9KB/s             "
       ]
      },
      {
       "output_type": "stream",
       "stream": "stdout",
       "text": [
        "\r",
        " 0% [                                       ] 10,360      17.8KB/s             "
       ]
      },
      {
       "output_type": "stream",
       "stream": "stdout",
       "text": [
        "\r",
        " 0% [                                       ] 17,600      16.9KB/s             "
       ]
      },
      {
       "output_type": "stream",
       "stream": "stdout",
       "text": [
        "\r",
        " 0% [                                       ] 17,600      8.75KB/s             "
       ]
      },
      {
       "output_type": "stream",
       "stream": "stdout",
       "text": [
        "\r",
        " 0% [                                       ] 17,600      5.89KB/s             "
       ]
      },
      {
       "output_type": "stream",
       "stream": "stdout",
       "text": [
        "\r",
        " 0% [                                       ] 17,600      4.44KB/s  eta 6m 32s "
       ]
      },
      {
       "output_type": "stream",
       "stream": "stdout",
       "text": [
        "\r",
        " 0% [                                       ] 17,600      3.57KB/s  eta 6m 32s "
       ]
      },
      {
       "output_type": "stream",
       "stream": "stdout",
       "text": [
        "\r",
        " 1% [                                       ] 23,392      4.41KB/s  eta 6m 34s "
       ]
      },
      {
       "output_type": "stream",
       "stream": "stdout",
       "text": [
        "\r",
        " 1% [                                       ] 24,840      4.43KB/s  eta 6m 34s "
       ]
      },
      {
       "output_type": "stream",
       "stream": "stdout",
       "text": [
        "\r",
        " 1% [                                       ] 27,736      4.68KB/s  eta 6m 34s "
       ]
      },
      {
       "output_type": "stream",
       "stream": "stdout",
       "text": [
        "\r",
        " 1% [                                       ] 32,080      5.21KB/s  eta 6m 34s "
       ]
      },
      {
       "output_type": "stream",
       "stream": "stdout",
       "text": [
        "\r",
        " 2% [                                       ] 36,424      5.71KB/s  eta 5m 2s  "
       ]
      },
      {
       "output_type": "stream",
       "stream": "stdout",
       "text": [
        "\r",
        " 2% [                                       ] 42,216      6.40KB/s  eta 5m 2s  "
       ]
      },
      {
       "output_type": "stream",
       "stream": "stdout",
       "text": [
        "\r",
        " 2% [>                                      ] 48,008      7.04KB/s  eta 5m 2s  "
       ]
      },
      {
       "output_type": "stream",
       "stream": "stdout",
       "text": [
        "\r",
        " 3% [>                                      ] 55,248      7.78KB/s  eta 5m 2s  "
       ]
      },
      {
       "output_type": "stream",
       "stream": "stdout",
       "text": [
        "\r",
        " 3% [>                                      ] 62,488      8.54KB/s  eta 5m 2s  "
       ]
      },
      {
       "output_type": "stream",
       "stream": "stdout",
       "text": [
        "\r",
        " 4% [>                                      ] 74,072      9.26KB/s  eta 3m 2s  "
       ]
      },
      {
       "output_type": "stream",
       "stream": "stdout",
       "text": [
        "\r",
        " 4% [>                                      ] 74,072      8.26KB/s  eta 3m 2s  "
       ]
      },
      {
       "output_type": "stream",
       "stream": "stdout",
       "text": [
        "\r",
        " 4% [>                                      ] 76,968      7.91KB/s  eta 3m 33s "
       ]
      },
      {
       "output_type": "stream",
       "stream": "stdout",
       "text": [
        "\r",
        " 4% [>                                      ] 78,416      7.83KB/s  eta 3m 33s "
       ]
      },
      {
       "output_type": "stream",
       "stream": "stdout",
       "text": [
        "\r",
        " 4% [>                                      ] 81,312      7.94KB/s  eta 3m 33s "
       ]
      },
      {
       "output_type": "stream",
       "stream": "stdout",
       "text": [
        "\r",
        " 4% [>                                      ] 85,656      8.04KB/s  eta 3m 33s "
       ]
      },
      {
       "output_type": "stream",
       "stream": "stdout",
       "text": [
        "\r",
        " 5% [>                                      ] 91,448      8.34KB/s  eta 3m 20s "
       ]
      },
      {
       "output_type": "stream",
       "stream": "stdout",
       "text": [
        "\r",
        " 5% [=>                                     ] 97,240      8.62KB/s  eta 3m 20s "
       ]
      },
      {
       "output_type": "stream",
       "stream": "stdout",
       "text": [
        "\r",
        " 5% [=>                                     ] 104,480     8.91KB/s  eta 3m 20s "
       ]
      },
      {
       "output_type": "stream",
       "stream": "stdout",
       "text": [
        "\r",
        " 6% [=>                                     ] 111,720     9.10KB/s  eta 3m 20s "
       ]
      },
      {
       "output_type": "stream",
       "stream": "stdout",
       "text": [
        "\r",
        " 6% [=>                                     ] 124,256     9.57KB/s  eta 2m 41s "
       ]
      },
      {
       "output_type": "stream",
       "stream": "stdout",
       "text": [
        "\r",
        " 7% [=>                                     ] 129,096     14.9KB/s  eta 2m 41s "
       ]
      },
      {
       "output_type": "stream",
       "stream": "stdout",
       "text": [
        "\r",
        " 7% [=>                                     ] 133,440     15.5KB/s  eta 2m 41s "
       ]
      },
      {
       "output_type": "stream",
       "stream": "stdout",
       "text": [
        "\r",
        " 7% [==>                                    ] 139,232     15.6KB/s  eta 2m 41s "
       ]
      },
      {
       "output_type": "stream",
       "stream": "stdout",
       "text": [
        "\r",
        " 7% [==>                                    ] 143,576     15.1KB/s  eta 2m 33s "
       ]
      },
      {
       "output_type": "stream",
       "stream": "stdout",
       "text": [
        "\r",
        " 8% [==>                                    ] 145,024     14.7KB/s  eta 2m 33s "
       ]
      },
      {
       "output_type": "stream",
       "stream": "stdout",
       "text": [
        "\r",
        " 8% [==>                                    ] 146,472     13.9KB/s  eta 2m 33s "
       ]
      },
      {
       "output_type": "stream",
       "stream": "stdout",
       "text": [
        "\r",
        " 8% [==>                                    ] 149,368     13.3KB/s  eta 2m 33s "
       ]
      },
      {
       "output_type": "stream",
       "stream": "stdout",
       "text": [
        "\r",
        " 8% [==>                                    ] 153,712     13.1KB/s  eta 2m 34s "
       ]
      },
      {
       "output_type": "stream",
       "stream": "stdout",
       "text": [
        "\r",
        " 8% [==>                                    ] 158,056     12.6KB/s  eta 2m 34s "
       ]
      },
      {
       "output_type": "stream",
       "stream": "stdout",
       "text": [
        "\r",
        " 9% [==>                                    ] 163,848     12.4KB/s  eta 2m 34s "
       ]
      },
      {
       "output_type": "stream",
       "stream": "stdout",
       "text": [
        "\r",
        " 9% [==>                                    ] 169,640     12.4KB/s  eta 2m 34s "
       ]
      },
      {
       "output_type": "stream",
       "stream": "stdout",
       "text": [
        "\r",
        " 9% [==>                                    ] 175,432     15.0KB/s  eta 2m 27s "
       ]
      },
      {
       "output_type": "stream",
       "stream": "stdout",
       "text": [
        "\r",
        "10% [==>                                    ] 182,672     15.9KB/s  eta 2m 27s "
       ]
      },
      {
       "output_type": "stream",
       "stream": "stdout",
       "text": [
        "\r",
        "10% [==>                                    ] 184,120     15.7KB/s  eta 2m 27s "
       ]
      },
      {
       "output_type": "stream",
       "stream": "stdout",
       "text": [
        "\r",
        "10% [===>                                   ] 185,568     15.6KB/s  eta 2m 27s "
       ]
      },
      {
       "output_type": "stream",
       "stream": "stdout",
       "text": [
        "\r",
        "10% [===>                                   ] 188,464     15.2KB/s  eta 2m 25s "
       ]
      },
      {
       "output_type": "stream",
       "stream": "stdout",
       "text": [
        "\r",
        "10% [===>                                   ] 192,808     15.2KB/s  eta 2m 25s "
       ]
      },
      {
       "output_type": "stream",
       "stream": "stdout",
       "text": [
        "\r",
        "10% [===>                                   ] 197,152     14.7KB/s  eta 2m 25s "
       ]
      },
      {
       "output_type": "stream",
       "stream": "stdout",
       "text": [
        "\r",
        "11% [===>                                   ] 202,944     14.5KB/s  eta 2m 25s "
       ]
      },
      {
       "output_type": "stream",
       "stream": "stdout",
       "text": [
        "\r",
        "11% [===>                                   ] 208,736     13.7KB/s  eta 2m 25s "
       ]
      },
      {
       "output_type": "stream",
       "stream": "stdout",
       "text": [
        "\r",
        "11% [===>                                   ] 215,976     14.1KB/s  eta 2m 13s "
       ]
      },
      {
       "output_type": "stream",
       "stream": "stdout",
       "text": [
        "\r",
        "12% [===>                                   ] 223,216     14.6KB/s  eta 2m 13s "
       ]
      },
      {
       "output_type": "stream",
       "stream": "stdout",
       "text": [
        "\r",
        "12% [===>                                   ] 230,456     15.3KB/s  eta 2m 13s "
       ]
      },
      {
       "output_type": "stream",
       "stream": "stdout",
       "text": [
        "\r",
        "13% [====>                                  ] 239,144     16.7KB/s  eta 2m 13s "
       ]
      },
      {
       "output_type": "stream",
       "stream": "stdout",
       "text": [
        "\r",
        "13% [====>                                  ] 249,280     18.2KB/s  eta 2m 13s "
       ]
      },
      {
       "output_type": "stream",
       "stream": "stdout",
       "text": [
        "\r",
        "14% [====>                                  ] 257,968     20.0KB/s  eta 1m 55s "
       ]
      },
      {
       "output_type": "stream",
       "stream": "stdout",
       "text": [
        "\r",
        "14% [====>                                  ] 269,552     21.0KB/s  eta 1m 55s "
       ]
      },
      {
       "output_type": "stream",
       "stream": "stdout",
       "text": [
        "\r",
        "15% [=====>                                 ] 288,376     21.6KB/s  eta 1m 47s "
       ]
      },
      {
       "output_type": "stream",
       "stream": "stdout",
       "text": [
        "\r",
        "16% [=====>                                 ] 289,824     20.0KB/s  eta 1m 47s "
       ]
      },
      {
       "output_type": "stream",
       "stream": "stdout",
       "text": [
        "\r",
        "16% [=====>                                 ] 292,720     19.5KB/s  eta 1m 47s "
       ]
      },
      {
       "output_type": "stream",
       "stream": "stdout",
       "text": [
        "\r",
        "16% [=====>                                 ] 297,064     19.8KB/s  eta 1m 50s "
       ]
      },
      {
       "output_type": "stream",
       "stream": "stdout",
       "text": [
        "\r",
        "16% [=====>                                 ] 301,408     20.4KB/s  eta 1m 50s "
       ]
      },
      {
       "output_type": "stream",
       "stream": "stdout",
       "text": [
        "\r",
        "17% [=====>                                 ] 307,200     20.2KB/s  eta 1m 50s "
       ]
      },
      {
       "output_type": "stream",
       "stream": "stdout",
       "text": [
        "\r",
        "17% [=====>                                 ] 312,992     19.9KB/s  eta 1m 48s "
       ]
      },
      {
       "output_type": "stream",
       "stream": "stdout",
       "text": [
        "\r",
        "17% [=====>                                 ] 318,784     18.0KB/s  eta 1m 48s "
       ]
      },
      {
       "output_type": "stream",
       "stream": "stdout",
       "text": [
        "\r",
        "17% [=====>                                 ] 318,784     16.0KB/s  eta 1m 55s "
       ]
      },
      {
       "output_type": "stream",
       "stream": "stdout",
       "text": [
        "\r",
        "17% [=====>                                 ] 320,232     14.9KB/s  eta 1m 55s "
       ]
      },
      {
       "output_type": "stream",
       "stream": "stdout",
       "text": [
        "\r",
        "17% [=====>                                 ] 321,680     14.9KB/s  eta 1m 58s "
       ]
      },
      {
       "output_type": "stream",
       "stream": "stdout",
       "text": [
        "\r",
        "18% [======>                                ] 324,576     14.7KB/s  eta 1m 58s "
       ]
      },
      {
       "output_type": "stream",
       "stream": "stdout",
       "text": [
        "\r",
        "18% [======>                                ] 328,920     14.7KB/s  eta 1m 58s "
       ]
      },
      {
       "output_type": "stream",
       "stream": "stdout",
       "text": [
        "\r",
        "18% [======>                                ] 333,264     14.0KB/s  eta 1m 58s "
       ]
      },
      {
       "output_type": "stream",
       "stream": "stdout",
       "text": [
        "\r",
        "18% [======>                                ] 339,056     14.1KB/s  eta 1m 58s "
       ]
      },
      {
       "output_type": "stream",
       "stream": "stdout",
       "text": [
        "\r",
        "19% [======>                                ] 348,696     13.5KB/s  eta 1m 56s "
       ]
      },
      {
       "output_type": "stream",
       "stream": "stdout",
       "text": [
        "\r",
        "19% [======>                                ] 350,640     12.9KB/s  eta 1m 56s "
       ]
      },
      {
       "output_type": "stream",
       "stream": "stdout",
       "text": [
        "\r",
        "19% [======>                                ] 356,432     12.5KB/s  eta 1m 56s "
       ]
      },
      {
       "output_type": "stream",
       "stream": "stdout",
       "text": [
        "\r",
        "19% [======>                                ] 357,880     11.8KB/s  eta 1m 56s "
       ]
      },
      {
       "output_type": "stream",
       "stream": "stdout",
       "text": [
        "\r",
        "20% [======>                                ] 362,224     11.2KB/s  eta 1m 55s "
       ]
      },
      {
       "output_type": "stream",
       "stream": "stdout",
       "text": [
        "\r",
        "20% [======>                                ] 368,016     10.8KB/s  eta 1m 55s "
       ]
      },
      {
       "output_type": "stream",
       "stream": "stdout",
       "text": [
        "\r",
        "20% [=======>                               ] 372,360     10.3KB/s  eta 1m 55s "
       ]
      },
      {
       "output_type": "stream",
       "stream": "stdout",
       "text": [
        "\r",
        "21% [=======>                               ] 379,600     9.70KB/s  eta 1m 55s "
       ]
      },
      {
       "output_type": "stream",
       "stream": "stdout",
       "text": [
        "\r",
        "21% [=======>                               ] 389,240     10.7KB/s  eta 1m 49s "
       ]
      },
      {
       "output_type": "stream",
       "stream": "stdout",
       "text": [
        "\r",
        "21% [=======>                               ] 394,080     11.0KB/s  eta 1m 49s "
       ]
      },
      {
       "output_type": "stream",
       "stream": "stdout",
       "text": [
        "\r",
        "22% [=======>                               ] 398,424     10.9KB/s  eta 1m 49s "
       ]
      },
      {
       "output_type": "stream",
       "stream": "stdout",
       "text": [
        "\r",
        "22% [=======>                               ] 402,768     11.1KB/s  eta 1m 49s "
       ]
      },
      {
       "output_type": "stream",
       "stream": "stdout",
       "text": [
        "\r",
        "22% [=======>                               ] 408,560     11.1KB/s  eta 1m 49s "
       ]
      },
      {
       "output_type": "stream",
       "stream": "stdout",
       "text": [
        "\r",
        "22% [=======>                               ] 414,352     11.5KB/s  eta 1m 45s "
       ]
      },
      {
       "output_type": "stream",
       "stream": "stdout",
       "text": [
        "\r",
        "23% [========>                              ] 420,144     16.0KB/s  eta 1m 45s "
       ]
      },
      {
       "output_type": "stream",
       "stream": "stdout",
       "text": [
        "\r",
        "23% [========>                              ] 427,384     17.0KB/s  eta 1m 45s "
       ]
      },
      {
       "output_type": "stream",
       "stream": "stdout",
       "text": [
        "\r",
        "24% [========>                              ] 437,024     17.2KB/s  eta 1m 45s "
       ]
      },
      {
       "output_type": "stream",
       "stream": "stdout",
       "text": [
        "\r",
        "24% [========>                              ] 444,760     17.8KB/s  eta 99s    "
       ]
      },
      {
       "output_type": "stream",
       "stream": "stdout",
       "text": [
        "\r",
        "24% [========>                              ] 450,552     18.9KB/s  eta 99s    "
       ]
      },
      {
       "output_type": "stream",
       "stream": "stdout",
       "text": [
        "\r",
        "25% [========>                              ] 454,896     18.7KB/s  eta 99s    "
       ]
      },
      {
       "output_type": "stream",
       "stream": "stdout",
       "text": [
        "\r",
        "25% [========>                              ] 462,136     20.3KB/s  eta 99s    "
       ]
      },
      {
       "output_type": "stream",
       "stream": "stdout",
       "text": [
        "\r",
        "26% [=========>                             ] 470,328     20.7KB/s  eta 95s    "
       ]
      },
      {
       "output_type": "stream",
       "stream": "stdout",
       "text": [
        "\r",
        "26% [=========>                             ] 475,168     21.1KB/s  eta 95s    "
       ]
      },
      {
       "output_type": "stream",
       "stream": "stdout",
       "text": [
        "\r",
        "26% [=========>                             ] 476,616     20.2KB/s  eta 95s    "
       ]
      },
      {
       "output_type": "stream",
       "stream": "stdout",
       "text": [
        "\r",
        "26% [=========>                             ] 479,512     19.6KB/s  eta 96s    "
       ]
      },
      {
       "output_type": "stream",
       "stream": "stdout",
       "text": [
        "\r",
        "26% [=========>                             ] 483,856     19.5KB/s  eta 96s    "
       ]
      },
      {
       "output_type": "stream",
       "stream": "stdout",
       "text": [
        "\r",
        "27% [=========>                             ] 489,648     19.2KB/s  eta 96s    "
       ]
      },
      {
       "output_type": "stream",
       "stream": "stdout",
       "text": [
        "\r",
        "27% [=========>                             ] 496,888     19.2KB/s  eta 96s    "
       ]
      },
      {
       "output_type": "stream",
       "stream": "stdout",
       "text": [
        "\r",
        "27% [=========>                             ] 504,128     19.8KB/s  eta 92s    "
       ]
      },
      {
       "output_type": "stream",
       "stream": "stdout",
       "text": [
        "\r",
        "28% [==========>                            ] 512,816     20.4KB/s  eta 92s    "
       ]
      },
      {
       "output_type": "stream",
       "stream": "stdout",
       "text": [
        "\r",
        "28% [==========>                            ] 520,056     19.0KB/s  eta 91s    "
       ]
      },
      {
       "output_type": "stream",
       "stream": "stdout",
       "text": [
        "\r",
        "29% [==========>                            ] 530,192     19.9KB/s  eta 91s    "
       ]
      },
      {
       "output_type": "stream",
       "stream": "stdout",
       "text": [
        "\r",
        "29% [==========>                            ] 538,880     20.3KB/s  eta 91s    "
       ]
      },
      {
       "output_type": "stream",
       "stream": "stdout",
       "text": [
        "\r",
        "30% [==========>                            ] 549,016     20.7KB/s  eta 91s    "
       ]
      },
      {
       "output_type": "stream",
       "stream": "stdout",
       "text": [
        "\r",
        "30% [===========>                           ] 557,208     20.6KB/s  eta 85s    "
       ]
      },
      {
       "output_type": "stream",
       "stream": "stdout",
       "text": [
        "\r",
        "31% [===========>                           ] 564,944     19.7KB/s  eta 85s    "
       ]
      },
      {
       "output_type": "stream",
       "stream": "stdout",
       "text": [
        "\r",
        "31% [===========>                           ] 567,840     19.6KB/s  eta 85s    "
       ]
      },
      {
       "output_type": "stream",
       "stream": "stdout",
       "text": [
        "\r",
        "31% [===========>                           ] 572,184     18.9KB/s  eta 84s    "
       ]
      },
      {
       "output_type": "stream",
       "stream": "stdout",
       "text": [
        "\r",
        "32% [===========>                           ] 577,976     18.7KB/s  eta 84s    "
       ]
      },
      {
       "output_type": "stream",
       "stream": "stdout",
       "text": [
        "\r",
        "32% [===========>                           ] 583,768     18.9KB/s  eta 84s    "
       ]
      },
      {
       "output_type": "stream",
       "stream": "stdout",
       "text": [
        "\r",
        "32% [===========>                           ] 589,560     18.7KB/s  eta 84s    "
       ]
      },
      {
       "output_type": "stream",
       "stream": "stdout",
       "text": [
        "\r",
        "33% [===========>                           ] 596,800     19.0KB/s  eta 81s    "
       ]
      },
      {
       "output_type": "stream",
       "stream": "stdout",
       "text": [
        "\r",
        "33% [============>                          ] 604,040     18.9KB/s  eta 81s    "
       ]
      },
      {
       "output_type": "stream",
       "stream": "stdout",
       "text": [
        "\r",
        "33% [============>                          ] 612,728     20.9KB/s  eta 81s    "
       ]
      },
      {
       "output_type": "stream",
       "stream": "stdout",
       "text": [
        "\r",
        "34% [============>                          ] 622,864     22.4KB/s  eta 81s    "
       ]
      },
      {
       "output_type": "stream",
       "stream": "stdout",
       "text": [
        "\r",
        "35% [============>                          ] 633,000     23.5KB/s  eta 76s    "
       ]
      },
      {
       "output_type": "stream",
       "stream": "stdout",
       "text": [
        "\r",
        "35% [============>                          ] 644,584     25.2KB/s  eta 76s    "
       ]
      },
      {
       "output_type": "stream",
       "stream": "stdout",
       "text": [
        "\r",
        "36% [=============>                         ] 661,464     25.9KB/s  eta 76s    "
       ]
      },
      {
       "output_type": "stream",
       "stream": "stdout",
       "text": [
        "\r",
        "37% [=============>                         ] 673,544     26.7KB/s  eta 76s    "
       ]
      },
      {
       "output_type": "stream",
       "stream": "stdout",
       "text": [
        "\r",
        "37% [=============>                         ] 680,784     26.6KB/s  eta 70s    "
       ]
      },
      {
       "output_type": "stream",
       "stream": "stdout",
       "text": [
        "\r",
        "38% [=============>                         ] 686,576     29.4KB/s  eta 70s    "
       ]
      },
      {
       "output_type": "stream",
       "stream": "stdout",
       "text": [
        "\r",
        "38% [==============>                        ] 695,264     29.2KB/s  eta 70s    "
       ]
      },
      {
       "output_type": "stream",
       "stream": "stdout",
       "text": [
        "\r",
        "38% [==============>                        ] 696,712     27.6KB/s  eta 70s    "
       ]
      },
      {
       "output_type": "stream",
       "stream": "stdout",
       "text": [
        "\r",
        "39% [==============>                        ] 705,400     27.3KB/s  eta 67s    "
       ]
      },
      {
       "output_type": "stream",
       "stream": "stdout",
       "text": [
        "\r",
        "39% [==============>                        ] 715,536     28.4KB/s  eta 67s    "
       ]
      },
      {
       "output_type": "stream",
       "stream": "stdout",
       "text": [
        "\r",
        "40% [==============>                        ] 724,224     30.2KB/s  eta 67s    "
       ]
      },
      {
       "output_type": "stream",
       "stream": "stdout",
       "text": [
        "\r",
        "41% [===============>                       ] 739,656     31.4KB/s  eta 67s    "
       ]
      },
      {
       "output_type": "stream",
       "stream": "stdout",
       "text": [
        "\r",
        "41% [===============>                       ] 749,792     33.1KB/s  eta 62s    "
       ]
      },
      {
       "output_type": "stream",
       "stream": "stdout",
       "text": [
        "\r",
        "41% [===============>                       ] 753,184     33.1KB/s  eta 62s    "
       ]
      },
      {
       "output_type": "stream",
       "stream": "stdout",
       "text": [
        "\r",
        "41% [===============>                       ] 754,632     32.1KB/s  eta 62s    "
       ]
      },
      {
       "output_type": "stream",
       "stream": "stdout",
       "text": [
        "\r",
        "42% [===============>                       ] 760,424     30.7KB/s  eta 62s    "
       ]
      },
      {
       "output_type": "stream",
       "stream": "stdout",
       "text": [
        "\r",
        "42% [===============>                       ] 761,872     28.8KB/s  eta 62s    "
       ]
      },
      {
       "output_type": "stream",
       "stream": "stdout",
       "text": [
        "\r",
        "42% [===============>                       ] 763,320     26.5KB/s  eta 62s    "
       ]
      },
      {
       "output_type": "stream",
       "stream": "stdout",
       "text": [
        "\r",
        "42% [===============>                       ] 767,664     25.4KB/s  eta 62s    "
       ]
      },
      {
       "output_type": "stream",
       "stream": "stdout",
       "text": [
        "\r",
        "42% [===============>                       ] 772,008     24.2KB/s  eta 63s    "
       ]
      },
      {
       "output_type": "stream",
       "stream": "stdout",
       "text": [
        "\r",
        "43% [===============>                       ] 777,800     23.2KB/s  eta 63s    "
       ]
      },
      {
       "output_type": "stream",
       "stream": "stdout",
       "text": [
        "\r",
        "43% [===============>                       ] 783,592     22.3KB/s  eta 63s    "
       ]
      },
      {
       "output_type": "stream",
       "stream": "stdout",
       "text": [
        "\r",
        "43% [================>                      ] 789,384     21.2KB/s  eta 63s    "
       ]
      },
      {
       "output_type": "stream",
       "stream": "stdout",
       "text": [
        "\r",
        "44% [================>                      ] 796,624     20.7KB/s  eta 63s    "
       ]
      },
      {
       "output_type": "stream",
       "stream": "stdout",
       "text": [
        "\r",
        "44% [================>                      ] 805,312     21.1KB/s  eta 60s    "
       ]
      },
      {
       "output_type": "stream",
       "stream": "stdout",
       "text": [
        "\r",
        "45% [================>                      ] 814,000     21.6KB/s  eta 60s    "
       ]
      },
      {
       "output_type": "stream",
       "stream": "stdout",
       "text": [
        "\r",
        "45% [================>                      ] 824,136     22.1KB/s  eta 60s    "
       ]
      },
      {
       "output_type": "stream",
       "stream": "stdout",
       "text": [
        "\r",
        "46% [=================>                     ] 832,824     22.9KB/s  eta 60s    "
       ]
      },
      {
       "output_type": "stream",
       "stream": "stdout",
       "text": [
        "\r",
        "46% [=================>                     ] 845,856     24.0KB/s  eta 60s    "
       ]
      },
      {
       "output_type": "stream",
       "stream": "stdout",
       "text": [
        "\r",
        "47% [=================>                     ] 854,544     23.8KB/s  eta 55s    "
       ]
      },
      {
       "output_type": "stream",
       "stream": "stdout",
       "text": [
        "\r",
        "48% [=================>                     ] 866,128     21.9KB/s  eta 55s    "
       ]
      },
      {
       "output_type": "stream",
       "stream": "stdout",
       "text": [
        "\r",
        "48% [=================>                     ] 874,320     20.3KB/s  eta 54s    "
       ]
      },
      {
       "output_type": "stream",
       "stream": "stdout",
       "text": [
        "\r",
        "48% [==================>                    ] 879,160     19.4KB/s  eta 54s    "
       ]
      },
      {
       "output_type": "stream",
       "stream": "stdout",
       "text": [
        "\r",
        "49% [==================>                    ] 887,352     18.7KB/s  eta 54s    "
       ]
      },
      {
       "output_type": "stream",
       "stream": "stdout",
       "text": [
        "\r",
        "49% [==================>                    ] 890,744     19.1KB/s  eta 53s    "
       ]
      },
      {
       "output_type": "stream",
       "stream": "stdout",
       "text": [
        "\r",
        "49% [==================>                    ] 895,088     20.2KB/s  eta 53s    "
       ]
      },
      {
       "output_type": "stream",
       "stream": "stdout",
       "text": [
        "\r",
        "50% [==================>                    ] 905,224     21.6KB/s  eta 52s    "
       ]
      },
      {
       "output_type": "stream",
       "stream": "stdout",
       "text": [
        "\r",
        "50% [==================>                    ] 906,672     21.1KB/s  eta 52s    "
       ]
      },
      {
       "output_type": "stream",
       "stream": "stdout",
       "text": [
        "\r",
        "50% [==================>                    ] 908,120     19.7KB/s  eta 52s    "
       ]
      },
      {
       "output_type": "stream",
       "stream": "stdout",
       "text": [
        "\r",
        "50% [==================>                    ] 911,016     19.3KB/s  eta 53s    "
       ]
      },
      {
       "output_type": "stream",
       "stream": "stdout",
       "text": [
        "\r",
        "50% [==================>                    ] 915,360     19.0KB/s  eta 53s    "
       ]
      },
      {
       "output_type": "stream",
       "stream": "stdout",
       "text": [
        "\r",
        "51% [==================>                    ] 919,704     18.9KB/s  eta 53s    "
       ]
      },
      {
       "output_type": "stream",
       "stream": "stdout",
       "text": [
        "\r",
        "51% [===================>                   ] 925,496     18.6KB/s  eta 53s    "
       ]
      },
      {
       "output_type": "stream",
       "stream": "stdout",
       "text": [
        "\r",
        "51% [===================>                   ] 931,288     18.1KB/s  eta 53s    "
       ]
      },
      {
       "output_type": "stream",
       "stream": "stdout",
       "text": [
        "\r",
        "51% [===================>                   ] 937,080     16.5KB/s  eta 52s    "
       ]
      },
      {
       "output_type": "stream",
       "stream": "stdout",
       "text": [
        "\r",
        "52% [===================>                   ] 945,272     16.4KB/s  eta 52s    "
       ]
      },
      {
       "output_type": "stream",
       "stream": "stdout",
       "text": [
        "\r",
        "52% [===================>                   ] 947,216     15.1KB/s  eta 52s    "
       ]
      },
      {
       "output_type": "stream",
       "stream": "stdout",
       "text": [
        "\r",
        "52% [===================>                   ] 950,112     14.3KB/s  eta 52s    "
       ]
      },
      {
       "output_type": "stream",
       "stream": "stdout",
       "text": [
        "\r",
        "52% [===================>                   ] 954,456     13.4KB/s  eta 51s    "
       ]
      },
      {
       "output_type": "stream",
       "stream": "stdout",
       "text": [
        "\r",
        "53% [===================>                   ] 958,800     12.6KB/s  eta 51s    "
       ]
      },
      {
       "output_type": "stream",
       "stream": "stdout",
       "text": [
        "\r",
        "53% [===================>                   ] 964,592     12.7KB/s  eta 51s    "
       ]
      },
      {
       "output_type": "stream",
       "stream": "stdout",
       "text": [
        "\r",
        "53% [====================>                  ] 972,784     13.0KB/s  eta 51s    "
       ]
      },
      {
       "output_type": "stream",
       "stream": "stdout",
       "text": [
        "\r",
        "54% [====================>                  ] 976,176     12.8KB/s  eta 49s    "
       ]
      },
      {
       "output_type": "stream",
       "stream": "stdout",
       "text": [
        "\r",
        "54% [====================>                  ] 983,416     12.4KB/s  eta 49s    "
       ]
      },
      {
       "output_type": "stream",
       "stream": "stdout",
       "text": [
        "\r",
        "55% [====================>                  ] 993,056     12.5KB/s  eta 49s    "
       ]
      },
      {
       "output_type": "stream",
       "stream": "stdout",
       "text": [
        "\r",
        "55% [====================>                  ] 996,448     12.4KB/s  eta 49s    "
       ]
      },
      {
       "output_type": "stream",
       "stream": "stdout",
       "text": [
        "\r",
        "55% [====================>                  ] 1,000,792   12.2KB/s  eta 49s    "
       ]
      },
      {
       "output_type": "stream",
       "stream": "stdout",
       "text": [
        "\r",
        "55% [====================>                  ] 1,005,136   12.5KB/s  eta 49s    "
       ]
      },
      {
       "output_type": "stream",
       "stream": "stdout",
       "text": [
        "\r",
        "56% [====================>                  ] 1,013,824   13.4KB/s  eta 48s    "
       ]
      },
      {
       "output_type": "stream",
       "stream": "stdout",
       "text": [
        "\r",
        "56% [====================>                  ] 1,016,720   13.6KB/s  eta 48s    "
       ]
      },
      {
       "output_type": "stream",
       "stream": "stdout",
       "text": [
        "\r",
        "56% [=====================>                 ] 1,018,168   13.2KB/s  eta 48s    "
       ]
      },
      {
       "output_type": "stream",
       "stream": "stdout",
       "text": [
        "\r",
        "56% [=====================>                 ] 1,021,064   13.0KB/s  eta 48s    "
       ]
      },
      {
       "output_type": "stream",
       "stream": "stdout",
       "text": [
        "\r",
        "56% [=====================>                 ] 1,025,408   12.7KB/s  eta 48s    "
       ]
      },
      {
       "output_type": "stream",
       "stream": "stdout",
       "text": [
        "\r",
        "57% [=====================>                 ] 1,036,496   12.9KB/s  eta 47s    "
       ]
      },
      {
       "output_type": "stream",
       "stream": "stdout",
       "text": [
        "\r",
        "57% [=====================>                 ] 1,038,440   12.9KB/s  eta 47s    "
       ]
      },
      {
       "output_type": "stream",
       "stream": "stdout",
       "text": [
        "\r",
        "57% [=====================>                 ] 1,041,336   13.1KB/s  eta 47s    "
       ]
      },
      {
       "output_type": "stream",
       "stream": "stdout",
       "text": [
        "\r",
        "58% [=====================>                 ] 1,045,680   13.2KB/s  eta 47s    "
       ]
      },
      {
       "output_type": "stream",
       "stream": "stdout",
       "text": [
        "\r",
        "58% [=====================>                 ] 1,050,024   13.2KB/s  eta 46s    "
       ]
      },
      {
       "output_type": "stream",
       "stream": "stdout",
       "text": [
        "\r",
        "58% [=====================>                 ] 1,055,816   13.6KB/s  eta 46s    "
       ]
      },
      {
       "output_type": "stream",
       "stream": "stdout",
       "text": [
        "\r",
        "58% [=====================>                 ] 1,061,608   13.6KB/s  eta 46s    "
       ]
      },
      {
       "output_type": "stream",
       "stream": "stdout",
       "text": [
        "\r",
        "59% [======================>                ] 1,067,400   13.2KB/s  eta 46s    "
       ]
      },
      {
       "output_type": "stream",
       "stream": "stdout",
       "text": [
        "\r",
        "59% [======================>                ] 1,074,640   13.7KB/s  eta 44s    "
       ]
      },
      {
       "output_type": "stream",
       "stream": "stdout",
       "text": [
        "\r",
        "60% [======================>                ] 1,085,728   14.6KB/s  eta 44s    "
       ]
      },
      {
       "output_type": "stream",
       "stream": "stdout",
       "text": [
        "\r",
        "60% [======================>                ] 1,093,464   15.2KB/s  eta 43s    "
       ]
      },
      {
       "output_type": "stream",
       "stream": "stdout",
       "text": [
        "\r",
        "60% [======================>                ] 1,099,256   15.6KB/s  eta 43s    "
       ]
      },
      {
       "output_type": "stream",
       "stream": "stdout",
       "text": [
        "\r",
        "61% [======================>                ] 1,103,600   15.8KB/s  eta 43s    "
       ]
      },
      {
       "output_type": "stream",
       "stream": "stdout",
       "text": [
        "\r",
        "61% [=======================>               ] 1,110,840   16.4KB/s  eta 43s    "
       ]
      },
      {
       "output_type": "stream",
       "stream": "stdout",
       "text": [
        "\r",
        "62% [=======================>               ] 1,118,080   17.1KB/s  eta 43s    "
       ]
      },
      {
       "output_type": "stream",
       "stream": "stdout",
       "text": [
        "\r",
        "62% [=======================>               ] 1,125,320   18.0KB/s  eta 41s    "
       ]
      },
      {
       "output_type": "stream",
       "stream": "stdout",
       "text": [
        "\r",
        "62% [=======================>               ] 1,134,008   18.4KB/s  eta 41s    "
       ]
      },
      {
       "output_type": "stream",
       "stream": "stdout",
       "text": [
        "\r",
        "63% [=======================>               ] 1,150,888   20.1KB/s  eta 41s    "
       ]
      },
      {
       "output_type": "stream",
       "stream": "stdout",
       "text": [
        "\r",
        "64% [========================>              ] 1,158,624   20.8KB/s  eta 38s    "
       ]
      },
      {
       "output_type": "stream",
       "stream": "stdout",
       "text": [
        "\r",
        "64% [========================>              ] 1,160,072   20.4KB/s  eta 38s    "
       ]
      },
      {
       "output_type": "stream",
       "stream": "stdout",
       "text": [
        "\r",
        "64% [========================>              ] 1,169,712   20.4KB/s  eta 38s    "
       ]
      },
      {
       "output_type": "stream",
       "stream": "stdout",
       "text": [
        "\r",
        "65% [========================>              ] 1,173,104   20.8KB/s  eta 37s    "
       ]
      },
      {
       "output_type": "stream",
       "stream": "stdout",
       "text": [
        "\r",
        "65% [========================>              ] 1,174,552   20.2KB/s  eta 37s    "
       ]
      },
      {
       "output_type": "stream",
       "stream": "stdout",
       "text": [
        "\r",
        "65% [========================>              ] 1,178,896   20.1KB/s  eta 37s    "
       ]
      },
      {
       "output_type": "stream",
       "stream": "stdout",
       "text": [
        "\r",
        "65% [========================>              ] 1,183,240   20.4KB/s  eta 37s    "
       ]
      },
      {
       "output_type": "stream",
       "stream": "stdout",
       "text": [
        "\r",
        "65% [========================>              ] 1,189,032   20.4KB/s  eta 37s    "
       ]
      },
      {
       "output_type": "stream",
       "stream": "stdout",
       "text": [
        "\r",
        "66% [========================>              ] 1,194,824   20.3KB/s  eta 37s    "
       ]
      },
      {
       "output_type": "stream",
       "stream": "stdout",
       "text": [
        "\r",
        "66% [=========================>             ] 1,202,064   19.0KB/s  eta 36s    "
       ]
      },
      {
       "output_type": "stream",
       "stream": "stdout",
       "text": [
        "\r",
        "67% [=========================>             ] 1,210,256   19.7KB/s  eta 36s    "
       ]
      },
      {
       "output_type": "stream",
       "stream": "stdout",
       "text": [
        "\r",
        "67% [=========================>             ] 1,213,648   18.2KB/s  eta 36s    "
       ]
      },
      {
       "output_type": "stream",
       "stream": "stdout",
       "text": [
        "\r",
        "67% [=========================>             ] 1,216,544   17.2KB/s  eta 35s    "
       ]
      },
      {
       "output_type": "stream",
       "stream": "stdout",
       "text": [
        "\r",
        "67% [=========================>             ] 1,220,888   15.6KB/s  eta 35s    "
       ]
      },
      {
       "output_type": "stream",
       "stream": "stdout",
       "text": [
        "\r",
        "68% [=========================>             ] 1,229,576   15.2KB/s  eta 35s    "
       ]
      },
      {
       "output_type": "stream",
       "stream": "stdout",
       "text": [
        "\r",
        "68% [=========================>             ] 1,231,024   14.5KB/s  eta 35s    "
       ]
      },
      {
       "output_type": "stream",
       "stream": "stdout",
       "text": [
        "\r",
        "68% [=========================>             ] 1,232,472   12.9KB/s  eta 35s    "
       ]
      },
      {
       "output_type": "stream",
       "stream": "stdout",
       "text": [
        "\r",
        "68% [=========================>             ] 1,235,368   12.3KB/s  eta 35s    "
       ]
      },
      {
       "output_type": "stream",
       "stream": "stdout",
       "text": [
        "\r",
        "68% [=========================>             ] 1,239,712   11.0KB/s  eta 35s    "
       ]
      },
      {
       "output_type": "stream",
       "stream": "stdout",
       "text": [
        "\r",
        "69% [==========================>            ] 1,248,400   10.6KB/s  eta 34s    "
       ]
      },
      {
       "output_type": "stream",
       "stream": "stdout",
       "text": [
        "\r",
        "69% [==========================>            ] 1,249,848   10.5KB/s  eta 34s    "
       ]
      },
      {
       "output_type": "stream",
       "stream": "stdout",
       "text": [
        "\r",
        "69% [==========================>            ] 1,251,296   9.54KB/s  eta 34s    "
       ]
      },
      {
       "output_type": "stream",
       "stream": "stdout",
       "text": [
        "\r",
        "69% [==========================>            ] 1,254,192   9.32KB/s  eta 34s    "
       ]
      },
      {
       "output_type": "stream",
       "stream": "stdout",
       "text": [
        "\r",
        "69% [==========================>            ] 1,261,432   9.89KB/s  eta 34s    "
       ]
      },
      {
       "output_type": "stream",
       "stream": "stdout",
       "text": [
        "\r",
        "70% [==========================>            ] 1,262,880   9.67KB/s  eta 34s    "
       ]
      },
      {
       "output_type": "stream",
       "stream": "stdout",
       "text": [
        "\r",
        "70% [==========================>            ] 1,264,328   9.13KB/s  eta 34s    "
       ]
      },
      {
       "output_type": "stream",
       "stream": "stdout",
       "text": [
        "\r",
        "70% [==========================>            ] 1,267,224   8.72KB/s  eta 34s    "
       ]
      },
      {
       "output_type": "stream",
       "stream": "stdout",
       "text": [
        "\r",
        "70% [==========================>            ] 1,271,568   8.80KB/s  eta 34s    "
       ]
      },
      {
       "output_type": "stream",
       "stream": "stdout",
       "text": [
        "\r",
        "70% [==========================>            ] 1,275,912   8.89KB/s  eta 34s    "
       ]
      },
      {
       "output_type": "stream",
       "stream": "stdout",
       "text": [
        "\r",
        "71% [==========================>            ] 1,281,704   9.13KB/s  eta 33s    "
       ]
      },
      {
       "output_type": "stream",
       "stream": "stdout",
       "text": [
        "\r",
        "71% [==========================>            ] 1,287,496   8.98KB/s  eta 33s    "
       ]
      },
      {
       "output_type": "stream",
       "stream": "stdout",
       "text": [
        "\r",
        "72% [===========================>           ] 1,300,032   10.2KB/s  eta 33s    "
       ]
      },
      {
       "output_type": "stream",
       "stream": "stdout",
       "text": [
        "\r",
        "72% [===========================>           ] 1,303,424   10.6KB/s  eta 33s    "
       ]
      },
      {
       "output_type": "stream",
       "stream": "stdout",
       "text": [
        "\r",
        "72% [===========================>           ] 1,306,320   11.0KB/s  eta 31s    "
       ]
      },
      {
       "output_type": "stream",
       "stream": "stdout",
       "text": [
        "\r",
        "72% [===========================>           ] 1,310,664   11.2KB/s  eta 31s    "
       ]
      },
      {
       "output_type": "stream",
       "stream": "stdout",
       "text": [
        "\r",
        "72% [===========================>           ] 1,315,008   11.6KB/s  eta 31s    "
       ]
      },
      {
       "output_type": "stream",
       "stream": "stdout",
       "text": [
        "\r",
        "73% [===========================>           ] 1,320,800   13.2KB/s  eta 31s    "
       ]
      },
      {
       "output_type": "stream",
       "stream": "stdout",
       "text": [
        "\r",
        "73% [===========================>           ] 1,325,144   13.5KB/s  eta 31s    "
       ]
      },
      {
       "output_type": "stream",
       "stream": "stdout",
       "text": [
        "\r",
        "73% [===========================>           ] 1,332,384   14.0KB/s  eta 29s    "
       ]
      },
      {
       "output_type": "stream",
       "stream": "stdout",
       "text": [
        "\r",
        "74% [===========================>           ] 1,339,624   14.9KB/s  eta 29s    "
       ]
      },
      {
       "output_type": "stream",
       "stream": "stdout",
       "text": [
        "\r",
        "74% [============================>          ] 1,346,864   16.3KB/s  eta 29s    "
       ]
      },
      {
       "output_type": "stream",
       "stream": "stdout",
       "text": [
        "\r",
        "75% [============================>          ] 1,354,104   17.2KB/s  eta 28s    "
       ]
      },
      {
       "output_type": "stream",
       "stream": "stdout",
       "text": [
        "\r",
        "75% [============================>          ] 1,355,552   16.0KB/s  eta 28s    "
       ]
      },
      {
       "output_type": "stream",
       "stream": "stdout",
       "text": [
        "\r",
        "75% [============================>          ] 1,357,000   15.5KB/s  eta 28s    "
       ]
      },
      {
       "output_type": "stream",
       "stream": "stdout",
       "text": [
        "\r",
        "75% [============================>          ] 1,359,896   16.3KB/s  eta 28s    "
       ]
      },
      {
       "output_type": "stream",
       "stream": "stdout",
       "text": [
        "\r",
        "75% [============================>          ] 1,364,240   16.8KB/s  eta 28s    "
       ]
      },
      {
       "output_type": "stream",
       "stream": "stdout",
       "text": [
        "\r",
        "76% [============================>          ] 1,370,032   17.1KB/s  eta 28s    "
       ]
      },
      {
       "output_type": "stream",
       "stream": "stdout",
       "text": [
        "\r",
        "76% [============================>          ] 1,375,824   17.6KB/s  eta 28s    "
       ]
      },
      {
       "output_type": "stream",
       "stream": "stdout",
       "text": [
        "\r",
        "76% [============================>          ] 1,383,064   17.9KB/s  eta 26s    "
       ]
      },
      {
       "output_type": "stream",
       "stream": "stdout",
       "text": [
        "\r",
        "77% [=============================>         ] 1,390,304   18.1KB/s  eta 26s    "
       ]
      },
      {
       "output_type": "stream",
       "stream": "stdout",
       "text": [
        "\r",
        "77% [=============================>         ] 1,397,544   17.9KB/s  eta 26s    "
       ]
      },
      {
       "output_type": "stream",
       "stream": "stdout",
       "text": [
        "\r",
        "78% [=============================>         ] 1,406,232   18.9KB/s  eta 26s    "
       ]
      },
      {
       "output_type": "stream",
       "stream": "stdout",
       "text": [
        "\r",
        "78% [=============================>         ] 1,416,368   20.4KB/s  eta 26s    "
       ]
      },
      {
       "output_type": "stream",
       "stream": "stdout",
       "text": [
        "\r",
        "79% [=============================>         ] 1,426,504   21.4KB/s  eta 23s    "
       ]
      },
      {
       "output_type": "stream",
       "stream": "stdout",
       "text": [
        "\r",
        "79% [==============================>        ] 1,438,088   22.8KB/s  eta 23s    "
       ]
      },
      {
       "output_type": "stream",
       "stream": "stdout",
       "text": [
        "\r",
        "80% [==============================>        ] 1,449,672   23.9KB/s  eta 23s    "
       ]
      },
      {
       "output_type": "stream",
       "stream": "stdout",
       "text": [
        "\r",
        "80% [==============================>        ] 1,459,312   24.7KB/s  eta 23s    "
       ]
      },
      {
       "output_type": "stream",
       "stream": "stdout",
       "text": [
        "\r",
        "81% [==============================>        ] 1,472,840   25.7KB/s  eta 23s    "
       ]
      },
      {
       "output_type": "stream",
       "stream": "stdout",
       "text": [
        "\r",
        "81% [==============================>        ] 1,474,288   23.6KB/s  eta 20s    "
       ]
      },
      {
       "output_type": "stream",
       "stream": "stdout",
       "text": [
        "\r",
        "82% [===============================>       ] 1,481,528   23.3KB/s  eta 20s    "
       ]
      },
      {
       "output_type": "stream",
       "stream": "stdout",
       "text": [
        "\r",
        "82% [===============================>       ] 1,488,768   24.6KB/s  eta 20s    "
       ]
      },
      {
       "output_type": "stream",
       "stream": "stdout",
       "text": [
        "\r",
        "83% [===============================>       ] 1,497,456   25.2KB/s  eta 20s    "
       ]
      },
      {
       "output_type": "stream",
       "stream": "stdout",
       "text": [
        "\r",
        "83% [===============================>       ] 1,507,592   28.9KB/s  eta 18s    "
       ]
      },
      {
       "output_type": "stream",
       "stream": "stdout",
       "text": [
        "\r",
        "84% [===============================>       ] 1,516,280   31.3KB/s  eta 18s    "
       ]
      },
      {
       "output_type": "stream",
       "stream": "stdout",
       "text": [
        "\r",
        "84% [================================>      ] 1,528,816   31.8KB/s  eta 18s    "
       ]
      },
      {
       "output_type": "stream",
       "stream": "stdout",
       "text": [
        "\r",
        "85% [================================>      ] 1,542,344   30.2KB/s  eta 15s    "
       ]
      },
      {
       "output_type": "stream",
       "stream": "stdout",
       "text": [
        "\r",
        "85% [================================>      ] 1,545,240   29.7KB/s  eta 15s    "
       ]
      },
      {
       "output_type": "stream",
       "stream": "stdout",
       "text": [
        "\r",
        "85% [================================>      ] 1,546,688   29.5KB/s  eta 15s    "
       ]
      },
      {
       "output_type": "stream",
       "stream": "stdout",
       "text": [
        "\r",
        "86% [================================>      ] 1,551,032   29.0KB/s  eta 15s    "
       ]
      },
      {
       "output_type": "stream",
       "stream": "stdout",
       "text": [
        "\r",
        "86% [================================>      ] 1,555,376   28.3KB/s  eta 15s    "
       ]
      },
      {
       "output_type": "stream",
       "stream": "stdout",
       "text": [
        "\r",
        "86% [================================>      ] 1,565,512   26.9KB/s  eta 14s    "
       ]
      },
      {
       "output_type": "stream",
       "stream": "stdout",
       "text": [
        "\r",
        "87% [================================>      ] 1,569,856   24.6KB/s  eta 14s    "
       ]
      },
      {
       "output_type": "stream",
       "stream": "stdout",
       "text": [
        "\r",
        "87% [================================>      ] 1,571,304   23.0KB/s  eta 14s    "
       ]
      },
      {
       "output_type": "stream",
       "stream": "stdout",
       "text": [
        "\r",
        "87% [=================================>     ] 1,572,752   21.3KB/s  eta 14s    "
       ]
      },
      {
       "output_type": "stream",
       "stream": "stdout",
       "text": [
        "\r",
        "87% [=================================>     ] 1,575,648   20.1KB/s  eta 14s    "
       ]
      },
      {
       "output_type": "stream",
       "stream": "stdout",
       "text": [
        "\r",
        "87% [=================================>     ] 1,578,544   17.9KB/s  eta 13s    "
       ]
      },
      {
       "output_type": "stream",
       "stream": "stdout",
       "text": [
        "\r",
        "87% [=================================>     ] 1,585,784   15.8KB/s  eta 13s    "
       ]
      },
      {
       "output_type": "stream",
       "stream": "stdout",
       "text": [
        "\r",
        "88% [=================================>     ] 1,594,472   14.8KB/s  eta 13s    "
       ]
      },
      {
       "output_type": "stream",
       "stream": "stdout",
       "text": [
        "\r",
        "88% [=================================>     ] 1,598,816   14.7KB/s  eta 13s    "
       ]
      },
      {
       "output_type": "stream",
       "stream": "stdout",
       "text": [
        "\r",
        "88% [=================================>     ] 1,603,160   14.3KB/s  eta 13s    "
       ]
      },
      {
       "output_type": "stream",
       "stream": "stdout",
       "text": [
        "\r",
        "89% [=================================>     ] 1,608,952   14.3KB/s  eta 12s    "
       ]
      },
      {
       "output_type": "stream",
       "stream": "stdout",
       "text": [
        "\r",
        "89% [=================================>     ] 1,611,848   12.9KB/s  eta 12s    "
       ]
      },
      {
       "output_type": "stream",
       "stream": "stdout",
       "text": [
        "\r",
        "89% [=================================>     ] 1,617,640   11.9KB/s  eta 11s    "
       ]
      },
      {
       "output_type": "stream",
       "stream": "stdout",
       "text": [
        "\r",
        "89% [==================================>    ] 1,619,088   10.9KB/s  eta 11s    "
       ]
      },
      {
       "output_type": "stream",
       "stream": "stdout",
       "text": [
        "\r",
        "89% [==================================>    ] 1,620,536   9.56KB/s  eta 11s    "
       ]
      },
      {
       "output_type": "stream",
       "stream": "stdout",
       "text": [
        "\r",
        "90% [==================================>    ] 1,623,432   8.98KB/s  eta 11s    "
       ]
      },
      {
       "output_type": "stream",
       "stream": "stdout",
       "text": [
        "\r",
        "90% [==================================>    ] 1,627,776   9.12KB/s  eta 11s    "
       ]
      },
      {
       "output_type": "stream",
       "stream": "stdout",
       "text": [
        "\r",
        "90% [==================================>    ] 1,632,120   9.21KB/s  eta 11s    "
       ]
      },
      {
       "output_type": "stream",
       "stream": "stdout",
       "text": [
        "\r",
        "90% [==================================>    ] 1,637,912   8.96KB/s  eta 10s    "
       ]
      },
      {
       "output_type": "stream",
       "stream": "stdout",
       "text": [
        "\r",
        "91% [==================================>    ] 1,643,704   8.94KB/s  eta 10s    "
       ]
      },
      {
       "output_type": "stream",
       "stream": "stdout",
       "text": [
        "\r",
        "91% [==================================>    ] 1,656,240   9.37KB/s  eta 10s    "
       ]
      },
      {
       "output_type": "stream",
       "stream": "stdout",
       "text": [
        "\r",
        "92% [==================================>    ] 1,659,632   9.50KB/s  eta 9s     "
       ]
      },
      {
       "output_type": "stream",
       "stream": "stdout",
       "text": [
        "\r",
        "92% [==================================>    ] 1,662,528   9.66KB/s  eta 9s     "
       ]
      },
      {
       "output_type": "stream",
       "stream": "stdout",
       "text": [
        "\r",
        "92% [===================================>   ] 1,666,872   10.1KB/s  eta 9s     "
       ]
      },
      {
       "output_type": "stream",
       "stream": "stdout",
       "text": [
        "\r",
        "92% [===================================>   ] 1,672,664   10.4KB/s  eta 9s     "
       ]
      },
      {
       "output_type": "stream",
       "stream": "stdout",
       "text": [
        "\r",
        "93% [===================================>   ] 1,677,008   10.7KB/s  eta 9s     "
       ]
      },
      {
       "output_type": "stream",
       "stream": "stdout",
       "text": [
        "\r",
        "93% [===================================>   ] 1,684,248   12.0KB/s  eta 7s     "
       ]
      },
      {
       "output_type": "stream",
       "stream": "stdout",
       "text": [
        "\r",
        "93% [===================================>   ] 1,691,488   12.5KB/s  eta 7s     "
       ]
      },
      {
       "output_type": "stream",
       "stream": "stdout",
       "text": [
        "\r",
        "94% [===================================>   ] 1,700,176   13.8KB/s  eta 7s     "
       ]
      },
      {
       "output_type": "stream",
       "stream": "stdout",
       "text": [
        "\r",
        "94% [===================================>   ] 1,708,368   14.5KB/s  eta 7s     "
       ]
      },
      {
       "output_type": "stream",
       "stream": "stdout",
       "text": [
        "\r",
        "94% [====================================>  ] 1,710,312   13.0KB/s  eta 6s     "
       ]
      },
      {
       "output_type": "stream",
       "stream": "stdout",
       "text": [
        "\r",
        "95% [====================================>  ] 1,714,656   12.8KB/s  eta 6s     "
       ]
      },
      {
       "output_type": "stream",
       "stream": "stdout",
       "text": [
        "\r",
        "95% [====================================>  ] 1,719,000   13.8KB/s  eta 6s     "
       ]
      },
      {
       "output_type": "stream",
       "stream": "stdout",
       "text": [
        "\r",
        "95% [====================================>  ] 1,724,792   14.4KB/s  eta 6s     "
       ]
      },
      {
       "output_type": "stream",
       "stream": "stdout",
       "text": [
        "\r",
        "96% [====================================>  ] 1,732,032   14.9KB/s  eta 4s     "
       ]
      },
      {
       "output_type": "stream",
       "stream": "stdout",
       "text": [
        "\r",
        "96% [====================================>  ] 1,736,376   13.7KB/s  eta 4s     "
       ]
      },
      {
       "output_type": "stream",
       "stream": "stdout",
       "text": [
        "\r",
        "96% [====================================>  ] 1,744,568   15.2KB/s  eta 4s     "
       ]
      },
      {
       "output_type": "stream",
       "stream": "stdout",
       "text": [
        "\r",
        "97% [====================================>  ] 1,749,408   15.3KB/s  eta 4s     "
       ]
      },
      {
       "output_type": "stream",
       "stream": "stdout",
       "text": [
        "\r",
        "97% [====================================>  ] 1,750,856   14.0KB/s  eta 3s     "
       ]
      },
      {
       "output_type": "stream",
       "stream": "stdout",
       "text": [
        "\r",
        "97% [====================================>  ] 1,753,752   13.8KB/s  eta 3s     "
       ]
      },
      {
       "output_type": "stream",
       "stream": "stdout",
       "text": [
        "\r",
        "97% [=====================================> ] 1,758,096   14.1KB/s  eta 3s     "
       ]
      },
      {
       "output_type": "stream",
       "stream": "stdout",
       "text": [
        "\r",
        "97% [=====================================> ] 1,762,440   14.2KB/s  eta 3s     "
       ]
      },
      {
       "output_type": "stream",
       "stream": "stdout",
       "text": [
        "\r",
        "98% [=====================================> ] 1,768,232   13.6KB/s  eta 2s     "
       ]
      },
      {
       "output_type": "stream",
       "stream": "stdout",
       "text": [
        "\r",
        "98% [=====================================> ] 1,774,024   14.2KB/s  eta 2s     "
       ]
      },
      {
       "output_type": "stream",
       "stream": "stdout",
       "text": [
        "\r",
        "98% [=====================================> ] 1,781,264   14.8KB/s  eta 2s     "
       ]
      },
      {
       "output_type": "stream",
       "stream": "stdout",
       "text": [
        "\r",
        "99% [=====================================> ] 1,787,056   15.0KB/s  eta 2s     "
       ]
      },
      {
       "output_type": "stream",
       "stream": "stdout",
       "text": [
        "\r",
        "99% [=====================================> ] 1,794,296   15.2KB/s  eta 2s     "
       ]
      },
      {
       "output_type": "stream",
       "stream": "stdout",
       "text": [
        "\r",
        "100%[======================================>] 1,802,573   15.8KB/s   in 1m 51s \r\n",
        "\r\n",
        "2014-03-03 12:34:39 (15.9 KB/s) - \u2018enron1.tar.gz\u2019 saved [1802573/1802573]\r\n",
        "\r\n"
       ]
      },
      {
       "output_type": "stream",
       "stream": "stdout",
       "text": [
        "--2014-03-03 12:34:39--  http://www.aueb.gr/users/ion/data/enron-spam/preprocessed/enron2.tar.gz\r\n",
        "Resolving www.aueb.gr... "
       ]
      },
      {
       "output_type": "stream",
       "stream": "stdout",
       "text": [
        "195.251.255.138\r\n",
        "Connecting to www.aueb.gr|195.251.255.138|:80... "
       ]
      },
      {
       "output_type": "stream",
       "stream": "stdout",
       "text": [
        "connected.\r\n",
        "HTTP request sent, awaiting response... "
       ]
      },
      {
       "output_type": "stream",
       "stream": "stdout",
       "text": [
        "200 OK\r\n",
        "Length: 2905627 (2.8M) [application/x-gzip]\r\n",
        "Saving to: \u2018enron2.tar.gz\u2019\r\n",
        "\r\n",
        "\r",
        " 0% [                                       ] 0           --.-K/s              "
       ]
      },
      {
       "output_type": "stream",
       "stream": "stdout",
       "text": [
        "\r",
        " 0% [                                       ] 4,568       15.9KB/s             "
       ]
      },
      {
       "output_type": "stream",
       "stream": "stdout",
       "text": [
        "\r",
        " 0% [                                       ] 10,360      19.8KB/s             "
       ]
      },
      {
       "output_type": "stream",
       "stream": "stdout",
       "text": [
        "\r",
        " 0% [                                       ] 14,704      16.3KB/s             "
       ]
      },
      {
       "output_type": "stream",
       "stream": "stdout",
       "text": [
        "\r",
        " 0% [                                       ] 21,944      19.5KB/s             "
       ]
      },
      {
       "output_type": "stream",
       "stream": "stdout",
       "text": [
        "\r",
        " 1% [                                       ] 29,184      21.7KB/s             "
       ]
      },
      {
       "output_type": "stream",
       "stream": "stdout",
       "text": [
        "\r",
        " 1% [                                       ] 37,872      24.2KB/s             "
       ]
      },
      {
       "output_type": "stream",
       "stream": "stdout",
       "text": [
        "\r",
        " 1% [                                       ] 46,560      26.0KB/s             "
       ]
      },
      {
       "output_type": "stream",
       "stream": "stdout",
       "text": [
        "\r",
        " 1% [                                       ] 55,248      27.6KB/s             "
       ]
      },
      {
       "output_type": "stream",
       "stream": "stdout",
       "text": [
        "\r",
        " 2% [                                       ] 66,336      27.4KB/s             "
       ]
      },
      {
       "output_type": "stream",
       "stream": "stdout",
       "text": [
        "\r",
        " 2% [>                                      ] 76,968      29.1KB/s             "
       ]
      },
      {
       "output_type": "stream",
       "stream": "stdout",
       "text": [
        "\r",
        " 2% [>                                      ] 86,608      26.0KB/s  eta 1m 46s "
       ]
      },
      {
       "output_type": "stream",
       "stream": "stdout",
       "text": [
        "\r",
        " 3% [>                                      ] 91,448      24.4KB/s  eta 1m 46s "
       ]
      },
      {
       "output_type": "stream",
       "stream": "stdout",
       "text": [
        "\r",
        " 3% [>                                      ] 100,136     21.3KB/s  eta 2m 8s  "
       ]
      },
      {
       "output_type": "stream",
       "stream": "stdout",
       "text": [
        "\r",
        " 3% [>                                      ] 101,584     20.3KB/s  eta 2m 8s  "
       ]
      },
      {
       "output_type": "stream",
       "stream": "stdout",
       "text": [
        "\r",
        " 3% [>                                      ] 103,032     19.4KB/s  eta 2m 8s  "
       ]
      },
      {
       "output_type": "stream",
       "stream": "stdout",
       "text": [
        "\r",
        " 3% [>                                      ] 105,928     18.8KB/s  eta 2m 8s  "
       ]
      },
      {
       "output_type": "stream",
       "stream": "stdout",
       "text": [
        "\r",
        " 3% [>                                      ] 110,272     18.8KB/s  eta 2m 25s "
       ]
      },
      {
       "output_type": "stream",
       "stream": "stdout",
       "text": [
        "\r",
        " 3% [>                                      ] 111,720     16.3KB/s  eta 2m 25s "
       ]
      },
      {
       "output_type": "stream",
       "stream": "stdout",
       "text": [
        "\r",
        " 3% [>                                      ] 114,616     15.9KB/s  eta 2m 51s "
       ]
      },
      {
       "output_type": "stream",
       "stream": "stdout",
       "text": [
        "\r",
        " 3% [>                                      ] 116,064     15.6KB/s  eta 2m 51s "
       ]
      },
      {
       "output_type": "stream",
       "stream": "stdout",
       "text": [
        "\r",
        " 4% [>                                      ] 118,960     15.2KB/s  eta 2m 51s "
       ]
      },
      {
       "output_type": "stream",
       "stream": "stdout",
       "text": [
        "\r",
        " 4% [>                                      ] 120,408     14.7KB/s  eta 2m 51s "
       ]
      },
      {
       "output_type": "stream",
       "stream": "stdout",
       "text": [
        "\r",
        " 4% [>                                      ] 121,856     13.2KB/s  eta 3m 20s "
       ]
      },
      {
       "output_type": "stream",
       "stream": "stdout",
       "text": [
        "\r",
        " 4% [>                                      ] 126,200     13.4KB/s  eta 3m 20s "
       ]
      },
      {
       "output_type": "stream",
       "stream": "stdout",
       "text": [
        "\r",
        " 4% [>                                      ] 133,440     12.6KB/s  eta 3m 20s "
       ]
      },
      {
       "output_type": "stream",
       "stream": "stdout",
       "text": [
        "\r",
        " 4% [>                                      ] 134,888     12.0KB/s  eta 3m 24s "
       ]
      },
      {
       "output_type": "stream",
       "stream": "stdout",
       "text": [
        "\r",
        " 4% [>                                      ] 136,336     10.9KB/s  eta 3m 24s "
       ]
      },
      {
       "output_type": "stream",
       "stream": "stdout",
       "text": [
        "\r",
        " 4% [>                                      ] 139,232     10.0KB/s  eta 3m 39s "
       ]
      },
      {
       "output_type": "stream",
       "stream": "stdout",
       "text": [
        "\r",
        " 4% [>                                      ] 143,576     9.28KB/s  eta 3m 39s "
       ]
      },
      {
       "output_type": "stream",
       "stream": "stdout",
       "text": [
        "\r",
        " 5% [>                                      ] 147,920     8.58KB/s  eta 3m 39s "
       ]
      },
      {
       "output_type": "stream",
       "stream": "stdout",
       "text": [
        "\r",
        " 5% [=>                                     ] 153,712     7.63KB/s  eta 3m 42s "
       ]
      },
      {
       "output_type": "stream",
       "stream": "stdout",
       "text": [
        "\r",
        " 5% [=>                                     ] 155,160     7.09KB/s  eta 3m 42s "
       ]
      },
      {
       "output_type": "stream",
       "stream": "stdout",
       "text": [
        "\r",
        " 5% [=>                                     ] 162,400     7.04KB/s  eta 3m 52s "
       ]
      },
      {
       "output_type": "stream",
       "stream": "stdout",
       "text": [
        "\r",
        " 5% [=>                                     ] 165,296     6.94KB/s  eta 3m 52s "
       ]
      },
      {
       "output_type": "stream",
       "stream": "stdout",
       "text": [
        "\r",
        " 5% [=>                                     ] 166,744     6.41KB/s  eta 3m 52s "
       ]
      },
      {
       "output_type": "stream",
       "stream": "stdout",
       "text": [
        "\r",
        " 5% [=>                                     ] 171,088     6.65KB/s  eta 4m 1s  "
       ]
      },
      {
       "output_type": "stream",
       "stream": "stdout",
       "text": [
        "\r",
        " 6% [=>                                     ] 176,880     7.12KB/s  eta 4m 1s  "
       ]
      },
      {
       "output_type": "stream",
       "stream": "stdout",
       "text": [
        "\r",
        " 6% [=>                                     ] 179,776     7.20KB/s  eta 4m 1s  "
       ]
      },
      {
       "output_type": "stream",
       "stream": "stdout",
       "text": [
        "\r",
        " 6% [=>                                     ] 179,776     6.58KB/s  eta 4m 10s "
       ]
      },
      {
       "output_type": "stream",
       "stream": "stdout",
       "text": [
        "\r",
        " 6% [=>                                     ] 179,776     6.05KB/s  eta 4m 10s "
       ]
      },
      {
       "output_type": "stream",
       "stream": "stdout",
       "text": [
        "\r",
        " 6% [=>                                     ] 191,360     7.04KB/s  eta 4m 11s "
       ]
      },
      {
       "output_type": "stream",
       "stream": "stdout",
       "text": [
        "\r",
        " 6% [=>                                     ] 192,808     6.99KB/s  eta 4m 11s "
       ]
      },
      {
       "output_type": "stream",
       "stream": "stdout",
       "text": [
        "\r",
        " 6% [=>                                     ] 195,704     7.00KB/s  eta 4m 11s "
       ]
      },
      {
       "output_type": "stream",
       "stream": "stdout",
       "text": [
        "\r",
        " 6% [=>                                     ] 200,048     6.81KB/s  eta 4m 22s "
       ]
      },
      {
       "output_type": "stream",
       "stream": "stdout",
       "text": [
        "\r",
        " 7% [=>                                     ] 205,840     7.56KB/s  eta 4m 22s "
       ]
      },
      {
       "output_type": "stream",
       "stream": "stdout",
       "text": [
        "\r",
        " 7% [=>                                     ] 216,928     7.64KB/s  eta 4m 15s "
       ]
      },
      {
       "output_type": "stream",
       "stream": "stdout",
       "text": [
        "\r",
        " 7% [=>                                     ] 220,320     7.49KB/s  eta 4m 15s "
       ]
      },
      {
       "output_type": "stream",
       "stream": "stdout",
       "text": [
        "\r",
        " 7% [=>                                     ] 223,216     7.48KB/s  eta 4m 15s "
       ]
      },
      {
       "output_type": "stream",
       "stream": "stdout",
       "text": [
        "\r",
        " 7% [==>                                    ] 227,560     7.68KB/s  eta 4m 20s "
       ]
      },
      {
       "output_type": "stream",
       "stream": "stdout",
       "text": [
        "\r",
        " 7% [==>                                    ] 231,904     7.62KB/s  eta 4m 20s "
       ]
      },
      {
       "output_type": "stream",
       "stream": "stdout",
       "text": [
        "\r",
        " 8% [==>                                    ] 237,696     7.38KB/s  eta 4m 28s "
       ]
      },
      {
       "output_type": "stream",
       "stream": "stdout",
       "text": [
        "\r",
        " 8% [==>                                    ] 243,488     7.51KB/s  eta 4m 28s "
       ]
      },
      {
       "output_type": "stream",
       "stream": "stdout",
       "text": [
        "\r",
        " 8% [==>                                    ] 249,280     7.85KB/s  eta 4m 28s "
       ]
      },
      {
       "output_type": "stream",
       "stream": "stdout",
       "text": [
        "\r",
        " 8% [==>                                    ] 256,520     8.55KB/s  eta 4m 28s "
       ]
      },
      {
       "output_type": "stream",
       "stream": "stdout",
       "text": [
        "\r",
        " 9% [==>                                    ] 262,312     9.21KB/s  eta 4m 11s "
       ]
      },
      {
       "output_type": "stream",
       "stream": "stdout",
       "text": [
        "\r",
        " 9% [==>                                    ] 269,552     9.62KB/s  eta 4m 11s "
       ]
      },
      {
       "output_type": "stream",
       "stream": "stdout",
       "text": [
        "\r",
        " 9% [==>                                    ] 278,240     10.1KB/s  eta 4m 11s "
       ]
      },
      {
       "output_type": "stream",
       "stream": "stdout",
       "text": [
        "\r",
        "10% [==>                                    ] 290,776     10.6KB/s  eta 4m 11s "
       ]
      },
      {
       "output_type": "stream",
       "stream": "stdout",
       "text": [
        "\r",
        "10% [===>                                   ] 298,512     11.9KB/s  eta 3m 51s "
       ]
      },
      {
       "output_type": "stream",
       "stream": "stdout",
       "text": [
        "\r",
        "10% [===>                                   ] 299,960     11.7KB/s  eta 3m 51s "
       ]
      },
      {
       "output_type": "stream",
       "stream": "stdout",
       "text": [
        "\r",
        "10% [===>                                   ] 301,408     11.4KB/s  eta 3m 51s "
       ]
      },
      {
       "output_type": "stream",
       "stream": "stdout",
       "text": [
        "\r",
        "10% [===>                                   ] 304,304     11.4KB/s  eta 3m 56s "
       ]
      },
      {
       "output_type": "stream",
       "stream": "stdout",
       "text": [
        "\r",
        "10% [===>                                   ] 308,648     12.5KB/s  eta 3m 56s "
       ]
      },
      {
       "output_type": "stream",
       "stream": "stdout",
       "text": [
        "\r",
        "10% [===>                                   ] 314,440     12.5KB/s  eta 3m 56s "
       ]
      },
      {
       "output_type": "stream",
       "stream": "stdout",
       "text": [
        "\r",
        "11% [===>                                   ] 320,232     13.1KB/s  eta 3m 56s "
       ]
      },
      {
       "output_type": "stream",
       "stream": "stdout",
       "text": [
        "\r",
        "11% [===>                                   ] 326,024     13.8KB/s  eta 3m 56s "
       ]
      },
      {
       "output_type": "stream",
       "stream": "stdout",
       "text": [
        "\r",
        "11% [===>                                   ] 337,112     14.8KB/s  eta 3m 41s "
       ]
      },
      {
       "output_type": "stream",
       "stream": "stdout",
       "text": [
        "\r",
        "11% [===>                                   ] 343,400     15.9KB/s  eta 3m 41s "
       ]
      },
      {
       "output_type": "stream",
       "stream": "stdout",
       "text": [
        "\r",
        "12% [===>                                   ] 349,192     17.5KB/s  eta 3m 41s "
       ]
      },
      {
       "output_type": "stream",
       "stream": "stdout",
       "text": [
        "\r",
        "12% [===>                                   ] 358,832     19.5KB/s  eta 3m 41s "
       ]
      },
      {
       "output_type": "stream",
       "stream": "stdout",
       "text": [
        "\r",
        "12% [===>                                   ] 362,224     19.1KB/s  eta 3m 32s "
       ]
      },
      {
       "output_type": "stream",
       "stream": "stdout",
       "text": [
        "\r",
        "12% [===>                                   ] 363,672     18.4KB/s  eta 3m 32s "
       ]
      },
      {
       "output_type": "stream",
       "stream": "stdout",
       "text": [
        "\r",
        "12% [===>                                   ] 368,016     17.6KB/s  eta 3m 32s "
       ]
      },
      {
       "output_type": "stream",
       "stream": "stdout",
       "text": [
        "\r",
        "12% [===>                                   ] 372,360     17.4KB/s  eta 3m 32s "
       ]
      },
      {
       "output_type": "stream",
       "stream": "stdout",
       "text": [
        "\r",
        "12% [====>                                  ] 376,704     15.6KB/s  eta 3m 34s "
       ]
      },
      {
       "output_type": "stream",
       "stream": "stdout",
       "text": [
        "\r",
        "13% [====>                                  ] 383,944     15.6KB/s  eta 3m 34s "
       ]
      },
      {
       "output_type": "stream",
       "stream": "stdout",
       "text": [
        "\r",
        "13% [====>                                  ] 389,736     15.2KB/s  eta 3m 34s "
       ]
      },
      {
       "output_type": "stream",
       "stream": "stdout",
       "text": [
        "\r",
        "13% [====>                                  ] 395,528     14.8KB/s  eta 3m 34s "
       ]
      },
      {
       "output_type": "stream",
       "stream": "stdout",
       "text": [
        "\r",
        "13% [====>                                  ] 405,168     15.8KB/s  eta 3m 24s "
       ]
      },
      {
       "output_type": "stream",
       "stream": "stdout",
       "text": [
        "\r",
        "14% [====>                                  ] 408,560     15.8KB/s  eta 3m 24s "
       ]
      },
      {
       "output_type": "stream",
       "stream": "stdout",
       "text": [
        "\r",
        "14% [====>                                  ] 411,456     16.7KB/s  eta 3m 24s "
       ]
      },
      {
       "output_type": "stream",
       "stream": "stdout",
       "text": [
        "\r",
        "14% [====>                                  ] 415,800     16.9KB/s  eta 3m 24s "
       ]
      },
      {
       "output_type": "stream",
       "stream": "stdout",
       "text": [
        "\r",
        "14% [====>                                  ] 420,144     16.9KB/s  eta 3m 23s "
       ]
      },
      {
       "output_type": "stream",
       "stream": "stdout",
       "text": [
        "\r",
        "14% [====>                                  ] 424,488     16.7KB/s  eta 3m 23s "
       ]
      },
      {
       "output_type": "stream",
       "stream": "stdout",
       "text": [
        "\r",
        "14% [====>                                  ] 430,280     15.3KB/s  eta 3m 23s "
       ]
      },
      {
       "output_type": "stream",
       "stream": "stdout",
       "text": [
        "\r",
        "14% [====>                                  ] 433,176     13.9KB/s  eta 3m 23s "
       ]
      },
      {
       "output_type": "stream",
       "stream": "stdout",
       "text": [
        "\r",
        "14% [====>                                  ] 433,176     12.4KB/s  eta 3m 32s "
       ]
      },
      {
       "output_type": "stream",
       "stream": "stdout",
       "text": [
        "\r",
        "14% [====>                                  ] 433,176     11.2KB/s  eta 3m 32s "
       ]
      },
      {
       "output_type": "stream",
       "stream": "stdout",
       "text": [
        "\r",
        "15% [====>                                  ] 441,368     11.3KB/s  eta 3m 35s "
       ]
      },
      {
       "output_type": "stream",
       "stream": "stdout",
       "text": [
        "\r",
        "15% [====>                                  ] 444,760     10.4KB/s  eta 3m 35s "
       ]
      },
      {
       "output_type": "stream",
       "stream": "stdout",
       "text": [
        "\r",
        "15% [=====>                                 ] 447,656     10.1KB/s  eta 3m 35s "
       ]
      },
      {
       "output_type": "stream",
       "stream": "stdout",
       "text": [
        "\r",
        "15% [=====>                                 ] 452,000     10.2KB/s  eta 3m 34s "
       ]
      },
      {
       "output_type": "stream",
       "stream": "stdout",
       "text": [
        "\r",
        "15% [=====>                                 ] 456,344     9.69KB/s  eta 3m 34s "
       ]
      },
      {
       "output_type": "stream",
       "stream": "stdout",
       "text": [
        "\r",
        "15% [=====>                                 ] 460,688     9.88KB/s  eta 3m 34s "
       ]
      },
      {
       "output_type": "stream",
       "stream": "stdout",
       "text": [
        "\r",
        "16% [=====>                                 ] 466,480     9.91KB/s  eta 3m 32s "
       ]
      },
      {
       "output_type": "stream",
       "stream": "stdout",
       "text": [
        "\r",
        "16% [=====>                                 ] 473,720     10.1KB/s  eta 3m 32s "
       ]
      },
      {
       "output_type": "stream",
       "stream": "stdout",
       "text": [
        "\r",
        "16% [=====>                                 ] 480,960     10.0KB/s  eta 3m 29s "
       ]
      },
      {
       "output_type": "stream",
       "stream": "stdout",
       "text": [
        "\r",
        "16% [=====>                                 ] 488,200     9.79KB/s  eta 3m 29s "
       ]
      },
      {
       "output_type": "stream",
       "stream": "stdout",
       "text": [
        "\r",
        "17% [=====>                                 ] 498,336     10.4KB/s  eta 3m 28s "
       ]
      },
      {
       "output_type": "stream",
       "stream": "stdout",
       "text": [
        "\r",
        "17% [=====>                                 ] 508,472     10.8KB/s  eta 3m 28s "
       ]
      },
      {
       "output_type": "stream",
       "stream": "stdout",
       "text": [
        "\r",
        "17% [=====>                                 ] 518,608     11.1KB/s  eta 3m 28s "
       ]
      },
      {
       "output_type": "stream",
       "stream": "stdout",
       "text": [
        "\r",
        "18% [======>                                ] 528,744     11.4KB/s  eta 3m 28s "
       ]
      },
      {
       "output_type": "stream",
       "stream": "stdout",
       "text": [
        "\r",
        "18% [======>                                ] 540,328     12.3KB/s  eta 3m 28s "
       ]
      },
      {
       "output_type": "stream",
       "stream": "stdout",
       "text": [
        "\r",
        "18% [======>                                ] 546,120     12.2KB/s  eta 3m 12s "
       ]
      },
      {
       "output_type": "stream",
       "stream": "stdout",
       "text": [
        "\r",
        "19% [======>                                ] 562,048     13.2KB/s  eta 3m 12s "
       ]
      },
      {
       "output_type": "stream",
       "stream": "stdout",
       "text": [
        "\r",
        "19% [======>                                ] 564,944     13.0KB/s  eta 3m 12s "
       ]
      },
      {
       "output_type": "stream",
       "stream": "stdout",
       "text": [
        "\r",
        "19% [======>                                ] 569,288     12.9KB/s  eta 3m 12s "
       ]
      },
      {
       "output_type": "stream",
       "stream": "stdout",
       "text": [
        "\r",
        "19% [======>                                ] 576,528     13.5KB/s  eta 3m 5s  "
       ]
      },
      {
       "output_type": "stream",
       "stream": "stdout",
       "text": [
        "\r",
        "20% [======>                                ] 583,768     18.2KB/s  eta 3m 5s  "
       ]
      },
      {
       "output_type": "stream",
       "stream": "stdout",
       "text": [
        "\r",
        "20% [======>                                ] 591,008     19.6KB/s  eta 3m 5s  "
       ]
      },
      {
       "output_type": "stream",
       "stream": "stdout",
       "text": [
        "\r",
        "20% [=======>                               ] 602,096     19.6KB/s  eta 3m 0s  "
       ]
      },
      {
       "output_type": "stream",
       "stream": "stdout",
       "text": [
        "\r",
        "20% [=======>                               ] 609,832     20.1KB/s  eta 3m 0s  "
       ]
      },
      {
       "output_type": "stream",
       "stream": "stdout",
       "text": [
        "\r",
        "21% [=======>                               ] 615,624     20.2KB/s  eta 3m 0s  "
       ]
      },
      {
       "output_type": "stream",
       "stream": "stdout",
       "text": [
        "\r",
        "21% [=======>                               ] 623,816     20.1KB/s  eta 3m 0s  "
       ]
      },
      {
       "output_type": "stream",
       "stream": "stdout",
       "text": [
        "\r",
        "21% [=======>                               ] 627,208     19.6KB/s  eta 2m 56s "
       ]
      },
      {
       "output_type": "stream",
       "stream": "stdout",
       "text": [
        "\r",
        "21% [=======>                               ] 631,552     19.6KB/s  eta 2m 56s "
       ]
      },
      {
       "output_type": "stream",
       "stream": "stdout",
       "text": [
        "\r",
        "21% [=======>                               ] 635,896     20.2KB/s  eta 2m 56s "
       ]
      },
      {
       "output_type": "stream",
       "stream": "stdout",
       "text": [
        "\r",
        "22% [=======>                               ] 640,240     20.8KB/s  eta 2m 56s "
       ]
      },
      {
       "output_type": "stream",
       "stream": "stdout",
       "text": [
        "\r",
        "22% [=======>                               ] 646,032     20.7KB/s  eta 2m 56s "
       ]
      },
      {
       "output_type": "stream",
       "stream": "stdout",
       "text": [
        "\r",
        "22% [=======>                               ] 650,376     19.9KB/s  eta 2m 56s "
       ]
      },
      {
       "output_type": "stream",
       "stream": "stdout",
       "text": [
        "\r",
        "22% [=======>                               ] 657,616     18.8KB/s  eta 2m 56s "
       ]
      },
      {
       "output_type": "stream",
       "stream": "stdout",
       "text": [
        "\r",
        "22% [=======>                               ] 664,856     18.5KB/s  eta 2m 51s "
       ]
      },
      {
       "output_type": "stream",
       "stream": "stdout",
       "text": [
        "\r",
        "23% [========>                              ] 673,544     18.0KB/s  eta 2m 51s "
       ]
      },
      {
       "output_type": "stream",
       "stream": "stdout",
       "text": [
        "\r",
        "23% [========>                              ] 682,232     19.5KB/s  eta 2m 51s "
       ]
      },
      {
       "output_type": "stream",
       "stream": "stdout",
       "text": [
        "\r",
        "23% [========>                              ] 692,368     19.2KB/s  eta 2m 51s "
       ]
      },
      {
       "output_type": "stream",
       "stream": "stdout",
       "text": [
        "\r",
        "24% [========>                              ] 701,056     20.1KB/s  eta 2m 51s "
       ]
      },
      {
       "output_type": "stream",
       "stream": "stdout",
       "text": [
        "\r",
        "24% [========>                              ] 711,192     21.3KB/s  eta 2m 40s "
       ]
      },
      {
       "output_type": "stream",
       "stream": "stdout",
       "text": [
        "\r",
        "24% [========>                              ] 721,328     22.4KB/s  eta 2m 40s "
       ]
      },
      {
       "output_type": "stream",
       "stream": "stdout",
       "text": [
        "\r",
        "25% [========>                              ] 734,360     23.4KB/s  eta 2m 40s "
       ]
      },
      {
       "output_type": "stream",
       "stream": "stdout",
       "text": [
        "\r",
        "25% [=========>                             ] 747,392     24.4KB/s  eta 2m 40s "
       ]
      },
      {
       "output_type": "stream",
       "stream": "stdout",
       "text": [
        "\r",
        "26% [=========>                             ] 755,584     25.3KB/s  eta 2m 40s "
       ]
      },
      {
       "output_type": "stream",
       "stream": "stdout",
       "text": [
        "\r",
        "26% [=========>                             ] 767,664     26.1KB/s  eta 2m 28s "
       ]
      },
      {
       "output_type": "stream",
       "stream": "stdout",
       "text": [
        "\r",
        "26% [=========>                             ] 774,904     26.4KB/s  eta 2m 28s "
       ]
      },
      {
       "output_type": "stream",
       "stream": "stdout",
       "text": [
        "\r",
        "26% [=========>                             ] 783,592     27.6KB/s  eta 2m 28s "
       ]
      },
      {
       "output_type": "stream",
       "stream": "stdout",
       "text": [
        "\r",
        "27% [=========>                             ] 791,784     29.7KB/s  eta 2m 28s "
       ]
      },
      {
       "output_type": "stream",
       "stream": "stdout",
       "text": [
        "\r",
        "27% [=========>                             ] 798,072     29.3KB/s  eta 2m 24s "
       ]
      },
      {
       "output_type": "stream",
       "stream": "stdout",
       "text": [
        "\r",
        "27% [=========>                             ] 799,520     28.5KB/s  eta 2m 24s "
       ]
      },
      {
       "output_type": "stream",
       "stream": "stdout",
       "text": [
        "\r",
        "27% [=========>                             ] 800,968     30.3KB/s  eta 2m 24s "
       ]
      },
      {
       "output_type": "stream",
       "stream": "stdout",
       "text": [
        "\r",
        "27% [=========>                             ] 803,864     29.7KB/s  eta 2m 24s "
       ]
      },
      {
       "output_type": "stream",
       "stream": "stdout",
       "text": [
        "\r",
        "27% [=========>                             ] 808,208     29.6KB/s  eta 2m 24s "
       ]
      },
      {
       "output_type": "stream",
       "stream": "stdout",
       "text": [
        "\r",
        "28% [=========>                             ] 814,000     31.0KB/s  eta 2m 24s "
       ]
      },
      {
       "output_type": "stream",
       "stream": "stdout",
       "text": [
        "\r",
        "28% [==========>                            ] 819,792     30.2KB/s  eta 2m 24s "
       ]
      },
      {
       "output_type": "stream",
       "stream": "stdout",
       "text": [
        "\r",
        "28% [==========>                            ] 827,032     30.0KB/s  eta 2m 24s "
       ]
      },
      {
       "output_type": "stream",
       "stream": "stdout",
       "text": [
        "\r",
        "28% [==========>                            ] 834,272     29.6KB/s  eta 2m 20s "
       ]
      },
      {
       "output_type": "stream",
       "stream": "stdout",
       "text": [
        "\r",
        "28% [==========>                            ] 841,512     29.0KB/s  eta 2m 20s "
       ]
      },
      {
       "output_type": "stream",
       "stream": "stdout",
       "text": [
        "\r",
        "29% [==========>                            ] 851,152     28.9KB/s  eta 2m 20s "
       ]
      },
      {
       "output_type": "stream",
       "stream": "stdout",
       "text": [
        "\r",
        "29% [==========>                            ] 858,888     28.6KB/s  eta 2m 20s "
       ]
      },
      {
       "output_type": "stream",
       "stream": "stdout",
       "text": [
        "\r",
        "29% [==========>                            ] 861,784     27.2KB/s  eta 2m 20s "
       ]
      },
      {
       "output_type": "stream",
       "stream": "stdout",
       "text": [
        "\r",
        "29% [==========>                            ] 867,576     25.8KB/s  eta 2m 15s "
       ]
      },
      {
       "output_type": "stream",
       "stream": "stdout",
       "text": [
        "\r",
        "30% [==========>                            ] 871,920     23.8KB/s  eta 2m 15s "
       ]
      },
      {
       "output_type": "stream",
       "stream": "stdout",
       "text": [
        "\r",
        "30% [==========>                            ] 879,160     23.8KB/s  eta 2m 15s "
       ]
      },
      {
       "output_type": "stream",
       "stream": "stdout",
       "text": [
        "\r",
        "30% [==========>                            ] 884,952     22.6KB/s  eta 2m 15s "
       ]
      },
      {
       "output_type": "stream",
       "stream": "stdout",
       "text": [
        "\r",
        "30% [==========>                            ] 893,640     22.9KB/s  eta 2m 15s "
       ]
      },
      {
       "output_type": "stream",
       "stream": "stdout",
       "text": [
        "\r",
        "31% [===========>                           ] 900,880     22.0KB/s  eta 2m 11s "
       ]
      },
      {
       "output_type": "stream",
       "stream": "stdout",
       "text": [
        "\r",
        "31% [===========>                           ] 908,120     21.9KB/s  eta 2m 11s "
       ]
      },
      {
       "output_type": "stream",
       "stream": "stdout",
       "text": [
        "\r",
        "31% [===========>                           ] 909,568     19.8KB/s  eta 2m 11s "
       ]
      },
      {
       "output_type": "stream",
       "stream": "stdout",
       "text": [
        "\r",
        "31% [===========>                           ] 912,464     19.8KB/s  eta 2m 11s "
       ]
      },
      {
       "output_type": "stream",
       "stream": "stdout",
       "text": [
        "\r",
        "31% [===========>                           ] 915,360     17.3KB/s  eta 2m 13s "
       ]
      },
      {
       "output_type": "stream",
       "stream": "stdout",
       "text": [
        "\r",
        "31% [===========>                           ] 922,600     18.2KB/s  eta 2m 13s "
       ]
      },
      {
       "output_type": "stream",
       "stream": "stdout",
       "text": [
        "\r",
        "31% [===========>                           ] 922,600     15.9KB/s  eta 2m 14s "
       ]
      },
      {
       "output_type": "stream",
       "stream": "stdout",
       "text": [
        "\r",
        "31% [===========>                           ] 922,600     14.1KB/s  eta 2m 14s "
       ]
      },
      {
       "output_type": "stream",
       "stream": "stdout",
       "text": [
        "\r",
        "31% [===========>                           ] 924,048     13.9KB/s  eta 2m 16s "
       ]
      },
      {
       "output_type": "stream",
       "stream": "stdout",
       "text": [
        "\r",
        "31% [===========>                           ] 926,944     13.1KB/s  eta 2m 16s "
       ]
      },
      {
       "output_type": "stream",
       "stream": "stdout",
       "text": [
        "\r",
        "32% [===========>                           ] 931,288     13.0KB/s  eta 2m 16s "
       ]
      },
      {
       "output_type": "stream",
       "stream": "stdout",
       "text": [
        "\r",
        "32% [===========>                           ] 932,736     11.8KB/s  eta 2m 18s "
       ]
      },
      {
       "output_type": "stream",
       "stream": "stdout",
       "text": [
        "\r",
        "32% [===========>                           ] 942,872     11.7KB/s  eta 2m 18s "
       ]
      },
      {
       "output_type": "stream",
       "stream": "stdout",
       "text": [
        "\r",
        "32% [===========>                           ] 945,768     10.6KB/s  eta 2m 18s "
       ]
      },
      {
       "output_type": "stream",
       "stream": "stdout",
       "text": [
        "\r",
        "32% [===========>                           ] 950,112     10.3KB/s  eta 2m 18s "
       ]
      },
      {
       "output_type": "stream",
       "stream": "stdout",
       "text": [
        "\r",
        "32% [===========>                           ] 954,456     9.82KB/s  eta 2m 18s "
       ]
      },
      {
       "output_type": "stream",
       "stream": "stdout",
       "text": [
        "\r",
        "33% [===========>                           ] 960,248     9.75KB/s  eta 2m 18s "
       ]
      },
      {
       "output_type": "stream",
       "stream": "stdout",
       "text": [
        "\r",
        "33% [===========>                           ] 966,040     9.80KB/s  eta 2m 16s "
       ]
      },
      {
       "output_type": "stream",
       "stream": "stdout",
       "text": [
        "\r",
        "33% [============>                          ] 968,936     9.51KB/s  eta 2m 16s "
       ]
      },
      {
       "output_type": "stream",
       "stream": "stdout",
       "text": [
        "\r",
        "33% [============>                          ] 976,176     9.33KB/s  eta 2m 16s "
       ]
      },
      {
       "output_type": "stream",
       "stream": "stdout",
       "text": [
        "\r",
        "33% [============>                          ] 984,864     9.46KB/s  eta 2m 16s "
       ]
      },
      {
       "output_type": "stream",
       "stream": "stdout",
       "text": [
        "\r",
        "34% [============>                          ] 992,104     9.29KB/s  eta 2m 15s "
       ]
      },
      {
       "output_type": "stream",
       "stream": "stdout",
       "text": [
        "\r",
        "34% [============>                          ] 1,008,032   9.31KB/s  eta 2m 15s "
       ]
      },
      {
       "output_type": "stream",
       "stream": "stdout",
       "text": [
        "\r",
        "34% [============>                          ] 1,013,824   9.04KB/s  eta 2m 12s "
       ]
      },
      {
       "output_type": "stream",
       "stream": "stdout",
       "text": [
        "\r",
        "35% [============>                          ] 1,019,616   8.66KB/s  eta 2m 12s "
       ]
      },
      {
       "output_type": "stream",
       "stream": "stdout",
       "text": [
        "\r",
        "35% [============>                          ] 1,026,856   9.53KB/s  eta 2m 12s "
       ]
      },
      {
       "output_type": "stream",
       "stream": "stdout",
       "text": [
        "\r",
        "35% [============>                          ] 1,036,496   9.98KB/s  eta 2m 10s "
       ]
      },
      {
       "output_type": "stream",
       "stream": "stdout",
       "text": [
        "\r",
        "35% [============>                          ] 1,038,440   9.98KB/s  eta 2m 10s "
       ]
      },
      {
       "output_type": "stream",
       "stream": "stdout",
       "text": [
        "\r",
        "35% [============>                          ] 1,039,888   11.4KB/s  eta 2m 12s "
       ]
      },
      {
       "output_type": "stream",
       "stream": "stdout",
       "text": [
        "\r",
        "35% [============>                          ] 1,041,336   10.5KB/s  eta 2m 12s "
       ]
      },
      {
       "output_type": "stream",
       "stream": "stdout",
       "text": [
        "\r",
        "35% [============>                          ] 1,041,336   9.68KB/s  eta 2m 15s "
       ]
      },
      {
       "output_type": "stream",
       "stream": "stdout",
       "text": [
        "\r",
        "36% [=============>                         ] 1,050,024   9.74KB/s  eta 2m 15s "
       ]
      },
      {
       "output_type": "stream",
       "stream": "stdout",
       "text": [
        "\r",
        "36% [=============>                         ] 1,051,472   9.13KB/s  eta 2m 16s "
       ]
      },
      {
       "output_type": "stream",
       "stream": "stdout",
       "text": [
        "\r",
        "36% [=============>                         ] 1,052,920   8.70KB/s  eta 2m 16s "
       ]
      },
      {
       "output_type": "stream",
       "stream": "stdout",
       "text": [
        "\r",
        "36% [=============>                         ] 1,054,368   8.68KB/s  eta 2m 18s "
       ]
      },
      {
       "output_type": "stream",
       "stream": "stdout",
       "text": [
        "\r",
        "36% [=============>                         ] 1,055,816   8.17KB/s  eta 2m 18s "
       ]
      },
      {
       "output_type": "stream",
       "stream": "stdout",
       "text": [
        "\r",
        "36% [=============>                         ] 1,055,816   7.63KB/s  eta 2m 21s "
       ]
      },
      {
       "output_type": "stream",
       "stream": "stdout",
       "text": [
        "\r",
        "36% [=============>                         ] 1,063,056   8.17KB/s  eta 2m 21s "
       ]
      },
      {
       "output_type": "stream",
       "stream": "stdout",
       "text": [
        "\r",
        "36% [=============>                         ] 1,065,952   8.09KB/s  eta 2m 21s "
       ]
      },
      {
       "output_type": "stream",
       "stream": "stdout",
       "text": [
        "\r",
        "36% [=============>                         ] 1,070,296   7.86KB/s  eta 2m 20s "
       ]
      },
      {
       "output_type": "stream",
       "stream": "stdout",
       "text": [
        "\r",
        "36% [=============>                         ] 1,070,296   7.37KB/s  eta 2m 20s "
       ]
      },
      {
       "output_type": "stream",
       "stream": "stdout",
       "text": [
        "\r",
        "37% [=============>                         ] 1,078,984   7.36KB/s  eta 2m 20s "
       ]
      },
      {
       "output_type": "stream",
       "stream": "stdout",
       "text": [
        "\r",
        "37% [=============>                         ] 1,080,432   7.00KB/s  eta 2m 20s "
       ]
      },
      {
       "output_type": "stream",
       "stream": "stdout",
       "text": [
        "\r",
        "37% [=============>                         ] 1,083,328   6.86KB/s  eta 2m 21s "
       ]
      },
      {
       "output_type": "stream",
       "stream": "stdout",
       "text": [
        "\r",
        "37% [=============>                         ] 1,087,672   6.51KB/s  eta 2m 21s "
       ]
      },
      {
       "output_type": "stream",
       "stream": "stdout",
       "text": [
        "\r",
        "37% [=============>                         ] 1,089,120   6.21KB/s  eta 2m 22s "
       ]
      },
      {
       "output_type": "stream",
       "stream": "stdout",
       "text": [
        "\r",
        "37% [=============>                         ] 1,089,120   5.87KB/s  eta 2m 22s "
       ]
      },
      {
       "output_type": "stream",
       "stream": "stdout",
       "text": [
        "\r",
        "37% [=============>                         ] 1,089,120   5.57KB/s  eta 2m 25s "
       ]
      },
      {
       "output_type": "stream",
       "stream": "stdout",
       "text": [
        "\r",
        "37% [=============>                         ] 1,089,120   5.29KB/s  eta 2m 25s "
       ]
      },
      {
       "output_type": "stream",
       "stream": "stdout",
       "text": [
        "\r",
        "37% [=============>                         ] 1,092,016   4.66KB/s  eta 2m 28s "
       ]
      },
      {
       "output_type": "stream",
       "stream": "stdout",
       "text": [
        "\r",
        "37% [=============>                         ] 1,092,016   4.44KB/s  eta 2m 28s "
       ]
      },
      {
       "output_type": "stream",
       "stream": "stdout",
       "text": [
        "\r",
        "37% [=============>                         ] 1,092,016   4.24KB/s  eta 2m 31s "
       ]
      },
      {
       "output_type": "stream",
       "stream": "stdout",
       "text": [
        "\r",
        "37% [=============>                         ] 1,092,016   4.06KB/s  eta 2m 31s "
       ]
      },
      {
       "output_type": "stream",
       "stream": "stdout",
       "text": [
        "\r",
        "37% [=============>                         ] 1,092,016   3.89KB/s  eta 2m 35s "
       ]
      },
      {
       "output_type": "stream",
       "stream": "stdout",
       "text": [
        "\r",
        "37% [=============>                         ] 1,096,360   3.67KB/s  eta 2m 35s "
       ]
      },
      {
       "output_type": "stream",
       "stream": "stdout",
       "text": [
        "\r",
        "37% [=============>                         ] 1,096,360   3.53KB/s  eta 2m 37s "
       ]
      },
      {
       "output_type": "stream",
       "stream": "stdout",
       "text": [
        "\r",
        "37% [=============>                         ] 1,102,152   3.38KB/s  eta 2m 37s "
       ]
      },
      {
       "output_type": "stream",
       "stream": "stdout",
       "text": [
        "\r",
        "38% [=============>                         ] 1,106,496   3.25KB/s  eta 2m 36s "
       ]
      },
      {
       "output_type": "stream",
       "stream": "stdout",
       "text": [
        "\r",
        "38% [=============>                         ] 1,112,288   3.04KB/s  eta 2m 36s "
       ]
      },
      {
       "output_type": "stream",
       "stream": "stdout",
       "text": [
        "\r",
        "38% [=============>                         ] 1,116,632   3.09KB/s  eta 2m 36s "
       ]
      },
      {
       "output_type": "stream",
       "stream": "stdout",
       "text": [
        "\r",
        "38% [==============>                        ] 1,118,080   2.99KB/s  eta 2m 38s "
       ]
      },
      {
       "output_type": "stream",
       "stream": "stdout",
       "text": [
        "\r",
        "38% [==============>                        ] 1,126,272   3.26KB/s  eta 2m 38s "
       ]
      },
      {
       "output_type": "stream",
       "stream": "stdout",
       "text": [
        "\r",
        "38% [==============>                        ] 1,128,216   3.24KB/s  eta 2m 38s "
       ]
      },
      {
       "output_type": "stream",
       "stream": "stdout",
       "text": [
        "\r",
        "38% [==============>                        ] 1,128,216   3.11KB/s  eta 2m 38s "
       ]
      },
      {
       "output_type": "stream",
       "stream": "stdout",
       "text": [
        "\r",
        "38% [==============>                        ] 1,128,216   3.00KB/s  eta 2m 38s "
       ]
      },
      {
       "output_type": "stream",
       "stream": "stdout",
       "text": [
        "\r",
        "38% [==============>                        ] 1,128,216   2.89KB/s  eta 2m 41s "
       ]
      },
      {
       "output_type": "stream",
       "stream": "stdout",
       "text": [
        "\r",
        "38% [==============>                        ] 1,128,216   2.79KB/s  eta 2m 41s "
       ]
      },
      {
       "output_type": "stream",
       "stream": "stdout",
       "text": [
        "\r",
        "38% [==============>                        ] 1,129,664   2.79KB/s  eta 2m 44s "
       ]
      },
      {
       "output_type": "stream",
       "stream": "stdout",
       "text": [
        "\r",
        "38% [==============>                        ] 1,131,112   2.75KB/s  eta 2m 44s "
       ]
      },
      {
       "output_type": "stream",
       "stream": "stdout",
       "text": [
        "\r",
        "39% [==============>                        ] 1,138,352   3.03KB/s  eta 2m 44s "
       ]
      },
      {
       "output_type": "stream",
       "stream": "stdout",
       "text": [
        "\r",
        "39% [==============>                        ] 1,139,800   3.02KB/s  eta 2m 44s "
       ]
      },
      {
       "output_type": "stream",
       "stream": "stdout",
       "text": [
        "\r",
        "39% [==============>                        ] 1,141,248   2.94KB/s  eta 2m 45s "
       ]
      },
      {
       "output_type": "stream",
       "stream": "stdout",
       "text": [
        "\r",
        "39% [==============>                        ] 1,142,696   2.88KB/s  eta 2m 45s "
       ]
      },
      {
       "output_type": "stream",
       "stream": "stdout",
       "text": [
        "\r",
        "39% [==============>                        ] 1,142,696   2.78KB/s  eta 2m 47s "
       ]
      },
      {
       "output_type": "stream",
       "stream": "stdout",
       "text": [
        "\r",
        "39% [==============>                        ] 1,142,696   2.69KB/s  eta 2m 47s "
       ]
      },
      {
       "output_type": "stream",
       "stream": "stdout",
       "text": [
        "\r",
        "39% [==============>                        ] 1,144,144   2.60KB/s  eta 2m 50s "
       ]
      },
      {
       "output_type": "stream",
       "stream": "stdout",
       "text": [
        "\r",
        "39% [==============>                        ] 1,148,488   2.60KB/s  eta 2m 50s "
       ]
      },
      {
       "output_type": "stream",
       "stream": "stdout",
       "text": [
        "\r",
        "39% [==============>                        ] 1,149,936   2.56KB/s  eta 2m 51s "
       ]
      },
      {
       "output_type": "stream",
       "stream": "stdout",
       "text": [
        "\r",
        "39% [==============>                        ] 1,158,128   2.61KB/s  eta 2m 51s "
       ]
      },
      {
       "output_type": "stream",
       "stream": "stdout",
       "text": [
        "\r",
        "39% [==============>                        ] 1,160,072   2.62KB/s  eta 2m 51s "
       ]
      },
      {
       "output_type": "stream",
       "stream": "stdout",
       "text": [
        "\r",
        "39% [==============>                        ] 1,161,520   2.58KB/s  eta 2m 51s "
       ]
      },
      {
       "output_type": "stream",
       "stream": "stdout",
       "text": [
        "\r",
        "40% [==============>                        ] 1,167,312   2.69KB/s  eta 2m 51s "
       ]
      },
      {
       "output_type": "stream",
       "stream": "stdout",
       "text": [
        "\r",
        "40% [==============>                        ] 1,171,656   2.70KB/s  eta 2m 51s "
       ]
      },
      {
       "output_type": "stream",
       "stream": "stdout",
       "text": [
        "\r",
        "40% [==============>                        ] 1,177,448   3.11KB/s  eta 2m 49s "
       ]
      },
      {
       "output_type": "stream",
       "stream": "stdout",
       "text": [
        "\r",
        "40% [==============>                        ] 1,181,792   3.14KB/s  eta 2m 49s "
       ]
      },
      {
       "output_type": "stream",
       "stream": "stdout",
       "text": [
        "\r",
        "40% [==============>                        ] 1,181,792   3.04KB/s  eta 2m 49s "
       ]
      },
      {
       "output_type": "stream",
       "stream": "stdout",
       "text": [
        "\r",
        "40% [==============>                        ] 1,183,240   3.53KB/s  eta 2m 52s "
       ]
      },
      {
       "output_type": "stream",
       "stream": "stdout",
       "text": [
        "\r",
        "40% [==============>                        ] 1,190,480   3.90KB/s  eta 2m 52s "
       ]
      },
      {
       "output_type": "stream",
       "stream": "stdout",
       "text": [
        "\r",
        "41% [===============>                       ] 1,196,272   3.98KB/s  eta 2m 52s "
       ]
      },
      {
       "output_type": "stream",
       "stream": "stdout",
       "text": [
        "\r",
        "41% [===============>                       ] 1,202,064   4.06KB/s  eta 2m 52s "
       ]
      },
      {
       "output_type": "stream",
       "stream": "stdout",
       "text": [
        "\r",
        "41% [===============>                       ] 1,207,856   4.17KB/s  eta 2m 47s "
       ]
      },
      {
       "output_type": "stream",
       "stream": "stdout",
       "text": [
        "\r",
        "41% [===============>                       ] 1,213,648   4.35KB/s  eta 2m 47s "
       ]
      },
      {
       "output_type": "stream",
       "stream": "stdout",
       "text": [
        "\r",
        "42% [===============>                       ] 1,220,888   4.60KB/s  eta 2m 47s "
       ]
      },
      {
       "output_type": "stream",
       "stream": "stdout",
       "text": [
        "\r",
        "42% [===============>                       ] 1,229,576   4.92KB/s  eta 2m 47s "
       ]
      },
      {
       "output_type": "stream",
       "stream": "stdout",
       "text": [
        "\r",
        "42% [===============>                       ] 1,239,712   6.82KB/s  eta 2m 47s "
       ]
      },
      {
       "output_type": "stream",
       "stream": "stdout",
       "text": [
        "\r",
        "42% [===============>                       ] 1,245,504   7.19KB/s  eta 2m 40s "
       ]
      },
      {
       "output_type": "stream",
       "stream": "stdout",
       "text": [
        "\r",
        "43% [===============>                       ] 1,254,192   7.77KB/s  eta 2m 40s "
       ]
      },
      {
       "output_type": "stream",
       "stream": "stdout",
       "text": [
        "\r",
        "43% [===============>                       ] 1,259,984   8.33KB/s  eta 2m 40s "
       ]
      },
      {
       "output_type": "stream",
       "stream": "stdout",
       "text": [
        "\r",
        "43% [===============>                       ] 1,265,776   11.2KB/s  eta 2m 40s "
       ]
      },
      {
       "output_type": "stream",
       "stream": "stdout",
       "text": [
        "\r",
        "43% [================>                      ] 1,270,120   12.5KB/s  eta 2m 36s "
       ]
      },
      {
       "output_type": "stream",
       "stream": "stdout",
       "text": [
        "\r",
        "44% [================>                      ] 1,281,208   13.5KB/s  eta 2m 36s "
       ]
      },
      {
       "output_type": "stream",
       "stream": "stdout",
       "text": [
        "\r",
        "44% [================>                      ] 1,291,840   16.1KB/s  eta 2m 36s "
       ]
      },
      {
       "output_type": "stream",
       "stream": "stdout",
       "text": [
        "\r",
        "44% [================>                      ] 1,296,184   16.3KB/s  eta 2m 36s "
       ]
      },
      {
       "output_type": "stream",
       "stream": "stdout",
       "text": [
        "\r",
        "44% [================>                      ] 1,303,424   16.9KB/s  eta 2m 36s "
       ]
      },
      {
       "output_type": "stream",
       "stream": "stdout",
       "text": [
        "\r",
        "45% [================>                      ] 1,310,664   17.5KB/s  eta 2m 29s "
       ]
      },
      {
       "output_type": "stream",
       "stream": "stdout",
       "text": [
        "\r",
        "45% [================>                      ] 1,319,352   27.6KB/s  eta 2m 29s "
       ]
      },
      {
       "output_type": "stream",
       "stream": "stdout",
       "text": [
        "\r",
        "45% [================>                      ] 1,326,592   27.8KB/s  eta 2m 29s "
       ]
      },
      {
       "output_type": "stream",
       "stream": "stdout",
       "text": [
        "\r",
        "46% [================>                      ] 1,336,728   28.2KB/s  eta 2m 29s "
       ]
      },
      {
       "output_type": "stream",
       "stream": "stdout",
       "text": [
        "\r",
        "46% [=================>                     ] 1,348,312   29.3KB/s  eta 2m 23s "
       ]
      },
      {
       "output_type": "stream",
       "stream": "stdout",
       "text": [
        "\r",
        "46% [=================>                     ] 1,348,312   24.5KB/s  eta 2m 23s "
       ]
      },
      {
       "output_type": "stream",
       "stream": "stdout",
       "text": [
        "\r",
        "46% [=================>                     ] 1,356,504   23.9KB/s  eta 2m 23s "
       ]
      },
      {
       "output_type": "stream",
       "stream": "stdout",
       "text": [
        "\r",
        "46% [=================>                     ] 1,361,344   23.2KB/s  eta 2m 23s "
       ]
      },
      {
       "output_type": "stream",
       "stream": "stdout",
       "text": [
        "\r",
        "46% [=================>                     ] 1,364,240   20.4KB/s  eta 2m 23s "
       ]
      },
      {
       "output_type": "stream",
       "stream": "stdout",
       "text": [
        "\r",
        "47% [=================>                     ] 1,365,688   18.7KB/s  eta 2m 23s "
       ]
      },
      {
       "output_type": "stream",
       "stream": "stdout",
       "text": [
        "\r",
        "47% [=================>                     ] 1,370,032   18.0KB/s  eta 2m 23s "
       ]
      },
      {
       "output_type": "stream",
       "stream": "stdout",
       "text": [
        "\r",
        "47% [=================>                     ] 1,374,376   16.5KB/s  eta 2m 23s "
       ]
      },
      {
       "output_type": "stream",
       "stream": "stdout",
       "text": [
        "\r",
        "47% [=================>                     ] 1,385,960   16.7KB/s  eta 2m 21s "
       ]
      },
      {
       "output_type": "stream",
       "stream": "stdout",
       "text": [
        "\r",
        "47% [=================>                     ] 1,388,856   15.3KB/s  eta 2m 21s "
       ]
      },
      {
       "output_type": "stream",
       "stream": "stdout",
       "text": [
        "\r",
        "47% [=================>                     ] 1,391,752   13.9KB/s  eta 2m 21s "
       ]
      },
      {
       "output_type": "stream",
       "stream": "stdout",
       "text": [
        "\r",
        "47% [=================>                     ] 1,394,648   12.9KB/s  eta 2m 21s "
       ]
      },
      {
       "output_type": "stream",
       "stream": "stdout",
       "text": [
        "\r",
        "48% [=================>                     ] 1,400,440   12.2KB/s  eta 2m 21s "
       ]
      },
      {
       "output_type": "stream",
       "stream": "stdout",
       "text": [
        "\r",
        "48% [=================>                     ] 1,406,232   12.3KB/s  eta 2m 21s "
       ]
      },
      {
       "output_type": "stream",
       "stream": "stdout",
       "text": [
        "\r",
        "48% [=================>                     ] 1,410,576   11.7KB/s  eta 2m 21s "
       ]
      },
      {
       "output_type": "stream",
       "stream": "stdout",
       "text": [
        "\r",
        "48% [=================>                     ] 1,410,576   10.8KB/s  eta 2m 21s "
       ]
      },
      {
       "output_type": "stream",
       "stream": "stdout",
       "text": [
        "\r",
        "48% [=================>                     ] 1,410,576   10.1KB/s  eta 2m 23s "
       ]
      },
      {
       "output_type": "stream",
       "stream": "stdout",
       "text": [
        "\r",
        "48% [=================>                     ] 1,414,920   9.06KB/s  eta 2m 23s "
       ]
      },
      {
       "output_type": "stream",
       "stream": "stdout",
       "text": [
        "\r",
        "48% [=================>                     ] 1,414,920   8.50KB/s  eta 2m 23s "
       ]
      },
      {
       "output_type": "stream",
       "stream": "stdout",
       "text": [
        "\r",
        "48% [=================>                     ] 1,414,920   8.01KB/s  eta 2m 25s "
       ]
      },
      {
       "output_type": "stream",
       "stream": "stdout",
       "text": [
        "\r",
        "48% [=================>                     ] 1,414,920   7.56KB/s  eta 2m 25s "
       ]
      },
      {
       "output_type": "stream",
       "stream": "stdout",
       "text": [
        "\r",
        "48% [=================>                     ] 1,414,920   7.17KB/s  eta 2m 27s "
       ]
      },
      {
       "output_type": "stream",
       "stream": "stdout",
       "text": [
        "\r",
        "48% [=================>                     ] 1,414,920   --.-K/s  eta 2m 27s  "
       ]
      },
      {
       "output_type": "stream",
       "stream": "stdout",
       "text": [
        "\r",
        "48% [==================>                    ] 1,417,816   2.40KB/s  eta 2m 28s "
       ]
      },
      {
       "output_type": "stream",
       "stream": "stdout",
       "text": [
        "\r",
        "48% [==================>                    ] 1,419,264   1.86KB/s  eta 2m 29s "
       ]
      },
      {
       "output_type": "stream",
       "stream": "stdout",
       "text": [
        "\r",
        "48% [==================>                    ] 1,419,264   1.31KB/s  eta 2m 29s "
       ]
      },
      {
       "output_type": "stream",
       "stream": "stdout",
       "text": [
        "\r",
        "49% [==================>                    ] 1,426,504   2.92KB/s  eta 2m 29s "
       ]
      },
      {
       "output_type": "stream",
       "stream": "stdout",
       "text": [
        "\r",
        "49% [==================>                    ] 1,426,504   2.34KB/s  eta 2m 29s "
       ]
      },
      {
       "output_type": "stream",
       "stream": "stdout",
       "text": [
        "\r",
        "49% [==================>                    ] 1,429,400   2.68KB/s  eta 2m 30s "
       ]
      },
      {
       "output_type": "stream",
       "stream": "stdout",
       "text": [
        "\r",
        "49% [==================>                    ] 1,430,848   2.50KB/s  eta 2m 30s "
       ]
      },
      {
       "output_type": "stream",
       "stream": "stdout",
       "text": [
        "\r",
        "49% [==================>                    ] 1,430,848   2.17KB/s  eta 2m 32s "
       ]
      },
      {
       "output_type": "stream",
       "stream": "stdout",
       "text": [
        "\r",
        "49% [==================>                    ] 1,430,848   1.91KB/s  eta 2m 32s "
       ]
      },
      {
       "output_type": "stream",
       "stream": "stdout",
       "text": [
        "\r",
        "49% [==================>                    ] 1,430,848   1.71KB/s  eta 2m 34s "
       ]
      },
      {
       "output_type": "stream",
       "stream": "stdout",
       "text": [
        "\r",
        "49% [==================>                    ] 1,430,848   1.55KB/s  eta 2m 34s "
       ]
      },
      {
       "output_type": "stream",
       "stream": "stdout",
       "text": [
        "\r",
        "49% [==================>                    ] 1,430,848   --.-K/s  eta 2m 36s  "
       ]
      },
      {
       "output_type": "stream",
       "stream": "stdout",
       "text": [
        "\r",
        "49% [==================>                    ] 1,430,848   --.-K/s  eta 2m 36s  "
       ]
      },
      {
       "output_type": "stream",
       "stream": "stdout",
       "text": [
        "\r",
        "49% [==================>                    ] 1,430,848   --.-K/s  eta 2m 37s  "
       ]
      },
      {
       "output_type": "stream",
       "stream": "stdout",
       "text": [
        "\r",
        "49% [==================>                    ] 1,430,848   --.-K/s  eta 2m 37s  "
       ]
      },
      {
       "output_type": "stream",
       "stream": "stdout",
       "text": [
        "\r",
        "49% [==================>                    ] 1,430,848   --.-K/s  eta 2m 39s  "
       ]
      },
      {
       "output_type": "stream",
       "stream": "stdout",
       "text": [
        "\r",
        "49% [==================>                    ] 1,432,296   1.41KB/s  eta 2m 39s "
       ]
      },
      {
       "output_type": "stream",
       "stream": "stdout",
       "text": [
        "\r",
        "49% [==================>                    ] 1,436,640   4.53KB/s  eta 2m 39s "
       ]
      },
      {
       "output_type": "stream",
       "stream": "stdout",
       "text": [
        "\r",
        "49% [==================>                    ] 1,440,984   6.67KB/s  eta 2m 39s "
       ]
      },
      {
       "output_type": "stream",
       "stream": "stdout",
       "text": [
        "\r",
        "49% [==================>                    ] 1,443,880   7.04KB/s  eta 2m 38s "
       ]
      },
      {
       "output_type": "stream",
       "stream": "stdout",
       "text": [
        "\r",
        "49% [==================>                    ] 1,449,672   9.04KB/s  eta 2m 38s "
       ]
      },
      {
       "output_type": "stream",
       "stream": "stdout",
       "text": [
        "\r",
        "50% [==================>                    ] 1,455,464   10.2KB/s  eta 2m 38s "
       ]
      },
      {
       "output_type": "stream",
       "stream": "stdout",
       "text": [
        "\r",
        "50% [==================>                    ] 1,461,256   11.5KB/s  eta 2m 38s "
       ]
      },
      {
       "output_type": "stream",
       "stream": "stdout",
       "text": [
        "\r",
        "50% [==================>                    ] 1,468,496   12.9KB/s  eta 2m 34s "
       ]
      },
      {
       "output_type": "stream",
       "stream": "stdout",
       "text": [
        "\r",
        "50% [==================>                    ] 1,477,184   14.8KB/s  eta 2m 34s "
       ]
      },
      {
       "output_type": "stream",
       "stream": "stdout",
       "text": [
        "\r",
        "51% [==================>                    ] 1,485,872   16.4KB/s  eta 2m 34s "
       ]
      },
      {
       "output_type": "stream",
       "stream": "stdout",
       "text": [
        "\r",
        "51% [===================>                   ] 1,491,664   16.9KB/s  eta 2m 34s "
       ]
      },
      {
       "output_type": "stream",
       "stream": "stdout",
       "text": [
        "\r",
        "51% [===================>                   ] 1,508,544   18.9KB/s  eta 2m 26s "
       ]
      },
      {
       "output_type": "stream",
       "stream": "stdout",
       "text": [
        "\r",
        "52% [===================>                   ] 1,520,624   20.7KB/s  eta 2m 26s "
       ]
      },
      {
       "output_type": "stream",
       "stream": "stdout",
       "text": [
        "\r",
        "52% [===================>                   ] 1,526,416   20.8KB/s  eta 2m 26s "
       ]
      },
      {
       "output_type": "stream",
       "stream": "stdout",
       "text": [
        "\r",
        "52% [===================>                   ] 1,537,504   21.2KB/s  eta 2m 26s "
       ]
      },
      {
       "output_type": "stream",
       "stream": "stdout",
       "text": [
        "\r",
        "53% [===================>                   ] 1,542,344   21.2KB/s  eta 2m 21s "
       ]
      },
      {
       "output_type": "stream",
       "stream": "stdout",
       "text": [
        "\r",
        "53% [===================>                   ] 1,549,584   19.5KB/s  eta 2m 21s "
       ]
      },
      {
       "output_type": "stream",
       "stream": "stdout",
       "text": [
        "\r",
        "53% [===================>                   ] 1,551,032   22.1KB/s  eta 2m 20s "
       ]
      },
      {
       "output_type": "stream",
       "stream": "stdout",
       "text": [
        "\r",
        "53% [===================>                   ] 1,552,480   19.6KB/s  eta 2m 20s "
       ]
      },
      {
       "output_type": "stream",
       "stream": "stdout",
       "text": [
        "\r",
        "53% [===================>                   ] 1,555,376   19.4KB/s  eta 2m 20s "
       ]
      },
      {
       "output_type": "stream",
       "stream": "stdout",
       "text": [
        "\r",
        "53% [===================>                   ] 1,564,064   19.2KB/s  eta 2m 19s "
       ]
      },
      {
       "output_type": "stream",
       "stream": "stdout",
       "text": [
        "\r",
        "53% [====================>                  ] 1,565,512   18.5KB/s  eta 2m 19s "
       ]
      },
      {
       "output_type": "stream",
       "stream": "stdout",
       "text": [
        "\r",
        "53% [====================>                  ] 1,566,960   17.1KB/s  eta 2m 19s "
       ]
      },
      {
       "output_type": "stream",
       "stream": "stdout",
       "text": [
        "\r",
        "54% [====================>                  ] 1,569,856   16.8KB/s  eta 2m 19s "
       ]
      },
      {
       "output_type": "stream",
       "stream": "stdout",
       "text": [
        "\r",
        "54% [====================>                  ] 1,577,096   15.9KB/s  eta 2m 19s "
       ]
      },
      {
       "output_type": "stream",
       "stream": "stdout",
       "text": [
        "\r",
        "54% [====================>                  ] 1,578,544   15.2KB/s  eta 2m 19s "
       ]
      },
      {
       "output_type": "stream",
       "stream": "stdout",
       "text": [
        "\r",
        "54% [====================>                  ] 1,579,992   13.9KB/s  eta 2m 18s "
       ]
      },
      {
       "output_type": "stream",
       "stream": "stdout",
       "text": [
        "\r",
        "54% [====================>                  ] 1,582,888   13.2KB/s  eta 2m 18s "
       ]
      },
      {
       "output_type": "stream",
       "stream": "stdout",
       "text": [
        "\r",
        "54% [====================>                  ] 1,593,024   12.8KB/s  eta 2m 18s "
       ]
      },
      {
       "output_type": "stream",
       "stream": "stdout",
       "text": [
        "\r",
        "54% [====================>                  ] 1,594,472   11.9KB/s  eta 2m 16s "
       ]
      },
      {
       "output_type": "stream",
       "stream": "stdout",
       "text": [
        "\r",
        "54% [====================>                  ] 1,595,920   11.1KB/s  eta 2m 16s "
       ]
      },
      {
       "output_type": "stream",
       "stream": "stdout",
       "text": [
        "\r",
        "55% [====================>                  ] 1,598,816   10.3KB/s  eta 2m 16s "
       ]
      },
      {
       "output_type": "stream",
       "stream": "stdout",
       "text": [
        "\r",
        "55% [====================>                  ] 1,603,160   10.3KB/s  eta 2m 16s "
       ]
      },
      {
       "output_type": "stream",
       "stream": "stdout",
       "text": [
        "\r",
        "55% [====================>                  ] 1,607,504   9.46KB/s  eta 2m 15s "
       ]
      },
      {
       "output_type": "stream",
       "stream": "stdout",
       "text": [
        "\r",
        "55% [====================>                  ] 1,613,296   9.25KB/s  eta 2m 15s "
       ]
      },
      {
       "output_type": "stream",
       "stream": "stdout",
       "text": [
        "\r",
        "55% [====================>                  ] 1,619,088   9.51KB/s  eta 2m 15s "
       ]
      },
      {
       "output_type": "stream",
       "stream": "stdout",
       "text": [
        "\r",
        "55% [====================>                  ] 1,624,880   9.96KB/s  eta 2m 15s "
       ]
      },
      {
       "output_type": "stream",
       "stream": "stdout",
       "text": [
        "\r",
        "56% [====================>                  ] 1,632,120   10.9KB/s  eta 2m 15s "
       ]
      },
      {
       "output_type": "stream",
       "stream": "stdout",
       "text": [
        "\r",
        "56% [=====================>                 ] 1,644,656   12.9KB/s  eta 2m 9s  "
       ]
      },
      {
       "output_type": "stream",
       "stream": "stdout",
       "text": [
        "\r",
        "56% [=====================>                 ] 1,650,944   13.4KB/s  eta 2m 9s  "
       ]
      },
      {
       "output_type": "stream",
       "stream": "stdout",
       "text": [
        "\r",
        "57% [=====================>                 ] 1,656,736   13.9KB/s  eta 2m 9s  "
       ]
      },
      {
       "output_type": "stream",
       "stream": "stdout",
       "text": [
        "\r",
        "57% [=====================>                 ] 1,661,080   14.4KB/s  eta 2m 9s  "
       ]
      },
      {
       "output_type": "stream",
       "stream": "stdout",
       "text": [
        "\r",
        "57% [=====================>                 ] 1,666,872   15.1KB/s  eta 2m 6s  "
       ]
      },
      {
       "output_type": "stream",
       "stream": "stdout",
       "text": [
        "\r",
        "57% [=====================>                 ] 1,676,512   15.2KB/s  eta 2m 6s  "
       ]
      },
      {
       "output_type": "stream",
       "stream": "stdout",
       "text": [
        "\r",
        "57% [=====================>                 ] 1,679,904   15.0KB/s  eta 2m 4s  "
       ]
      },
      {
       "output_type": "stream",
       "stream": "stdout",
       "text": [
        "\r",
        "58% [=====================>                 ] 1,685,696   15.2KB/s  eta 2m 4s  "
       ]
      },
      {
       "output_type": "stream",
       "stream": "stdout",
       "text": [
        "\r",
        "58% [=====================>                 ] 1,688,592   15.8KB/s  eta 2m 4s  "
       ]
      },
      {
       "output_type": "stream",
       "stream": "stdout",
       "text": [
        "\r",
        "58% [=====================>                 ] 1,694,384   16.0KB/s  eta 2m 4s  "
       ]
      },
      {
       "output_type": "stream",
       "stream": "stdout",
       "text": [
        "\r",
        "58% [=====================>                 ] 1,698,728   16.4KB/s  eta 2m 2s  "
       ]
      },
      {
       "output_type": "stream",
       "stream": "stdout",
       "text": [
        "\r",
        "58% [=====================>                 ] 1,706,920   17.0KB/s  eta 2m 2s  "
       ]
      },
      {
       "output_type": "stream",
       "stream": "stdout",
       "text": [
        "\r",
        "58% [=====================>                 ] 1,710,312   17.3KB/s  eta 2m 2s  "
       ]
      },
      {
       "output_type": "stream",
       "stream": "stdout",
       "text": [
        "\r",
        "59% [======================>                ] 1,717,552   16.5KB/s  eta 2m 0s  "
       ]
      },
      {
       "output_type": "stream",
       "stream": "stdout",
       "text": [
        "\r",
        "59% [======================>                ] 1,719,000   16.1KB/s  eta 2m 0s  "
       ]
      },
      {
       "output_type": "stream",
       "stream": "stdout",
       "text": [
        "\r",
        "59% [======================>                ] 1,720,448   16.6KB/s  eta 2m 0s  "
       ]
      },
      {
       "output_type": "stream",
       "stream": "stdout",
       "text": [
        "\r",
        "59% [======================>                ] 1,723,344   16.2KB/s  eta 2m 0s  "
       ]
      },
      {
       "output_type": "stream",
       "stream": "stdout",
       "text": [
        "\r",
        "59% [======================>                ] 1,727,688   16.0KB/s  eta 2m 0s  "
       ]
      },
      {
       "output_type": "stream",
       "stream": "stdout",
       "text": [
        "\r",
        "59% [======================>                ] 1,732,032   15.6KB/s  eta 1m 58s "
       ]
      },
      {
       "output_type": "stream",
       "stream": "stdout",
       "text": [
        "\r",
        "59% [======================>                ] 1,736,376   15.2KB/s  eta 1m 58s "
       ]
      },
      {
       "output_type": "stream",
       "stream": "stdout",
       "text": [
        "\r",
        "60% [======================>                ] 1,744,568   14.5KB/s  eta 1m 58s "
       ]
      },
      {
       "output_type": "stream",
       "stream": "stdout",
       "text": [
        "\r",
        "60% [======================>                ] 1,747,960   14.0KB/s  eta 1m 58s "
       ]
      },
      {
       "output_type": "stream",
       "stream": "stdout",
       "text": [
        "\r",
        "60% [======================>                ] 1,752,304   13.9KB/s  eta 1m 55s "
       ]
      },
      {
       "output_type": "stream",
       "stream": "stdout",
       "text": [
        "\r",
        "60% [======================>                ] 1,756,648   13.7KB/s  eta 1m 55s "
       ]
      },
      {
       "output_type": "stream",
       "stream": "stdout",
       "text": [
        "\r",
        "60% [======================>                ] 1,763,888   14.1KB/s  eta 1m 55s "
       ]
      },
      {
       "output_type": "stream",
       "stream": "stdout",
       "text": [
        "\r",
        "60% [======================>                ] 1,768,232   14.2KB/s  eta 1m 55s "
       ]
      },
      {
       "output_type": "stream",
       "stream": "stdout",
       "text": [
        "\r",
        "61% [======================>                ] 1,782,216   15.8KB/s  eta 1m 51s "
       ]
      },
      {
       "output_type": "stream",
       "stream": "stdout",
       "text": [
        "\r",
        "61% [=======================>               ] 1,789,952   15.0KB/s  eta 1m 51s "
       ]
      },
      {
       "output_type": "stream",
       "stream": "stdout",
       "text": [
        "\r",
        "61% [=======================>               ] 1,798,640   14.5KB/s  eta 1m 50s "
       ]
      },
      {
       "output_type": "stream",
       "stream": "stdout",
       "text": [
        "\r",
        "61% [=======================>               ] 1,800,088   14.1KB/s  eta 1m 50s "
       ]
      },
      {
       "output_type": "stream",
       "stream": "stdout",
       "text": [
        "\r",
        "62% [=======================>               ] 1,801,536   13.2KB/s  eta 1m 50s "
       ]
      },
      {
       "output_type": "stream",
       "stream": "stdout",
       "text": [
        "\r",
        "62% [=======================>               ] 1,804,432   12.8KB/s  eta 1m 50s "
       ]
      },
      {
       "output_type": "stream",
       "stream": "stdout",
       "text": [
        "\r",
        "62% [=======================>               ] 1,808,776   12.9KB/s  eta 1m 49s "
       ]
      },
      {
       "output_type": "stream",
       "stream": "stdout",
       "text": [
        "\r",
        "62% [=======================>               ] 1,813,120   13.3KB/s  eta 1m 49s "
       ]
      },
      {
       "output_type": "stream",
       "stream": "stdout",
       "text": [
        "\r",
        "62% [=======================>               ] 1,818,912   13.9KB/s  eta 1m 49s "
       ]
      },
      {
       "output_type": "stream",
       "stream": "stdout",
       "text": [
        "\r",
        "63% [=======================>               ] 1,831,448   14.7KB/s  eta 1m 46s "
       ]
      },
      {
       "output_type": "stream",
       "stream": "stdout",
       "text": [
        "\r",
        "63% [=======================>               ] 1,834,840   14.7KB/s  eta 1m 46s "
       ]
      },
      {
       "output_type": "stream",
       "stream": "stdout",
       "text": [
        "\r",
        "63% [=======================>               ] 1,842,080   14.2KB/s  eta 1m 46s "
       ]
      },
      {
       "output_type": "stream",
       "stream": "stdout",
       "text": [
        "\r",
        "63% [=======================>               ] 1,843,528   13.7KB/s  eta 1m 45s "
       ]
      },
      {
       "output_type": "stream",
       "stream": "stdout",
       "text": [
        "\r",
        "63% [=======================>               ] 1,844,976   12.5KB/s  eta 1m 45s "
       ]
      },
      {
       "output_type": "stream",
       "stream": "stdout",
       "text": [
        "\r",
        "63% [=======================>               ] 1,849,320   12.0KB/s  eta 1m 45s "
       ]
      },
      {
       "output_type": "stream",
       "stream": "stdout",
       "text": [
        "\r",
        "63% [=======================>               ] 1,853,664   12.1KB/s  eta 1m 45s "
       ]
      },
      {
       "output_type": "stream",
       "stream": "stdout",
       "text": [
        "\r",
        "63% [=======================>               ] 1,858,008   12.3KB/s  eta 1m 45s "
       ]
      },
      {
       "output_type": "stream",
       "stream": "stdout",
       "text": [
        "\r",
        "64% [========================>              ] 1,863,800   12.1KB/s  eta 1m 45s "
       ]
      },
      {
       "output_type": "stream",
       "stream": "stdout",
       "text": [
        "\r",
        "64% [========================>              ] 1,869,592   11.8KB/s  eta 1m 42s "
       ]
      },
      {
       "output_type": "stream",
       "stream": "stdout",
       "text": [
        "\r",
        "64% [========================>              ] 1,875,384   11.8KB/s  eta 1m 42s "
       ]
      },
      {
       "output_type": "stream",
       "stream": "stdout",
       "text": [
        "\r",
        "64% [========================>              ] 1,886,472   11.1KB/s  eta 1m 40s "
       ]
      },
      {
       "output_type": "stream",
       "stream": "stdout",
       "text": [
        "\r",
        "65% [========================>              ] 1,889,864   10.4KB/s  eta 1m 40s "
       ]
      },
      {
       "output_type": "stream",
       "stream": "stdout",
       "text": [
        "\r",
        "65% [========================>              ] 1,889,864   9.50KB/s  eta 1m 41s "
       ]
      },
      {
       "output_type": "stream",
       "stream": "stdout",
       "text": [
        "\r",
        "65% [========================>              ] 1,891,312   9.04KB/s  eta 1m 41s "
       ]
      },
      {
       "output_type": "stream",
       "stream": "stdout",
       "text": [
        "\r",
        "65% [========================>              ] 1,895,656   8.86KB/s  eta 1m 41s "
       ]
      },
      {
       "output_type": "stream",
       "stream": "stdout",
       "text": [
        "\r",
        "65% [========================>              ] 1,901,448   9.22KB/s  eta 1m 41s "
       ]
      },
      {
       "output_type": "stream",
       "stream": "stdout",
       "text": [
        "\r",
        "65% [========================>              ] 1,905,792   9.18KB/s  eta 1m 40s "
       ]
      },
      {
       "output_type": "stream",
       "stream": "stdout",
       "text": [
        "\r",
        "65% [========================>              ] 1,913,032   9.43KB/s  eta 1m 40s "
       ]
      },
      {
       "output_type": "stream",
       "stream": "stdout",
       "text": [
        "\r",
        "66% [========================>              ] 1,920,272   9.42KB/s  eta 1m 40s "
       ]
      },
      {
       "output_type": "stream",
       "stream": "stdout",
       "text": [
        "\r",
        "66% [========================>              ] 1,928,960   9.69KB/s  eta 97s    "
       ]
      },
      {
       "output_type": "stream",
       "stream": "stdout",
       "text": [
        "\r",
        "66% [=========================>             ] 1,937,648   9.89KB/s  eta 97s    "
       ]
      },
      {
       "output_type": "stream",
       "stream": "stdout",
       "text": [
        "\r",
        "67% [=========================>             ] 1,947,784   9.90KB/s  eta 97s    "
       ]
      },
      {
       "output_type": "stream",
       "stream": "stdout",
       "text": [
        "\r",
        "67% [=========================>             ] 1,957,920   10.5KB/s  eta 97s    "
       ]
      },
      {
       "output_type": "stream",
       "stream": "stdout",
       "text": [
        "\r",
        "67% [=========================>             ] 1,968,056   11.2KB/s  eta 92s    "
       ]
      },
      {
       "output_type": "stream",
       "stream": "stdout",
       "text": [
        "\r",
        "68% [=========================>             ] 1,976,744   11.9KB/s  eta 92s    "
       ]
      },
      {
       "output_type": "stream",
       "stream": "stdout",
       "text": [
        "\r",
        "68% [=========================>             ] 1,981,088   12.5KB/s  eta 92s    "
       ]
      },
      {
       "output_type": "stream",
       "stream": "stdout",
       "text": [
        "\r",
        "68% [=========================>             ] 1,992,672   13.2KB/s  eta 89s    "
       ]
      },
      {
       "output_type": "stream",
       "stream": "stdout",
       "text": [
        "\r",
        "69% [=========================>             ] 2,005,704   13.7KB/s  eta 89s    "
       ]
      },
      {
       "output_type": "stream",
       "stream": "stdout",
       "text": [
        "\r",
        "69% [==========================>            ] 2,020,184   14.0KB/s  eta 86s    "
       ]
      },
      {
       "output_type": "stream",
       "stream": "stdout",
       "text": [
        "\r",
        "70% [==========================>            ] 2,036,112   15.2KB/s  eta 86s    "
       ]
      },
      {
       "output_type": "stream",
       "stream": "stdout",
       "text": [
        "\r",
        "70% [==========================>            ] 2,052,040   16.3KB/s  eta 86s    "
       ]
      },
      {
       "output_type": "stream",
       "stream": "stdout",
       "text": [
        "\r",
        "71% [==========================>            ] 2,067,968   16.2KB/s  eta 80s    "
       ]
      },
      {
       "output_type": "stream",
       "stream": "stdout",
       "text": [
        "\r",
        "72% [===========================>           ] 2,095,480   18.3KB/s  eta 80s    "
       ]
      },
      {
       "output_type": "stream",
       "stream": "stdout",
       "text": [
        "\r",
        "72% [===========================>           ] 2,105,120   23.9KB/s  eta 80s    "
       ]
      },
      {
       "output_type": "stream",
       "stream": "stdout",
       "text": [
        "\r",
        "72% [===========================>           ] 2,111,408   24.9KB/s  eta 80s    "
       ]
      },
      {
       "output_type": "stream",
       "stream": "stdout",
       "text": [
        "\r",
        "72% [===========================>           ] 2,115,752   24.6KB/s  eta 74s    "
       ]
      },
      {
       "output_type": "stream",
       "stream": "stdout",
       "text": [
        "\r",
        "73% [===========================>           ] 2,121,544   24.5KB/s  eta 74s    "
       ]
      },
      {
       "output_type": "stream",
       "stream": "stdout",
       "text": [
        "\r",
        "73% [===========================>           ] 2,127,336   24.2KB/s  eta 73s    "
       ]
      },
      {
       "output_type": "stream",
       "stream": "stdout",
       "text": [
        "\r",
        "73% [===========================>           ] 2,133,128   25.0KB/s  eta 73s    "
       ]
      },
      {
       "output_type": "stream",
       "stream": "stdout",
       "text": [
        "\r",
        "73% [===========================>           ] 2,138,920   24.8KB/s  eta 73s    "
       ]
      },
      {
       "output_type": "stream",
       "stream": "stdout",
       "text": [
        "\r",
        "73% [===========================>           ] 2,146,160   23.9KB/s  eta 71s    "
       ]
      },
      {
       "output_type": "stream",
       "stream": "stdout",
       "text": [
        "\r",
        "74% [===========================>           ] 2,150,504   22.0KB/s  eta 71s    "
       ]
      },
      {
       "output_type": "stream",
       "stream": "stdout",
       "text": [
        "\r",
        "74% [===========================>           ] 2,151,952   20.6KB/s  eta 71s    "
       ]
      },
      {
       "output_type": "stream",
       "stream": "stdout",
       "text": [
        "\r",
        "74% [===========================>           ] 2,157,744   20.3KB/s  eta 71s    "
       ]
      },
      {
       "output_type": "stream",
       "stream": "stdout",
       "text": [
        "\r",
        "74% [============================>          ] 2,164,984   19.9KB/s  eta 71s    "
       ]
      },
      {
       "output_type": "stream",
       "stream": "stdout",
       "text": [
        "\r",
        "74% [============================>          ] 2,170,776   20.2KB/s  eta 71s    "
       ]
      },
      {
       "output_type": "stream",
       "stream": "stdout",
       "text": [
        "\r",
        "75% [============================>          ] 2,184,760   20.5KB/s  eta 67s    "
       ]
      },
      {
       "output_type": "stream",
       "stream": "stdout",
       "text": [
        "\r",
        "75% [============================>          ] 2,189,600   20.1KB/s  eta 67s    "
       ]
      },
      {
       "output_type": "stream",
       "stream": "stdout",
       "text": [
        "\r",
        "75% [============================>          ] 2,193,944   20.1KB/s  eta 67s    "
       ]
      },
      {
       "output_type": "stream",
       "stream": "stdout",
       "text": [
        "\r",
        "75% [============================>          ] 2,198,288   18.5KB/s  eta 66s    "
       ]
      },
      {
       "output_type": "stream",
       "stream": "stdout",
       "text": [
        "\r",
        "75% [============================>          ] 2,199,736   16.9KB/s  eta 66s    "
       ]
      },
      {
       "output_type": "stream",
       "stream": "stdout",
       "text": [
        "\r",
        "75% [============================>          ] 2,206,976   15.4KB/s  eta 66s    "
       ]
      },
      {
       "output_type": "stream",
       "stream": "stdout",
       "text": [
        "\r",
        "76% [============================>          ] 2,214,216   14.6KB/s  eta 64s    "
       ]
      },
      {
       "output_type": "stream",
       "stream": "stdout",
       "text": [
        "\r",
        "76% [============================>          ] 2,221,456   13.9KB/s  eta 64s    "
       ]
      },
      {
       "output_type": "stream",
       "stream": "stdout",
       "text": [
        "\r",
        "76% [============================>          ] 2,222,904   12.0KB/s  eta 64s    "
       ]
      },
      {
       "output_type": "stream",
       "stream": "stdout",
       "text": [
        "\r",
        "76% [============================>          ] 2,228,696   11.5KB/s  eta 64s    "
       ]
      },
      {
       "output_type": "stream",
       "stream": "stdout",
       "text": [
        "\r",
        "76% [============================>          ] 2,230,144   10.4KB/s  eta 63s    "
       ]
      },
      {
       "output_type": "stream",
       "stream": "stdout",
       "text": [
        "\r",
        "76% [=============================>         ] 2,235,936   10.1KB/s  eta 63s    "
       ]
      },
      {
       "output_type": "stream",
       "stream": "stdout",
       "text": [
        "\r",
        "77% [=============================>         ] 2,244,624   10.2KB/s  eta 62s    "
       ]
      },
      {
       "output_type": "stream",
       "stream": "stdout",
       "text": [
        "\r",
        "77% [=============================>         ] 2,247,520   9.59KB/s  eta 62s    "
       ]
      },
      {
       "output_type": "stream",
       "stream": "stdout",
       "text": [
        "\r",
        "77% [=============================>         ] 2,247,520   8.95KB/s  eta 62s    "
       ]
      },
      {
       "output_type": "stream",
       "stream": "stdout",
       "text": [
        "\r",
        "77% [=============================>         ] 2,247,520   8.40KB/s  eta 62s    "
       ]
      },
      {
       "output_type": "stream",
       "stream": "stdout",
       "text": [
        "\r",
        "77% [=============================>         ] 2,247,520   7.91KB/s  eta 62s    "
       ]
      },
      {
       "output_type": "stream",
       "stream": "stdout",
       "text": [
        "\r",
        "77% [=============================>         ] 2,259,104   8.19KB/s  eta 62s    "
       ]
      },
      {
       "output_type": "stream",
       "stream": "stdout",
       "text": [
        "\r",
        "77% [=============================>         ] 2,260,552   8.00KB/s  eta 62s    "
       ]
      },
      {
       "output_type": "stream",
       "stream": "stdout",
       "text": [
        "\r",
        "77% [=============================>         ] 2,264,896   7.85KB/s  eta 62s    "
       ]
      },
      {
       "output_type": "stream",
       "stream": "stdout",
       "text": [
        "\r",
        "78% [=============================>         ] 2,269,240   7.65KB/s  eta 61s    "
       ]
      },
      {
       "output_type": "stream",
       "stream": "stdout",
       "text": [
        "\r",
        "78% [=============================>         ] 2,270,688   7.46KB/s  eta 61s    "
       ]
      },
      {
       "output_type": "stream",
       "stream": "stdout",
       "text": [
        "\r",
        "78% [=============================>         ] 2,273,584   7.22KB/s  eta 61s    "
       ]
      },
      {
       "output_type": "stream",
       "stream": "stdout",
       "text": [
        "\r",
        "78% [=============================>         ] 2,276,480   7.10KB/s  eta 61s    "
       ]
      },
      {
       "output_type": "stream",
       "stream": "stdout",
       "text": [
        "\r",
        "78% [=============================>         ] 2,280,824   6.95KB/s  eta 60s    "
       ]
      },
      {
       "output_type": "stream",
       "stream": "stdout",
       "text": [
        "\r",
        "78% [=============================>         ] 2,280,824   6.62KB/s  eta 60s    "
       ]
      },
      {
       "output_type": "stream",
       "stream": "stdout",
       "text": [
        "\r",
        "78% [=============================>         ] 2,282,272   6.80KB/s  eta 60s    "
       ]
      },
      {
       "output_type": "stream",
       "stream": "stdout",
       "text": [
        "\r",
        "78% [=============================>         ] 2,289,512   6.77KB/s  eta 60s    "
       ]
      },
      {
       "output_type": "stream",
       "stream": "stdout",
       "text": [
        "\r",
        "78% [=============================>         ] 2,295,304   6.73KB/s  eta 59s    "
       ]
      },
      {
       "output_type": "stream",
       "stream": "stdout",
       "text": [
        "\r",
        "79% [=============================>         ] 2,296,752   6.46KB/s  eta 59s    "
       ]
      },
      {
       "output_type": "stream",
       "stream": "stdout",
       "text": [
        "\r",
        "79% [=============================>         ] 2,303,992   6.48KB/s  eta 58s    "
       ]
      },
      {
       "output_type": "stream",
       "stream": "stdout",
       "text": [
        "\r",
        "79% [=============================>         ] 2,303,992   6.20KB/s  eta 58s    "
       ]
      },
      {
       "output_type": "stream",
       "stream": "stdout",
       "text": [
        "\r",
        "79% [=============================>         ] 2,305,440   6.00KB/s  eta 58s    "
       ]
      },
      {
       "output_type": "stream",
       "stream": "stdout",
       "text": [
        "\r",
        "79% [==============================>        ] 2,311,232   5.98KB/s  eta 58s    "
       ]
      },
      {
       "output_type": "stream",
       "stream": "stdout",
       "text": [
        "\r",
        "79% [==============================>        ] 2,311,232   5.75KB/s  eta 58s    "
       ]
      },
      {
       "output_type": "stream",
       "stream": "stdout",
       "text": [
        "\r",
        "79% [==============================>        ] 2,311,232   5.53KB/s  eta 59s    "
       ]
      },
      {
       "output_type": "stream",
       "stream": "stdout",
       "text": [
        "\r",
        "79% [==============================>        ] 2,311,232   5.33KB/s  eta 59s    "
       ]
      },
      {
       "output_type": "stream",
       "stream": "stdout",
       "text": [
        "\r",
        "79% [==============================>        ] 2,311,232   5.14KB/s  eta 59s    "
       ]
      },
      {
       "output_type": "stream",
       "stream": "stdout",
       "text": [
        "\r",
        "79% [==============================>        ] 2,311,232   --.-K/s  eta 59s     "
       ]
      },
      {
       "output_type": "stream",
       "stream": "stdout",
       "text": [
        "\r",
        "79% [==============================>        ] 2,311,232   --.-K/s  eta 60s     "
       ]
      },
      {
       "output_type": "stream",
       "stream": "stdout",
       "text": [
        "\r",
        "79% [==============================>        ] 2,311,232   --.-K/s  eta 60s     "
       ]
      },
      {
       "output_type": "stream",
       "stream": "stdout",
       "text": [
        "\r",
        "79% [==============================>        ] 2,311,232   --.-K/s  eta 60s     "
       ]
      },
      {
       "output_type": "stream",
       "stream": "stdout",
       "text": [
        "\r",
        "79% [==============================>        ] 2,311,232   --.-K/s  eta 60s     "
       ]
      },
      {
       "output_type": "stream",
       "stream": "stdout",
       "text": [
        "\r",
        "79% [==============================>        ] 2,311,232   --.-K/s  eta 60s     "
       ]
      },
      {
       "output_type": "stream",
       "stream": "stdout",
       "text": [
        "\r",
        "79% [==============================>        ] 2,311,232   --.-K/s  eta 60s     "
       ]
      },
      {
       "output_type": "stream",
       "stream": "stdout",
       "text": [
        "\r",
        "79% [==============================>        ] 2,311,232   --.-K/s  eta 61s     "
       ]
      },
      {
       "output_type": "stream",
       "stream": "stdout",
       "text": [
        "\r",
        "79% [==============================>        ] 2,311,232   --.-K/s  eta 61s     "
       ]
      },
      {
       "output_type": "stream",
       "stream": "stdout",
       "text": [
        "\r",
        "79% [==============================>        ] 2,311,232   --.-K/s  eta 61s     "
       ]
      },
      {
       "output_type": "stream",
       "stream": "stdout",
       "text": [
        "\r",
        "79% [==============================>        ] 2,311,232   --.-K/s  eta 61s     "
       ]
      },
      {
       "output_type": "stream",
       "stream": "stdout",
       "text": [
        "\r",
        "79% [==============================>        ] 2,311,232   --.-K/s  eta 62s     "
       ]
      },
      {
       "output_type": "stream",
       "stream": "stdout",
       "text": [
        "\r",
        "79% [==============================>        ] 2,311,232   --.-K/s  eta 62s     "
       ]
      },
      {
       "output_type": "stream",
       "stream": "stdout",
       "text": [
        "\r",
        "79% [==============================>        ] 2,311,232   --.-K/s  eta 62s     "
       ]
      },
      {
       "output_type": "stream",
       "stream": "stdout",
       "text": [
        "\r",
        "79% [==============================>        ] 2,311,232   --.-K/s  eta 62s     "
       ]
      },
      {
       "output_type": "stream",
       "stream": "stdout",
       "text": [
        "\r",
        "79% [==============================>        ] 2,311,232   --.-K/s  eta 63s     "
       ]
      },
      {
       "output_type": "stream",
       "stream": "stdout",
       "text": [
        "\r",
        "79% [==============================>        ] 2,311,232   --.-K/s  eta 63s     "
       ]
      },
      {
       "output_type": "stream",
       "stream": "stdout",
       "text": [
        "\r",
        "79% [==============================>        ] 2,311,232   --.-K/s  eta 63s     "
       ]
      },
      {
       "output_type": "stream",
       "stream": "stdout",
       "text": [
        "\r",
        "79% [==============================>        ] 2,311,232   --.-K/s  eta 63s     "
       ]
      },
      {
       "output_type": "stream",
       "stream": "stdout",
       "text": [
        "\r",
        "79% [==============================>        ] 2,311,232   --.-K/s  eta 64s     "
       ]
      },
      {
       "output_type": "stream",
       "stream": "stdout",
       "text": [
        "\r",
        "79% [==============================>        ] 2,311,232   --.-K/s  eta 64s     "
       ]
      },
      {
       "output_type": "stream",
       "stream": "stdout",
       "text": [
        "\r",
        "79% [==============================>        ] 2,311,232   --.-K/s  eta 64s     "
       ]
      },
      {
       "output_type": "stream",
       "stream": "stdout",
       "text": [
        "\r",
        "79% [==============================>        ] 2,311,232   --.-K/s  eta 64s     "
       ]
      },
      {
       "output_type": "stream",
       "stream": "stdout",
       "text": [
        "\r",
        "79% [==============================>        ] 2,311,232   --.-K/s  eta 65s     "
       ]
      },
      {
       "output_type": "stream",
       "stream": "stdout",
       "text": [
        "\r",
        "79% [==============================>        ] 2,311,232   --.-K/s  eta 65s     "
       ]
      },
      {
       "output_type": "stream",
       "stream": "stdout",
       "text": [
        "\r",
        "79% [==============================>        ] 2,311,232   --.-K/s  eta 65s     "
       ]
      },
      {
       "output_type": "stream",
       "stream": "stdout",
       "text": [
        "\r",
        "79% [==============================>        ] 2,311,232   --.-K/s  eta 65s     "
       ]
      },
      {
       "output_type": "stream",
       "stream": "stdout",
       "text": [
        "\r",
        "79% [==============================>        ] 2,311,232   --.-K/s  eta 66s     "
       ]
      },
      {
       "output_type": "stream",
       "stream": "stdout",
       "text": [
        "\r",
        "79% [==============================>        ] 2,311,232   --.-K/s  eta 66s     "
       ]
      },
      {
       "output_type": "stream",
       "stream": "stdout",
       "text": [
        "\r",
        "79% [==============================>        ] 2,311,232   --.-K/s  eta 66s     "
       ]
      },
      {
       "output_type": "stream",
       "stream": "stdout",
       "text": [
        "\r",
        "79% [==============================>        ] 2,311,232   --.-K/s  eta 66s     "
       ]
      },
      {
       "output_type": "stream",
       "stream": "stdout",
       "text": [
        "\r",
        "79% [==============================>        ] 2,311,232   --.-K/s  eta 67s     "
       ]
      },
      {
       "output_type": "stream",
       "stream": "stdout",
       "text": [
        "\r",
        "79% [==============================>        ] 2,311,232   --.-K/s  eta 67s     "
       ]
      },
      {
       "output_type": "stream",
       "stream": "stdout",
       "text": [
        "\r",
        "79% [==============================>        ] 2,311,232   --.-K/s  eta 67s     "
       ]
      },
      {
       "output_type": "stream",
       "stream": "stdout",
       "text": [
        "\r",
        "79% [==============================>        ] 2,311,232   --.-K/s  eta 67s     "
       ]
      },
      {
       "output_type": "stream",
       "stream": "stdout",
       "text": [
        "\r",
        "79% [==============================>        ] 2,311,232   --.-K/s  eta 68s     "
       ]
      },
      {
       "output_type": "stream",
       "stream": "stdout",
       "text": [
        "\r",
        "79% [==============================>        ] 2,311,232   --.-K/s  eta 68s     "
       ]
      },
      {
       "output_type": "stream",
       "stream": "stdout",
       "text": [
        "\r",
        "79% [==============================>        ] 2,312,680   1.41KB/s  eta 68s    "
       ]
      },
      {
       "output_type": "stream",
       "stream": "stdout",
       "text": [
        "\r",
        "79% [==============================>        ] 2,314,128   1.39KB/s  eta 68s    "
       ]
      },
      {
       "output_type": "stream",
       "stream": "stdout",
       "text": [
        "\r",
        "79% [==============================>        ] 2,315,576   1.50KB/s  eta 68s    "
       ]
      },
      {
       "output_type": "stream",
       "stream": "stdout",
       "text": [
        "\r",
        "79% [==============================>        ] 2,319,920   2.23KB/s  eta 68s    "
       ]
      },
      {
       "output_type": "stream",
       "stream": "stdout",
       "text": [
        "\r",
        "79% [==============================>        ] 2,321,368   2.27KB/s  eta 68s    "
       ]
      },
      {
       "output_type": "stream",
       "stream": "stdout",
       "text": [
        "\r",
        "80% [==============================>        ] 2,325,712   3.09KB/s  eta 68s    "
       ]
      },
      {
       "output_type": "stream",
       "stream": "stdout",
       "text": [
        "\r",
        "80% [==============================>        ] 2,331,504   4.12KB/s  eta 66s    "
       ]
      },
      {
       "output_type": "stream",
       "stream": "stdout",
       "text": [
        "\r",
        "80% [==============================>        ] 2,337,296   4.93KB/s  eta 66s    "
       ]
      },
      {
       "output_type": "stream",
       "stream": "stdout",
       "text": [
        "\r",
        "80% [==============================>        ] 2,344,536   6.03KB/s  eta 66s    "
       ]
      },
      {
       "output_type": "stream",
       "stream": "stdout",
       "text": [
        "\r",
        "80% [==============================>        ] 2,351,776   7.06KB/s  eta 66s    "
       ]
      },
      {
       "output_type": "stream",
       "stream": "stdout",
       "text": [
        "\r",
        "81% [==============================>        ] 2,359,016   8.00KB/s  eta 63s    "
       ]
      },
      {
       "output_type": "stream",
       "stream": "stdout",
       "text": [
        "\r",
        "81% [==============================>        ] 2,364,808   8.61KB/s  eta 63s    "
       ]
      },
      {
       "output_type": "stream",
       "stream": "stdout",
       "text": [
        "\r",
        "81% [==============================>        ] 2,370,600   8.72KB/s  eta 63s    "
       ]
      },
      {
       "output_type": "stream",
       "stream": "stdout",
       "text": [
        "\r",
        "81% [==============================>        ] 2,380,736   9.89KB/s  eta 60s    "
       ]
      },
      {
       "output_type": "stream",
       "stream": "stdout",
       "text": [
        "\r",
        "82% [===============================>       ] 2,390,872   10.9KB/s  eta 60s    "
       ]
      },
      {
       "output_type": "stream",
       "stream": "stdout",
       "text": [
        "\r",
        "82% [===============================>       ] 2,400,512   11.4KB/s  eta 60s    "
       ]
      },
      {
       "output_type": "stream",
       "stream": "stdout",
       "text": [
        "\r",
        "82% [===============================>       ] 2,411,144   12.4KB/s  eta 56s    "
       ]
      },
      {
       "output_type": "stream",
       "stream": "stdout",
       "text": [
        "\r",
        "83% [===============================>       ] 2,418,384   12.7KB/s  eta 56s    "
       ]
      },
      {
       "output_type": "stream",
       "stream": "stdout",
       "text": [
        "\r",
        "83% [===============================>       ] 2,430,920   13.5KB/s  eta 56s    "
       ]
      },
      {
       "output_type": "stream",
       "stream": "stdout",
       "text": [
        "\r",
        "83% [===============================>       ] 2,437,208   15.4KB/s  eta 52s    "
       ]
      },
      {
       "output_type": "stream",
       "stream": "stdout",
       "text": [
        "\r",
        "83% [===============================>       ] 2,440,104   18.5KB/s  eta 52s    "
       ]
      },
      {
       "output_type": "stream",
       "stream": "stdout",
       "text": [
        "\r",
        "84% [===============================>       ] 2,445,896   20.8KB/s  eta 52s    "
       ]
      },
      {
       "output_type": "stream",
       "stream": "stdout",
       "text": [
        "\r",
        "84% [===============================>       ] 2,453,136   23.1KB/s  eta 51s    "
       ]
      },
      {
       "output_type": "stream",
       "stream": "stdout",
       "text": [
        "\r",
        "84% [================================>      ] 2,460,376   23.6KB/s  eta 51s    "
       ]
      },
      {
       "output_type": "stream",
       "stream": "stdout",
       "text": [
        "\r",
        "84% [================================>      ] 2,467,616   23.9KB/s  eta 51s    "
       ]
      },
      {
       "output_type": "stream",
       "stream": "stdout",
       "text": [
        "\r",
        "85% [================================>      ] 2,476,304   24.3KB/s  eta 51s    "
       ]
      },
      {
       "output_type": "stream",
       "stream": "stdout",
       "text": [
        "\r",
        "85% [================================>      ] 2,490,288   25.4KB/s  eta 46s    "
       ]
      },
      {
       "output_type": "stream",
       "stream": "stdout",
       "text": [
        "\r",
        "86% [================================>      ] 2,499,472   25.7KB/s  eta 46s    "
       ]
      },
      {
       "output_type": "stream",
       "stream": "stdout",
       "text": [
        "\r",
        "86% [================================>      ] 2,505,264   25.4KB/s  eta 46s    "
       ]
      },
      {
       "output_type": "stream",
       "stream": "stdout",
       "text": [
        "\r",
        "86% [================================>      ] 2,511,056   24.5KB/s  eta 46s    "
       ]
      },
      {
       "output_type": "stream",
       "stream": "stdout",
       "text": [
        "\r",
        "86% [================================>      ] 2,516,848   24.4KB/s  eta 43s    "
       ]
      },
      {
       "output_type": "stream",
       "stream": "stdout",
       "text": [
        "\r",
        "86% [================================>      ] 2,524,088   24.9KB/s  eta 43s    "
       ]
      },
      {
       "output_type": "stream",
       "stream": "stdout",
       "text": [
        "\r",
        "87% [=================================>     ] 2,533,728   26.2KB/s  eta 43s    "
       ]
      },
      {
       "output_type": "stream",
       "stream": "stdout",
       "text": [
        "\r",
        "87% [=================================>     ] 2,541,464   25.8KB/s  eta 43s    "
       ]
      },
      {
       "output_type": "stream",
       "stream": "stdout",
       "text": [
        "\r",
        "87% [=================================>     ] 2,549,656   24.5KB/s  eta 39s    "
       ]
      },
      {
       "output_type": "stream",
       "stream": "stdout",
       "text": [
        "\r",
        "87% [=================================>     ] 2,553,048   24.7KB/s  eta 39s    "
       ]
      },
      {
       "output_type": "stream",
       "stream": "stdout",
       "text": [
        "\r",
        "88% [=================================>     ] 2,557,392   23.4KB/s  eta 39s    "
       ]
      },
      {
       "output_type": "stream",
       "stream": "stdout",
       "text": [
        "\r",
        "88% [=================================>     ] 2,561,736   23.0KB/s  eta 39s    "
       ]
      },
      {
       "output_type": "stream",
       "stream": "stdout",
       "text": [
        "\r",
        "88% [=================================>     ] 2,571,872   20.8KB/s  eta 36s    "
       ]
      },
      {
       "output_type": "stream",
       "stream": "stdout",
       "text": [
        "\r",
        "88% [=================================>     ] 2,573,320   18.1KB/s  eta 36s    "
       ]
      },
      {
       "output_type": "stream",
       "stream": "stdout",
       "text": [
        "\r",
        "88% [=================================>     ] 2,573,320   16.0KB/s  eta 36s    "
       ]
      },
      {
       "output_type": "stream",
       "stream": "stdout",
       "text": [
        "\r",
        "88% [=================================>     ] 2,583,456   17.0KB/s  eta 35s    "
       ]
      },
      {
       "output_type": "stream",
       "stream": "stdout",
       "text": [
        "\r",
        "88% [=================================>     ] 2,584,904   15.9KB/s  eta 35s    "
       ]
      },
      {
       "output_type": "stream",
       "stream": "stdout",
       "text": [
        "\r",
        "89% [=================================>     ] 2,587,800   15.4KB/s  eta 35s    "
       ]
      },
      {
       "output_type": "stream",
       "stream": "stdout",
       "text": [
        "\r",
        "89% [=================================>     ] 2,592,144   15.0KB/s  eta 35s    "
       ]
      },
      {
       "output_type": "stream",
       "stream": "stdout",
       "text": [
        "\r",
        "89% [=================================>     ] 2,596,488   14.5KB/s  eta 34s    "
       ]
      },
      {
       "output_type": "stream",
       "stream": "stdout",
       "text": [
        "\r",
        "89% [=================================>     ] 2,602,280   14.0KB/s  eta 34s    "
       ]
      },
      {
       "output_type": "stream",
       "stream": "stdout",
       "text": [
        "\r",
        "89% [==================================>    ] 2,608,072   13.5KB/s  eta 34s    "
       ]
      },
      {
       "output_type": "stream",
       "stream": "stdout",
       "text": [
        "\r",
        "90% [==================================>    ] 2,615,312   13.7KB/s  eta 34s    "
       ]
      },
      {
       "output_type": "stream",
       "stream": "stdout",
       "text": [
        "\r",
        "90% [==================================>    ] 2,622,552   14.2KB/s  eta 34s    "
       ]
      },
      {
       "output_type": "stream",
       "stream": "stdout",
       "text": [
        "\r",
        "90% [==================================>    ] 2,629,792   13.7KB/s  eta 30s    "
       ]
      },
      {
       "output_type": "stream",
       "stream": "stdout",
       "text": [
        "\r",
        "90% [==================================>    ] 2,638,480   13.9KB/s  eta 30s    "
       ]
      },
      {
       "output_type": "stream",
       "stream": "stdout",
       "text": [
        "\r",
        "91% [==================================>    ] 2,649,568   14.3KB/s  eta 30s    "
       ]
      },
      {
       "output_type": "stream",
       "stream": "stdout",
       "text": [
        "\r",
        "91% [==================================>    ] 2,657,304   14.2KB/s  eta 30s    "
       ]
      },
      {
       "output_type": "stream",
       "stream": "stdout",
       "text": [
        "\r",
        "91% [==================================>    ] 2,660,200   13.5KB/s  eta 26s    "
       ]
      },
      {
       "output_type": "stream",
       "stream": "stdout",
       "text": [
        "\r",
        "91% [==================================>    ] 2,665,992   13.5KB/s  eta 26s    "
       ]
      },
      {
       "output_type": "stream",
       "stream": "stdout",
       "text": [
        "\r",
        "91% [==================================>    ] 2,671,784   13.9KB/s  eta 26s    "
       ]
      },
      {
       "output_type": "stream",
       "stream": "stdout",
       "text": [
        "\r",
        "92% [==================================>    ] 2,679,024   14.2KB/s  eta 26s    "
       ]
      },
      {
       "output_type": "stream",
       "stream": "stdout",
       "text": [
        "\r",
        "92% [===================================>   ] 2,686,264   14.6KB/s  eta 23s    "
       ]
      },
      {
       "output_type": "stream",
       "stream": "stdout",
       "text": [
        "\r",
        "92% [===================================>   ] 2,694,952   15.9KB/s  eta 23s    "
       ]
      },
      {
       "output_type": "stream",
       "stream": "stdout",
       "text": [
        "\r",
        "93% [===================================>   ] 2,705,088   21.5KB/s  eta 23s    "
       ]
      },
      {
       "output_type": "stream",
       "stream": "stdout",
       "text": [
        "\r",
        "93% [===================================>   ] 2,713,776   22.7KB/s  eta 23s    "
       ]
      },
      {
       "output_type": "stream",
       "stream": "stdout",
       "text": [
        "\r",
        "93% [===================================>   ] 2,723,912   25.2KB/s  eta 23s    "
       ]
      },
      {
       "output_type": "stream",
       "stream": "stdout",
       "text": [
        "\r",
        "94% [===================================>   ] 2,735,496   26.7KB/s  eta 18s    "
       ]
      },
      {
       "output_type": "stream",
       "stream": "stdout",
       "text": [
        "\r",
        "94% [===================================>   ] 2,747,080   28.0KB/s  eta 18s    "
       ]
      },
      {
       "output_type": "stream",
       "stream": "stdout",
       "text": [
        "\r",
        "94% [====================================>  ] 2,760,112   29.3KB/s  eta 18s    "
       ]
      },
      {
       "output_type": "stream",
       "stream": "stdout",
       "text": [
        "\r",
        "95% [====================================>  ] 2,774,592   30.5KB/s  eta 18s    "
       ]
      },
      {
       "output_type": "stream",
       "stream": "stdout",
       "text": [
        "\r",
        "95% [====================================>  ] 2,789,072   31.5KB/s  eta 12s    "
       ]
      },
      {
       "output_type": "stream",
       "stream": "stdout",
       "text": [
        "\r",
        "96% [====================================>  ] 2,803,552   30.4KB/s  eta 12s    "
       ]
      },
      {
       "output_type": "stream",
       "stream": "stdout",
       "text": [
        "\r",
        "97% [====================================>  ] 2,820,928   32.1KB/s  eta 12s    "
       ]
      },
      {
       "output_type": "stream",
       "stream": "stdout",
       "text": [
        "\r",
        "97% [=====================================> ] 2,838,304   36.0KB/s  eta 7s     "
       ]
      },
      {
       "output_type": "stream",
       "stream": "stdout",
       "text": [
        "\r",
        "98% [=====================================> ] 2,857,128   37.5KB/s  eta 7s     "
       ]
      },
      {
       "output_type": "stream",
       "stream": "stdout",
       "text": [
        "\r",
        "98% [=====================================> ] 2,875,952   38.2KB/s  eta 7s     "
       ]
      },
      {
       "output_type": "stream",
       "stream": "stdout",
       "text": [
        "\r",
        "99% [=====================================> ] 2,893,328   35.1KB/s  eta 1s     "
       ]
      },
      {
       "output_type": "stream",
       "stream": "stdout",
       "text": [
        "\r",
        "100%[======================================>] 2,905,627   38.7KB/s   in 4m 52s \r\n",
        "\r\n",
        "2014-03-03 12:39:33 (9.73 KB/s) - \u2018enron2.tar.gz\u2019 saved [2905627/2905627]\r\n",
        "\r\n"
       ]
      },
      {
       "output_type": "stream",
       "stream": "stdout",
       "text": [
        "--2014-03-03 12:39:33--  http://www.aueb.gr/users/ion/data/enron-spam/preprocessed/enron3.tar.gz\r\n",
        "Resolving www.aueb.gr... "
       ]
      },
      {
       "output_type": "stream",
       "stream": "stdout",
       "text": [
        "195.251.255.138\r\n",
        "Connecting to www.aueb.gr|195.251.255.138|:80... "
       ]
      },
      {
       "output_type": "stream",
       "stream": "stdout",
       "text": [
        "connected.\r\n",
        "HTTP request sent, awaiting response... "
       ]
      },
      {
       "output_type": "stream",
       "stream": "stdout",
       "text": [
        "200 OK\r\n",
        "Length: 4569634 (4.4M) [application/x-gzip]\r\n",
        "Saving to: \u2018enron3.tar.gz\u2019\r\n",
        "\r\n",
        "\r",
        " 0% [                                       ] 0           --.-K/s              "
       ]
      },
      {
       "output_type": "stream",
       "stream": "stdout",
       "text": [
        "\r",
        " 0% [                                       ] 4,568       8.10KB/s             "
       ]
      },
      {
       "output_type": "stream",
       "stream": "stdout",
       "text": [
        "\r",
        " 0% [                                       ] 10,360      10.8KB/s             "
       ]
      },
      {
       "output_type": "stream",
       "stream": "stdout",
       "text": [
        "\r",
        " 0% [                                       ] 20,496      14.6KB/s             "
       ]
      },
      {
       "output_type": "stream",
       "stream": "stdout",
       "text": [
        "\r",
        " 0% [                                       ] 32,080      18.6KB/s             "
       ]
      },
      {
       "output_type": "stream",
       "stream": "stdout",
       "text": [
        "\r",
        " 0% [                                       ] 43,664      19.5KB/s             "
       ]
      },
      {
       "output_type": "stream",
       "stream": "stdout",
       "text": [
        "\r",
        " 1% [                                       ] 55,248      17.2KB/s  eta 4m 17s "
       ]
      },
      {
       "output_type": "stream",
       "stream": "stdout",
       "text": [
        "\r",
        " 1% [                                       ] 55,248      13.2KB/s  eta 4m 17s "
       ]
      },
      {
       "output_type": "stream",
       "stream": "stdout",
       "text": [
        "\r",
        " 1% [                                       ] 55,248      10.7KB/s  eta 6m 52s "
       ]
      },
      {
       "output_type": "stream",
       "stream": "stdout",
       "text": [
        "\r",
        " 1% [                                       ] 55,248      9.00KB/s  eta 6m 52s "
       ]
      },
      {
       "output_type": "stream",
       "stream": "stdout",
       "text": [
        "\r",
        " 1% [                                       ] 55,248      7.77KB/s  eta 9m 28s "
       ]
      },
      {
       "output_type": "stream",
       "stream": "stdout",
       "text": [
        "\r",
        " 1% [                                       ] 56,696      7.66KB/s  eta 9m 28s "
       ]
      },
      {
       "output_type": "stream",
       "stream": "stdout",
       "text": [
        "\r",
        " 1% [                                       ] 68,280      8.13KB/s  eta 9m 1s  "
       ]
      },
      {
       "output_type": "stream",
       "stream": "stdout",
       "text": [
        "\r",
        " 1% [                                       ] 76,472      8.17KB/s  eta 9m 1s  "
       ]
      },
      {
       "output_type": "stream",
       "stream": "stdout",
       "text": [
        "\r",
        " 1% [                                       ] 82,760      8.01KB/s  eta 9m 7s  "
       ]
      },
      {
       "output_type": "stream",
       "stream": "stdout",
       "text": [
        "\r",
        " 1% [                                       ] 84,208      7.79KB/s  eta 9m 7s  "
       ]
      },
      {
       "output_type": "stream",
       "stream": "stdout",
       "text": [
        "\r",
        " 2% [                                       ] 92,896      7.84KB/s  eta 9m 17s "
       ]
      },
      {
       "output_type": "stream",
       "stream": "stdout",
       "text": [
        "\r",
        " 2% [                                       ] 92,896      7.25KB/s  eta 9m 17s "
       ]
      },
      {
       "output_type": "stream",
       "stream": "stdout",
       "text": [
        "\r",
        " 2% [                                       ] 92,896      6.74KB/s  eta 10m 49s"
       ]
      },
      {
       "output_type": "stream",
       "stream": "stdout",
       "text": [
        "\r",
        " 2% [                                       ] 101,088     7.11KB/s  eta 10m 49s"
       ]
      },
      {
       "output_type": "stream",
       "stream": "stdout",
       "text": [
        "\r",
        " 2% [                                       ] 110,272     7.25KB/s  eta 10m 1s "
       ]
      },
      {
       "output_type": "stream",
       "stream": "stdout",
       "text": [
        "\r",
        " 2% [                                       ] 110,272     6.81KB/s  eta 10m 1s "
       ]
      },
      {
       "output_type": "stream",
       "stream": "stdout",
       "text": [
        "\r",
        " 2% [                                       ] 110,272     6.43KB/s  eta 11m 18s"
       ]
      },
      {
       "output_type": "stream",
       "stream": "stdout",
       "text": [
        "\r",
        " 2% [                                       ] 111,720     6.22KB/s  eta 11m 18s"
       ]
      },
      {
       "output_type": "stream",
       "stream": "stdout",
       "text": [
        "\r",
        " 2% [>                                      ] 117,512     6.20KB/s  eta 11m 42s"
       ]
      },
      {
       "output_type": "stream",
       "stream": "stdout",
       "text": [
        "\r",
        " 2% [>                                      ] 117,512     5.89KB/s  eta 11m 42s"
       ]
      },
      {
       "output_type": "stream",
       "stream": "stdout",
       "text": [
        "\r",
        " 2% [>                                      ] 118,960     5.79KB/s  eta 12m 31s"
       ]
      },
      {
       "output_type": "stream",
       "stream": "stdout",
       "text": [
        "\r",
        " 2% [>                                      ] 123,304     5.94KB/s  eta 12m 31s"
       ]
      },
      {
       "output_type": "stream",
       "stream": "stdout",
       "text": [
        "\r",
        " 2% [>                                      ] 124,752     5.73KB/s  eta 12m 38s"
       ]
      },
      {
       "output_type": "stream",
       "stream": "stdout",
       "text": [
        "\r",
        " 2% [>                                      ] 124,752     5.48KB/s  eta 12m 38s"
       ]
      },
      {
       "output_type": "stream",
       "stream": "stdout",
       "text": [
        "\r",
        " 2% [>                                      ] 124,752     5.26KB/s  eta 13m 46s"
       ]
      },
      {
       "output_type": "stream",
       "stream": "stdout",
       "text": [
        "\r",
        " 2% [>                                      ] 124,752     5.05KB/s  eta 13m 46s"
       ]
      },
      {
       "output_type": "stream",
       "stream": "stdout",
       "text": [
        "\r",
        " 2% [>                                      ] 124,752     4.86KB/s  eta 14m 53s"
       ]
      },
      {
       "output_type": "stream",
       "stream": "stdout",
       "text": [
        "\r",
        " 2% [>                                      ] 126,200     4.74KB/s  eta 14m 53s"
       ]
      },
      {
       "output_type": "stream",
       "stream": "stdout",
       "text": [
        "\r",
        " 2% [>                                      ] 129,096     4.68KB/s  eta 15m 27s"
       ]
      },
      {
       "output_type": "stream",
       "stream": "stdout",
       "text": [
        "\r",
        " 2% [>                                      ] 130,544     4.65KB/s  eta 15m 27s"
       ]
      },
      {
       "output_type": "stream",
       "stream": "stdout",
       "text": [
        "\r",
        " 2% [>                                      ] 136,336     4.79KB/s  eta 15m 27s"
       ]
      },
      {
       "output_type": "stream",
       "stream": "stdout",
       "text": [
        "\r",
        " 3% [>                                      ] 145,024     4.92KB/s  eta 14m 39s"
       ]
      },
      {
       "output_type": "stream",
       "stream": "stdout",
       "text": [
        "\r",
        " 3% [>                                      ] 153,712     5.17KB/s  eta 14m 39s"
       ]
      },
      {
       "output_type": "stream",
       "stream": "stdout",
       "text": [
        "\r",
        " 3% [>                                      ] 163,848     5.43KB/s  eta 14m 39s"
       ]
      },
      {
       "output_type": "stream",
       "stream": "stdout",
       "text": [
        "\r",
        " 3% [>                                      ] 173,984     5.72KB/s  eta 14m 39s"
       ]
      },
      {
       "output_type": "stream",
       "stream": "stdout",
       "text": [
        "\r",
        " 4% [>                                      ] 185,568     6.01KB/s  eta 11m 53s"
       ]
      },
      {
       "output_type": "stream",
       "stream": "stdout",
       "text": [
        "\r",
        " 4% [>                                      ] 197,152     6.30KB/s  eta 11m 53s"
       ]
      },
      {
       "output_type": "stream",
       "stream": "stdout",
       "text": [
        "\r",
        " 4% [>                                      ] 210,184     6.58KB/s  eta 11m 53s"
       ]
      },
      {
       "output_type": "stream",
       "stream": "stdout",
       "text": [
        "\r",
        " 4% [>                                      ] 224,664     6.77KB/s  eta 11m 53s"
       ]
      },
      {
       "output_type": "stream",
       "stream": "stdout",
       "text": [
        "\r",
        " 5% [=>                                     ] 239,144     6.89KB/s  eta 11m 53s"
       ]
      },
      {
       "output_type": "stream",
       "stream": "stdout",
       "text": [
        "\r",
        " 5% [=>                                     ] 253,624     7.05KB/s  eta 8m 52s "
       ]
      },
      {
       "output_type": "stream",
       "stream": "stdout",
       "text": [
        "\r",
        " 5% [=>                                     ] 269,552     8.57KB/s  eta 8m 52s "
       ]
      },
      {
       "output_type": "stream",
       "stream": "stdout",
       "text": [
        "\r",
        " 6% [=>                                     ] 285,480     9.05KB/s  eta 8m 52s "
       ]
      },
      {
       "output_type": "stream",
       "stream": "stdout",
       "text": [
        "\r",
        " 6% [=>                                     ] 301,408     9.94KB/s  eta 8m 52s "
       ]
      },
      {
       "output_type": "stream",
       "stream": "stdout",
       "text": [
        "\r",
        " 6% [=>                                     ] 315,392     11.3KB/s  eta 7m 16s "
       ]
      },
      {
       "output_type": "stream",
       "stream": "stdout",
       "text": [
        "\r",
        " 7% [=>                                     ] 331,816     14.3KB/s  eta 7m 16s "
       ]
      },
      {
       "output_type": "stream",
       "stream": "stdout",
       "text": [
        "\r",
        " 7% [=>                                     ] 339,056     16.9KB/s  eta 7m 16s "
       ]
      },
      {
       "output_type": "stream",
       "stream": "stdout",
       "text": [
        "\r",
        " 7% [=>                                     ] 350,640     17.4KB/s  eta 7m 16s "
       ]
      },
      {
       "output_type": "stream",
       "stream": "stdout",
       "text": [
        "\r",
        " 7% [==>                                    ] 360,776     31.7KB/s  eta 7m 16s "
       ]
      },
      {
       "output_type": "stream",
       "stream": "stdout",
       "text": [
        "\r",
        " 8% [==>                                    ] 372,360     39.3KB/s  eta 6m 17s "
       ]
      },
      {
       "output_type": "stream",
       "stream": "stdout",
       "text": [
        "\r",
        " 8% [==>                                    ] 376,704     39.5KB/s  eta 6m 17s "
       ]
      },
      {
       "output_type": "stream",
       "stream": "stdout",
       "text": [
        "\r",
        " 8% [==>                                    ] 389,736     46.4KB/s  eta 6m 17s "
       ]
      },
      {
       "output_type": "stream",
       "stream": "stdout",
       "text": [
        "\r",
        " 8% [==>                                    ] 402,768     47.2KB/s  eta 6m 17s "
       ]
      },
      {
       "output_type": "stream",
       "stream": "stdout",
       "text": [
        "\r",
        " 9% [==>                                    ] 423,992     48.9KB/s  eta 5m 39s "
       ]
      },
      {
       "output_type": "stream",
       "stream": "stdout",
       "text": [
        "\r",
        " 9% [==>                                    ] 438,968     49.9KB/s  eta 5m 39s "
       ]
      },
      {
       "output_type": "stream",
       "stream": "stdout",
       "text": [
        "\r",
        " 9% [==>                                    ] 447,656     51.5KB/s  eta 5m 39s "
       ]
      },
      {
       "output_type": "stream",
       "stream": "stdout",
       "text": [
        "\r",
        "10% [==>                                    ] 458,744     49.3KB/s  eta 5m 39s "
       ]
      },
      {
       "output_type": "stream",
       "stream": "stdout",
       "text": [
        "\r",
        "10% [==>                                    ] 466,480     48.2KB/s  eta 5m 15s "
       ]
      },
      {
       "output_type": "stream",
       "stream": "stdout",
       "text": [
        "\r",
        "10% [===>                                   ] 469,376     39.4KB/s  eta 5m 22s "
       ]
      },
      {
       "output_type": "stream",
       "stream": "stdout",
       "text": [
        "\r",
        "10% [===>                                   ] 479,512     37.1KB/s  eta 5m 22s "
       ]
      },
      {
       "output_type": "stream",
       "stream": "stdout",
       "text": [
        "\r",
        "10% [===>                                   ] 482,408     35.3KB/s  eta 5m 22s "
       ]
      },
      {
       "output_type": "stream",
       "stream": "stdout",
       "text": [
        "\r",
        "10% [===>                                   ] 486,752     32.5KB/s  eta 5m 22s "
       ]
      },
      {
       "output_type": "stream",
       "stream": "stdout",
       "text": [
        "\r",
        "10% [===>                                   ] 491,096     30.1KB/s  eta 5m 17s "
       ]
      },
      {
       "output_type": "stream",
       "stream": "stdout",
       "text": [
        "\r",
        "10% [===>                                   ] 496,888     29.4KB/s  eta 5m 17s "
       ]
      },
      {
       "output_type": "stream",
       "stream": "stdout",
       "text": [
        "\r",
        "11% [===>                                   ] 502,680     27.8KB/s  eta 5m 17s "
       ]
      },
      {
       "output_type": "stream",
       "stream": "stdout",
       "text": [
        "\r",
        "11% [===>                                   ] 508,472     27.4KB/s  eta 5m 17s "
       ]
      },
      {
       "output_type": "stream",
       "stream": "stdout",
       "text": [
        "\r",
        "11% [===>                                   ] 514,264     26.5KB/s  eta 5m 17s "
       ]
      },
      {
       "output_type": "stream",
       "stream": "stdout",
       "text": [
        "\r",
        "11% [===>                                   ] 515,712     24.9KB/s  eta 5m 10s "
       ]
      },
      {
       "output_type": "stream",
       "stream": "stdout",
       "text": [
        "\r",
        "11% [===>                                   ] 524,400     24.4KB/s  eta 5m 10s "
       ]
      },
      {
       "output_type": "stream",
       "stream": "stdout",
       "text": [
        "\r",
        "11% [===>                                   ] 532,592     24.6KB/s  eta 5m 10s "
       ]
      },
      {
       "output_type": "stream",
       "stream": "stdout",
       "text": [
        "\r",
        "11% [===>                                   ] 540,328     23.1KB/s  eta 5m 10s "
       ]
      },
      {
       "output_type": "stream",
       "stream": "stdout",
       "text": [
        "\r",
        "11% [===>                                   ] 541,776     21.1KB/s  eta 5m 2s  "
       ]
      },
      {
       "output_type": "stream",
       "stream": "stdout",
       "text": [
        "\r",
        "11% [===>                                   ] 544,672     18.9KB/s  eta 5m 2s  "
       ]
      },
      {
       "output_type": "stream",
       "stream": "stdout",
       "text": [
        "\r",
        "12% [===>                                   ] 549,016     17.0KB/s  eta 5m 2s  "
       ]
      },
      {
       "output_type": "stream",
       "stream": "stdout",
       "text": [
        "\r",
        "12% [===>                                   ] 554,808     16.9KB/s  eta 5m 2s  "
       ]
      },
      {
       "output_type": "stream",
       "stream": "stdout",
       "text": [
        "\r",
        "12% [===>                                   ] 560,600     16.3KB/s  eta 4m 58s "
       ]
      },
      {
       "output_type": "stream",
       "stream": "stdout",
       "text": [
        "\r",
        "12% [===>                                   ] 567,840     16.2KB/s  eta 4m 58s "
       ]
      },
      {
       "output_type": "stream",
       "stream": "stdout",
       "text": [
        "\r",
        "12% [===>                                   ] 573,632     17.9KB/s  eta 4m 58s "
       ]
      },
      {
       "output_type": "stream",
       "stream": "stdout",
       "text": [
        "\r",
        "12% [===>                                   ] 582,320     19.2KB/s  eta 4m 58s "
       ]
      },
      {
       "output_type": "stream",
       "stream": "stdout",
       "text": [
        "\r",
        "12% [====>                                  ] 591,008     20.3KB/s  eta 4m 47s "
       ]
      },
      {
       "output_type": "stream",
       "stream": "stdout",
       "text": [
        "\r",
        "13% [====>                                  ] 601,144     22.3KB/s  eta 4m 47s "
       ]
      },
      {
       "output_type": "stream",
       "stream": "stdout",
       "text": [
        "\r",
        "13% [====>                                  ] 612,728     23.9KB/s  eta 4m 47s "
       ]
      },
      {
       "output_type": "stream",
       "stream": "stdout",
       "text": [
        "\r",
        "13% [====>                                  ] 624,312     25.0KB/s  eta 4m 47s "
       ]
      },
      {
       "output_type": "stream",
       "stream": "stdout",
       "text": [
        "\r",
        "13% [====>                                  ] 635,896     26.2KB/s  eta 4m 47s "
       ]
      },
      {
       "output_type": "stream",
       "stream": "stdout",
       "text": [
        "\r",
        "14% [====>                                  ] 648,928     27.6KB/s  eta 4m 24s "
       ]
      },
      {
       "output_type": "stream",
       "stream": "stdout",
       "text": [
        "\r",
        "14% [====>                                  ] 663,408     29.4KB/s  eta 4m 24s "
       ]
      },
      {
       "output_type": "stream",
       "stream": "stdout",
       "text": [
        "\r",
        "14% [====>                                  ] 673,048     31.0KB/s  eta 4m 24s "
       ]
      },
      {
       "output_type": "stream",
       "stream": "stdout",
       "text": [
        "\r",
        "15% [====>                                  ] 690,920     33.4KB/s  eta 4m 24s "
       ]
      },
      {
       "output_type": "stream",
       "stream": "stdout",
       "text": [
        "\r",
        "15% [====>                                  ] 699,608     33.7KB/s  eta 4m 8s  "
       ]
      },
      {
       "output_type": "stream",
       "stream": "stdout",
       "text": [
        "\r",
        "15% [=====>                                 ] 708,296     35.1KB/s  eta 4m 8s  "
       ]
      },
      {
       "output_type": "stream",
       "stream": "stdout",
       "text": [
        "\r",
        "15% [=====>                                 ] 718,432     37.6KB/s  eta 4m 8s  "
       ]
      },
      {
       "output_type": "stream",
       "stream": "stdout",
       "text": [
        "\r",
        "15% [=====>                                 ] 727,120     39.7KB/s  eta 4m 8s  "
       ]
      },
      {
       "output_type": "stream",
       "stream": "stdout",
       "text": [
        "\r",
        "16% [=====>                                 ] 737,256     41.8KB/s  eta 4m 8s  "
       ]
      },
      {
       "output_type": "stream",
       "stream": "stdout",
       "text": [
        "\r",
        "16% [=====>                                 ] 747,392     42.4KB/s  eta 3m 55s "
       ]
      },
      {
       "output_type": "stream",
       "stream": "stdout",
       "text": [
        "\r",
        "16% [=====>                                 ] 760,424     40.7KB/s  eta 3m 55s "
       ]
      },
      {
       "output_type": "stream",
       "stream": "stdout",
       "text": [
        "\r",
        "16% [=====>                                 ] 773,456     42.1KB/s  eta 3m 55s "
       ]
      },
      {
       "output_type": "stream",
       "stream": "stdout",
       "text": [
        "\r",
        "17% [=====>                                 ] 787,936     43.7KB/s  eta 3m 45s "
       ]
      },
      {
       "output_type": "stream",
       "stream": "stdout",
       "text": [
        "\r",
        "17% [=====>                                 ] 809,160     43.7KB/s  eta 3m 45s "
       ]
      },
      {
       "output_type": "stream",
       "stream": "stdout",
       "text": [
        "\r",
        "18% [======>                                ] 825,584     45.2KB/s  eta 3m 45s "
       ]
      },
      {
       "output_type": "stream",
       "stream": "stdout",
       "text": [
        "\r",
        "18% [======>                                ] 834,272     44.3KB/s  eta 3m 35s "
       ]
      },
      {
       "output_type": "stream",
       "stream": "stdout",
       "text": [
        "\r",
        "18% [======>                                ] 842,960     41.1KB/s  eta 3m 35s "
       ]
      },
      {
       "output_type": "stream",
       "stream": "stdout",
       "text": [
        "\r",
        "18% [======>                                ] 853,096     40.6KB/s  eta 3m 35s "
       ]
      },
      {
       "output_type": "stream",
       "stream": "stdout",
       "text": [
        "\r",
        "18% [======>                                ] 863,232     37.8KB/s  eta 3m 33s "
       ]
      },
      {
       "output_type": "stream",
       "stream": "stdout",
       "text": [
        "\r",
        "19% [======>                                ] 874,816     37.8KB/s  eta 3m 33s "
       ]
      },
      {
       "output_type": "stream",
       "stream": "stdout",
       "text": [
        "\r",
        "19% [======>                                ] 886,400     36.1KB/s  eta 3m 33s "
       ]
      },
      {
       "output_type": "stream",
       "stream": "stdout",
       "text": [
        "\r",
        "19% [======>                                ] 899,432     33.6KB/s  eta 3m 28s "
       ]
      },
      {
       "output_type": "stream",
       "stream": "stdout",
       "text": [
        "\r",
        "19% [======>                                ] 913,912     34.9KB/s  eta 3m 28s "
       ]
      },
      {
       "output_type": "stream",
       "stream": "stdout",
       "text": [
        "\r",
        "20% [======>                                ] 928,392     34.4KB/s  eta 3m 28s "
       ]
      },
      {
       "output_type": "stream",
       "stream": "stdout",
       "text": [
        "\r",
        "20% [=======>                               ] 942,872     35.2KB/s  eta 3m 28s "
       ]
      },
      {
       "output_type": "stream",
       "stream": "stdout",
       "text": [
        "\r",
        "20% [=======>                               ] 958,800     36.3KB/s  eta 3m 28s "
       ]
      },
      {
       "output_type": "stream",
       "stream": "stdout",
       "text": [
        "\r",
        "21% [=======>                               ] 974,728     36.0KB/s  eta 3m 12s "
       ]
      },
      {
       "output_type": "stream",
       "stream": "stdout",
       "text": [
        "\r",
        "21% [=======>                               ] 992,104     37.0KB/s  eta 3m 12s "
       ]
      },
      {
       "output_type": "stream",
       "stream": "stdout",
       "text": [
        "\r",
        "22% [=======>                               ] 1,010,928   38.2KB/s  eta 3m 12s "
       ]
      },
      {
       "output_type": "stream",
       "stream": "stdout",
       "text": [
        "\r",
        "22% [=======>                               ] 1,029,752   39.4KB/s  eta 3m 12s "
       ]
      },
      {
       "output_type": "stream",
       "stream": "stdout",
       "text": [
        "\r",
        "22% [=======>                               ] 1,048,576   39.8KB/s  eta 3m 0s  "
       ]
      },
      {
       "output_type": "stream",
       "stream": "stdout",
       "text": [
        "\r",
        "23% [========>                              ] 1,068,848   40.8KB/s  eta 3m 0s  "
       ]
      },
      {
       "output_type": "stream",
       "stream": "stdout",
       "text": [
        "\r",
        "23% [========>                              ] 1,090,568   41.7KB/s  eta 3m 0s  "
       ]
      },
      {
       "output_type": "stream",
       "stream": "stdout",
       "text": [
        "\r",
        "24% [========>                              ] 1,112,288   44.3KB/s  eta 3m 0s  "
       ]
      },
      {
       "output_type": "stream",
       "stream": "stdout",
       "text": [
        "\r",
        "24% [========>                              ] 1,132,064   43.9KB/s  eta 2m 46s "
       ]
      },
      {
       "output_type": "stream",
       "stream": "stdout",
       "text": [
        "\r",
        "25% [========>                              ] 1,155,728   46.8KB/s  eta 2m 46s "
       ]
      },
      {
       "output_type": "stream",
       "stream": "stdout",
       "text": [
        "\r",
        "25% [========>                              ] 1,165,864   49.9KB/s  eta 2m 46s "
       ]
      },
      {
       "output_type": "stream",
       "stream": "stdout",
       "text": [
        "\r",
        "25% [=========>                             ] 1,177,448   50.9KB/s  eta 2m 46s "
       ]
      },
      {
       "output_type": "stream",
       "stream": "stdout",
       "text": [
        "\r",
        "26% [=========>                             ] 1,191,928   54.9KB/s  eta 2m 46s "
       ]
      },
      {
       "output_type": "stream",
       "stream": "stdout",
       "text": [
        "\r",
        "26% [=========>                             ] 1,206,408   54.5KB/s  eta 2m 35s "
       ]
      },
      {
       "output_type": "stream",
       "stream": "stdout",
       "text": [
        "\r",
        "26% [=========>                             ] 1,222,336   57.3KB/s  eta 2m 35s "
       ]
      },
      {
       "output_type": "stream",
       "stream": "stdout",
       "text": [
        "\r",
        "27% [=========>                             ] 1,238,264   61.8KB/s  eta 2m 35s "
       ]
      },
      {
       "output_type": "stream",
       "stream": "stdout",
       "text": [
        "\r",
        "27% [=========>                             ] 1,254,192   60.1KB/s  eta 2m 35s "
       ]
      },
      {
       "output_type": "stream",
       "stream": "stdout",
       "text": [
        "\r",
        "27% [=========>                             ] 1,271,568   60.3KB/s  eta 2m 27s "
       ]
      },
      {
       "output_type": "stream",
       "stream": "stdout",
       "text": [
        "\r",
        "28% [==========>                            ] 1,290,392   55.4KB/s  eta 2m 27s "
       ]
      },
      {
       "output_type": "stream",
       "stream": "stdout",
       "text": [
        "\r",
        "28% [==========>                            ] 1,310,664   55.9KB/s  eta 2m 24s "
       ]
      },
      {
       "output_type": "stream",
       "stream": "stdout",
       "text": [
        "\r",
        "29% [==========>                            ] 1,330,936   58.2KB/s  eta 2m 24s "
       ]
      },
      {
       "output_type": "stream",
       "stream": "stdout",
       "text": [
        "\r",
        "29% [==========>                            ] 1,352,656   56.7KB/s  eta 2m 24s "
       ]
      },
      {
       "output_type": "stream",
       "stream": "stdout",
       "text": [
        "\r",
        "30% [==========>                            ] 1,374,376   57.6KB/s  eta 2m 24s "
       ]
      },
      {
       "output_type": "stream",
       "stream": "stdout",
       "text": [
        "\r",
        "30% [==========>                            ] 1,397,544   63.0KB/s  eta 2m 14s "
       ]
      },
      {
       "output_type": "stream",
       "stream": "stdout",
       "text": [
        "\r",
        "30% [===========>                           ] 1,408,632   59.6KB/s  eta 2m 14s "
       ]
      },
      {
       "output_type": "stream",
       "stream": "stdout",
       "text": [
        "\r",
        "31% [===========>                           ] 1,435,192   57.2KB/s  eta 2m 14s "
       ]
      },
      {
       "output_type": "stream",
       "stream": "stdout",
       "text": [
        "\r",
        "31% [===========>                           ] 1,440,984   50.1KB/s  eta 2m 12s "
       ]
      },
      {
       "output_type": "stream",
       "stream": "stdout",
       "text": [
        "\r",
        "31% [===========>                           ] 1,454,016   47.8KB/s  eta 2m 12s "
       ]
      },
      {
       "output_type": "stream",
       "stream": "stdout",
       "text": [
        "\r",
        "32% [===========>                           ] 1,465,600   45.6KB/s  eta 2m 12s "
       ]
      },
      {
       "output_type": "stream",
       "stream": "stdout",
       "text": [
        "\r",
        "32% [===========>                           ] 1,480,080   46.0KB/s  eta 2m 12s "
       ]
      },
      {
       "output_type": "stream",
       "stream": "stdout",
       "text": [
        "\r",
        "32% [===========>                           ] 1,492,616   42.2KB/s  eta 2m 9s  "
       ]
      },
      {
       "output_type": "stream",
       "stream": "stdout",
       "text": [
        "\r",
        "32% [===========>                           ] 1,506,144   42.2KB/s  eta 2m 9s  "
       ]
      },
      {
       "output_type": "stream",
       "stream": "stdout",
       "text": [
        "\r",
        "33% [===========>                           ] 1,514,832   41.9KB/s  eta 2m 9s  "
       ]
      },
      {
       "output_type": "stream",
       "stream": "stdout",
       "text": [
        "\r",
        "33% [============>                          ] 1,523,520   39.4KB/s  eta 2m 9s  "
       ]
      },
      {
       "output_type": "stream",
       "stream": "stdout",
       "text": [
        "\r",
        "33% [============>                          ] 1,535,104   38.6KB/s  eta 2m 6s  "
       ]
      },
      {
       "output_type": "stream",
       "stream": "stdout",
       "text": [
        "\r",
        "33% [============>                          ] 1,539,448   33.8KB/s  eta 2m 6s  "
       ]
      },
      {
       "output_type": "stream",
       "stream": "stdout",
       "text": [
        "\r",
        "33% [============>                          ] 1,545,240   31.6KB/s  eta 2m 8s  "
       ]
      },
      {
       "output_type": "stream",
       "stream": "stdout",
       "text": [
        "\r",
        "33% [============>                          ] 1,551,032   28.3KB/s  eta 2m 8s  "
       ]
      },
      {
       "output_type": "stream",
       "stream": "stdout",
       "text": [
        "\r",
        "34% [============>                          ] 1,558,272   26.9KB/s  eta 2m 8s  "
       ]
      },
      {
       "output_type": "stream",
       "stream": "stdout",
       "text": [
        "\r",
        "34% [============>                          ] 1,565,512   25.2KB/s  eta 2m 8s  "
       ]
      },
      {
       "output_type": "stream",
       "stream": "stdout",
       "text": [
        "\r",
        "34% [============>                          ] 1,574,200   26.0KB/s  eta 2m 8s  "
       ]
      },
      {
       "output_type": "stream",
       "stream": "stdout",
       "text": [
        "\r",
        "34% [============>                          ] 1,587,232   22.9KB/s  eta 2m 7s  "
       ]
      },
      {
       "output_type": "stream",
       "stream": "stdout",
       "text": [
        "\r",
        "34% [============>                          ] 1,594,472   21.0KB/s  eta 2m 7s  "
       ]
      },
      {
       "output_type": "stream",
       "stream": "stdout",
       "text": [
        "\r",
        "35% [============>                          ] 1,604,608   21.0KB/s  eta 2m 7s  "
       ]
      },
      {
       "output_type": "stream",
       "stream": "stdout",
       "text": [
        "\r",
        "35% [============>                          ] 1,614,744   21.7KB/s  eta 2m 7s  "
       ]
      },
      {
       "output_type": "stream",
       "stream": "stdout",
       "text": [
        "\r",
        "35% [============>                          ] 1,627,776   21.9KB/s  eta 2m 4s  "
       ]
      },
      {
       "output_type": "stream",
       "stream": "stdout",
       "text": [
        "\r",
        "35% [=============>                         ] 1,640,808   22.3KB/s  eta 2m 4s  "
       ]
      },
      {
       "output_type": "stream",
       "stream": "stdout",
       "text": [
        "\r",
        "36% [=============>                         ] 1,655,288   22.3KB/s  eta 2m 4s  "
       ]
      },
      {
       "output_type": "stream",
       "stream": "stdout",
       "text": [
        "\r",
        "36% [=============>                         ] 1,656,736   22.6KB/s  eta 2m 4s  "
       ]
      },
      {
       "output_type": "stream",
       "stream": "stdout",
       "text": [
        "\r",
        "36% [=============>                         ] 1,666,376   21.0KB/s  eta 2m 2s  "
       ]
      },
      {
       "output_type": "stream",
       "stream": "stdout",
       "text": [
        "\r",
        "36% [=============>                         ] 1,677,008   21.0KB/s  eta 2m 2s  "
       ]
      },
      {
       "output_type": "stream",
       "stream": "stdout",
       "text": [
        "\r",
        "36% [=============>                         ] 1,684,248   21.4KB/s  eta 2m 2s  "
       ]
      },
      {
       "output_type": "stream",
       "stream": "stdout",
       "text": [
        "\r",
        "37% [=============>                         ] 1,692,936   21.1KB/s  eta 2m 2s  "
       ]
      },
      {
       "output_type": "stream",
       "stream": "stdout",
       "text": [
        "\r",
        "37% [=============>                         ] 1,701,624   21.7KB/s  eta 2m 0s  "
       ]
      },
      {
       "output_type": "stream",
       "stream": "stdout",
       "text": [
        "\r",
        "37% [=============>                         ] 1,711,760   24.6KB/s  eta 2m 0s  "
       ]
      },
      {
       "output_type": "stream",
       "stream": "stdout",
       "text": [
        "\r",
        "37% [=============>                         ] 1,723,344   28.3KB/s  eta 2m 0s  "
       ]
      },
      {
       "output_type": "stream",
       "stream": "stdout",
       "text": [
        "\r",
        "37% [=============>                         ] 1,734,928   31.4KB/s  eta 2m 0s  "
       ]
      },
      {
       "output_type": "stream",
       "stream": "stdout",
       "text": [
        "\r",
        "38% [=============>                         ] 1,747,960   32.4KB/s  eta 2m 0s  "
       ]
      },
      {
       "output_type": "stream",
       "stream": "stdout",
       "text": [
        "\r",
        "38% [==============>                        ] 1,760,992   33.4KB/s  eta 1m 55s "
       ]
      },
      {
       "output_type": "stream",
       "stream": "stdout",
       "text": [
        "\r",
        "38% [==============>                        ] 1,775,472   34.5KB/s  eta 1m 55s "
       ]
      },
      {
       "output_type": "stream",
       "stream": "stdout",
       "text": [
        "\r",
        "39% [==============>                        ] 1,785,112   38.8KB/s  eta 1m 55s "
       ]
      },
      {
       "output_type": "stream",
       "stream": "stdout",
       "text": [
        "\r",
        "39% [==============>                        ] 1,798,640   40.7KB/s  eta 1m 55s "
       ]
      },
      {
       "output_type": "stream",
       "stream": "stdout",
       "text": [
        "\r",
        "39% [==============>                        ] 1,807,328   39.9KB/s  eta 1m 55s "
       ]
      },
      {
       "output_type": "stream",
       "stream": "stdout",
       "text": [
        "\r",
        "39% [==============>                        ] 1,816,016   40.4KB/s  eta 1m 51s "
       ]
      },
      {
       "output_type": "stream",
       "stream": "stdout",
       "text": [
        "\r",
        "39% [==============>                        ] 1,826,152   39.8KB/s  eta 1m 51s "
       ]
      },
      {
       "output_type": "stream",
       "stream": "stdout",
       "text": [
        "\r",
        "40% [==============>                        ] 1,830,496   33.6KB/s  eta 1m 52s "
       ]
      },
      {
       "output_type": "stream",
       "stream": "stdout",
       "text": [
        "\r",
        "40% [==============>                        ] 1,830,496   29.2KB/s  eta 1m 52s "
       ]
      },
      {
       "output_type": "stream",
       "stream": "stdout",
       "text": [
        "\r",
        "40% [==============>                        ] 1,838,688   27.5KB/s  eta 1m 53s "
       ]
      },
      {
       "output_type": "stream",
       "stream": "stdout",
       "text": [
        "\r",
        "40% [==============>                        ] 1,846,424   26.3KB/s  eta 1m 53s "
       ]
      },
      {
       "output_type": "stream",
       "stream": "stdout",
       "text": [
        "\r",
        "40% [==============>                        ] 1,852,216   25.6KB/s  eta 1m 53s "
       ]
      },
      {
       "output_type": "stream",
       "stream": "stdout",
       "text": [
        "\r",
        "40% [==============>                        ] 1,858,008   25.5KB/s  eta 1m 53s "
       ]
      },
      {
       "output_type": "stream",
       "stream": "stdout",
       "text": [
        "\r",
        "40% [==============>                        ] 1,863,800   25.9KB/s  eta 1m 53s "
       ]
      },
      {
       "output_type": "stream",
       "stream": "stdout",
       "text": [
        "\r",
        "40% [==============>                        ] 1,871,040   25.2KB/s  eta 1m 53s "
       ]
      },
      {
       "output_type": "stream",
       "stream": "stdout",
       "text": [
        "\r",
        "41% [===============>                       ] 1,879,728   25.6KB/s  eta 1m 53s "
       ]
      },
      {
       "output_type": "stream",
       "stream": "stdout",
       "text": [
        "\r",
        "41% [===============>                       ] 1,888,416   25.8KB/s  eta 1m 53s "
       ]
      },
      {
       "output_type": "stream",
       "stream": "stdout",
       "text": [
        "\r",
        "41% [===============>                       ] 1,895,656   24.4KB/s  eta 1m 51s "
       ]
      },
      {
       "output_type": "stream",
       "stream": "stdout",
       "text": [
        "\r",
        "41% [===============>                       ] 1,905,792   24.3KB/s  eta 1m 51s "
       ]
      },
      {
       "output_type": "stream",
       "stream": "stdout",
       "text": [
        "\r",
        "41% [===============>                       ] 1,917,376   23.1KB/s  eta 1m 51s "
       ]
      },
      {
       "output_type": "stream",
       "stream": "stdout",
       "text": [
        "\r",
        "42% [===============>                       ] 1,928,960   23.0KB/s  eta 1m 51s "
       ]
      },
      {
       "output_type": "stream",
       "stream": "stdout",
       "text": [
        "\r",
        "42% [===============>                       ] 1,940,544   22.9KB/s  eta 1m 48s "
       ]
      },
      {
       "output_type": "stream",
       "stream": "stdout",
       "text": [
        "\r",
        "42% [===============>                       ] 1,953,576   22.6KB/s  eta 1m 48s "
       ]
      },
      {
       "output_type": "stream",
       "stream": "stdout",
       "text": [
        "\r",
        "43% [===============>                       ] 1,968,056   23.1KB/s  eta 1m 48s "
       ]
      },
      {
       "output_type": "stream",
       "stream": "stdout",
       "text": [
        "\r",
        "43% [===============>                       ] 1,982,536   23.1KB/s  eta 1m 48s "
       ]
      },
      {
       "output_type": "stream",
       "stream": "stdout",
       "text": [
        "\r",
        "43% [================>                      ] 1,997,016   22.7KB/s  eta 1m 45s "
       ]
      },
      {
       "output_type": "stream",
       "stream": "stdout",
       "text": [
        "\r",
        "44% [================>                      ] 2,012,944   23.7KB/s  eta 1m 45s "
       ]
      },
      {
       "output_type": "stream",
       "stream": "stdout",
       "text": [
        "\r",
        "44% [================>                      ] 2,028,872   34.5KB/s  eta 1m 45s "
       ]
      },
      {
       "output_type": "stream",
       "stream": "stdout",
       "text": [
        "\r",
        "44% [================>                      ] 2,046,248   37.3KB/s  eta 1m 45s "
       ]
      },
      {
       "output_type": "stream",
       "stream": "stdout",
       "text": [
        "\r",
        "45% [================>                      ] 2,065,072   40.3KB/s  eta 1m 45s "
       ]
      },
      {
       "output_type": "stream",
       "stream": "stdout",
       "text": [
        "\r",
        "45% [================>                      ] 2,085,344   43.3KB/s  eta 98s    "
       ]
      },
      {
       "output_type": "stream",
       "stream": "stdout",
       "text": [
        "\r",
        "46% [================>                      ] 2,105,616   46.9KB/s  eta 98s    "
       ]
      },
      {
       "output_type": "stream",
       "stream": "stdout",
       "text": [
        "\r",
        "46% [=================>                     ] 2,127,336   51.3KB/s  eta 98s    "
       ]
      },
      {
       "output_type": "stream",
       "stream": "stdout",
       "text": [
        "\r",
        "47% [=================>                     ] 2,149,056   54.3KB/s  eta 98s    "
       ]
      },
      {
       "output_type": "stream",
       "stream": "stdout",
       "text": [
        "\r",
        "47% [=================>                     ] 2,172,224   56.6KB/s  eta 98s    "
       ]
      },
      {
       "output_type": "stream",
       "stream": "stdout",
       "text": [
        "\r",
        "48% [=================>                     ] 2,195,392   65.0KB/s  eta 90s    "
       ]
      },
      {
       "output_type": "stream",
       "stream": "stdout",
       "text": [
        "\r",
        "48% [=================>                     ] 2,220,008   68.5KB/s  eta 90s    "
       ]
      },
      {
       "output_type": "stream",
       "stream": "stdout",
       "text": [
        "\r",
        "49% [==================>                    ] 2,244,624   71.3KB/s  eta 90s    "
       ]
      },
      {
       "output_type": "stream",
       "stream": "stdout",
       "text": [
        "\r",
        "49% [==================>                    ] 2,262,952   69.8KB/s  eta 90s    "
       ]
      },
      {
       "output_type": "stream",
       "stream": "stdout",
       "text": [
        "\r",
        "50% [==================>                    ] 2,295,304   74.3KB/s  eta 84s    "
       ]
      },
      {
       "output_type": "stream",
       "stream": "stdout",
       "text": [
        "\r",
        "50% [==================>                    ] 2,307,840   73.8KB/s  eta 84s    "
       ]
      },
      {
       "output_type": "stream",
       "stream": "stdout",
       "text": [
        "\r",
        "50% [==================>                    ] 2,321,368   74.4KB/s  eta 84s    "
       ]
      },
      {
       "output_type": "stream",
       "stream": "stdout",
       "text": [
        "\r",
        "50% [==================>                    ] 2,329,560   71.2KB/s  eta 84s    "
       ]
      },
      {
       "output_type": "stream",
       "stream": "stdout",
       "text": [
        "\r",
        "51% [==================>                    ] 2,335,848   70.9KB/s  eta 82s    "
       ]
      },
      {
       "output_type": "stream",
       "stream": "stdout",
       "text": [
        "\r",
        "51% [==================>                    ] 2,340,192   70.5KB/s  eta 82s    "
       ]
      },
      {
       "output_type": "stream",
       "stream": "stdout",
       "text": [
        "\r",
        "51% [===================>                   ] 2,345,984   68.6KB/s  eta 82s    "
       ]
      },
      {
       "output_type": "stream",
       "stream": "stdout",
       "text": [
        "\r",
        "51% [===================>                   ] 2,354,176   60.1KB/s  eta 82s    "
       ]
      },
      {
       "output_type": "stream",
       "stream": "stdout",
       "text": [
        "\r",
        "51% [===================>                   ] 2,356,120   56.3KB/s  eta 82s    "
       ]
      },
      {
       "output_type": "stream",
       "stream": "stdout",
       "text": [
        "\r",
        "51% [===================>                   ] 2,359,016   52.4KB/s  eta 82s    "
       ]
      },
      {
       "output_type": "stream",
       "stream": "stdout",
       "text": [
        "\r",
        "51% [===================>                   ] 2,363,360   48.9KB/s  eta 82s    "
       ]
      },
      {
       "output_type": "stream",
       "stream": "stdout",
       "text": [
        "\r",
        "51% [===================>                   ] 2,367,704   45.4KB/s  eta 82s    "
       ]
      },
      {
       "output_type": "stream",
       "stream": "stdout",
       "text": [
        "\r",
        "51% [===================>                   ] 2,373,496   42.7KB/s  eta 82s    "
       ]
      },
      {
       "output_type": "stream",
       "stream": "stdout",
       "text": [
        "\r",
        "52% [===================>                   ] 2,379,288   39.8KB/s  eta 82s    "
       ]
      },
      {
       "output_type": "stream",
       "stream": "stdout",
       "text": [
        "\r",
        "52% [===================>                   ] 2,391,824   36.3KB/s  eta 82s    "
       ]
      },
      {
       "output_type": "stream",
       "stream": "stdout",
       "text": [
        "\r",
        "52% [===================>                   ] 2,396,664   33.2KB/s  eta 81s    "
       ]
      },
      {
       "output_type": "stream",
       "stream": "stdout",
       "text": [
        "\r",
        "52% [===================>                   ] 2,401,008   26.1KB/s  eta 81s    "
       ]
      },
      {
       "output_type": "stream",
       "stream": "stdout",
       "text": [
        "\r",
        "52% [===================>                   ] 2,405,352   24.9KB/s  eta 81s    "
       ]
      },
      {
       "output_type": "stream",
       "stream": "stdout",
       "text": [
        "\r",
        "52% [===================>                   ] 2,416,440   20.2KB/s  eta 81s    "
       ]
      },
      {
       "output_type": "stream",
       "stream": "stdout",
       "text": [
        "\r",
        "52% [===================>                   ] 2,418,384   17.6KB/s  eta 81s    "
       ]
      },
      {
       "output_type": "stream",
       "stream": "stdout",
       "text": [
        "\r",
        "52% [===================>                   ] 2,421,280   15.9KB/s  eta 81s    "
       ]
      },
      {
       "output_type": "stream",
       "stream": "stdout",
       "text": [
        "\r",
        "53% [===================>                   ] 2,425,624   15.3KB/s  eta 81s    "
       ]
      },
      {
       "output_type": "stream",
       "stream": "stdout",
       "text": [
        "\r",
        "53% [===================>                   ] 2,429,968   14.7KB/s  eta 81s    "
       ]
      },
      {
       "output_type": "stream",
       "stream": "stdout",
       "text": [
        "\r",
        "53% [===================>                   ] 2,435,760   15.1KB/s  eta 81s    "
       ]
      },
      {
       "output_type": "stream",
       "stream": "stdout",
       "text": [
        "\r",
        "53% [===================>                   ] 2,441,552   15.2KB/s  eta 81s    "
       ]
      },
      {
       "output_type": "stream",
       "stream": "stdout",
       "text": [
        "\r",
        "53% [===================>                   ] 2,448,792   15.4KB/s  eta 80s    "
       ]
      },
      {
       "output_type": "stream",
       "stream": "stdout",
       "text": [
        "\r",
        "53% [===================>                   ] 2,456,032   16.7KB/s  eta 80s    "
       ]
      },
      {
       "output_type": "stream",
       "stream": "stdout",
       "text": [
        "\r",
        "53% [====================>                  ] 2,463,272   17.8KB/s  eta 80s    "
       ]
      },
      {
       "output_type": "stream",
       "stream": "stdout",
       "text": [
        "\r",
        "54% [====================>                  ] 2,471,960   19.1KB/s  eta 80s    "
       ]
      },
      {
       "output_type": "stream",
       "stream": "stdout",
       "text": [
        "\r",
        "54% [====================>                  ] 2,482,096   20.4KB/s  eta 80s    "
       ]
      },
      {
       "output_type": "stream",
       "stream": "stdout",
       "text": [
        "\r",
        "54% [====================>                  ] 2,490,784   21.5KB/s  eta 78s    "
       ]
      },
      {
       "output_type": "stream",
       "stream": "stdout",
       "text": [
        "\r",
        "54% [====================>                  ] 2,500,920   22.3KB/s  eta 78s    "
       ]
      },
      {
       "output_type": "stream",
       "stream": "stdout",
       "text": [
        "\r",
        "54% [====================>                  ] 2,512,504   23.4KB/s  eta 78s    "
       ]
      },
      {
       "output_type": "stream",
       "stream": "stdout",
       "text": [
        "\r",
        "55% [====================>                  ] 2,524,088   24.6KB/s  eta 78s    "
       ]
      },
      {
       "output_type": "stream",
       "stream": "stdout",
       "text": [
        "\r",
        "55% [====================>                  ] 2,532,280   25.3KB/s  eta 78s    "
       ]
      },
      {
       "output_type": "stream",
       "stream": "stdout",
       "text": [
        "\r",
        "55% [====================>                  ] 2,545,808   27.2KB/s  eta 75s    "
       ]
      },
      {
       "output_type": "stream",
       "stream": "stdout",
       "text": [
        "\r",
        "55% [====================>                  ] 2,554,496   28.1KB/s  eta 75s    "
       ]
      },
      {
       "output_type": "stream",
       "stream": "stdout",
       "text": [
        "\r",
        "56% [====================>                  ] 2,563,184   28.8KB/s  eta 75s    "
       ]
      },
      {
       "output_type": "stream",
       "stream": "stdout",
       "text": [
        "\r",
        "56% [====================>                  ] 2,573,320   30.2KB/s  eta 75s    "
       ]
      },
      {
       "output_type": "stream",
       "stream": "stdout",
       "text": [
        "\r",
        "56% [=====================>                 ] 2,583,456   33.7KB/s  eta 75s    "
       ]
      },
      {
       "output_type": "stream",
       "stream": "stdout",
       "text": [
        "\r",
        "56% [=====================>                 ] 2,595,040   36.2KB/s  eta 73s    "
       ]
      },
      {
       "output_type": "stream",
       "stream": "stdout",
       "text": [
        "\r",
        "57% [=====================>                 ] 2,606,624   38.4KB/s  eta 73s    "
       ]
      },
      {
       "output_type": "stream",
       "stream": "stdout",
       "text": [
        "\r",
        "57% [=====================>                 ] 2,618,208   41.4KB/s  eta 73s    "
       ]
      },
      {
       "output_type": "stream",
       "stream": "stdout",
       "text": [
        "\r",
        "57% [=====================>                 ] 2,632,688   44.5KB/s  eta 73s    "
       ]
      },
      {
       "output_type": "stream",
       "stream": "stdout",
       "text": [
        "\r",
        "57% [=====================>                 ] 2,645,720   45.9KB/s  eta 73s    "
       ]
      },
      {
       "output_type": "stream",
       "stream": "stdout",
       "text": [
        "\r",
        "57% [=====================>                 ] 2,648,616   45.0KB/s  eta 70s    "
       ]
      },
      {
       "output_type": "stream",
       "stream": "stdout",
       "text": [
        "\r",
        "58% [=====================>                 ] 2,661,648   46.4KB/s  eta 70s    "
       ]
      },
      {
       "output_type": "stream",
       "stream": "stdout",
       "text": [
        "\r",
        "58% [=====================>                 ] 2,677,576   47.4KB/s  eta 70s    "
       ]
      },
      {
       "output_type": "stream",
       "stream": "stdout",
       "text": [
        "\r",
        "58% [=====================>                 ] 2,693,504   48.7KB/s  eta 70s    "
       ]
      },
      {
       "output_type": "stream",
       "stream": "stdout",
       "text": [
        "\r",
        "59% [======================>                ] 2,710,880   50.4KB/s  eta 70s    "
       ]
      },
      {
       "output_type": "stream",
       "stream": "stdout",
       "text": [
        "\r",
        "59% [======================>                ] 2,720,520   49.3KB/s  eta 67s    "
       ]
      },
      {
       "output_type": "stream",
       "stream": "stdout",
       "text": [
        "\r",
        "60% [======================>                ] 2,748,032   49.7KB/s  eta 67s    "
       ]
      },
      {
       "output_type": "stream",
       "stream": "stdout",
       "text": [
        "\r",
        "60% [======================>                ] 2,757,216   50.0KB/s  eta 67s    "
       ]
      },
      {
       "output_type": "stream",
       "stream": "stdout",
       "text": [
        "\r",
        "60% [======================>                ] 2,761,560   46.0KB/s  eta 65s    "
       ]
      },
      {
       "output_type": "stream",
       "stream": "stdout",
       "text": [
        "\r",
        "60% [======================>                ] 2,767,352   45.3KB/s  eta 65s    "
       ]
      },
      {
       "output_type": "stream",
       "stream": "stdout",
       "text": [
        "\r",
        "60% [======================>                ] 2,774,592   45.0KB/s  eta 65s    "
       ]
      },
      {
       "output_type": "stream",
       "stream": "stdout",
       "text": [
        "\r",
        "60% [======================>                ] 2,780,384   44.1KB/s  eta 65s    "
       ]
      },
      {
       "output_type": "stream",
       "stream": "stdout",
       "text": [
        "\r",
        "61% [======================>                ] 2,787,624   43.5KB/s  eta 65s    "
       ]
      },
      {
       "output_type": "stream",
       "stream": "stdout",
       "text": [
        "\r",
        "61% [======================>                ] 2,796,312   42.8KB/s  eta 64s    "
       ]
      },
      {
       "output_type": "stream",
       "stream": "stdout",
       "text": [
        "\r",
        "61% [======================>                ] 2,806,448   42.8KB/s  eta 64s    "
       ]
      },
      {
       "output_type": "stream",
       "stream": "stdout",
       "text": [
        "\r",
        "61% [=======================>               ] 2,815,136   41.9KB/s  eta 64s    "
       ]
      },
      {
       "output_type": "stream",
       "stream": "stdout",
       "text": [
        "\r",
        "61% [=======================>               ] 2,826,720   43.4KB/s  eta 64s    "
       ]
      },
      {
       "output_type": "stream",
       "stream": "stdout",
       "text": [
        "\r",
        "62% [=======================>               ] 2,836,856   42.6KB/s  eta 64s    "
       ]
      },
      {
       "output_type": "stream",
       "stream": "stdout",
       "text": [
        "\r",
        "62% [=======================>               ] 2,848,440   42.3KB/s  eta 61s    "
       ]
      },
      {
       "output_type": "stream",
       "stream": "stdout",
       "text": [
        "\r",
        "62% [=======================>               ] 2,861,472   44.5KB/s  eta 61s    "
       ]
      },
      {
       "output_type": "stream",
       "stream": "stdout",
       "text": [
        "\r",
        "62% [=======================>               ] 2,875,952   44.4KB/s  eta 61s    "
       ]
      },
      {
       "output_type": "stream",
       "stream": "stdout",
       "text": [
        "\r",
        "63% [=======================>               ] 2,888,984   43.6KB/s  eta 61s    "
       ]
      },
      {
       "output_type": "stream",
       "stream": "stdout",
       "text": [
        "\r",
        "63% [=======================>               ] 2,902,968   42.7KB/s  eta 61s    "
       ]
      },
      {
       "output_type": "stream",
       "stream": "stdout",
       "text": [
        "\r",
        "63% [=======================>               ] 2,916,496   42.0KB/s  eta 58s    "
       ]
      },
      {
       "output_type": "stream",
       "stream": "stdout",
       "text": [
        "\r",
        "64% [=======================>               ] 2,925,184   43.2KB/s  eta 58s    "
       ]
      },
      {
       "output_type": "stream",
       "stream": "stdout",
       "text": [
        "\r",
        "64% [========================>              ] 2,933,872   40.5KB/s  eta 58s    "
       ]
      },
      {
       "output_type": "stream",
       "stream": "stdout",
       "text": [
        "\r",
        "64% [========================>              ] 2,944,008   41.8KB/s  eta 58s    "
       ]
      },
      {
       "output_type": "stream",
       "stream": "stdout",
       "text": [
        "\r",
        "64% [========================>              ] 2,952,696   41.8KB/s  eta 58s    "
       ]
      },
      {
       "output_type": "stream",
       "stream": "stdout",
       "text": [
        "\r",
        "64% [========================>              ] 2,964,280   44.7KB/s  eta 56s    "
       ]
      },
      {
       "output_type": "stream",
       "stream": "stdout",
       "text": [
        "\r",
        "65% [========================>              ] 2,974,416   45.7KB/s  eta 56s    "
       ]
      },
      {
       "output_type": "stream",
       "stream": "stdout",
       "text": [
        "\r",
        "65% [========================>              ] 2,987,448   46.7KB/s  eta 56s    "
       ]
      },
      {
       "output_type": "stream",
       "stream": "stdout",
       "text": [
        "\r",
        "65% [========================>              ] 3,001,928   48.4KB/s  eta 56s    "
       ]
      },
      {
       "output_type": "stream",
       "stream": "stdout",
       "text": [
        "\r",
        "65% [========================>              ] 3,014,960   49.8KB/s  eta 56s    "
       ]
      },
      {
       "output_type": "stream",
       "stream": "stdout",
       "text": [
        "\r",
        "66% [========================>              ] 3,029,440   51.5KB/s  eta 53s    "
       ]
      },
      {
       "output_type": "stream",
       "stream": "stdout",
       "text": [
        "\r",
        "66% [========================>              ] 3,045,368   52.8KB/s  eta 53s    "
       ]
      },
      {
       "output_type": "stream",
       "stream": "stdout",
       "text": [
        "\r",
        "66% [=========================>             ] 3,061,296   54.4KB/s  eta 53s    "
       ]
      },
      {
       "output_type": "stream",
       "stream": "stdout",
       "text": [
        "\r",
        "67% [=========================>             ] 3,078,672   55.6KB/s  eta 53s    "
       ]
      },
      {
       "output_type": "stream",
       "stream": "stdout",
       "text": [
        "\r",
        "67% [=========================>             ] 3,097,496   57.5KB/s  eta 53s    "
       ]
      },
      {
       "output_type": "stream",
       "stream": "stdout",
       "text": [
        "\r",
        "68% [=========================>             ] 3,116,320   58.6KB/s  eta 49s    "
       ]
      },
      {
       "output_type": "stream",
       "stream": "stdout",
       "text": [
        "\r",
        "68% [=========================>             ] 3,136,592   59.9KB/s  eta 49s    "
       ]
      },
      {
       "output_type": "stream",
       "stream": "stdout",
       "text": [
        "\r",
        "68% [=========================>             ] 3,149,128   60.4KB/s  eta 49s    "
       ]
      },
      {
       "output_type": "stream",
       "stream": "stdout",
       "text": [
        "\r",
        "69% [==========================>            ] 3,172,792   63.5KB/s  eta 49s    "
       ]
      },
      {
       "output_type": "stream",
       "stream": "stdout",
       "text": [
        "\r",
        "69% [==========================>            ] 3,186,776   60.5KB/s  eta 47s    "
       ]
      },
      {
       "output_type": "stream",
       "stream": "stdout",
       "text": [
        "\r",
        "69% [==========================>            ] 3,197,408   60.9KB/s  eta 47s    "
       ]
      },
      {
       "output_type": "stream",
       "stream": "stdout",
       "text": [
        "\r",
        "70% [==========================>            ] 3,204,648   60.2KB/s  eta 47s    "
       ]
      },
      {
       "output_type": "stream",
       "stream": "stdout",
       "text": [
        "\r",
        "70% [==========================>            ] 3,211,888   59.3KB/s  eta 47s    "
       ]
      },
      {
       "output_type": "stream",
       "stream": "stdout",
       "text": [
        "\r",
        "70% [==========================>            ] 3,219,128   58.9KB/s  eta 47s    "
       ]
      },
      {
       "output_type": "stream",
       "stream": "stdout",
       "text": [
        "\r",
        "70% [==========================>            ] 3,227,816   58.6KB/s  eta 45s    "
       ]
      },
      {
       "output_type": "stream",
       "stream": "stdout",
       "text": [
        "\r",
        "70% [==========================>            ] 3,237,952   58.4KB/s  eta 45s    "
       ]
      },
      {
       "output_type": "stream",
       "stream": "stdout",
       "text": [
        "\r",
        "71% [==========================>            ] 3,246,640   57.5KB/s  eta 45s    "
       ]
      },
      {
       "output_type": "stream",
       "stream": "stdout",
       "text": [
        "\r",
        "71% [==========================>            ] 3,256,776   56.9KB/s  eta 45s    "
       ]
      },
      {
       "output_type": "stream",
       "stream": "stdout",
       "text": [
        "\r",
        "71% [==========================>            ] 3,272,208   54.5KB/s  eta 43s    "
       ]
      },
      {
       "output_type": "stream",
       "stream": "stdout",
       "text": [
        "\r",
        "71% [===========================>           ] 3,282,840   53.4KB/s  eta 43s    "
       ]
      },
      {
       "output_type": "stream",
       "stream": "stdout",
       "text": [
        "\r",
        "71% [===========================>           ] 3,288,632   50.6KB/s  eta 43s    "
       ]
      },
      {
       "output_type": "stream",
       "stream": "stdout",
       "text": [
        "\r",
        "72% [===========================>           ] 3,295,872   46.3KB/s  eta 43s    "
       ]
      },
      {
       "output_type": "stream",
       "stream": "stdout",
       "text": [
        "\r",
        "72% [===========================>           ] 3,303,112   44.2KB/s  eta 43s    "
       ]
      },
      {
       "output_type": "stream",
       "stream": "stdout",
       "text": [
        "\r",
        "72% [===========================>           ] 3,307,456   38.9KB/s  eta 43s    "
       ]
      },
      {
       "output_type": "stream",
       "stream": "stdout",
       "text": [
        "\r",
        "72% [===========================>           ] 3,311,800   34.7KB/s  eta 42s    "
       ]
      },
      {
       "output_type": "stream",
       "stream": "stdout",
       "text": [
        "\r",
        "72% [===========================>           ] 3,314,696   31.6KB/s  eta 42s    "
       ]
      },
      {
       "output_type": "stream",
       "stream": "stdout",
       "text": [
        "\r",
        "72% [===========================>           ] 3,316,144   28.6KB/s  eta 42s    "
       ]
      },
      {
       "output_type": "stream",
       "stream": "stdout",
       "text": [
        "\r",
        "72% [===========================>           ] 3,317,592   26.2KB/s  eta 42s    "
       ]
      },
      {
       "output_type": "stream",
       "stream": "stdout",
       "text": [
        "\r",
        "72% [===========================>           ] 3,320,488   22.8KB/s  eta 43s    "
       ]
      },
      {
       "output_type": "stream",
       "stream": "stdout",
       "text": [
        "\r",
        "72% [===========================>           ] 3,324,832   21.5KB/s  eta 43s    "
       ]
      },
      {
       "output_type": "stream",
       "stream": "stdout",
       "text": [
        "\r",
        "72% [===========================>           ] 3,329,176   20.2KB/s  eta 43s    "
       ]
      },
      {
       "output_type": "stream",
       "stream": "stdout",
       "text": [
        "\r",
        "72% [===========================>           ] 3,334,968   19.8KB/s  eta 43s    "
       ]
      },
      {
       "output_type": "stream",
       "stream": "stdout",
       "text": [
        "\r",
        "73% [===========================>           ] 3,340,760   19.5KB/s  eta 42s    "
       ]
      },
      {
       "output_type": "stream",
       "stream": "stdout",
       "text": [
        "\r",
        "73% [===========================>           ] 3,348,000   19.4KB/s  eta 42s    "
       ]
      },
      {
       "output_type": "stream",
       "stream": "stdout",
       "text": [
        "\r",
        "73% [===========================>           ] 3,359,088   19.2KB/s  eta 42s    "
       ]
      },
      {
       "output_type": "stream",
       "stream": "stdout",
       "text": [
        "\r",
        "73% [===========================>           ] 3,365,376   18.7KB/s  eta 42s    "
       ]
      },
      {
       "output_type": "stream",
       "stream": "stdout",
       "text": [
        "\r",
        "73% [===========================>           ] 3,371,168   17.9KB/s  eta 41s    "
       ]
      },
      {
       "output_type": "stream",
       "stream": "stdout",
       "text": [
        "\r",
        "73% [===========================>           ] 3,375,512   17.1KB/s  eta 41s    "
       ]
      },
      {
       "output_type": "stream",
       "stream": "stdout",
       "text": [
        "\r",
        "73% [===========================>           ] 3,381,304   15.0KB/s  eta 41s    "
       ]
      },
      {
       "output_type": "stream",
       "stream": "stdout",
       "text": [
        "\r",
        "74% [===========================>           ] 3,388,544   15.2KB/s  eta 41s    "
       ]
      },
      {
       "output_type": "stream",
       "stream": "stdout",
       "text": [
        "\r",
        "74% [===========================>           ] 3,397,232   16.1KB/s  eta 40s    "
       ]
      },
      {
       "output_type": "stream",
       "stream": "stdout",
       "text": [
        "\r",
        "74% [============================>          ] 3,404,472   17.4KB/s  eta 40s    "
       ]
      },
      {
       "output_type": "stream",
       "stream": "stdout",
       "text": [
        "\r",
        "74% [============================>          ] 3,416,056   19.8KB/s  eta 40s    "
       ]
      },
      {
       "output_type": "stream",
       "stream": "stdout",
       "text": [
        "\r",
        "74% [============================>          ] 3,424,744   21.3KB/s  eta 40s    "
       ]
      },
      {
       "output_type": "stream",
       "stream": "stdout",
       "text": [
        "\r",
        "75% [============================>          ] 3,436,328   23.4KB/s  eta 40s    "
       ]
      },
      {
       "output_type": "stream",
       "stream": "stdout",
       "text": [
        "\r",
        "75% [============================>          ] 3,446,464   25.9KB/s  eta 38s    "
       ]
      },
      {
       "output_type": "stream",
       "stream": "stdout",
       "text": [
        "\r",
        "75% [============================>          ] 3,458,048   28.3KB/s  eta 38s    "
       ]
      },
      {
       "output_type": "stream",
       "stream": "stdout",
       "text": [
        "\r",
        "75% [============================>          ] 3,471,080   30.2KB/s  eta 38s    "
       ]
      },
      {
       "output_type": "stream",
       "stream": "stdout",
       "text": [
        "\r",
        "76% [============================>          ] 3,485,560   31.9KB/s  eta 38s    "
       ]
      },
      {
       "output_type": "stream",
       "stream": "stdout",
       "text": [
        "\r",
        "76% [============================>          ] 3,497,144   28.5KB/s  eta 37s    "
       ]
      },
      {
       "output_type": "stream",
       "stream": "stdout",
       "text": [
        "\r",
        "76% [============================>          ] 3,497,144   24.4KB/s  eta 37s    "
       ]
      },
      {
       "output_type": "stream",
       "stream": "stdout",
       "text": [
        "\r",
        "76% [============================>          ] 3,498,592   23.8KB/s  eta 37s    "
       ]
      },
      {
       "output_type": "stream",
       "stream": "stdout",
       "text": [
        "\r",
        "76% [============================>          ] 3,513,072   23.7KB/s  eta 37s    "
       ]
      },
      {
       "output_type": "stream",
       "stream": "stdout",
       "text": [
        "\r",
        "77% [=============================>         ] 3,526,104   22.4KB/s  eta 36s    "
       ]
      },
      {
       "output_type": "stream",
       "stream": "stdout",
       "text": [
        "\r",
        "77% [=============================>         ] 3,540,584   23.1KB/s  eta 36s    "
       ]
      },
      {
       "output_type": "stream",
       "stream": "stdout",
       "text": [
        "\r",
        "77% [=============================>         ] 3,560,360   24.1KB/s  eta 36s    "
       ]
      },
      {
       "output_type": "stream",
       "stream": "stdout",
       "text": [
        "\r",
        "78% [=============================>         ] 3,579,680   26.0KB/s  eta 36s    "
       ]
      },
      {
       "output_type": "stream",
       "stream": "stdout",
       "text": [
        "\r",
        "78% [=============================>         ] 3,589,816   26.7KB/s  eta 34s    "
       ]
      },
      {
       "output_type": "stream",
       "stream": "stdout",
       "text": [
        "\r",
        "78% [=============================>         ] 3,598,504   27.1KB/s  eta 34s    "
       ]
      },
      {
       "output_type": "stream",
       "stream": "stdout",
       "text": [
        "\r",
        "79% [=============================>         ] 3,610,088   28.0KB/s  eta 34s    "
       ]
      },
      {
       "output_type": "stream",
       "stream": "stdout",
       "text": [
        "\r",
        "79% [=============================>         ] 3,621,672   28.7KB/s  eta 34s    "
       ]
      },
      {
       "output_type": "stream",
       "stream": "stdout",
       "text": [
        "\r",
        "79% [==============================>        ] 3,633,256   29.0KB/s  eta 34s    "
       ]
      },
      {
       "output_type": "stream",
       "stream": "stdout",
       "text": [
        "\r",
        "79% [==============================>        ] 3,647,736   29.9KB/s  eta 31s    "
       ]
      },
      {
       "output_type": "stream",
       "stream": "stdout",
       "text": [
        "\r",
        "80% [==============================>        ] 3,660,768   30.9KB/s  eta 31s    "
       ]
      },
      {
       "output_type": "stream",
       "stream": "stdout",
       "text": [
        "\r",
        "80% [==============================>        ] 3,675,248   31.5KB/s  eta 31s    "
       ]
      },
      {
       "output_type": "stream",
       "stream": "stdout",
       "text": [
        "\r",
        "80% [==============================>        ] 3,691,176   32.4KB/s  eta 31s    "
       ]
      },
      {
       "output_type": "stream",
       "stream": "stdout",
       "text": [
        "\r",
        "81% [==============================>        ] 3,708,552   33.1KB/s  eta 31s    "
       ]
      },
      {
       "output_type": "stream",
       "stream": "stdout",
       "text": [
        "\r",
        "81% [==============================>        ] 3,724,480   33.7KB/s  eta 29s    "
       ]
      },
      {
       "output_type": "stream",
       "stream": "stdout",
       "text": [
        "\r",
        "81% [==============================>        ] 3,743,304   34.5KB/s  eta 29s    "
       ]
      },
      {
       "output_type": "stream",
       "stream": "stdout",
       "text": [
        "\r",
        "82% [===============================>       ] 3,762,128   34.7KB/s  eta 29s    "
       ]
      },
      {
       "output_type": "stream",
       "stream": "stdout",
       "text": [
        "\r",
        "82% [===============================>       ] 3,782,400   48.0KB/s  eta 29s    "
       ]
      },
      {
       "output_type": "stream",
       "stream": "stdout",
       "text": [
        "\r",
        "83% [===============================>       ] 3,809,416   52.3KB/s  eta 25s    "
       ]
      },
      {
       "output_type": "stream",
       "stream": "stdout",
       "text": [
        "\r",
        "83% [===============================>       ] 3,834,528   62.0KB/s  eta 25s    "
       ]
      },
      {
       "output_type": "stream",
       "stream": "stdout",
       "text": [
        "\r",
        "84% [===============================>       ] 3,841,768   61.7KB/s  eta 25s    "
       ]
      },
      {
       "output_type": "stream",
       "stream": "stdout",
       "text": [
        "\r",
        "84% [===============================>       ] 3,853,352   63.1KB/s  eta 25s    "
       ]
      },
      {
       "output_type": "stream",
       "stream": "stdout",
       "text": [
        "\r",
        "84% [===============================>       ] 3,864,936   60.8KB/s  eta 25s    "
       ]
      },
      {
       "output_type": "stream",
       "stream": "stdout",
       "text": [
        "\r",
        "84% [================================>      ] 3,876,520   61.0KB/s  eta 23s    "
       ]
      },
      {
       "output_type": "stream",
       "stream": "stdout",
       "text": [
        "\r",
        "85% [================================>      ] 3,891,000   62.5KB/s  eta 23s    "
       ]
      },
      {
       "output_type": "stream",
       "stream": "stdout",
       "text": [
        "\r",
        "85% [================================>      ] 3,904,032   62.5KB/s  eta 23s    "
       ]
      },
      {
       "output_type": "stream",
       "stream": "stdout",
       "text": [
        "\r",
        "85% [================================>      ] 3,919,960   59.6KB/s  eta 21s    "
       ]
      },
      {
       "output_type": "stream",
       "stream": "stdout",
       "text": [
        "\r",
        "86% [================================>      ] 3,935,888   60.4KB/s  eta 21s    "
       ]
      },
      {
       "output_type": "stream",
       "stream": "stdout",
       "text": [
        "\r",
        "86% [================================>      ] 3,950,368   60.4KB/s  eta 21s    "
       ]
      },
      {
       "output_type": "stream",
       "stream": "stdout",
       "text": [
        "\r",
        "86% [================================>      ] 3,964,352   60.0KB/s  eta 21s    "
       ]
      },
      {
       "output_type": "stream",
       "stream": "stdout",
       "text": [
        "\r",
        "87% [================================>      ] 3,976,432   59.7KB/s  eta 21s    "
       ]
      },
      {
       "output_type": "stream",
       "stream": "stdout",
       "text": [
        "\r",
        "87% [================================>      ] 3,980,776   57.3KB/s  eta 19s    "
       ]
      },
      {
       "output_type": "stream",
       "stream": "stdout",
       "text": [
        "\r",
        "87% [=================================>     ] 3,989,464   55.5KB/s  eta 19s    "
       ]
      },
      {
       "output_type": "stream",
       "stream": "stdout",
       "text": [
        "\r",
        "87% [=================================>     ] 3,998,152   54.3KB/s  eta 19s    "
       ]
      },
      {
       "output_type": "stream",
       "stream": "stdout",
       "text": [
        "\r",
        "87% [=================================>     ] 4,008,288   55.3KB/s  eta 19s    "
       ]
      },
      {
       "output_type": "stream",
       "stream": "stdout",
       "text": [
        "\r",
        "87% [=================================>     ] 4,016,976   53.3KB/s  eta 19s    "
       ]
      },
      {
       "output_type": "stream",
       "stream": "stdout",
       "text": [
        "\r",
        "88% [=================================>     ] 4,028,560   52.0KB/s  eta 18s    "
       ]
      },
      {
       "output_type": "stream",
       "stream": "stdout",
       "text": [
        "\r",
        "88% [=================================>     ] 4,038,696   50.0KB/s  eta 18s    "
       ]
      },
      {
       "output_type": "stream",
       "stream": "stdout",
       "text": [
        "\r",
        "88% [=================================>     ] 4,050,280   49.4KB/s  eta 18s    "
       ]
      },
      {
       "output_type": "stream",
       "stream": "stdout",
       "text": [
        "\r",
        "88% [=================================>     ] 4,063,312   47.0KB/s  eta 18s    "
       ]
      },
      {
       "output_type": "stream",
       "stream": "stdout",
       "text": [
        "\r",
        "89% [=================================>     ] 4,077,792   48.4KB/s  eta 18s    "
       ]
      },
      {
       "output_type": "stream",
       "stream": "stdout",
       "text": [
        "\r",
        "89% [=================================>     ] 4,090,824   48.7KB/s  eta 15s    "
       ]
      },
      {
       "output_type": "stream",
       "stream": "stdout",
       "text": [
        "\r",
        "89% [==================================>    ] 4,106,256   49.5KB/s  eta 15s    "
       ]
      },
      {
       "output_type": "stream",
       "stream": "stdout",
       "text": [
        "\r",
        "90% [==================================>    ] 4,127,976   46.8KB/s  eta 15s    "
       ]
      },
      {
       "output_type": "stream",
       "stream": "stdout",
       "text": [
        "\r",
        "90% [==================================>    ] 4,135,712   44.2KB/s  eta 14s    "
       ]
      },
      {
       "output_type": "stream",
       "stream": "stdout",
       "text": [
        "\r",
        "90% [==================================>    ] 4,141,504   44.0KB/s  eta 14s    "
       ]
      },
      {
       "output_type": "stream",
       "stream": "stdout",
       "text": [
        "\r",
        "90% [==================================>    ] 4,147,296   42.1KB/s  eta 14s    "
       ]
      },
      {
       "output_type": "stream",
       "stream": "stdout",
       "text": [
        "\r",
        "90% [==================================>    ] 4,154,536   40.7KB/s  eta 14s    "
       ]
      },
      {
       "output_type": "stream",
       "stream": "stdout",
       "text": [
        "\r",
        "91% [==================================>    ] 4,160,328   39.4KB/s  eta 14s    "
       ]
      },
      {
       "output_type": "stream",
       "stream": "stdout",
       "text": [
        "\r",
        "91% [==================================>    ] 4,169,016   38.6KB/s  eta 13s    "
       ]
      },
      {
       "output_type": "stream",
       "stream": "stdout",
       "text": [
        "\r",
        "91% [==================================>    ] 4,177,704   39.5KB/s  eta 13s    "
       ]
      },
      {
       "output_type": "stream",
       "stream": "stdout",
       "text": [
        "\r",
        "91% [==================================>    ] 4,187,840   39.8KB/s  eta 13s    "
       ]
      },
      {
       "output_type": "stream",
       "stream": "stdout",
       "text": [
        "\r",
        "91% [==================================>    ] 4,197,976   40.2KB/s  eta 13s    "
       ]
      },
      {
       "output_type": "stream",
       "stream": "stdout",
       "text": [
        "\r",
        "92% [==================================>    ] 4,208,112   40.2KB/s  eta 13s    "
       ]
      },
      {
       "output_type": "stream",
       "stream": "stdout",
       "text": [
        "\r",
        "92% [===================================>   ] 4,219,696   40.9KB/s  eta 11s    "
       ]
      },
      {
       "output_type": "stream",
       "stream": "stdout",
       "text": [
        "\r",
        "92% [===================================>   ] 4,231,280   40.7KB/s  eta 11s    "
       ]
      },
      {
       "output_type": "stream",
       "stream": "stdout",
       "text": [
        "\r",
        "92% [===================================>   ] 4,240,920   40.2KB/s  eta 11s    "
       ]
      },
      {
       "output_type": "stream",
       "stream": "stdout",
       "text": [
        "\r",
        "93% [===================================>   ] 4,255,896   40.7KB/s  eta 11s    "
       ]
      },
      {
       "output_type": "stream",
       "stream": "stdout",
       "text": [
        "\r",
        "93% [===================================>   ] 4,264,584   39.9KB/s  eta 11s    "
       ]
      },
      {
       "output_type": "stream",
       "stream": "stdout",
       "text": [
        "\r",
        "93% [===================================>   ] 4,273,272   38.7KB/s  eta 10s    "
       ]
      },
      {
       "output_type": "stream",
       "stream": "stdout",
       "text": [
        "\r",
        "93% [===================================>   ] 4,283,408   38.6KB/s  eta 10s    "
       ]
      },
      {
       "output_type": "stream",
       "stream": "stdout",
       "text": [
        "\r",
        "93% [===================================>   ] 4,292,096   37.7KB/s  eta 10s    "
       ]
      },
      {
       "output_type": "stream",
       "stream": "stdout",
       "text": [
        "\r",
        "94% [===================================>   ] 4,302,232   36.9KB/s  eta 10s    "
       ]
      },
      {
       "output_type": "stream",
       "stream": "stdout",
       "text": [
        "\r",
        "94% [===================================>   ] 4,313,816   39.3KB/s  eta 10s    "
       ]
      },
      {
       "output_type": "stream",
       "stream": "stdout",
       "text": [
        "\r",
        "94% [===================================>   ] 4,323,952   41.9KB/s  eta 8s     "
       ]
      },
      {
       "output_type": "stream",
       "stream": "stdout",
       "text": [
        "\r",
        "94% [===================================>   ] 4,334,088   43.9KB/s  eta 8s     "
       ]
      },
      {
       "output_type": "stream",
       "stream": "stdout",
       "text": [
        "\r",
        "95% [====================================>  ] 4,348,568   45.9KB/s  eta 8s     "
       ]
      },
      {
       "output_type": "stream",
       "stream": "stdout",
       "text": [
        "\r",
        "95% [====================================>  ] 4,364,496   47.7KB/s  eta 8s     "
       ]
      },
      {
       "output_type": "stream",
       "stream": "stdout",
       "text": [
        "\r",
        "95% [====================================>  ] 4,380,424   49.9KB/s  eta 8s     "
       ]
      },
      {
       "output_type": "stream",
       "stream": "stdout",
       "text": [
        "\r",
        "96% [====================================>  ] 4,396,352   51.6KB/s  eta 5s     "
       ]
      },
      {
       "output_type": "stream",
       "stream": "stdout",
       "text": [
        "\r",
        "96% [====================================>  ] 4,417,576   51.8KB/s  eta 5s     "
       ]
      },
      {
       "output_type": "stream",
       "stream": "stdout",
       "text": [
        "\r",
        "97% [====================================>  ] 4,439,792   55.3KB/s  eta 5s     "
       ]
      },
      {
       "output_type": "stream",
       "stream": "stdout",
       "text": [
        "\r",
        "97% [====================================>  ] 4,449,928   55.4KB/s  eta 5s     "
       ]
      },
      {
       "output_type": "stream",
       "stream": "stdout",
       "text": [
        "\r",
        "97% [=====================================> ] 4,460,064   53.9KB/s  eta 3s     "
       ]
      },
      {
       "output_type": "stream",
       "stream": "stdout",
       "text": [
        "\r",
        "97% [=====================================> ] 4,471,648   51.5KB/s  eta 3s     "
       ]
      },
      {
       "output_type": "stream",
       "stream": "stdout",
       "text": [
        "\r",
        "98% [=====================================> ] 4,482,736   50.3KB/s  eta 3s     "
       ]
      },
      {
       "output_type": "stream",
       "stream": "stdout",
       "text": [
        "\r",
        "98% [=====================================> ] 4,493,368   50.3KB/s  eta 3s     "
       ]
      },
      {
       "output_type": "stream",
       "stream": "stdout",
       "text": [
        "\r",
        "98% [=====================================> ] 4,501,560   47.7KB/s  eta 2s     "
       ]
      },
      {
       "output_type": "stream",
       "stream": "stdout",
       "text": [
        "\r",
        "98% [=====================================> ] 4,506,400   47.6KB/s  eta 2s     "
       ]
      },
      {
       "output_type": "stream",
       "stream": "stdout",
       "text": [
        "\r",
        "98% [=====================================> ] 4,507,848   44.1KB/s  eta 2s     "
       ]
      },
      {
       "output_type": "stream",
       "stream": "stdout",
       "text": [
        "\r",
        "98% [=====================================> ] 4,512,192   43.0KB/s  eta 2s     "
       ]
      },
      {
       "output_type": "stream",
       "stream": "stdout",
       "text": [
        "\r",
        "98% [=====================================> ] 4,516,536   42.1KB/s  eta 2s     "
       ]
      },
      {
       "output_type": "stream",
       "stream": "stdout",
       "text": [
        "\r",
        "98% [=====================================> ] 4,522,328   41.3KB/s  eta 2s     "
       ]
      },
      {
       "output_type": "stream",
       "stream": "stdout",
       "text": [
        "\r",
        "99% [=====================================> ] 4,528,120   40.2KB/s  eta 2s     "
       ]
      },
      {
       "output_type": "stream",
       "stream": "stdout",
       "text": [
        "\r",
        "99% [=====================================> ] 4,535,360   39.4KB/s  eta 2s     "
       ]
      },
      {
       "output_type": "stream",
       "stream": "stdout",
       "text": [
        "\r",
        "99% [=====================================> ] 4,541,152   38.0KB/s  eta 2s     "
       ]
      },
      {
       "output_type": "stream",
       "stream": "stdout",
       "text": [
        "\r",
        "99% [=====================================> ] 4,549,344   35.8KB/s  eta 1s     "
       ]
      },
      {
       "output_type": "stream",
       "stream": "stdout",
       "text": [
        "\r",
        "99% [=====================================> ] 4,557,080   34.4KB/s  eta 1s     "
       ]
      },
      {
       "output_type": "stream",
       "stream": "stdout",
       "text": [
        "\r",
        "99% [=====================================> ] 4,562,872   32.7KB/s  eta 1s     "
       ]
      },
      {
       "output_type": "stream",
       "stream": "stdout",
       "text": [
        "\r",
        "99% [=====================================> ] 4,568,664   30.1KB/s  eta 1s     \r",
        "100%[======================================>] 4,569,634   30.3KB/s   in 2m 25s \r\n",
        "\r\n",
        "2014-03-03 12:42:02 (30.8 KB/s) - \u2018enron3.tar.gz\u2019 saved [4569634/4569634]\r\n",
        "\r\n"
       ]
      },
      {
       "output_type": "stream",
       "stream": "stdout",
       "text": [
        "--2014-03-03 12:42:02--  http://www.aueb.gr/users/ion/data/enron-spam/preprocessed/enron4.tar.gz\r\n",
        "Resolving www.aueb.gr... "
       ]
      },
      {
       "output_type": "stream",
       "stream": "stdout",
       "text": [
        "195.251.255.138\r\n",
        "Connecting to www.aueb.gr|195.251.255.138|:80... "
       ]
      },
      {
       "output_type": "stream",
       "stream": "stdout",
       "text": [
        "connected.\r\n",
        "HTTP request sent, awaiting response... "
       ]
      },
      {
       "output_type": "stream",
       "stream": "stdout",
       "text": [
        "200 OK\r\n",
        "Length: 2533019 (2.4M) [application/x-gzip]\r\n",
        "Saving to: \u2018enron4.tar.gz\u2019\r\n",
        "\r\n",
        "\r",
        " 0% [                                       ] 0           --.-K/s              "
       ]
      },
      {
       "output_type": "stream",
       "stream": "stdout",
       "text": [
        "\r",
        " 0% [                                       ] 4,568       14.9KB/s             "
       ]
      },
      {
       "output_type": "stream",
       "stream": "stdout",
       "text": [
        "\r",
        " 0% [                                       ] 10,360      18.4KB/s             "
       ]
      },
      {
       "output_type": "stream",
       "stream": "stdout",
       "text": [
        "\r",
        " 0% [                                       ] 16,152      20.3KB/s             "
       ]
      },
      {
       "output_type": "stream",
       "stream": "stdout",
       "text": [
        "\r",
        " 0% [                                       ] 21,944      21.4KB/s             "
       ]
      },
      {
       "output_type": "stream",
       "stream": "stdout",
       "text": [
        "\r",
        " 1% [                                       ] 30,632      20.1KB/s             "
       ]
      },
      {
       "output_type": "stream",
       "stream": "stdout",
       "text": [
        "\r",
        " 1% [                                       ] 37,872      21.5KB/s             "
       ]
      },
      {
       "output_type": "stream",
       "stream": "stdout",
       "text": [
        "\r",
        " 1% [                                       ] 46,560      23.4KB/s             "
       ]
      },
      {
       "output_type": "stream",
       "stream": "stdout",
       "text": [
        "\r",
        " 2% [                                       ] 59,096      24.1KB/s             "
       ]
      },
      {
       "output_type": "stream",
       "stream": "stdout",
       "text": [
        "\r",
        " 2% [>                                      ] 68,280      25.5KB/s             "
       ]
      },
      {
       "output_type": "stream",
       "stream": "stdout",
       "text": [
        "\r",
        " 2% [>                                      ] 74,072      25.5KB/s             "
       ]
      },
      {
       "output_type": "stream",
       "stream": "stdout",
       "text": [
        "\r",
        " 3% [>                                      ] 79,864      24.8KB/s  eta 96s    "
       ]
      },
      {
       "output_type": "stream",
       "stream": "stdout",
       "text": [
        "\r",
        " 3% [>                                      ] 93,848      25.1KB/s  eta 96s    "
       ]
      },
      {
       "output_type": "stream",
       "stream": "stdout",
       "text": [
        "\r",
        " 3% [>                                      ] 98,688      24.9KB/s  eta 96s    "
       ]
      },
      {
       "output_type": "stream",
       "stream": "stdout",
       "text": [
        "\r",
        " 4% [>                                      ] 103,032     23.8KB/s  eta 1m 40s "
       ]
      },
      {
       "output_type": "stream",
       "stream": "stdout",
       "text": [
        "\r",
        " 4% [>                                      ] 107,376     23.6KB/s  eta 1m 40s "
       ]
      },
      {
       "output_type": "stream",
       "stream": "stdout",
       "text": [
        "\r",
        " 4% [>                                      ] 113,168     23.6KB/s  eta 1m 40s "
       ]
      },
      {
       "output_type": "stream",
       "stream": "stdout",
       "text": [
        "\r",
        " 4% [>                                      ] 118,960     23.2KB/s  eta 1m 40s "
       ]
      },
      {
       "output_type": "stream",
       "stream": "stdout",
       "text": [
        "\r",
        " 4% [>                                      ] 126,200     23.6KB/s  eta 1m 40s "
       ]
      },
      {
       "output_type": "stream",
       "stream": "stdout",
       "text": [
        "\r",
        " 5% [=>                                     ] 133,440     23.9KB/s  eta 1m 40s "
       ]
      },
      {
       "output_type": "stream",
       "stream": "stdout",
       "text": [
        "\r",
        " 5% [=>                                     ] 140,680     24.7KB/s  eta 1m 40s "
       ]
      },
      {
       "output_type": "stream",
       "stream": "stdout",
       "text": [
        "\r",
        " 5% [=>                                     ] 149,368     25.3KB/s  eta 1m 40s "
       ]
      },
      {
       "output_type": "stream",
       "stream": "stdout",
       "text": [
        "\r",
        " 6% [=>                                     ] 159,504     26.0KB/s  eta 1m 40s "
       ]
      },
      {
       "output_type": "stream",
       "stream": "stdout",
       "text": [
        "\r",
        " 6% [=>                                     ] 168,192     26.6KB/s  eta 90s    "
       ]
      },
      {
       "output_type": "stream",
       "stream": "stdout",
       "text": [
        "\r",
        " 6% [=>                                     ] 176,880     28.1KB/s  eta 90s    "
       ]
      },
      {
       "output_type": "stream",
       "stream": "stdout",
       "text": [
        "\r",
        " 7% [=>                                     ] 187,016     28.7KB/s  eta 90s    "
       ]
      },
      {
       "output_type": "stream",
       "stream": "stdout",
       "text": [
        "\r",
        " 7% [==>                                    ] 198,600     29.3KB/s  eta 90s    "
       ]
      },
      {
       "output_type": "stream",
       "stream": "stdout",
       "text": [
        "\r",
        " 8% [==>                                    ] 211,632     30.7KB/s  eta 90s    "
       ]
      },
      {
       "output_type": "stream",
       "stream": "stdout",
       "text": [
        "\r",
        " 8% [==>                                    ] 226,112     31.4KB/s  eta 77s    "
       ]
      },
      {
       "output_type": "stream",
       "stream": "stdout",
       "text": [
        "\r",
        " 8% [==>                                    ] 227,560     29.1KB/s  eta 77s    "
       ]
      },
      {
       "output_type": "stream",
       "stream": "stdout",
       "text": [
        "\r",
        " 9% [==>                                    ] 247,832     31.8KB/s  eta 77s    "
       ]
      },
      {
       "output_type": "stream",
       "stream": "stdout",
       "text": [
        "\r",
        "10% [===>                                   ] 263,264     32.4KB/s  eta 76s    "
       ]
      },
      {
       "output_type": "stream",
       "stream": "stdout",
       "text": [
        "\r",
        "10% [===>                                   ] 269,552     31.2KB/s  eta 76s    "
       ]
      },
      {
       "output_type": "stream",
       "stream": "stdout",
       "text": [
        "\r",
        "10% [===>                                   ] 278,240     32.0KB/s  eta 76s    "
       ]
      },
      {
       "output_type": "stream",
       "stream": "stdout",
       "text": [
        "\r",
        "11% [===>                                   ] 281,136     31.6KB/s  eta 76s    "
       ]
      },
      {
       "output_type": "stream",
       "stream": "stdout",
       "text": [
        "\r",
        "11% [===>                                   ] 286,928     31.9KB/s  eta 78s    "
       ]
      },
      {
       "output_type": "stream",
       "stream": "stdout",
       "text": [
        "\r",
        "11% [===>                                   ] 294,168     32.2KB/s  eta 78s    "
       ]
      },
      {
       "output_type": "stream",
       "stream": "stdout",
       "text": [
        "\r",
        "12% [===>                                   ] 305,256     32.1KB/s  eta 78s    "
       ]
      },
      {
       "output_type": "stream",
       "stream": "stdout",
       "text": [
        "\r",
        "12% [===>                                   ] 311,544     31.9KB/s  eta 78s    "
       ]
      },
      {
       "output_type": "stream",
       "stream": "stdout",
       "text": [
        "\r",
        "12% [===>                                   ] 314,440     31.3KB/s  eta 78s    "
       ]
      },
      {
       "output_type": "stream",
       "stream": "stdout",
       "text": [
        "\r",
        "12% [====>                                  ] 326,976     30.4KB/s  eta 78s    "
       ]
      },
      {
       "output_type": "stream",
       "stream": "stdout",
       "text": [
        "\r",
        "13% [====>                                  ] 330,368     29.6KB/s  eta 78s    "
       ]
      },
      {
       "output_type": "stream",
       "stream": "stdout",
       "text": [
        "\r",
        "13% [====>                                  ] 331,816     27.4KB/s  eta 81s    "
       ]
      },
      {
       "output_type": "stream",
       "stream": "stdout",
       "text": [
        "\r",
        "13% [====>                                  ] 336,160     25.9KB/s  eta 81s    "
       ]
      },
      {
       "output_type": "stream",
       "stream": "stdout",
       "text": [
        "\r",
        "13% [====>                                  ] 337,608     24.1KB/s  eta 81s    "
       ]
      },
      {
       "output_type": "stream",
       "stream": "stdout",
       "text": [
        "\r",
        "13% [====>                                  ] 339,056     22.1KB/s  eta 88s    "
       ]
      },
      {
       "output_type": "stream",
       "stream": "stdout",
       "text": [
        "\r",
        "13% [====>                                  ] 341,952     20.6KB/s  eta 88s    "
       ]
      },
      {
       "output_type": "stream",
       "stream": "stdout",
       "text": [
        "\r",
        "13% [====>                                  ] 347,744     19.4KB/s  eta 88s    "
       ]
      },
      {
       "output_type": "stream",
       "stream": "stdout",
       "text": [
        "\r",
        "13% [====>                                  ] 350,640     17.5KB/s  eta 88s    "
       ]
      },
      {
       "output_type": "stream",
       "stream": "stdout",
       "text": [
        "\r",
        "14% [====>                                  ] 356,432     18.6KB/s  eta 90s    "
       ]
      },
      {
       "output_type": "stream",
       "stream": "stdout",
       "text": [
        "\r",
        "14% [====>                                  ] 362,224     16.8KB/s  eta 90s    "
       ]
      },
      {
       "output_type": "stream",
       "stream": "stdout",
       "text": [
        "\r",
        "14% [====>                                  ] 370,416     15.8KB/s  eta 90s    "
       ]
      },
      {
       "output_type": "stream",
       "stream": "stdout",
       "text": [
        "\r",
        "14% [====>                                  ] 375,256     16.0KB/s  eta 90s    "
       ]
      },
      {
       "output_type": "stream",
       "stream": "stdout",
       "text": [
        "\r",
        "14% [====>                                  ] 379,600     15.3KB/s  eta 91s    "
       ]
      },
      {
       "output_type": "stream",
       "stream": "stdout",
       "text": [
        "\r",
        "15% [====>                                  ] 383,944     14.8KB/s  eta 91s    "
       ]
      },
      {
       "output_type": "stream",
       "stream": "stdout",
       "text": [
        "\r",
        "15% [=====>                                 ] 392,136     14.8KB/s  eta 91s    "
       ]
      },
      {
       "output_type": "stream",
       "stream": "stdout",
       "text": [
        "\r",
        "15% [=====>                                 ] 394,080     14.1KB/s  eta 93s    "
       ]
      },
      {
       "output_type": "stream",
       "stream": "stdout",
       "text": [
        "\r",
        "15% [=====>                                 ] 396,976     13.1KB/s  eta 93s    "
       ]
      },
      {
       "output_type": "stream",
       "stream": "stdout",
       "text": [
        "\r",
        "15% [=====>                                 ] 401,320     12.1KB/s  eta 96s    "
       ]
      },
      {
       "output_type": "stream",
       "stream": "stdout",
       "text": [
        "\r",
        "16% [=====>                                 ] 405,664     12.3KB/s  eta 96s    "
       ]
      },
      {
       "output_type": "stream",
       "stream": "stdout",
       "text": [
        "\r",
        "16% [=====>                                 ] 411,456     12.0KB/s  eta 96s    "
       ]
      },
      {
       "output_type": "stream",
       "stream": "stdout",
       "text": [
        "\r",
        "16% [=====>                                 ] 417,248     12.3KB/s  eta 96s    "
       ]
      },
      {
       "output_type": "stream",
       "stream": "stdout",
       "text": [
        "\r",
        "16% [=====>                                 ] 418,696     12.0KB/s  eta 98s    "
       ]
      },
      {
       "output_type": "stream",
       "stream": "stdout",
       "text": [
        "\r",
        "16% [=====>                                 ] 426,888     13.1KB/s  eta 98s    "
       ]
      },
      {
       "output_type": "stream",
       "stream": "stdout",
       "text": [
        "\r",
        "16% [=====>                                 ] 430,280     13.7KB/s  eta 98s    "
       ]
      },
      {
       "output_type": "stream",
       "stream": "stdout",
       "text": [
        "\r",
        "17% [=====>                                 ] 433,176     13.1KB/s  eta 1m 40s "
       ]
      },
      {
       "output_type": "stream",
       "stream": "stdout",
       "text": [
        "\r",
        "17% [=====>                                 ] 437,520     13.3KB/s  eta 1m 40s "
       ]
      },
      {
       "output_type": "stream",
       "stream": "stdout",
       "text": [
        "\r",
        "17% [=====>                                 ] 441,864     13.3KB/s  eta 1m 40s "
       ]
      },
      {
       "output_type": "stream",
       "stream": "stdout",
       "text": [
        "\r",
        "17% [=====>                                 ] 447,656     13.8KB/s  eta 1m 40s "
       ]
      },
      {
       "output_type": "stream",
       "stream": "stdout",
       "text": [
        "\r",
        "17% [======>                                ] 454,896     14.2KB/s  eta 1m 40s "
       ]
      },
      {
       "output_type": "stream",
       "stream": "stdout",
       "text": [
        "\r",
        "18% [======>                                ] 459,240     13.9KB/s  eta 98s    "
       ]
      },
      {
       "output_type": "stream",
       "stream": "stdout",
       "text": [
        "\r",
        "18% [======>                                ] 466,480     14.3KB/s  eta 98s    "
       ]
      },
      {
       "output_type": "stream",
       "stream": "stdout",
       "text": [
        "\r",
        "18% [======>                                ] 475,168     14.9KB/s  eta 98s    "
       ]
      },
      {
       "output_type": "stream",
       "stream": "stdout",
       "text": [
        "\r",
        "18% [======>                                ] 479,512     14.6KB/s  eta 98s    "
       ]
      },
      {
       "output_type": "stream",
       "stream": "stdout",
       "text": [
        "\r",
        "18% [======>                                ] 480,960     14.9KB/s  eta 98s    "
       ]
      },
      {
       "output_type": "stream",
       "stream": "stdout",
       "text": [
        "\r",
        "19% [======>                                ] 489,152     15.3KB/s  eta 98s    "
       ]
      },
      {
       "output_type": "stream",
       "stream": "stdout",
       "text": [
        "\r",
        "19% [======>                                ] 495,440     16.0KB/s  eta 98s    "
       ]
      },
      {
       "output_type": "stream",
       "stream": "stdout",
       "text": [
        "\r",
        "19% [======>                                ] 499,784     16.6KB/s  eta 98s    "
       ]
      },
      {
       "output_type": "stream",
       "stream": "stdout",
       "text": [
        "\r",
        "19% [======>                                ] 505,576     17.9KB/s  eta 98s    "
       ]
      },
      {
       "output_type": "stream",
       "stream": "stdout",
       "text": [
        "\r",
        "20% [======>                                ] 511,368     18.2KB/s  eta 95s    "
       ]
      },
      {
       "output_type": "stream",
       "stream": "stdout",
       "text": [
        "\r",
        "20% [======>                                ] 517,160     18.1KB/s  eta 95s    "
       ]
      },
      {
       "output_type": "stream",
       "stream": "stdout",
       "text": [
        "\r",
        "20% [=======>                               ] 524,400     18.4KB/s  eta 95s    "
       ]
      },
      {
       "output_type": "stream",
       "stream": "stdout",
       "text": [
        "\r",
        "20% [=======>                               ] 531,640     20.6KB/s  eta 95s    "
       ]
      },
      {
       "output_type": "stream",
       "stream": "stdout",
       "text": [
        "\r",
        "21% [=======>                               ] 540,328     20.6KB/s  eta 95s    "
       ]
      },
      {
       "output_type": "stream",
       "stream": "stdout",
       "text": [
        "\r",
        "21% [=======>                               ] 550,464     21.9KB/s  eta 91s    "
       ]
      },
      {
       "output_type": "stream",
       "stream": "stdout",
       "text": [
        "\r",
        "22% [=======>                               ] 559,152     25.9KB/s  eta 91s    "
       ]
      },
      {
       "output_type": "stream",
       "stream": "stdout",
       "text": [
        "\r",
        "22% [=======>                               ] 569,288     26.0KB/s  eta 91s    "
       ]
      },
      {
       "output_type": "stream",
       "stream": "stdout",
       "text": [
        "\r",
        "22% [=======>                               ] 580,872     26.9KB/s  eta 91s    "
       ]
      },
      {
       "output_type": "stream",
       "stream": "stdout",
       "text": [
        "\r",
        "23% [========>                              ] 592,456     28.1KB/s  eta 86s    "
       ]
      },
      {
       "output_type": "stream",
       "stream": "stdout",
       "text": [
        "\r",
        "23% [========>                              ] 605,488     29.3KB/s  eta 86s    "
       ]
      },
      {
       "output_type": "stream",
       "stream": "stdout",
       "text": [
        "\r",
        "24% [========>                              ] 618,520     30.8KB/s  eta 86s    "
       ]
      },
      {
       "output_type": "stream",
       "stream": "stdout",
       "text": [
        "\r",
        "24% [========>                              ] 622,864     28.5KB/s  eta 84s    "
       ]
      },
      {
       "output_type": "stream",
       "stream": "stdout",
       "text": [
        "\r",
        "24% [========>                              ] 631,056     28.0KB/s  eta 84s    "
       ]
      },
      {
       "output_type": "stream",
       "stream": "stdout",
       "text": [
        "\r",
        "25% [========>                              ] 646,032     30.9KB/s  eta 84s    "
       ]
      },
      {
       "output_type": "stream",
       "stream": "stdout",
       "text": [
        "\r",
        "25% [========>                              ] 648,928     30.5KB/s  eta 84s    "
       ]
      },
      {
       "output_type": "stream",
       "stream": "stdout",
       "text": [
        "\r",
        "25% [=========>                             ] 653,272     29.3KB/s  eta 82s    "
       ]
      },
      {
       "output_type": "stream",
       "stream": "stdout",
       "text": [
        "\r",
        "26% [=========>                             ] 660,512     29.5KB/s  eta 82s    "
       ]
      },
      {
       "output_type": "stream",
       "stream": "stdout",
       "text": [
        "\r",
        "26% [=========>                             ] 667,752     30.3KB/s  eta 82s    "
       ]
      },
      {
       "output_type": "stream",
       "stream": "stdout",
       "text": [
        "\r",
        "26% [=========>                             ] 676,440     30.8KB/s  eta 82s    "
       ]
      },
      {
       "output_type": "stream",
       "stream": "stdout",
       "text": [
        "\r",
        "27% [=========>                             ] 686,576     31.6KB/s  eta 82s    "
       ]
      },
      {
       "output_type": "stream",
       "stream": "stdout",
       "text": [
        "\r",
        "27% [=========>                             ] 700,560     31.8KB/s  eta 78s    "
       ]
      },
      {
       "output_type": "stream",
       "stream": "stdout",
       "text": [
        "\r",
        "28% [=========>                             ] 711,192     32.4KB/s  eta 78s    "
       ]
      },
      {
       "output_type": "stream",
       "stream": "stdout",
       "text": [
        "\r",
        "28% [==========>                            ] 718,432     32.3KB/s  eta 78s    "
       ]
      },
      {
       "output_type": "stream",
       "stream": "stdout",
       "text": [
        "\r",
        "28% [==========>                            ] 725,672     31.9KB/s  eta 78s    "
       ]
      },
      {
       "output_type": "stream",
       "stream": "stdout",
       "text": [
        "\r",
        "28% [==========>                            ] 734,360     31.9KB/s  eta 78s    "
       ]
      },
      {
       "output_type": "stream",
       "stream": "stdout",
       "text": [
        "\r",
        "29% [==========>                            ] 744,496     31.8KB/s  eta 75s    "
       ]
      },
      {
       "output_type": "stream",
       "stream": "stdout",
       "text": [
        "\r",
        "29% [==========>                            ] 753,184     32.8KB/s  eta 75s    "
       ]
      },
      {
       "output_type": "stream",
       "stream": "stdout",
       "text": [
        "\r",
        "30% [==========>                            ] 763,320     33.1KB/s  eta 75s    "
       ]
      },
      {
       "output_type": "stream",
       "stream": "stdout",
       "text": [
        "\r",
        "30% [==========>                            ] 774,904     33.1KB/s  eta 75s    "
       ]
      },
      {
       "output_type": "stream",
       "stream": "stdout",
       "text": [
        "\r",
        "31% [===========>                           ] 786,488     32.9KB/s  eta 75s    "
       ]
      },
      {
       "output_type": "stream",
       "stream": "stdout",
       "text": [
        "\r",
        "31% [===========>                           ] 798,072     32.7KB/s  eta 70s    "
       ]
      },
      {
       "output_type": "stream",
       "stream": "stdout",
       "text": [
        "\r",
        "32% [===========>                           ] 814,952     36.1KB/s  eta 70s    "
       ]
      },
      {
       "output_type": "stream",
       "stream": "stdout",
       "text": [
        "\r",
        "32% [===========>                           ] 829,928     36.3KB/s  eta 70s    "
       ]
      },
      {
       "output_type": "stream",
       "stream": "stdout",
       "text": [
        "\r",
        "33% [===========>                           ] 838,616     38.3KB/s  eta 70s    "
       ]
      },
      {
       "output_type": "stream",
       "stream": "stdout",
       "text": [
        "\r",
        "33% [============>                          ] 847,304     39.8KB/s  eta 66s    "
       ]
      },
      {
       "output_type": "stream",
       "stream": "stdout",
       "text": [
        "\r",
        "33% [============>                          ] 857,440     40.4KB/s  eta 66s    "
       ]
      },
      {
       "output_type": "stream",
       "stream": "stdout",
       "text": [
        "\r",
        "34% [============>                          ] 867,576     40.8KB/s  eta 66s    "
       ]
      },
      {
       "output_type": "stream",
       "stream": "stdout",
       "text": [
        "\r",
        "34% [============>                          ] 877,216     40.0KB/s  eta 66s    "
       ]
      },
      {
       "output_type": "stream",
       "stream": "stdout",
       "text": [
        "\r",
        "35% [============>                          ] 887,848     40.1KB/s  eta 64s    "
       ]
      },
      {
       "output_type": "stream",
       "stream": "stdout",
       "text": [
        "\r",
        "35% [============>                          ] 895,088     40.3KB/s  eta 64s    "
       ]
      },
      {
       "output_type": "stream",
       "stream": "stdout",
       "text": [
        "\r",
        "35% [============>                          ] 902,328     39.2KB/s  eta 64s    "
       ]
      },
      {
       "output_type": "stream",
       "stream": "stdout",
       "text": [
        "\r",
        "35% [=============>                         ] 911,016     39.2KB/s  eta 64s    "
       ]
      },
      {
       "output_type": "stream",
       "stream": "stdout",
       "text": [
        "\r",
        "36% [=============>                         ] 921,152     39.5KB/s  eta 62s    "
       ]
      },
      {
       "output_type": "stream",
       "stream": "stdout",
       "text": [
        "\r",
        "36% [=============>                         ] 922,600     37.6KB/s  eta 62s    "
       ]
      },
      {
       "output_type": "stream",
       "stream": "stdout",
       "text": [
        "\r",
        "36% [=============>                         ] 931,288     36.1KB/s  eta 62s    "
       ]
      },
      {
       "output_type": "stream",
       "stream": "stdout",
       "text": [
        "\r",
        "36% [=============>                         ] 932,736     34.4KB/s  eta 62s    "
       ]
      },
      {
       "output_type": "stream",
       "stream": "stdout",
       "text": [
        "\r",
        "36% [=============>                         ] 934,184     31.4KB/s  eta 63s    "
       ]
      },
      {
       "output_type": "stream",
       "stream": "stdout",
       "text": [
        "\r",
        "36% [=============>                         ] 937,080     29.7KB/s  eta 63s    "
       ]
      },
      {
       "output_type": "stream",
       "stream": "stdout",
       "text": [
        "\r",
        "37% [=============>                         ] 941,424     26.8KB/s  eta 63s    "
       ]
      },
      {
       "output_type": "stream",
       "stream": "stdout",
       "text": [
        "\r",
        "37% [=============>                         ] 947,216     25.5KB/s  eta 63s    "
       ]
      },
      {
       "output_type": "stream",
       "stream": "stdout",
       "text": [
        "\r",
        "37% [=============>                         ] 953,008     25.4KB/s  eta 63s    "
       ]
      },
      {
       "output_type": "stream",
       "stream": "stdout",
       "text": [
        "\r",
        "37% [=============>                         ] 960,248     24.0KB/s  eta 63s    "
       ]
      },
      {
       "output_type": "stream",
       "stream": "stdout",
       "text": [
        "\r",
        "38% [=============>                         ] 967,488     23.8KB/s  eta 63s    "
       ]
      },
      {
       "output_type": "stream",
       "stream": "stdout",
       "text": [
        "\r",
        "38% [==============>                        ] 976,176     23.8KB/s  eta 63s    "
       ]
      },
      {
       "output_type": "stream",
       "stream": "stdout",
       "text": [
        "\r",
        "38% [==============>                        ] 984,864     23.6KB/s  eta 63s    "
       ]
      },
      {
       "output_type": "stream",
       "stream": "stdout",
       "text": [
        "\r",
        "39% [==============>                        ] 995,000     23.6KB/s  eta 60s    "
       ]
      },
      {
       "output_type": "stream",
       "stream": "stdout",
       "text": [
        "\r",
        "39% [==============>                        ] 1,005,136   24.2KB/s  eta 60s    "
       ]
      },
      {
       "output_type": "stream",
       "stream": "stdout",
       "text": [
        "\r",
        "40% [==============>                        ] 1,020,568   23.1KB/s  eta 60s    "
       ]
      },
      {
       "output_type": "stream",
       "stream": "stdout",
       "text": [
        "\r",
        "40% [==============>                        ] 1,031,200   24.0KB/s  eta 58s    "
       ]
      },
      {
       "output_type": "stream",
       "stream": "stdout",
       "text": [
        "\r",
        "40% [==============>                        ] 1,035,544   23.6KB/s  eta 58s    "
       ]
      },
      {
       "output_type": "stream",
       "stream": "stdout",
       "text": [
        "\r",
        "41% [===============>                       ] 1,041,336   23.2KB/s  eta 58s    "
       ]
      },
      {
       "output_type": "stream",
       "stream": "stdout",
       "text": [
        "\r",
        "41% [===============>                       ] 1,050,024   23.1KB/s  eta 58s    "
       ]
      },
      {
       "output_type": "stream",
       "stream": "stdout",
       "text": [
        "\r",
        "41% [===============>                       ] 1,058,712   24.8KB/s  eta 58s    "
       ]
      },
      {
       "output_type": "stream",
       "stream": "stdout",
       "text": [
        "\r",
        "42% [===============>                       ] 1,067,400   25.9KB/s  eta 57s    "
       ]
      },
      {
       "output_type": "stream",
       "stream": "stdout",
       "text": [
        "\r",
        "42% [===============>                       ] 1,077,536   26.3KB/s  eta 57s    "
       ]
      },
      {
       "output_type": "stream",
       "stream": "stdout",
       "text": [
        "\r",
        "42% [===============>                       ] 1,086,224   27.6KB/s  eta 57s    "
       ]
      },
      {
       "output_type": "stream",
       "stream": "stdout",
       "text": [
        "\r",
        "43% [===============>                       ] 1,097,808   30.5KB/s  eta 57s    "
       ]
      },
      {
       "output_type": "stream",
       "stream": "stdout",
       "text": [
        "\r",
        "43% [================>                      ] 1,109,392   32.1KB/s  eta 57s    "
       ]
      },
      {
       "output_type": "stream",
       "stream": "stdout",
       "text": [
        "\r",
        "44% [================>                      ] 1,122,424   35.7KB/s  eta 53s    "
       ]
      },
      {
       "output_type": "stream",
       "stream": "stdout",
       "text": [
        "\r",
        "44% [================>                      ] 1,136,904   37.4KB/s  eta 53s    "
       ]
      },
      {
       "output_type": "stream",
       "stream": "stdout",
       "text": [
        "\r",
        "45% [================>                      ] 1,149,440   37.6KB/s  eta 53s    "
       ]
      },
      {
       "output_type": "stream",
       "stream": "stdout",
       "text": [
        "\r",
        "45% [================>                      ] 1,164,416   39.2KB/s  eta 53s    "
       ]
      },
      {
       "output_type": "stream",
       "stream": "stdout",
       "text": [
        "\r",
        "46% [=================>                     ] 1,173,104   39.2KB/s  eta 50s    "
       ]
      },
      {
       "output_type": "stream",
       "stream": "stdout",
       "text": [
        "\r",
        "46% [=================>                     ] 1,181,792   39.1KB/s  eta 50s    "
       ]
      },
      {
       "output_type": "stream",
       "stream": "stdout",
       "text": [
        "\r",
        "47% [=================>                     ] 1,197,224   35.9KB/s  eta 50s    "
       ]
      },
      {
       "output_type": "stream",
       "stream": "stdout",
       "text": [
        "\r",
        "47% [=================>                     ] 1,206,408   36.9KB/s  eta 50s    "
       ]
      },
      {
       "output_type": "stream",
       "stream": "stdout",
       "text": [
        "\r",
        "47% [=================>                     ] 1,209,304   32.7KB/s  eta 50s    "
       ]
      },
      {
       "output_type": "stream",
       "stream": "stdout",
       "text": [
        "\r",
        "48% [=================>                     ] 1,218,944   31.4KB/s  eta 50s    "
       ]
      },
      {
       "output_type": "stream",
       "stream": "stdout",
       "text": [
        "\r",
        "48% [=================>                     ] 1,220,888   27.0KB/s  eta 51s    "
       ]
      },
      {
       "output_type": "stream",
       "stream": "stdout",
       "text": [
        "\r",
        "48% [=================>                     ] 1,228,128   27.1KB/s  eta 51s    "
       ]
      },
      {
       "output_type": "stream",
       "stream": "stdout",
       "text": [
        "\r",
        "48% [=================>                     ] 1,229,576   26.1KB/s  eta 51s    "
       ]
      },
      {
       "output_type": "stream",
       "stream": "stdout",
       "text": [
        "\r",
        "48% [=================>                     ] 1,231,024   24.9KB/s  eta 51s    "
       ]
      },
      {
       "output_type": "stream",
       "stream": "stdout",
       "text": [
        "\r",
        "48% [==================>                    ] 1,235,368   24.1KB/s  eta 51s    "
       ]
      },
      {
       "output_type": "stream",
       "stream": "stdout",
       "text": [
        "\r",
        "48% [==================>                    ] 1,238,264   23.1KB/s  eta 51s    "
       ]
      },
      {
       "output_type": "stream",
       "stream": "stdout",
       "text": [
        "\r",
        "49% [==================>                    ] 1,242,608   22.5KB/s  eta 51s    "
       ]
      },
      {
       "output_type": "stream",
       "stream": "stdout",
       "text": [
        "\r",
        "49% [==================>                    ] 1,245,504   21.5KB/s  eta 51s    "
       ]
      },
      {
       "output_type": "stream",
       "stream": "stdout",
       "text": [
        "\r",
        "49% [==================>                    ] 1,251,296   20.8KB/s  eta 51s    "
       ]
      },
      {
       "output_type": "stream",
       "stream": "stdout",
       "text": [
        "\r",
        "49% [==================>                    ] 1,257,088   19.6KB/s  eta 50s    "
       ]
      },
      {
       "output_type": "stream",
       "stream": "stdout",
       "text": [
        "\r",
        "49% [==================>                    ] 1,264,328   18.8KB/s  eta 50s    "
       ]
      },
      {
       "output_type": "stream",
       "stream": "stdout",
       "text": [
        "\r",
        "50% [==================>                    ] 1,271,568   17.7KB/s  eta 50s    "
       ]
      },
      {
       "output_type": "stream",
       "stream": "stdout",
       "text": [
        "\r",
        "50% [==================>                    ] 1,280,256   17.9KB/s  eta 50s    "
       ]
      },
      {
       "output_type": "stream",
       "stream": "stdout",
       "text": [
        "\r",
        "50% [==================>                    ] 1,291,344   16.9KB/s  eta 49s    "
       ]
      },
      {
       "output_type": "stream",
       "stream": "stdout",
       "text": [
        "\r",
        "51% [===================>                   ] 1,299,080   16.8KB/s  eta 49s    "
       ]
      },
      {
       "output_type": "stream",
       "stream": "stdout",
       "text": [
        "\r",
        "51% [===================>                   ] 1,303,424   16.6KB/s  eta 49s    "
       ]
      },
      {
       "output_type": "stream",
       "stream": "stdout",
       "text": [
        "\r",
        "51% [===================>                   ] 1,307,768   15.9KB/s  eta 49s    "
       ]
      },
      {
       "output_type": "stream",
       "stream": "stdout",
       "text": [
        "\r",
        "51% [===================>                   ] 1,313,560   16.0KB/s  eta 49s    "
       ]
      },
      {
       "output_type": "stream",
       "stream": "stdout",
       "text": [
        "\r",
        "52% [===================>                   ] 1,320,800   15.8KB/s  eta 48s    "
       ]
      },
      {
       "output_type": "stream",
       "stream": "stdout",
       "text": [
        "\r",
        "52% [===================>                   ] 1,329,488   17.6KB/s  eta 48s    "
       ]
      },
      {
       "output_type": "stream",
       "stream": "stdout",
       "text": [
        "\r",
        "52% [===================>                   ] 1,338,176   18.5KB/s  eta 48s    "
       ]
      },
      {
       "output_type": "stream",
       "stream": "stdout",
       "text": [
        "\r",
        "53% [===================>                   ] 1,348,312   22.2KB/s  eta 48s    "
       ]
      },
      {
       "output_type": "stream",
       "stream": "stdout",
       "text": [
        "\r",
        "53% [===================>                   ] 1,358,448   24.2KB/s  eta 48s    "
       ]
      },
      {
       "output_type": "stream",
       "stream": "stdout",
       "text": [
        "\r",
        "53% [====================>                  ] 1,367,136   26.0KB/s  eta 45s    "
       ]
      },
      {
       "output_type": "stream",
       "stream": "stdout",
       "text": [
        "\r",
        "54% [====================>                  ] 1,377,272   27.6KB/s  eta 45s    "
       ]
      },
      {
       "output_type": "stream",
       "stream": "stdout",
       "text": [
        "\r",
        "54% [====================>                  ] 1,388,360   27.6KB/s  eta 45s    "
       ]
      },
      {
       "output_type": "stream",
       "stream": "stdout",
       "text": [
        "\r",
        "55% [====================>                  ] 1,396,096   28.2KB/s  eta 45s    "
       ]
      },
      {
       "output_type": "stream",
       "stream": "stdout",
       "text": [
        "\r",
        "55% [====================>                  ] 1,398,992   27.3KB/s  eta 44s    "
       ]
      },
      {
       "output_type": "stream",
       "stream": "stdout",
       "text": [
        "\r",
        "55% [====================>                  ] 1,404,784   26.9KB/s  eta 44s    "
       ]
      },
      {
       "output_type": "stream",
       "stream": "stdout",
       "text": [
        "\r",
        "55% [====================>                  ] 1,412,024   27.8KB/s  eta 44s    "
       ]
      },
      {
       "output_type": "stream",
       "stream": "stdout",
       "text": [
        "\r",
        "56% [====================>                  ] 1,419,264   28.0KB/s  eta 44s    "
       ]
      },
      {
       "output_type": "stream",
       "stream": "stdout",
       "text": [
        "\r",
        "56% [====================>                  ] 1,427,952   28.4KB/s  eta 44s    "
       ]
      },
      {
       "output_type": "stream",
       "stream": "stdout",
       "text": [
        "\r",
        "56% [=====================>                 ] 1,438,088   28.7KB/s  eta 42s    "
       ]
      },
      {
       "output_type": "stream",
       "stream": "stdout",
       "text": [
        "\r",
        "57% [=====================>                 ] 1,446,776   29.5KB/s  eta 42s    "
       ]
      },
      {
       "output_type": "stream",
       "stream": "stdout",
       "text": [
        "\r",
        "57% [=====================>                 ] 1,456,912   29.8KB/s  eta 42s    "
       ]
      },
      {
       "output_type": "stream",
       "stream": "stdout",
       "text": [
        "\r",
        "57% [=====================>                 ] 1,462,704   30.0KB/s  eta 42s    "
       ]
      },
      {
       "output_type": "stream",
       "stream": "stdout",
       "text": [
        "\r",
        "58% [=====================>                 ] 1,475,736   31.4KB/s  eta 42s    "
       ]
      },
      {
       "output_type": "stream",
       "stream": "stdout",
       "text": [
        "\r",
        "58% [=====================>                 ] 1,480,080   31.1KB/s  eta 40s    "
       ]
      },
      {
       "output_type": "stream",
       "stream": "stdout",
       "text": [
        "\r",
        "58% [=====================>                 ] 1,487,320   30.8KB/s  eta 40s    "
       ]
      },
      {
       "output_type": "stream",
       "stream": "stdout",
       "text": [
        "\r",
        "59% [======================>                ] 1,494,560   30.1KB/s  eta 40s    "
       ]
      },
      {
       "output_type": "stream",
       "stream": "stdout",
       "text": [
        "\r",
        "59% [======================>                ] 1,505,648   28.5KB/s  eta 40s    "
       ]
      },
      {
       "output_type": "stream",
       "stream": "stdout",
       "text": [
        "\r",
        "59% [======================>                ] 1,509,040   24.7KB/s  eta 40s    "
       ]
      },
      {
       "output_type": "stream",
       "stream": "stdout",
       "text": [
        "\r",
        "59% [======================>                ] 1,516,280   23.3KB/s  eta 40s    "
       ]
      },
      {
       "output_type": "stream",
       "stream": "stdout",
       "text": [
        "\r",
        "59% [======================>                ] 1,519,176   21.9KB/s  eta 40s    "
       ]
      },
      {
       "output_type": "stream",
       "stream": "stdout",
       "text": [
        "\r",
        "60% [======================>                ] 1,524,968   20.2KB/s  eta 40s    "
       ]
      },
      {
       "output_type": "stream",
       "stream": "stdout",
       "text": [
        "\r",
        "60% [======================>                ] 1,526,416   19.3KB/s  eta 40s    "
       ]
      },
      {
       "output_type": "stream",
       "stream": "stdout",
       "text": [
        "\r",
        "60% [======================>                ] 1,527,864   19.1KB/s  eta 40s    "
       ]
      },
      {
       "output_type": "stream",
       "stream": "stdout",
       "text": [
        "\r",
        "60% [======================>                ] 1,530,760   17.4KB/s  eta 40s    "
       ]
      },
      {
       "output_type": "stream",
       "stream": "stdout",
       "text": [
        "\r",
        "60% [======================>                ] 1,535,104   16.8KB/s  eta 40s    "
       ]
      },
      {
       "output_type": "stream",
       "stream": "stdout",
       "text": [
        "\r",
        "60% [======================>                ] 1,540,896   16.3KB/s  eta 40s    "
       ]
      },
      {
       "output_type": "stream",
       "stream": "stdout",
       "text": [
        "\r",
        "61% [======================>                ] 1,546,688   16.0KB/s  eta 40s    "
       ]
      },
      {
       "output_type": "stream",
       "stream": "stdout",
       "text": [
        "\r",
        "61% [======================>                ] 1,553,928   15.8KB/s  eta 40s    "
       ]
      },
      {
       "output_type": "stream",
       "stream": "stdout",
       "text": [
        "\r",
        "61% [=======================>               ] 1,559,720   15.2KB/s  eta 40s    "
       ]
      },
      {
       "output_type": "stream",
       "stream": "stdout",
       "text": [
        "\r",
        "61% [=======================>               ] 1,566,960   14.7KB/s  eta 40s    "
       ]
      },
      {
       "output_type": "stream",
       "stream": "stdout",
       "text": [
        "\r",
        "62% [=======================>               ] 1,575,648   15.1KB/s  eta 40s    "
       ]
      },
      {
       "output_type": "stream",
       "stream": "stdout",
       "text": [
        "\r",
        "62% [=======================>               ] 1,585,784   15.3KB/s  eta 40s    "
       ]
      },
      {
       "output_type": "stream",
       "stream": "stdout",
       "text": [
        "\r",
        "62% [=======================>               ] 1,594,472   15.2KB/s  eta 38s    "
       ]
      },
      {
       "output_type": "stream",
       "stream": "stdout",
       "text": [
        "\r",
        "63% [=======================>               ] 1,606,056   16.2KB/s  eta 38s    "
       ]
      },
      {
       "output_type": "stream",
       "stream": "stdout",
       "text": [
        "\r",
        "63% [=======================>               ] 1,617,640   16.6KB/s  eta 38s    "
       ]
      },
      {
       "output_type": "stream",
       "stream": "stdout",
       "text": [
        "\r",
        "64% [========================>              ] 1,630,672   17.5KB/s  eta 38s    "
       ]
      },
      {
       "output_type": "stream",
       "stream": "stdout",
       "text": [
        "\r",
        "64% [========================>              ] 1,643,704   18.4KB/s  eta 35s    "
       ]
      },
      {
       "output_type": "stream",
       "stream": "stdout",
       "text": [
        "\r",
        "65% [========================>              ] 1,656,736   20.6KB/s  eta 35s    "
       ]
      },
      {
       "output_type": "stream",
       "stream": "stdout",
       "text": [
        "\r",
        "65% [========================>              ] 1,658,184   20.6KB/s  eta 35s    "
       ]
      },
      {
       "output_type": "stream",
       "stream": "stdout",
       "text": [
        "\r",
        "66% [========================>              ] 1,672,664   23.8KB/s  eta 34s    "
       ]
      },
      {
       "output_type": "stream",
       "stream": "stdout",
       "text": [
        "\r",
        "66% [========================>              ] 1,687,144   25.9KB/s  eta 34s    "
       ]
      },
      {
       "output_type": "stream",
       "stream": "stdout",
       "text": [
        "\r",
        "67% [=========================>             ] 1,706,920   28.4KB/s  eta 34s    "
       ]
      },
      {
       "output_type": "stream",
       "stream": "stdout",
       "text": [
        "\r",
        "68% [=========================>             ] 1,723,344   26.8KB/s  eta 32s    "
       ]
      },
      {
       "output_type": "stream",
       "stream": "stdout",
       "text": [
        "\r",
        "68% [=========================>             ] 1,739,272   30.9KB/s  eta 32s    "
       ]
      },
      {
       "output_type": "stream",
       "stream": "stdout",
       "text": [
        "\r",
        "68% [=========================>             ] 1,742,168   30.8KB/s  eta 32s    "
       ]
      },
      {
       "output_type": "stream",
       "stream": "stdout",
       "text": [
        "\r",
        "68% [=========================>             ] 1,746,512   30.1KB/s  eta 31s    "
       ]
      },
      {
       "output_type": "stream",
       "stream": "stdout",
       "text": [
        "\r",
        "69% [=========================>             ] 1,752,304   29.6KB/s  eta 31s    "
       ]
      },
      {
       "output_type": "stream",
       "stream": "stdout",
       "text": [
        "\r",
        "69% [==========================>            ] 1,753,752   26.1KB/s  eta 31s    "
       ]
      },
      {
       "output_type": "stream",
       "stream": "stdout",
       "text": [
        "\r",
        "69% [==========================>            ] 1,761,944   25.8KB/s  eta 31s    "
       ]
      },
      {
       "output_type": "stream",
       "stream": "stdout",
       "text": [
        "\r",
        "69% [==========================>            ] 1,768,232   25.6KB/s  eta 31s    "
       ]
      },
      {
       "output_type": "stream",
       "stream": "stdout",
       "text": [
        "\r",
        "69% [==========================>            ] 1,769,680   24.6KB/s  eta 31s    "
       ]
      },
      {
       "output_type": "stream",
       "stream": "stdout",
       "text": [
        "\r",
        "70% [==========================>            ] 1,774,024   23.7KB/s  eta 31s    "
       ]
      },
      {
       "output_type": "stream",
       "stream": "stdout",
       "text": [
        "\r",
        "70% [==========================>            ] 1,778,368   23.0KB/s  eta 31s    "
       ]
      },
      {
       "output_type": "stream",
       "stream": "stdout",
       "text": [
        "\r",
        "70% [==========================>            ] 1,785,608   20.5KB/s  eta 30s    "
       ]
      },
      {
       "output_type": "stream",
       "stream": "stdout",
       "text": [
        "\r",
        "70% [==========================>            ] 1,788,504   19.3KB/s  eta 30s    "
       ]
      },
      {
       "output_type": "stream",
       "stream": "stdout",
       "text": [
        "\r",
        "70% [==========================>            ] 1,789,952   17.6KB/s  eta 30s    "
       ]
      },
      {
       "output_type": "stream",
       "stream": "stdout",
       "text": [
        "\r",
        "70% [==========================>            ] 1,791,400   16.1KB/s  eta 31s    "
       ]
      },
      {
       "output_type": "stream",
       "stream": "stdout",
       "text": [
        "\r",
        "70% [==========================>            ] 1,795,744   15.6KB/s  eta 31s    "
       ]
      },
      {
       "output_type": "stream",
       "stream": "stdout",
       "text": [
        "\r",
        "71% [==========================>            ] 1,800,088   15.8KB/s  eta 31s    "
       ]
      },
      {
       "output_type": "stream",
       "stream": "stdout",
       "text": [
        "\r",
        "71% [==========================>            ] 1,805,880   14.7KB/s  eta 31s    "
       ]
      },
      {
       "output_type": "stream",
       "stream": "stdout",
       "text": [
        "\r",
        "71% [==========================>            ] 1,816,016   14.3KB/s  eta 30s    "
       ]
      },
      {
       "output_type": "stream",
       "stream": "stdout",
       "text": [
        "\r",
        "71% [==========================>            ] 1,817,464   12.3KB/s  eta 30s    "
       ]
      },
      {
       "output_type": "stream",
       "stream": "stdout",
       "text": [
        "\r",
        "72% [===========================>           ] 1,824,704   11.4KB/s  eta 30s    "
       ]
      },
      {
       "output_type": "stream",
       "stream": "stdout",
       "text": [
        "\r",
        "72% [===========================>           ] 1,838,688   12.2KB/s  eta 29s    "
       ]
      },
      {
       "output_type": "stream",
       "stream": "stdout",
       "text": [
        "\r",
        "72% [===========================>           ] 1,840,632   12.2KB/s  eta 29s    "
       ]
      },
      {
       "output_type": "stream",
       "stream": "stdout",
       "text": [
        "\r",
        "73% [===========================>           ] 1,849,320   12.6KB/s  eta 29s    "
       ]
      },
      {
       "output_type": "stream",
       "stream": "stdout",
       "text": [
        "\r",
        "73% [===========================>           ] 1,858,008   12.9KB/s  eta 29s    "
       ]
      },
      {
       "output_type": "stream",
       "stream": "stdout",
       "text": [
        "\r",
        "73% [===========================>           ] 1,868,144   14.8KB/s  eta 28s    "
       ]
      },
      {
       "output_type": "stream",
       "stream": "stdout",
       "text": [
        "\r",
        "74% [===========================>           ] 1,878,280   15.2KB/s  eta 28s    "
       ]
      },
      {
       "output_type": "stream",
       "stream": "stdout",
       "text": [
        "\r",
        "74% [===========================>           ] 1,881,176   15.3KB/s  eta 28s    "
       ]
      },
      {
       "output_type": "stream",
       "stream": "stdout",
       "text": [
        "\r",
        "74% [============================>          ] 1,891,312   16.4KB/s  eta 28s    "
       ]
      },
      {
       "output_type": "stream",
       "stream": "stdout",
       "text": [
        "\r",
        "75% [============================>          ] 1,901,448   17.4KB/s  eta 26s    "
       ]
      },
      {
       "output_type": "stream",
       "stream": "stdout",
       "text": [
        "\r",
        "75% [============================>          ] 1,913,032   17.7KB/s  eta 26s    "
       ]
      },
      {
       "output_type": "stream",
       "stream": "stdout",
       "text": [
        "\r",
        "75% [============================>          ] 1,924,616   20.1KB/s  eta 26s    "
       ]
      },
      {
       "output_type": "stream",
       "stream": "stdout",
       "text": [
        "\r",
        "76% [============================>          ] 1,937,648   21.4KB/s  eta 25s    "
       ]
      },
      {
       "output_type": "stream",
       "stream": "stdout",
       "text": [
        "\r",
        "76% [=============================>         ] 1,949,232   23.0KB/s  eta 25s    "
       ]
      },
      {
       "output_type": "stream",
       "stream": "stdout",
       "text": [
        "\r",
        "77% [=============================>         ] 1,963,712   27.4KB/s  eta 25s    "
       ]
      },
      {
       "output_type": "stream",
       "stream": "stdout",
       "text": [
        "\r",
        "78% [=============================>         ] 1,978,192   29.0KB/s  eta 25s    "
       ]
      },
      {
       "output_type": "stream",
       "stream": "stdout",
       "text": [
        "\r",
        "78% [=============================>         ] 1,994,120   31.2KB/s  eta 22s    "
       ]
      },
      {
       "output_type": "stream",
       "stream": "stdout",
       "text": [
        "\r",
        "79% [=============================>         ] 2,010,048   33.3KB/s  eta 22s    "
       ]
      },
      {
       "output_type": "stream",
       "stream": "stdout",
       "text": [
        "\r",
        "79% [==============================>        ] 2,025,976   34.3KB/s  eta 22s    "
       ]
      },
      {
       "output_type": "stream",
       "stream": "stdout",
       "text": [
        "\r",
        "80% [==============================>        ] 2,039,960   37.4KB/s  eta 22s    "
       ]
      },
      {
       "output_type": "stream",
       "stream": "stdout",
       "text": [
        "\r",
        "81% [==============================>        ] 2,054,936   38.5KB/s  eta 19s    "
       ]
      },
      {
       "output_type": "stream",
       "stream": "stdout",
       "text": [
        "\r",
        "81% [==============================>        ] 2,065,072   38.4KB/s  eta 19s    "
       ]
      },
      {
       "output_type": "stream",
       "stream": "stdout",
       "text": [
        "\r",
        "81% [==============================>        ] 2,067,968   37.4KB/s  eta 19s    "
       ]
      },
      {
       "output_type": "stream",
       "stream": "stdout",
       "text": [
        "\r",
        "82% [==============================>        ] 2,078,104   38.8KB/s  eta 19s    "
       ]
      },
      {
       "output_type": "stream",
       "stream": "stdout",
       "text": [
        "\r",
        "82% [===============================>       ] 2,081,000   37.3KB/s  eta 18s    "
       ]
      },
      {
       "output_type": "stream",
       "stream": "stdout",
       "text": [
        "\r",
        "82% [===============================>       ] 2,085,344   36.4KB/s  eta 18s    "
       ]
      },
      {
       "output_type": "stream",
       "stream": "stdout",
       "text": [
        "\r",
        "82% [===============================>       ] 2,091,136   35.7KB/s  eta 18s    "
       ]
      },
      {
       "output_type": "stream",
       "stream": "stdout",
       "text": [
        "\r",
        "82% [===============================>       ] 2,098,376   36.9KB/s  eta 18s    "
       ]
      },
      {
       "output_type": "stream",
       "stream": "stdout",
       "text": [
        "\r",
        "83% [===============================>       ] 2,105,616   36.4KB/s  eta 17s    "
       ]
      },
      {
       "output_type": "stream",
       "stream": "stdout",
       "text": [
        "\r",
        "83% [===============================>       ] 2,114,304   36.1KB/s  eta 17s    "
       ]
      },
      {
       "output_type": "stream",
       "stream": "stdout",
       "text": [
        "\r",
        "83% [===============================>       ] 2,122,992   37.3KB/s  eta 17s    "
       ]
      },
      {
       "output_type": "stream",
       "stream": "stdout",
       "text": [
        "\r",
        "84% [===============================>       ] 2,133,128   37.6KB/s  eta 17s    "
       ]
      },
      {
       "output_type": "stream",
       "stream": "stdout",
       "text": [
        "\r",
        "84% [================================>      ] 2,145,664   36.3KB/s  eta 15s    "
       ]
      },
      {
       "output_type": "stream",
       "stream": "stdout",
       "text": [
        "\r",
        "85% [================================>      ] 2,156,296   37.0KB/s  eta 15s    "
       ]
      },
      {
       "output_type": "stream",
       "stream": "stdout",
       "text": [
        "\r",
        "85% [================================>      ] 2,167,384   35.2KB/s  eta 15s    "
       ]
      },
      {
       "output_type": "stream",
       "stream": "stdout",
       "text": [
        "\r",
        "85% [================================>      ] 2,172,224   34.1KB/s  eta 15s    "
       ]
      },
      {
       "output_type": "stream",
       "stream": "stdout",
       "text": [
        "\r",
        "85% [================================>      ] 2,176,568   31.5KB/s  eta 14s    "
       ]
      },
      {
       "output_type": "stream",
       "stream": "stdout",
       "text": [
        "\r",
        "86% [================================>      ] 2,180,912   29.3KB/s  eta 14s    "
       ]
      },
      {
       "output_type": "stream",
       "stream": "stdout",
       "text": [
        "\r",
        "86% [================================>      ] 2,186,704   27.2KB/s  eta 14s    "
       ]
      },
      {
       "output_type": "stream",
       "stream": "stdout",
       "text": [
        "\r",
        "86% [================================>      ] 2,192,496   25.9KB/s  eta 14s    "
       ]
      },
      {
       "output_type": "stream",
       "stream": "stdout",
       "text": [
        "\r",
        "86% [================================>      ] 2,198,288   24.7KB/s  eta 13s    "
       ]
      },
      {
       "output_type": "stream",
       "stream": "stdout",
       "text": [
        "\r",
        "87% [================================>      ] 2,205,528   24.2KB/s  eta 13s    "
       ]
      },
      {
       "output_type": "stream",
       "stream": "stdout",
       "text": [
        "\r",
        "87% [=================================>     ] 2,212,768   25.9KB/s  eta 13s    "
       ]
      },
      {
       "output_type": "stream",
       "stream": "stdout",
       "text": [
        "\r",
        "87% [=================================>     ] 2,214,216   24.4KB/s  eta 13s    "
       ]
      },
      {
       "output_type": "stream",
       "stream": "stdout",
       "text": [
        "\r",
        "87% [=================================>     ] 2,222,904   26.2KB/s  eta 13s    "
       ]
      },
      {
       "output_type": "stream",
       "stream": "stdout",
       "text": [
        "\r",
        "88% [=================================>     ] 2,231,592   27.6KB/s  eta 12s    "
       ]
      },
      {
       "output_type": "stream",
       "stream": "stdout",
       "text": [
        "\r",
        "88% [=================================>     ] 2,241,728   28.7KB/s  eta 12s    "
       ]
      },
      {
       "output_type": "stream",
       "stream": "stdout",
       "text": [
        "\r",
        "88% [=================================>     ] 2,253,312   29.5KB/s  eta 12s    "
       ]
      },
      {
       "output_type": "stream",
       "stream": "stdout",
       "text": [
        "\r",
        "89% [=================================>     ] 2,263,448   30.1KB/s  eta 12s    "
       ]
      },
      {
       "output_type": "stream",
       "stream": "stdout",
       "text": [
        "\r",
        "89% [==================================>    ] 2,276,480   31.0KB/s  eta 12s    "
       ]
      },
      {
       "output_type": "stream",
       "stream": "stdout",
       "text": [
        "\r",
        "90% [==================================>    ] 2,289,512   31.7KB/s  eta 10s    "
       ]
      },
      {
       "output_type": "stream",
       "stream": "stdout",
       "text": [
        "\r",
        "90% [==================================>    ] 2,303,992   32.5KB/s  eta 10s    "
       ]
      },
      {
       "output_type": "stream",
       "stream": "stdout",
       "text": [
        "\r",
        "91% [==================================>    ] 2,317,024   34.2KB/s  eta 10s    "
       ]
      },
      {
       "output_type": "stream",
       "stream": "stdout",
       "text": [
        "\r",
        "92% [==================================>    ] 2,332,952   34.5KB/s  eta 10s    "
       ]
      },
      {
       "output_type": "stream",
       "stream": "stdout",
       "text": [
        "\r",
        "92% [===================================>   ] 2,348,880   36.8KB/s  eta 7s     "
       ]
      },
      {
       "output_type": "stream",
       "stream": "stdout",
       "text": [
        "\r",
        "93% [===================================>   ] 2,366,256   39.4KB/s  eta 7s     "
       ]
      },
      {
       "output_type": "stream",
       "stream": "stdout",
       "text": [
        "\r",
        "94% [===================================>   ] 2,388,928   40.0KB/s  eta 7s     "
       ]
      },
      {
       "output_type": "stream",
       "stream": "stdout",
       "text": [
        "\r",
        "95% [====================================>  ] 2,408,248   42.5KB/s  eta 5s     "
       ]
      },
      {
       "output_type": "stream",
       "stream": "stdout",
       "text": [
        "\r",
        "95% [====================================>  ] 2,412,592   42.1KB/s  eta 5s     "
       ]
      },
      {
       "output_type": "stream",
       "stream": "stdout",
       "text": [
        "\r",
        "95% [====================================>  ] 2,419,832   41.8KB/s  eta 5s     "
       ]
      },
      {
       "output_type": "stream",
       "stream": "stdout",
       "text": [
        "\r",
        "95% [====================================>  ] 2,429,968   41.8KB/s  eta 5s     "
       ]
      },
      {
       "output_type": "stream",
       "stream": "stdout",
       "text": [
        "\r",
        "96% [====================================>  ] 2,440,104   41.8KB/s  eta 4s     "
       ]
      },
      {
       "output_type": "stream",
       "stream": "stdout",
       "text": [
        "\r",
        "96% [====================================>  ] 2,452,640   42.3KB/s  eta 4s     "
       ]
      },
      {
       "output_type": "stream",
       "stream": "stdout",
       "text": [
        "\r",
        "97% [====================================>  ] 2,464,720   43.0KB/s  eta 4s     "
       ]
      },
      {
       "output_type": "stream",
       "stream": "stdout",
       "text": [
        "\r",
        "97% [=====================================> ] 2,471,960   41.8KB/s  eta 4s     "
       ]
      },
      {
       "output_type": "stream",
       "stream": "stdout",
       "text": [
        "\r",
        "97% [=====================================> ] 2,473,408   39.4KB/s  eta 2s     "
       ]
      },
      {
       "output_type": "stream",
       "stream": "stdout",
       "text": [
        "\r",
        "98% [=====================================> ] 2,484,496   37.8KB/s  eta 2s     "
       ]
      },
      {
       "output_type": "stream",
       "stream": "stdout",
       "text": [
        "\r",
        "98% [=====================================> ] 2,490,784   37.1KB/s  eta 2s     "
       ]
      },
      {
       "output_type": "stream",
       "stream": "stdout",
       "text": [
        "\r",
        "98% [=====================================> ] 2,492,232   35.3KB/s  eta 2s     "
       ]
      },
      {
       "output_type": "stream",
       "stream": "stdout",
       "text": [
        "\r",
        "98% [=====================================> ] 2,503,320   31.7KB/s  eta 1s     "
       ]
      },
      {
       "output_type": "stream",
       "stream": "stdout",
       "text": [
        "\r",
        "98% [=====================================> ] 2,505,264   29.6KB/s  eta 1s     "
       ]
      },
      {
       "output_type": "stream",
       "stream": "stdout",
       "text": [
        "\r",
        "99% [=====================================> ] 2,508,160   27.6KB/s  eta 1s     "
       ]
      },
      {
       "output_type": "stream",
       "stream": "stdout",
       "text": [
        "\r",
        "99% [=====================================> ] 2,512,504   26.0KB/s  eta 1s     "
       ]
      },
      {
       "output_type": "stream",
       "stream": "stdout",
       "text": [
        "\r",
        "99% [=====================================> ] 2,516,848   24.3KB/s  eta 1s     "
       ]
      },
      {
       "output_type": "stream",
       "stream": "stdout",
       "text": [
        "\r",
        "99% [=====================================> ] 2,522,640   22.6KB/s  eta 1s     "
       ]
      },
      {
       "output_type": "stream",
       "stream": "stdout",
       "text": [
        "\r",
        "99% [=====================================> ] 2,528,432   21.2KB/s  eta 1s     \r",
        "100%[======================================>] 2,533,019   21.9KB/s   in 98s    \r\n",
        "\r\n",
        "2014-03-03 12:43:41 (25.2 KB/s) - \u2018enron4.tar.gz\u2019 saved [2533019/2533019]\r\n",
        "\r\n"
       ]
      },
      {
       "output_type": "stream",
       "stream": "stdout",
       "text": [
        "--2014-03-03 12:43:42--  http://www.aueb.gr/users/ion/data/enron-spam/preprocessed/enron5.tar.gz\r\n",
        "Resolving www.aueb.gr... "
       ]
      },
      {
       "output_type": "stream",
       "stream": "stdout",
       "text": [
        "195.251.255.138\r\n",
        "Connecting to www.aueb.gr|195.251.255.138|:80... "
       ]
      },
      {
       "output_type": "stream",
       "stream": "stdout",
       "text": [
        "connected.\r\n",
        "HTTP request sent, awaiting response... "
       ]
      },
      {
       "output_type": "stream",
       "stream": "stdout",
       "text": [
        "200 OK\r\n",
        "Length: 2396886 (2.3M) [application/x-gzip]\r\n",
        "Saving to: \u2018enron5.tar.gz\u2019\r\n",
        "\r\n",
        "\r",
        " 0% [                                       ] 0           --.-K/s              "
       ]
      },
      {
       "output_type": "stream",
       "stream": "stdout",
       "text": [
        "\r",
        " 0% [                                       ] 3,120       8.11KB/s             "
       ]
      },
      {
       "output_type": "stream",
       "stream": "stdout",
       "text": [
        "\r",
        " 0% [                                       ] 7,464       9.41KB/s             "
       ]
      },
      {
       "output_type": "stream",
       "stream": "stdout",
       "text": [
        "\r",
        " 0% [                                       ] 11,808      11.6KB/s             "
       ]
      },
      {
       "output_type": "stream",
       "stream": "stdout",
       "text": [
        "\r",
        " 0% [                                       ] 17,600      13.9KB/s             "
       ]
      },
      {
       "output_type": "stream",
       "stream": "stdout",
       "text": [
        "\r",
        " 0% [                                       ] 23,392      15.4KB/s             "
       ]
      },
      {
       "output_type": "stream",
       "stream": "stdout",
       "text": [
        "\r",
        " 1% [                                       ] 29,184      16.9KB/s             "
       ]
      },
      {
       "output_type": "stream",
       "stream": "stdout",
       "text": [
        "\r",
        " 1% [                                       ] 34,976      18.0KB/s             "
       ]
      },
      {
       "output_type": "stream",
       "stream": "stdout",
       "text": [
        "\r",
        " 1% [                                       ] 43,664      19.7KB/s             "
       ]
      },
      {
       "output_type": "stream",
       "stream": "stdout",
       "text": [
        "\r",
        " 2% [                                       ] 50,904      20.9KB/s             "
       ]
      },
      {
       "output_type": "stream",
       "stream": "stdout",
       "text": [
        "\r",
        " 2% [                                       ] 61,040      22.9KB/s             "
       ]
      },
      {
       "output_type": "stream",
       "stream": "stdout",
       "text": [
        "\r",
        " 2% [>                                      ] 69,728      24.1KB/s             "
       ]
      },
      {
       "output_type": "stream",
       "stream": "stdout",
       "text": [
        "\r",
        " 3% [>                                      ] 78,416      24.5KB/s  eta 92s    "
       ]
      },
      {
       "output_type": "stream",
       "stream": "stdout",
       "text": [
        "\r",
        " 3% [>                                      ] 90,000      25.7KB/s  eta 92s    "
       ]
      },
      {
       "output_type": "stream",
       "stream": "stdout",
       "text": [
        "\r",
        " 4% [>                                      ] 101,584     27.2KB/s  eta 92s    "
       ]
      },
      {
       "output_type": "stream",
       "stream": "stdout",
       "text": [
        "\r",
        " 4% [>                                      ] 113,168     28.6KB/s  eta 92s    "
       ]
      },
      {
       "output_type": "stream",
       "stream": "stdout",
       "text": [
        "\r",
        " 5% [=>                                     ] 126,200     29.9KB/s  eta 74s    "
       ]
      },
      {
       "output_type": "stream",
       "stream": "stdout",
       "text": [
        "\r",
        " 5% [=>                                     ] 129,096     28.8KB/s  eta 74s    "
       ]
      },
      {
       "output_type": "stream",
       "stream": "stdout",
       "text": [
        "\r",
        " 5% [=>                                     ] 143,576     30.5KB/s  eta 74s    "
       ]
      },
      {
       "output_type": "stream",
       "stream": "stdout",
       "text": [
        "\r",
        " 6% [=>                                     ] 158,056     32.0KB/s  eta 74s    "
       ]
      },
      {
       "output_type": "stream",
       "stream": "stdout",
       "text": [
        "\r",
        " 7% [=>                                     ] 173,984     35.7KB/s  eta 74s    "
       ]
      },
      {
       "output_type": "stream",
       "stream": "stdout",
       "text": [
        "\r",
        " 7% [==>                                    ] 188,464     38.0KB/s  eta 62s    "
       ]
      },
      {
       "output_type": "stream",
       "stream": "stdout",
       "text": [
        "\r",
        " 8% [==>                                    ] 205,840     40.4KB/s  eta 62s    "
       ]
      },
      {
       "output_type": "stream",
       "stream": "stdout",
       "text": [
        "\r",
        " 8% [==>                                    ] 214,032     41.1KB/s  eta 62s    "
       ]
      },
      {
       "output_type": "stream",
       "stream": "stdout",
       "text": [
        "\r",
        " 9% [==>                                    ] 234,800     44.4KB/s  eta 62s    "
       ]
      },
      {
       "output_type": "stream",
       "stream": "stdout",
       "text": [
        "\r",
        "10% [==>                                    ] 243,488     45.2KB/s  eta 62s    "
       ]
      },
      {
       "output_type": "stream",
       "stream": "stdout",
       "text": [
        "\r",
        "10% [===>                                   ] 252,176     45.6KB/s  eta 55s    "
       ]
      },
      {
       "output_type": "stream",
       "stream": "stdout",
       "text": [
        "\r",
        "11% [===>                                   ] 263,760     46.5KB/s  eta 55s    "
       ]
      },
      {
       "output_type": "stream",
       "stream": "stdout",
       "text": [
        "\r",
        "11% [===>                                   ] 273,896     47.1KB/s  eta 55s    "
       ]
      },
      {
       "output_type": "stream",
       "stream": "stdout",
       "text": [
        "\r",
        "11% [===>                                   ] 286,928     48.0KB/s  eta 55s    "
       ]
      },
      {
       "output_type": "stream",
       "stream": "stdout",
       "text": [
        "\r",
        "12% [===>                                   ] 299,960     49.0KB/s  eta 55s    "
       ]
      },
      {
       "output_type": "stream",
       "stream": "stdout",
       "text": [
        "\r",
        "13% [====>                                  ] 314,440     49.9KB/s  eta 50s    "
       ]
      },
      {
       "output_type": "stream",
       "stream": "stdout",
       "text": [
        "\r",
        "13% [====>                                  ] 328,920     51.9KB/s  eta 50s    "
       ]
      },
      {
       "output_type": "stream",
       "stream": "stdout",
       "text": [
        "\r",
        "14% [====>                                  ] 343,400     53.3KB/s  eta 50s    "
       ]
      },
      {
       "output_type": "stream",
       "stream": "stdout",
       "text": [
        "\r",
        "14% [====>                                  ] 359,328     54.1KB/s  eta 50s    "
       ]
      },
      {
       "output_type": "stream",
       "stream": "stdout",
       "text": [
        "\r",
        "15% [====>                                  ] 367,520     53.3KB/s  eta 50s    "
       ]
      },
      {
       "output_type": "stream",
       "stream": "stdout",
       "text": [
        "\r",
        "16% [=====>                                 ] 383,944     55.4KB/s  eta 46s    "
       ]
      },
      {
       "output_type": "stream",
       "stream": "stdout",
       "text": [
        "\r",
        "16% [=====>                                 ] 394,080     56.2KB/s  eta 46s    "
       ]
      },
      {
       "output_type": "stream",
       "stream": "stdout",
       "text": [
        "\r",
        "16% [=====>                                 ] 404,216     54.6KB/s  eta 46s    "
       ]
      },
      {
       "output_type": "stream",
       "stream": "stdout",
       "text": [
        "\r",
        "17% [=====>                                 ] 415,800     54.0KB/s  eta 46s    "
       ]
      },
      {
       "output_type": "stream",
       "stream": "stdout",
       "text": [
        "\r",
        "17% [=====>                                 ] 427,384     52.9KB/s  eta 46s    "
       ]
      },
      {
       "output_type": "stream",
       "stream": "stdout",
       "text": [
        "\r",
        "18% [======>                                ] 440,416     52.2KB/s  eta 44s    "
       ]
      },
      {
       "output_type": "stream",
       "stream": "stdout",
       "text": [
        "\r",
        "18% [======>                                ] 453,448     51.0KB/s  eta 44s    "
       ]
      },
      {
       "output_type": "stream",
       "stream": "stdout",
       "text": [
        "\r",
        "19% [======>                                ] 466,480     49.7KB/s  eta 44s    "
       ]
      },
      {
       "output_type": "stream",
       "stream": "stdout",
       "text": [
        "\r",
        "20% [======>                                ] 480,960     47.9KB/s  eta 44s    "
       ]
      },
      {
       "output_type": "stream",
       "stream": "stdout",
       "text": [
        "\r",
        "20% [=======>                               ] 495,440     49.0KB/s  eta 44s    "
       ]
      },
      {
       "output_type": "stream",
       "stream": "stdout",
       "text": [
        "\r",
        "21% [=======>                               ] 512,320     47.0KB/s  eta 44s    "
       ]
      },
      {
       "output_type": "stream",
       "stream": "stdout",
       "text": [
        "\r",
        "22% [=======>                               ] 528,744     45.9KB/s  eta 43s    "
       ]
      },
      {
       "output_type": "stream",
       "stream": "stdout",
       "text": [
        "\r",
        "22% [=======>                               ] 537,432     45.4KB/s  eta 43s    "
       ]
      },
      {
       "output_type": "stream",
       "stream": "stdout",
       "text": [
        "\r",
        "22% [=======>                               ] 546,120     43.8KB/s  eta 43s    "
       ]
      },
      {
       "output_type": "stream",
       "stream": "stdout",
       "text": [
        "\r",
        "23% [========>                              ] 556,256     42.8KB/s  eta 43s    "
       ]
      },
      {
       "output_type": "stream",
       "stream": "stdout",
       "text": [
        "\r",
        "23% [========>                              ] 566,392     42.1KB/s  eta 43s    "
       ]
      },
      {
       "output_type": "stream",
       "stream": "stdout",
       "text": [
        "\r",
        "23% [========>                              ] 575,080     41.4KB/s  eta 43s    "
       ]
      },
      {
       "output_type": "stream",
       "stream": "stdout",
       "text": [
        "\r",
        "24% [========>                              ] 586,664     41.0KB/s  eta 43s    "
       ]
      },
      {
       "output_type": "stream",
       "stream": "stdout",
       "text": [
        "\r",
        "24% [========>                              ] 598,248     40.5KB/s  eta 43s    "
       ]
      },
      {
       "output_type": "stream",
       "stream": "stdout",
       "text": [
        "\r",
        "25% [========>                              ] 611,280     40.9KB/s  eta 43s    "
       ]
      },
      {
       "output_type": "stream",
       "stream": "stdout",
       "text": [
        "\r",
        "26% [=========>                             ] 625,760     40.6KB/s  eta 41s    "
       ]
      },
      {
       "output_type": "stream",
       "stream": "stdout",
       "text": [
        "\r",
        "26% [=========>                             ] 638,792     41.0KB/s  eta 41s    "
       ]
      },
      {
       "output_type": "stream",
       "stream": "stdout",
       "text": [
        "\r",
        "27% [=========>                             ] 653,272     42.3KB/s  eta 41s    "
       ]
      },
      {
       "output_type": "stream",
       "stream": "stdout",
       "text": [
        "\r",
        "27% [=========>                             ] 667,752     42.8KB/s  eta 41s    "
       ]
      },
      {
       "output_type": "stream",
       "stream": "stdout",
       "text": [
        "\r",
        "28% [==========>                            ] 685,128     43.3KB/s  eta 41s    "
       ]
      },
      {
       "output_type": "stream",
       "stream": "stdout",
       "text": [
        "\r",
        "29% [==========>                            ] 702,504     43.9KB/s  eta 38s    "
       ]
      },
      {
       "output_type": "stream",
       "stream": "stdout",
       "text": [
        "\r",
        "30% [==========>                            ] 721,328     44.8KB/s  eta 38s    "
       ]
      },
      {
       "output_type": "stream",
       "stream": "stdout",
       "text": [
        "\r",
        "30% [===========>                           ] 740,152     49.0KB/s  eta 38s    "
       ]
      },
      {
       "output_type": "stream",
       "stream": "stdout",
       "text": [
        "\r",
        "31% [===========>                           ] 760,424     50.1KB/s  eta 38s    "
       ]
      },
      {
       "output_type": "stream",
       "stream": "stdout",
       "text": [
        "\r",
        "32% [===========>                           ] 779,248     50.9KB/s  eta 38s    "
       ]
      },
      {
       "output_type": "stream",
       "stream": "stdout",
       "text": [
        "\r",
        "33% [============>                          ] 799,520     56.0KB/s  eta 34s    "
       ]
      },
      {
       "output_type": "stream",
       "stream": "stdout",
       "text": [
        "\r",
        "34% [============>                          ] 821,240     59.3KB/s  eta 34s    "
       ]
      },
      {
       "output_type": "stream",
       "stream": "stdout",
       "text": [
        "\r",
        "34% [============>                          ] 837,168     61.0KB/s  eta 34s    "
       ]
      },
      {
       "output_type": "stream",
       "stream": "stdout",
       "text": [
        "\r",
        "35% [============>                          ] 860,336     68.4KB/s  eta 34s    "
       ]
      },
      {
       "output_type": "stream",
       "stream": "stdout",
       "text": [
        "\r",
        "36% [=============>                         ] 871,424     67.9KB/s  eta 34s    "
       ]
      },
      {
       "output_type": "stream",
       "stream": "stdout",
       "text": [
        "\r",
        "37% [=============>                         ] 899,432     72.6KB/s  eta 30s    "
       ]
      },
      {
       "output_type": "stream",
       "stream": "stdout",
       "text": [
        "\r",
        "37% [=============>                         ] 909,568     71.5KB/s  eta 30s    "
       ]
      },
      {
       "output_type": "stream",
       "stream": "stdout",
       "text": [
        "\r",
        "38% [==============>                        ] 922,600     67.5KB/s  eta 30s    "
       ]
      },
      {
       "output_type": "stream",
       "stream": "stdout",
       "text": [
        "\r",
        "39% [==============>                        ] 937,080     66.9KB/s  eta 30s    "
       ]
      },
      {
       "output_type": "stream",
       "stream": "stdout",
       "text": [
        "\r",
        "39% [==============>                        ] 951,560     67.0KB/s  eta 30s    "
       ]
      },
      {
       "output_type": "stream",
       "stream": "stdout",
       "text": [
        "\r",
        "40% [==============>                        ] 964,096     64.7KB/s  eta 30s    "
       ]
      },
      {
       "output_type": "stream",
       "stream": "stdout",
       "text": [
        "\r",
        "40% [==============>                        ] 976,176     63.1KB/s  eta 30s    "
       ]
      },
      {
       "output_type": "stream",
       "stream": "stdout",
       "text": [
        "\r",
        "41% [===============>                       ] 983,416     60.8KB/s  eta 29s    "
       ]
      },
      {
       "output_type": "stream",
       "stream": "stdout",
       "text": [
        "\r",
        "41% [===============>                       ] 992,104     59.5KB/s  eta 29s    "
       ]
      },
      {
       "output_type": "stream",
       "stream": "stdout",
       "text": [
        "\r",
        "41% [===============>                       ] 1,000,792   56.2KB/s  eta 29s    "
       ]
      },
      {
       "output_type": "stream",
       "stream": "stdout",
       "text": [
        "\r",
        "42% [===============>                       ] 1,010,928   54.0KB/s  eta 29s    "
       ]
      },
      {
       "output_type": "stream",
       "stream": "stdout",
       "text": [
        "\r",
        "42% [===============>                       ] 1,021,064   52.3KB/s  eta 29s    "
       ]
      },
      {
       "output_type": "stream",
       "stream": "stdout",
       "text": [
        "\r",
        "42% [===============>                       ] 1,029,752   49.1KB/s  eta 29s    "
       ]
      },
      {
       "output_type": "stream",
       "stream": "stdout",
       "text": [
        "\r",
        "43% [===============>                       ] 1,041,336   46.8KB/s  eta 29s    "
       ]
      },
      {
       "output_type": "stream",
       "stream": "stdout",
       "text": [
        "\r",
        "43% [================>                      ] 1,052,920   45.6KB/s  eta 29s    "
       ]
      },
      {
       "output_type": "stream",
       "stream": "stdout",
       "text": [
        "\r",
        "44% [================>                      ] 1,064,504   43.8KB/s  eta 28s    "
       ]
      },
      {
       "output_type": "stream",
       "stream": "stdout",
       "text": [
        "\r",
        "44% [================>                      ] 1,076,088   42.2KB/s  eta 28s    "
       ]
      },
      {
       "output_type": "stream",
       "stream": "stdout",
       "text": [
        "\r",
        "45% [================>                      ] 1,089,120   42.0KB/s  eta 28s    "
       ]
      },
      {
       "output_type": "stream",
       "stream": "stdout",
       "text": [
        "\r",
        "46% [================>                      ] 1,103,600   41.8KB/s  eta 28s    "
       ]
      },
      {
       "output_type": "stream",
       "stream": "stdout",
       "text": [
        "\r",
        "46% [=================>                     ] 1,123,376   41.9KB/s  eta 27s    "
       ]
      },
      {
       "output_type": "stream",
       "stream": "stdout",
       "text": [
        "\r",
        "47% [=================>                     ] 1,139,800   40.3KB/s  eta 27s    "
       ]
      },
      {
       "output_type": "stream",
       "stream": "stdout",
       "text": [
        "\r",
        "47% [=================>                     ] 1,148,488   38.6KB/s  eta 27s    "
       ]
      },
      {
       "output_type": "stream",
       "stream": "stdout",
       "text": [
        "\r",
        "48% [=================>                     ] 1,156,680   37.0KB/s  eta 27s    "
       ]
      },
      {
       "output_type": "stream",
       "stream": "stdout",
       "text": [
        "\r",
        "48% [=================>                     ] 1,161,520   35.9KB/s  eta 27s    "
       ]
      },
      {
       "output_type": "stream",
       "stream": "stdout",
       "text": [
        "\r",
        "48% [=================>                     ] 1,164,416   33.8KB/s  eta 27s    "
       ]
      },
      {
       "output_type": "stream",
       "stream": "stdout",
       "text": [
        "\r",
        "48% [==================>                    ] 1,168,760   32.0KB/s  eta 27s    "
       ]
      },
      {
       "output_type": "stream",
       "stream": "stdout",
       "text": [
        "\r",
        "49% [==================>                    ] 1,176,000   31.1KB/s  eta 27s    "
       ]
      },
      {
       "output_type": "stream",
       "stream": "stdout",
       "text": [
        "\r",
        "49% [==================>                    ] 1,178,896   29.0KB/s  eta 27s    "
       ]
      },
      {
       "output_type": "stream",
       "stream": "stdout",
       "text": [
        "\r",
        "49% [==================>                    ] 1,186,136   28.7KB/s  eta 28s    "
       ]
      },
      {
       "output_type": "stream",
       "stream": "stdout",
       "text": [
        "\r",
        "49% [==================>                    ] 1,194,824   28.0KB/s  eta 28s    "
       ]
      },
      {
       "output_type": "stream",
       "stream": "stdout",
       "text": [
        "\r",
        "50% [==================>                    ] 1,202,064   28.0KB/s  eta 28s    "
       ]
      },
      {
       "output_type": "stream",
       "stream": "stdout",
       "text": [
        "\r",
        "50% [==================>                    ] 1,210,752   27.6KB/s  eta 28s    "
       ]
      },
      {
       "output_type": "stream",
       "stream": "stdout",
       "text": [
        "\r",
        "50% [==================>                    ] 1,219,440   28.2KB/s  eta 28s    "
       ]
      },
      {
       "output_type": "stream",
       "stream": "stdout",
       "text": [
        "\r",
        "51% [==================>                    ] 1,228,128   26.8KB/s  eta 28s    "
       ]
      },
      {
       "output_type": "stream",
       "stream": "stdout",
       "text": [
        "\r",
        "51% [===================>                   ] 1,239,216   26.6KB/s  eta 27s    "
       ]
      },
      {
       "output_type": "stream",
       "stream": "stdout",
       "text": [
        "\r",
        "51% [===================>                   ] 1,245,504   25.5KB/s  eta 27s    "
       ]
      },
      {
       "output_type": "stream",
       "stream": "stdout",
       "text": [
        "\r",
        "52% [===================>                   ] 1,249,848   24.3KB/s  eta 27s    "
       ]
      },
      {
       "output_type": "stream",
       "stream": "stdout",
       "text": [
        "\r",
        "52% [===================>                   ] 1,257,088   22.8KB/s  eta 27s    "
       ]
      },
      {
       "output_type": "stream",
       "stream": "stdout",
       "text": [
        "\r",
        "52% [===================>                   ] 1,262,880   21.2KB/s  eta 27s    "
       ]
      },
      {
       "output_type": "stream",
       "stream": "stdout",
       "text": [
        "\r",
        "52% [===================>                   ] 1,268,672   19.9KB/s  eta 27s    "
       ]
      },
      {
       "output_type": "stream",
       "stream": "stdout",
       "text": [
        "\r",
        "53% [===================>                   ] 1,273,016   18.1KB/s  eta 28s    "
       ]
      },
      {
       "output_type": "stream",
       "stream": "stdout",
       "text": [
        "\r",
        "53% [===================>                   ] 1,281,208   16.9KB/s  eta 28s    "
       ]
      },
      {
       "output_type": "stream",
       "stream": "stdout",
       "text": [
        "\r",
        "53% [===================>                   ] 1,283,152   16.3KB/s  eta 28s    "
       ]
      },
      {
       "output_type": "stream",
       "stream": "stdout",
       "text": [
        "\r",
        "53% [===================>                   ] 1,284,600   15.6KB/s  eta 29s    "
       ]
      },
      {
       "output_type": "stream",
       "stream": "stdout",
       "text": [
        "\r",
        "53% [===================>                   ] 1,287,496   15.2KB/s  eta 29s    "
       ]
      },
      {
       "output_type": "stream",
       "stream": "stdout",
       "text": [
        "\r",
        "53% [====================>                  ] 1,291,840   15.3KB/s  eta 29s    "
       ]
      },
      {
       "output_type": "stream",
       "stream": "stdout",
       "text": [
        "\r",
        "53% [====================>                  ] 1,293,288   14.9KB/s  eta 29s    "
       ]
      },
      {
       "output_type": "stream",
       "stream": "stdout",
       "text": [
        "\r",
        "54% [====================>                  ] 1,296,184   14.4KB/s  eta 29s    "
       ]
      },
      {
       "output_type": "stream",
       "stream": "stdout",
       "text": [
        "\r",
        "54% [====================>                  ] 1,297,632   14.3KB/s  eta 29s    "
       ]
      },
      {
       "output_type": "stream",
       "stream": "stdout",
       "text": [
        "\r",
        "54% [====================>                  ] 1,303,424   14.0KB/s  eta 30s    "
       ]
      },
      {
       "output_type": "stream",
       "stream": "stdout",
       "text": [
        "\r",
        "54% [====================>                  ] 1,306,320   13.6KB/s  eta 30s    "
       ]
      },
      {
       "output_type": "stream",
       "stream": "stdout",
       "text": [
        "\r",
        "54% [====================>                  ] 1,309,216   13.0KB/s  eta 30s    "
       ]
      },
      {
       "output_type": "stream",
       "stream": "stdout",
       "text": [
        "\r",
        "54% [====================>                  ] 1,312,112   12.4KB/s  eta 30s    "
       ]
      },
      {
       "output_type": "stream",
       "stream": "stdout",
       "text": [
        "\r",
        "54% [====================>                  ] 1,316,456   11.9KB/s  eta 30s    "
       ]
      },
      {
       "output_type": "stream",
       "stream": "stdout",
       "text": [
        "\r",
        "55% [====================>                  ] 1,323,696   12.1KB/s  eta 30s    "
       ]
      },
      {
       "output_type": "stream",
       "stream": "stdout",
       "text": [
        "\r",
        "55% [====================>                  ] 1,339,128   12.2KB/s  eta 30s    "
       ]
      },
      {
       "output_type": "stream",
       "stream": "stdout",
       "text": [
        "\r",
        "55% [====================>                  ] 1,341,072   11.7KB/s  eta 30s    "
       ]
      },
      {
       "output_type": "stream",
       "stream": "stdout",
       "text": [
        "\r",
        "56% [====================>                  ] 1,349,760   12.1KB/s  eta 30s    "
       ]
      },
      {
       "output_type": "stream",
       "stream": "stdout",
       "text": [
        "\r",
        "56% [=====================>                 ] 1,359,896   12.5KB/s  eta 30s    "
       ]
      },
      {
       "output_type": "stream",
       "stream": "stdout",
       "text": [
        "\r",
        "57% [=====================>                 ] 1,368,584   13.1KB/s  eta 30s    "
       ]
      },
      {
       "output_type": "stream",
       "stream": "stdout",
       "text": [
        "\r",
        "57% [=====================>                 ] 1,370,032   12.3KB/s  eta 29s    "
       ]
      },
      {
       "output_type": "stream",
       "stream": "stdout",
       "text": [
        "\r",
        "57% [=====================>                 ] 1,380,168   12.8KB/s  eta 29s    "
       ]
      },
      {
       "output_type": "stream",
       "stream": "stdout",
       "text": [
        "\r",
        "58% [=====================>                 ] 1,390,304   13.3KB/s  eta 29s    "
       ]
      },
      {
       "output_type": "stream",
       "stream": "stdout",
       "text": [
        "\r",
        "58% [=====================>                 ] 1,391,752   13.4KB/s  eta 29s    "
       ]
      },
      {
       "output_type": "stream",
       "stream": "stdout",
       "text": [
        "\r",
        "58% [=====================>                 ] 1,399,944   13.9KB/s  eta 29s    "
       ]
      },
      {
       "output_type": "stream",
       "stream": "stdout",
       "text": [
        "\r",
        "58% [=====================>                 ] 1,409,128   14.5KB/s  eta 29s    "
       ]
      },
      {
       "output_type": "stream",
       "stream": "stdout",
       "text": [
        "\r",
        "59% [======================>                ] 1,416,368   15.2KB/s  eta 29s    "
       ]
      },
      {
       "output_type": "stream",
       "stream": "stdout",
       "text": [
        "\r",
        "59% [======================>                ] 1,423,608   16.5KB/s  eta 29s    "
       ]
      },
      {
       "output_type": "stream",
       "stream": "stdout",
       "text": [
        "\r",
        "59% [======================>                ] 1,432,296   16.8KB/s  eta 29s    "
       ]
      },
      {
       "output_type": "stream",
       "stream": "stdout",
       "text": [
        "\r",
        "60% [======================>                ] 1,440,984   16.4KB/s  eta 29s    "
       ]
      },
      {
       "output_type": "stream",
       "stream": "stdout",
       "text": [
        "\r",
        "60% [======================>                ] 1,449,672   17.1KB/s  eta 29s    "
       ]
      },
      {
       "output_type": "stream",
       "stream": "stdout",
       "text": [
        "\r",
        "60% [======================>                ] 1,459,808   17.8KB/s  eta 29s    "
       ]
      },
      {
       "output_type": "stream",
       "stream": "stdout",
       "text": [
        "\r",
        "61% [======================>                ] 1,469,944   18.2KB/s  eta 29s    "
       ]
      },
      {
       "output_type": "stream",
       "stream": "stdout",
       "text": [
        "\r",
        "61% [=======================>               ] 1,480,080   18.5KB/s  eta 29s    "
       ]
      },
      {
       "output_type": "stream",
       "stream": "stdout",
       "text": [
        "\r",
        "62% [=======================>               ] 1,490,216   18.4KB/s  eta 27s    "
       ]
      },
      {
       "output_type": "stream",
       "stream": "stdout",
       "text": [
        "\r",
        "62% [=======================>               ] 1,501,800   19.8KB/s  eta 27s    "
       ]
      },
      {
       "output_type": "stream",
       "stream": "stdout",
       "text": [
        "\r",
        "62% [=======================>               ] 1,509,992   20.0KB/s  eta 27s    "
       ]
      },
      {
       "output_type": "stream",
       "stream": "stdout",
       "text": [
        "\r",
        "63% [=======================>               ] 1,517,728   20.1KB/s  eta 27s    "
       ]
      },
      {
       "output_type": "stream",
       "stream": "stdout",
       "text": [
        "\r",
        "63% [=======================>               ] 1,517,728   17.9KB/s  eta 27s    "
       ]
      },
      {
       "output_type": "stream",
       "stream": "stdout",
       "text": [
        "\r",
        "63% [=======================>               ] 1,527,864   18.2KB/s  eta 27s    "
       ]
      },
      {
       "output_type": "stream",
       "stream": "stdout",
       "text": [
        "\r",
        "63% [=======================>               ] 1,529,312   16.3KB/s  eta 27s    "
       ]
      },
      {
       "output_type": "stream",
       "stream": "stdout",
       "text": [
        "\r",
        "64% [=======================>               ] 1,535,104   16.3KB/s  eta 27s    "
       ]
      },
      {
       "output_type": "stream",
       "stream": "stdout",
       "text": [
        "\r",
        "64% [========================>              ] 1,539,448   16.9KB/s  eta 27s    "
       ]
      },
      {
       "output_type": "stream",
       "stream": "stdout",
       "text": [
        "\r",
        "64% [========================>              ] 1,546,688   16.3KB/s  eta 27s    "
       ]
      },
      {
       "output_type": "stream",
       "stream": "stdout",
       "text": [
        "\r",
        "64% [========================>              ] 1,551,032   15.9KB/s  eta 27s    "
       ]
      },
      {
       "output_type": "stream",
       "stream": "stdout",
       "text": [
        "\r",
        "64% [========================>              ] 1,555,376   15.8KB/s  eta 27s    "
       ]
      },
      {
       "output_type": "stream",
       "stream": "stdout",
       "text": [
        "\r",
        "65% [========================>              ] 1,559,720   16.4KB/s  eta 27s    "
       ]
      },
      {
       "output_type": "stream",
       "stream": "stdout",
       "text": [
        "\r",
        "65% [========================>              ] 1,566,960   16.5KB/s  eta 27s    "
       ]
      },
      {
       "output_type": "stream",
       "stream": "stdout",
       "text": [
        "\r",
        "65% [========================>              ] 1,574,200   17.3KB/s  eta 27s    "
       ]
      },
      {
       "output_type": "stream",
       "stream": "stdout",
       "text": [
        "\r",
        "65% [========================>              ] 1,581,440   17.1KB/s  eta 27s    "
       ]
      },
      {
       "output_type": "stream",
       "stream": "stdout",
       "text": [
        "\r",
        "66% [========================>              ] 1,590,128   17.0KB/s  eta 27s    "
       ]
      },
      {
       "output_type": "stream",
       "stream": "stdout",
       "text": [
        "\r",
        "66% [=========================>             ] 1,600,264   17.1KB/s  eta 26s    "
       ]
      },
      {
       "output_type": "stream",
       "stream": "stdout",
       "text": [
        "\r",
        "67% [=========================>             ] 1,610,400   17.3KB/s  eta 26s    "
       ]
      },
      {
       "output_type": "stream",
       "stream": "stdout",
       "text": [
        "\r",
        "67% [=========================>             ] 1,620,536   17.5KB/s  eta 26s    "
       ]
      },
      {
       "output_type": "stream",
       "stream": "stdout",
       "text": [
        "\r",
        "68% [=========================>             ] 1,630,672   17.3KB/s  eta 26s    "
       ]
      },
      {
       "output_type": "stream",
       "stream": "stdout",
       "text": [
        "\r",
        "68% [=========================>             ] 1,642,256   17.8KB/s  eta 26s    "
       ]
      },
      {
       "output_type": "stream",
       "stream": "stdout",
       "text": [
        "\r",
        "68% [=========================>             ] 1,652,392   18.0KB/s  eta 24s    "
       ]
      },
      {
       "output_type": "stream",
       "stream": "stdout",
       "text": [
        "\r",
        "69% [==========================>            ] 1,665,424   21.0KB/s  eta 24s    "
       ]
      },
      {
       "output_type": "stream",
       "stream": "stdout",
       "text": [
        "\r",
        "70% [==========================>            ] 1,678,456   23.2KB/s  eta 24s    "
       ]
      },
      {
       "output_type": "stream",
       "stream": "stdout",
       "text": [
        "\r",
        "70% [==========================>            ] 1,692,936   29.9KB/s  eta 24s    "
       ]
      },
      {
       "output_type": "stream",
       "stream": "stdout",
       "text": [
        "\r",
        "71% [==========================>            ] 1,705,968   32.0KB/s  eta 24s    "
       ]
      },
      {
       "output_type": "stream",
       "stream": "stdout",
       "text": [
        "\r",
        "71% [===========================>           ] 1,721,896   35.1KB/s  eta 21s    "
       ]
      },
      {
       "output_type": "stream",
       "stream": "stdout",
       "text": [
        "\r",
        "72% [===========================>           ] 1,736,376   39.8KB/s  eta 21s    "
       ]
      },
      {
       "output_type": "stream",
       "stream": "stdout",
       "text": [
        "\r",
        "73% [===========================>           ] 1,750,856   42.3KB/s  eta 21s    "
       ]
      },
      {
       "output_type": "stream",
       "stream": "stdout",
       "text": [
        "\r",
        "73% [===========================>           ] 1,769,184   43.2KB/s  eta 21s    "
       ]
      },
      {
       "output_type": "stream",
       "stream": "stdout",
       "text": [
        "\r",
        "74% [============================>          ] 1,785,608   45.6KB/s  eta 19s    "
       ]
      },
      {
       "output_type": "stream",
       "stream": "stdout",
       "text": [
        "\r",
        "74% [============================>          ] 1,791,400   42.8KB/s  eta 19s    "
       ]
      },
      {
       "output_type": "stream",
       "stream": "stdout",
       "text": [
        "\r",
        "75% [============================>          ] 1,801,536   42.8KB/s  eta 19s    "
       ]
      },
      {
       "output_type": "stream",
       "stream": "stdout",
       "text": [
        "\r",
        "75% [============================>          ] 1,811,672   43.8KB/s  eta 18s    "
       ]
      },
      {
       "output_type": "stream",
       "stream": "stdout",
       "text": [
        "\r",
        "75% [============================>          ] 1,820,360   43.3KB/s  eta 18s    "
       ]
      },
      {
       "output_type": "stream",
       "stream": "stdout",
       "text": [
        "\r",
        "76% [============================>          ] 1,831,944   44.3KB/s  eta 18s    "
       ]
      },
      {
       "output_type": "stream",
       "stream": "stdout",
       "text": [
        "\r",
        "76% [============================>          ] 1,843,528   44.8KB/s  eta 18s    "
       ]
      },
      {
       "output_type": "stream",
       "stream": "stdout",
       "text": [
        "\r",
        "77% [=============================>         ] 1,856,560   45.5KB/s  eta 17s    "
       ]
      },
      {
       "output_type": "stream",
       "stream": "stdout",
       "text": [
        "\r",
        "78% [=============================>         ] 1,869,592   45.8KB/s  eta 17s    "
       ]
      },
      {
       "output_type": "stream",
       "stream": "stdout",
       "text": [
        "\r",
        "78% [=============================>         ] 1,884,072   46.8KB/s  eta 17s    "
       ]
      },
      {
       "output_type": "stream",
       "stream": "stdout",
       "text": [
        "\r",
        "79% [=============================>         ] 1,898,552   47.3KB/s  eta 17s    "
       ]
      },
      {
       "output_type": "stream",
       "stream": "stdout",
       "text": [
        "\r",
        "79% [==============================>        ] 1,913,032   48.5KB/s  eta 17s    "
       ]
      },
      {
       "output_type": "stream",
       "stream": "stdout",
       "text": [
        "\r",
        "80% [==============================>        ] 1,927,512   46.4KB/s  eta 14s    "
       ]
      },
      {
       "output_type": "stream",
       "stream": "stdout",
       "text": [
        "\r",
        "80% [==============================>        ] 1,935,704   43.0KB/s  eta 14s    "
       ]
      },
      {
       "output_type": "stream",
       "stream": "stdout",
       "text": [
        "\r",
        "81% [==============================>        ] 1,947,784   41.5KB/s  eta 14s    "
       ]
      },
      {
       "output_type": "stream",
       "stream": "stdout",
       "text": [
        "\r",
        "81% [==============================>        ] 1,953,576   40.3KB/s  eta 14s    "
       ]
      },
      {
       "output_type": "stream",
       "stream": "stdout",
       "text": [
        "\r",
        "81% [==============================>        ] 1,960,816   38.9KB/s  eta 14s    "
       ]
      },
      {
       "output_type": "stream",
       "stream": "stdout",
       "text": [
        "\r",
        "82% [===============================>       ] 1,969,504   37.7KB/s  eta 14s    "
       ]
      },
      {
       "output_type": "stream",
       "stream": "stdout",
       "text": [
        "\r",
        "82% [===============================>       ] 1,979,640   36.9KB/s  eta 14s    "
       ]
      },
      {
       "output_type": "stream",
       "stream": "stdout",
       "text": [
        "\r",
        "83% [===============================>       ] 1,989,776   37.1KB/s  eta 14s    "
       ]
      },
      {
       "output_type": "stream",
       "stream": "stdout",
       "text": [
        "\r",
        "83% [===============================>       ] 1,999,912   36.2KB/s  eta 12s    "
       ]
      },
      {
       "output_type": "stream",
       "stream": "stdout",
       "text": [
        "\r",
        "83% [===============================>       ] 2,010,048   38.9KB/s  eta 12s    "
       ]
      },
      {
       "output_type": "stream",
       "stream": "stdout",
       "text": [
        "\r",
        "84% [===============================>       ] 2,023,080   37.0KB/s  eta 12s    "
       ]
      },
      {
       "output_type": "stream",
       "stream": "stdout",
       "text": [
        "\r",
        "84% [================================>      ] 2,036,112   37.3KB/s  eta 11s    "
       ]
      },
      {
       "output_type": "stream",
       "stream": "stdout",
       "text": [
        "\r",
        "85% [================================>      ] 2,052,040   39.6KB/s  eta 11s    "
       ]
      },
      {
       "output_type": "stream",
       "stream": "stdout",
       "text": [
        "\r",
        "86% [================================>      ] 2,063,624   39.6KB/s  eta 11s    "
       ]
      },
      {
       "output_type": "stream",
       "stream": "stdout",
       "text": [
        "\r",
        "86% [================================>      ] 2,079,552   40.3KB/s  eta 11s    "
       ]
      },
      {
       "output_type": "stream",
       "stream": "stdout",
       "text": [
        "\r",
        "87% [=================================>     ] 2,095,480   40.1KB/s  eta 9s     "
       ]
      },
      {
       "output_type": "stream",
       "stream": "stdout",
       "text": [
        "\r",
        "88% [=================================>     ] 2,109,960   40.4KB/s  eta 9s     "
       ]
      },
      {
       "output_type": "stream",
       "stream": "stdout",
       "text": [
        "\r",
        "88% [=================================>     ] 2,125,888   40.7KB/s  eta 9s     "
       ]
      },
      {
       "output_type": "stream",
       "stream": "stdout",
       "text": [
        "\r",
        "89% [=================================>     ] 2,143,264   41.0KB/s  eta 9s     "
       ]
      },
      {
       "output_type": "stream",
       "stream": "stdout",
       "text": [
        "\r",
        "90% [==================================>    ] 2,162,088   42.2KB/s  eta 9s     "
       ]
      },
      {
       "output_type": "stream",
       "stream": "stdout",
       "text": [
        "\r",
        "90% [==================================>    ] 2,179,464   45.1KB/s  eta 6s     "
       ]
      },
      {
       "output_type": "stream",
       "stream": "stdout",
       "text": [
        "\r",
        "91% [==================================>    ] 2,198,288   49.9KB/s  eta 6s     "
       ]
      },
      {
       "output_type": "stream",
       "stream": "stdout",
       "text": [
        "\r",
        "92% [===================================>   ] 2,220,960   51.2KB/s  eta 6s     "
       ]
      },
      {
       "output_type": "stream",
       "stream": "stdout",
       "text": [
        "\r",
        "93% [===================================>   ] 2,246,072   55.0KB/s  eta 6s     "
       ]
      },
      {
       "output_type": "stream",
       "stream": "stdout",
       "text": [
        "\r",
        "94% [===================================>   ] 2,257,656   54.5KB/s  eta 4s     "
       ]
      },
      {
       "output_type": "stream",
       "stream": "stdout",
       "text": [
        "\r",
        "94% [===================================>   ] 2,269,240   55.1KB/s  eta 4s     "
       ]
      },
      {
       "output_type": "stream",
       "stream": "stdout",
       "text": [
        "\r",
        "95% [====================================>  ] 2,280,824   55.6KB/s  eta 4s     "
       ]
      },
      {
       "output_type": "stream",
       "stream": "stdout",
       "text": [
        "\r",
        "95% [====================================>  ] 2,293,360   55.7KB/s  eta 4s     "
       ]
      },
      {
       "output_type": "stream",
       "stream": "stdout",
       "text": [
        "\r",
        "96% [====================================>  ] 2,302,544   55.4KB/s  eta 4s     "
       ]
      },
      {
       "output_type": "stream",
       "stream": "stdout",
       "text": [
        "\r",
        "96% [====================================>  ] 2,306,888   53.6KB/s  eta 3s     "
       ]
      },
      {
       "output_type": "stream",
       "stream": "stdout",
       "text": [
        "\r",
        "96% [====================================>  ] 2,314,128   56.4KB/s  eta 3s     "
       ]
      },
      {
       "output_type": "stream",
       "stream": "stdout",
       "text": [
        "\r",
        "96% [====================================>  ] 2,321,368   55.8KB/s  eta 3s     "
       ]
      },
      {
       "output_type": "stream",
       "stream": "stdout",
       "text": [
        "\r",
        "97% [====================================>  ] 2,328,608   54.0KB/s  eta 3s     "
       ]
      },
      {
       "output_type": "stream",
       "stream": "stdout",
       "text": [
        "\r",
        "97% [====================================>  ] 2,332,952   50.1KB/s  eta 2s     "
       ]
      },
      {
       "output_type": "stream",
       "stream": "stdout",
       "text": [
        "\r",
        "97% [=====================================> ] 2,341,640   45.0KB/s  eta 2s     "
       ]
      },
      {
       "output_type": "stream",
       "stream": "stdout",
       "text": [
        "\r",
        "97% [=====================================> ] 2,348,880   38.8KB/s  eta 1s     "
       ]
      },
      {
       "output_type": "stream",
       "stream": "stdout",
       "text": [
        "\r",
        "98% [=====================================> ] 2,350,328   33.0KB/s  eta 1s     "
       ]
      },
      {
       "output_type": "stream",
       "stream": "stdout",
       "text": [
        "\r",
        "98% [=====================================> ] 2,360,464   30.7KB/s  eta 1s     "
       ]
      },
      {
       "output_type": "stream",
       "stream": "stdout",
       "text": [
        "\r",
        "98% [=====================================> ] 2,370,600   29.3KB/s  eta 1s     "
       ]
      },
      {
       "output_type": "stream",
       "stream": "stdout",
       "text": [
        "\r",
        "99% [=====================================> ] 2,380,736   27.5KB/s  eta 1s     "
       ]
      },
      {
       "output_type": "stream",
       "stream": "stdout",
       "text": [
        "\r",
        "99% [=====================================> ] 2,392,320   26.4KB/s  eta 0s     "
       ]
      },
      {
       "output_type": "stream",
       "stream": "stdout",
       "text": [
        "\r",
        "100%[======================================>] 2,396,886   26.8KB/s   in 72s    \r\n",
        "\r\n",
        "2014-03-03 12:44:55 (32.3 KB/s) - \u2018enron5.tar.gz\u2019 saved [2396886/2396886]\r\n",
        "\r\n"
       ]
      },
      {
       "output_type": "stream",
       "stream": "stdout",
       "text": [
        "--2014-03-03 12:44:55--  http://www.aueb.gr/users/ion/data/enron-spam/preprocessed/enron6.tar.gz\r\n",
        "Resolving www.aueb.gr... "
       ]
      },
      {
       "output_type": "stream",
       "stream": "stdout",
       "text": [
        "195.251.255.138\r\n",
        "Connecting to www.aueb.gr|195.251.255.138|:80... "
       ]
      },
      {
       "output_type": "stream",
       "stream": "stdout",
       "text": [
        "connected.\r\n",
        "HTTP request sent, awaiting response... "
       ]
      },
      {
       "output_type": "stream",
       "stream": "stdout",
       "text": [
        "200 OK\r\n",
        "Length: 3137204 (3.0M) [application/x-gzip]\r\n",
        "Saving to: \u2018enron6.tar.gz\u2019\r\n",
        "\r\n",
        "\r",
        " 0% [                                       ] 0           --.-K/s              "
       ]
      },
      {
       "output_type": "stream",
       "stream": "stdout",
       "text": [
        "\r",
        " 0% [                                       ] 6,016       10.1KB/s             "
       ]
      },
      {
       "output_type": "stream",
       "stream": "stdout",
       "text": [
        "\r",
        " 0% [                                       ] 11,808      9.81KB/s             "
       ]
      },
      {
       "output_type": "stream",
       "stream": "stdout",
       "text": [
        "\r",
        " 0% [                                       ] 19,048      12.0KB/s             "
       ]
      },
      {
       "output_type": "stream",
       "stream": "stdout",
       "text": [
        "\r",
        " 0% [                                       ] 27,736      13.8KB/s             "
       ]
      },
      {
       "output_type": "stream",
       "stream": "stdout",
       "text": [
        "\r",
        " 1% [                                       ] 41,720      15.4KB/s             "
       ]
      },
      {
       "output_type": "stream",
       "stream": "stdout",
       "text": [
        "\r",
        " 1% [                                       ] 49,456      15.5KB/s  eta 3m 15s "
       ]
      },
      {
       "output_type": "stream",
       "stream": "stdout",
       "text": [
        "\r",
        " 1% [                                       ] 53,800      14.4KB/s  eta 3m 15s "
       ]
      },
      {
       "output_type": "stream",
       "stream": "stdout",
       "text": [
        "\r",
        " 1% [                                       ] 58,144      12.4KB/s  eta 4m 3s  "
       ]
      },
      {
       "output_type": "stream",
       "stream": "stdout",
       "text": [
        "\r",
        " 1% [                                       ] 61,040      12.3KB/s  eta 4m 3s  "
       ]
      },
      {
       "output_type": "stream",
       "stream": "stdout",
       "text": [
        "\r",
        " 2% [                                       ] 66,832      12.6KB/s  eta 4m 3s  "
       ]
      },
      {
       "output_type": "stream",
       "stream": "stdout",
       "text": [
        "\r",
        " 2% [                                       ] 74,072      13.1KB/s  eta 4m 3s  "
       ]
      },
      {
       "output_type": "stream",
       "stream": "stdout",
       "text": [
        "\r",
        " 2% [>                                      ] 82,760      14.1KB/s  eta 3m 32s "
       ]
      },
      {
       "output_type": "stream",
       "stream": "stdout",
       "text": [
        "\r",
        " 2% [>                                      ] 91,448      14.9KB/s  eta 3m 32s "
       ]
      },
      {
       "output_type": "stream",
       "stream": "stdout",
       "text": [
        "\r",
        " 3% [>                                      ] 101,584     15.5KB/s  eta 3m 32s "
       ]
      },
      {
       "output_type": "stream",
       "stream": "stdout",
       "text": [
        "\r",
        " 3% [>                                      ] 111,720     16.5KB/s  eta 3m 32s "
       ]
      },
      {
       "output_type": "stream",
       "stream": "stdout",
       "text": [
        "\r",
        " 3% [>                                      ] 124,256     17.2KB/s  eta 2m 51s "
       ]
      },
      {
       "output_type": "stream",
       "stream": "stdout",
       "text": [
        "\r",
        " 4% [>                                      ] 136,336     18.3KB/s  eta 2m 51s "
       ]
      },
      {
       "output_type": "stream",
       "stream": "stdout",
       "text": [
        "\r",
        " 4% [>                                      ] 143,576     18.4KB/s  eta 2m 51s "
       ]
      },
      {
       "output_type": "stream",
       "stream": "stdout",
       "text": [
        "\r",
        " 4% [>                                      ] 149,368     18.6KB/s  eta 2m 51s "
       ]
      },
      {
       "output_type": "stream",
       "stream": "stdout",
       "text": [
        "\r",
        " 5% [>                                      ] 158,056     19.5KB/s  eta 2m 34s "
       ]
      },
      {
       "output_type": "stream",
       "stream": "stdout",
       "text": [
        "\r",
        " 5% [=>                                     ] 166,744     20.5KB/s  eta 2m 34s "
       ]
      },
      {
       "output_type": "stream",
       "stream": "stdout",
       "text": [
        "\r",
        " 5% [=>                                     ] 176,880     21.2KB/s  eta 2m 34s "
       ]
      },
      {
       "output_type": "stream",
       "stream": "stdout",
       "text": [
        "\r",
        " 5% [=>                                     ] 187,016     21.9KB/s  eta 2m 34s "
       ]
      },
      {
       "output_type": "stream",
       "stream": "stdout",
       "text": [
        "\r",
        " 6% [=>                                     ] 198,600     23.0KB/s  eta 2m 18s "
       ]
      },
      {
       "output_type": "stream",
       "stream": "stdout",
       "text": [
        "\r",
        " 6% [=>                                     ] 210,184     24.5KB/s  eta 2m 18s "
       ]
      },
      {
       "output_type": "stream",
       "stream": "stdout",
       "text": [
        "\r",
        " 7% [=>                                     ] 221,768     27.0KB/s  eta 2m 18s "
       ]
      },
      {
       "output_type": "stream",
       "stream": "stdout",
       "text": [
        "\r",
        " 7% [=>                                     ] 233,352     33.1KB/s  eta 2m 18s "
       ]
      },
      {
       "output_type": "stream",
       "stream": "stdout",
       "text": [
        "\r",
        " 7% [==>                                    ] 247,832     35.6KB/s  eta 2m 18s "
       ]
      },
      {
       "output_type": "stream",
       "stream": "stdout",
       "text": [
        "\r",
        " 8% [==>                                    ] 263,264     36.3KB/s  eta 1m 56s "
       ]
      },
      {
       "output_type": "stream",
       "stream": "stdout",
       "text": [
        "\r",
        " 8% [==>                                    ] 278,240     37.6KB/s  eta 1m 56s "
       ]
      },
      {
       "output_type": "stream",
       "stream": "stdout",
       "text": [
        "\r",
        " 9% [==>                                    ] 287,880     37.7KB/s  eta 1m 56s "
       ]
      },
      {
       "output_type": "stream",
       "stream": "stdout",
       "text": [
        "\r",
        " 9% [==>                                    ] 294,168     37.5KB/s  eta 1m 56s "
       ]
      },
      {
       "output_type": "stream",
       "stream": "stdout",
       "text": [
        "\r",
        " 9% [==>                                    ] 297,064     36.8KB/s  eta 1m 56s "
       ]
      },
      {
       "output_type": "stream",
       "stream": "stdout",
       "text": [
        "\r",
        " 9% [==>                                    ] 302,856     36.0KB/s  eta 1m 50s "
       ]
      },
      {
       "output_type": "stream",
       "stream": "stdout",
       "text": [
        "\r",
        " 9% [==>                                    ] 308,648     36.3KB/s  eta 1m 50s "
       ]
      },
      {
       "output_type": "stream",
       "stream": "stdout",
       "text": [
        "\r",
        "10% [==>                                    ] 314,440     33.1KB/s  eta 1m 50s "
       ]
      },
      {
       "output_type": "stream",
       "stream": "stdout",
       "text": [
        "\r",
        "10% [===>                                   ] 323,128     31.7KB/s  eta 1m 54s "
       ]
      },
      {
       "output_type": "stream",
       "stream": "stdout",
       "text": [
        "\r",
        "10% [===>                                   ] 327,472     29.8KB/s  eta 1m 54s "
       ]
      },
      {
       "output_type": "stream",
       "stream": "stdout",
       "text": [
        "\r",
        "10% [===>                                   ] 328,920     28.8KB/s  eta 1m 54s "
       ]
      },
      {
       "output_type": "stream",
       "stream": "stdout",
       "text": [
        "\r",
        "10% [===>                                   ] 330,368     28.3KB/s  eta 1m 54s "
       ]
      },
      {
       "output_type": "stream",
       "stream": "stdout",
       "text": [
        "\r",
        "10% [===>                                   ] 333,264     28.0KB/s  eta 2m 1s  "
       ]
      },
      {
       "output_type": "stream",
       "stream": "stdout",
       "text": [
        "\r",
        "10% [===>                                   ] 339,056     27.0KB/s  eta 2m 1s  "
       ]
      },
      {
       "output_type": "stream",
       "stream": "stdout",
       "text": [
        "\r",
        "10% [===>                                   ] 341,952     25.4KB/s  eta 2m 1s  "
       ]
      },
      {
       "output_type": "stream",
       "stream": "stdout",
       "text": [
        "\r",
        "11% [===>                                   ] 354,488     24.2KB/s  eta 2m 2s  "
       ]
      },
      {
       "output_type": "stream",
       "stream": "stdout",
       "text": [
        "\r",
        "11% [===>                                   ] 357,880     22.9KB/s  eta 2m 2s  "
       ]
      },
      {
       "output_type": "stream",
       "stream": "stdout",
       "text": [
        "\r",
        "11% [===>                                   ] 359,328     20.9KB/s  eta 2m 2s  "
       ]
      },
      {
       "output_type": "stream",
       "stream": "stdout",
       "text": [
        "\r",
        "11% [===>                                   ] 363,672     19.7KB/s  eta 2m 2s  "
       ]
      },
      {
       "output_type": "stream",
       "stream": "stdout",
       "text": [
        "\r",
        "11% [===>                                   ] 368,016     17.9KB/s  eta 2m 7s  "
       ]
      },
      {
       "output_type": "stream",
       "stream": "stdout",
       "text": [
        "\r",
        "11% [===>                                   ] 373,808     16.7KB/s  eta 2m 7s  "
       ]
      },
      {
       "output_type": "stream",
       "stream": "stdout",
       "text": [
        "\r",
        "12% [===>                                   ] 379,600     15.2KB/s  eta 2m 7s  "
       ]
      },
      {
       "output_type": "stream",
       "stream": "stdout",
       "text": [
        "\r",
        "12% [===>                                   ] 382,496     13.7KB/s  eta 2m 7s  "
       ]
      },
      {
       "output_type": "stream",
       "stream": "stdout",
       "text": [
        "\r",
        "12% [===>                                   ] 389,736     13.6KB/s  eta 2m 9s  "
       ]
      },
      {
       "output_type": "stream",
       "stream": "stdout",
       "text": [
        "\r",
        "12% [===>                                   ] 394,080     12.5KB/s  eta 2m 9s  "
       ]
      },
      {
       "output_type": "stream",
       "stream": "stdout",
       "text": [
        "\r",
        "12% [====>                                  ] 404,216     12.6KB/s  eta 2m 13s "
       ]
      },
      {
       "output_type": "stream",
       "stream": "stdout",
       "text": [
        "\r",
        "12% [====>                                  ] 405,664     11.8KB/s  eta 2m 13s "
       ]
      },
      {
       "output_type": "stream",
       "stream": "stdout",
       "text": [
        "\r",
        "13% [====>                                  ] 408,560     11.9KB/s  eta 2m 13s "
       ]
      },
      {
       "output_type": "stream",
       "stream": "stdout",
       "text": [
        "\r",
        "13% [====>                                  ] 412,904     11.9KB/s  eta 2m 13s "
       ]
      },
      {
       "output_type": "stream",
       "stream": "stdout",
       "text": [
        "\r",
        "13% [====>                                  ] 418,696     12.6KB/s  eta 2m 15s "
       ]
      },
      {
       "output_type": "stream",
       "stream": "stdout",
       "text": [
        "\r",
        "13% [====>                                  ] 427,384     13.6KB/s  eta 2m 15s "
       ]
      },
      {
       "output_type": "stream",
       "stream": "stdout",
       "text": [
        "\r",
        "13% [====>                                  ] 433,176     14.2KB/s  eta 2m 15s "
       ]
      },
      {
       "output_type": "stream",
       "stream": "stdout",
       "text": [
        "\r",
        "14% [====>                                  ] 440,416     14.1KB/s  eta 2m 13s "
       ]
      },
      {
       "output_type": "stream",
       "stream": "stdout",
       "text": [
        "\r",
        "14% [====>                                  ] 449,104     14.6KB/s  eta 2m 13s "
       ]
      },
      {
       "output_type": "stream",
       "stream": "stdout",
       "text": [
        "\r",
        "14% [====>                                  ] 457,792     15.3KB/s  eta 2m 13s "
       ]
      },
      {
       "output_type": "stream",
       "stream": "stdout",
       "text": [
        "\r",
        "14% [====>                                  ] 467,928     15.8KB/s  eta 2m 13s "
       ]
      },
      {
       "output_type": "stream",
       "stream": "stdout",
       "text": [
        "\r",
        "15% [====>                                  ] 478,064     16.7KB/s  eta 2m 7s  "
       ]
      },
      {
       "output_type": "stream",
       "stream": "stdout",
       "text": [
        "\r",
        "15% [=====>                                 ] 488,200     18.4KB/s  eta 2m 7s  "
       ]
      },
      {
       "output_type": "stream",
       "stream": "stdout",
       "text": [
        "\r",
        "15% [=====>                                 ] 499,784     19.4KB/s  eta 2m 7s  "
       ]
      },
      {
       "output_type": "stream",
       "stream": "stdout",
       "text": [
        "\r",
        "16% [=====>                                 ] 512,320     20.9KB/s  eta 2m 7s  "
       ]
      },
      {
       "output_type": "stream",
       "stream": "stdout",
       "text": [
        "\r",
        "16% [=====>                                 ] 521,504     21.1KB/s  eta 2m 0s  "
       ]
      },
      {
       "output_type": "stream",
       "stream": "stdout",
       "text": [
        "\r",
        "16% [=====>                                 ] 527,296     21.0KB/s  eta 2m 0s  "
       ]
      },
      {
       "output_type": "stream",
       "stream": "stdout",
       "text": [
        "\r",
        "17% [=====>                                 ] 534,536     22.4KB/s  eta 2m 0s  "
       ]
      },
      {
       "output_type": "stream",
       "stream": "stdout",
       "text": [
        "\r",
        "17% [=====>                                 ] 541,776     23.1KB/s  eta 2m 0s  "
       ]
      },
      {
       "output_type": "stream",
       "stream": "stdout",
       "text": [
        "\r",
        "17% [=====>                                 ] 550,464     26.1KB/s  eta 1m 57s "
       ]
      },
      {
       "output_type": "stream",
       "stream": "stdout",
       "text": [
        "\r",
        "17% [=====>                                 ] 560,600     29.0KB/s  eta 1m 57s "
       ]
      },
      {
       "output_type": "stream",
       "stream": "stdout",
       "text": [
        "\r",
        "18% [======>                                ] 570,736     30.3KB/s  eta 1m 57s "
       ]
      },
      {
       "output_type": "stream",
       "stream": "stdout",
       "text": [
        "\r",
        "18% [======>                                ] 582,320     31.4KB/s  eta 1m 57s "
       ]
      },
      {
       "output_type": "stream",
       "stream": "stdout",
       "text": [
        "\r",
        "18% [======>                                ] 593,904     32.3KB/s  eta 1m 51s "
       ]
      },
      {
       "output_type": "stream",
       "stream": "stdout",
       "text": [
        "\r",
        "19% [======>                                ] 605,488     32.9KB/s  eta 1m 51s "
       ]
      },
      {
       "output_type": "stream",
       "stream": "stdout",
       "text": [
        "\r",
        "19% [======>                                ] 618,520     34.3KB/s  eta 1m 51s "
       ]
      },
      {
       "output_type": "stream",
       "stream": "stdout",
       "text": [
        "\r",
        "20% [======>                                ] 633,000     37.9KB/s  eta 1m 51s "
       ]
      },
      {
       "output_type": "stream",
       "stream": "stdout",
       "text": [
        "\r",
        "20% [=======>                               ] 652,776     39.7KB/s  eta 1m 43s "
       ]
      },
      {
       "output_type": "stream",
       "stream": "stdout",
       "text": [
        "\r",
        "21% [=======>                               ] 667,752     40.8KB/s  eta 1m 43s "
       ]
      },
      {
       "output_type": "stream",
       "stream": "stdout",
       "text": [
        "\r",
        "21% [=======>                               ] 672,096     38.6KB/s  eta 1m 43s "
       ]
      },
      {
       "output_type": "stream",
       "stream": "stdout",
       "text": [
        "\r",
        "21% [=======>                               ] 679,336     36.3KB/s  eta 1m 42s "
       ]
      },
      {
       "output_type": "stream",
       "stream": "stdout",
       "text": [
        "\r",
        "21% [=======>                               ] 687,528     35.1KB/s  eta 1m 42s "
       ]
      },
      {
       "output_type": "stream",
       "stream": "stdout",
       "text": [
        "\r",
        "21% [=======>                               ] 689,472     33.1KB/s  eta 1m 42s "
       ]
      },
      {
       "output_type": "stream",
       "stream": "stdout",
       "text": [
        "\r",
        "22% [=======>                               ] 690,920     31.6KB/s  eta 1m 42s "
       ]
      },
      {
       "output_type": "stream",
       "stream": "stdout",
       "text": [
        "\r",
        "22% [=======>                               ] 693,816     31.1KB/s  eta 1m 44s "
       ]
      },
      {
       "output_type": "stream",
       "stream": "stdout",
       "text": [
        "\r",
        "22% [=======>                               ] 698,160     30.2KB/s  eta 1m 44s "
       ]
      },
      {
       "output_type": "stream",
       "stream": "stdout",
       "text": [
        "\r",
        "22% [=======>                               ] 703,952     29.6KB/s  eta 1m 44s "
       ]
      },
      {
       "output_type": "stream",
       "stream": "stdout",
       "text": [
        "\r",
        "22% [=======>                               ] 709,744     28.7KB/s  eta 1m 44s "
       ]
      },
      {
       "output_type": "stream",
       "stream": "stdout",
       "text": [
        "\r",
        "22% [=======>                               ] 716,984     28.4KB/s  eta 1m 44s "
       ]
      },
      {
       "output_type": "stream",
       "stream": "stdout",
       "text": [
        "\r",
        "23% [========>                              ] 724,224     28.4KB/s  eta 1m 44s "
       ]
      },
      {
       "output_type": "stream",
       "stream": "stdout",
       "text": [
        "\r",
        "23% [========>                              ] 732,912     28.2KB/s  eta 1m 44s "
       ]
      },
      {
       "output_type": "stream",
       "stream": "stdout",
       "text": [
        "\r",
        "23% [========>                              ] 741,600     28.4KB/s  eta 1m 44s "
       ]
      },
      {
       "output_type": "stream",
       "stream": "stdout",
       "text": [
        "\r",
        "23% [========>                              ] 751,736     28.4KB/s  eta 1m 44s "
       ]
      },
      {
       "output_type": "stream",
       "stream": "stdout",
       "text": [
        "\r",
        "24% [========>                              ] 761,872     28.3KB/s  eta 99s    "
       ]
      },
      {
       "output_type": "stream",
       "stream": "stdout",
       "text": [
        "\r",
        "24% [========>                              ] 773,456     28.0KB/s  eta 99s    "
       ]
      },
      {
       "output_type": "stream",
       "stream": "stdout",
       "text": [
        "\r",
        "25% [========>                              ] 785,040     27.7KB/s  eta 99s    "
       ]
      },
      {
       "output_type": "stream",
       "stream": "stdout",
       "text": [
        "\r",
        "25% [========>                              ] 796,624     27.2KB/s  eta 99s    "
       ]
      },
      {
       "output_type": "stream",
       "stream": "stdout",
       "text": [
        "\r",
        "25% [=========>                             ] 809,656     27.8KB/s  eta 99s    "
       ]
      },
      {
       "output_type": "stream",
       "stream": "stdout",
       "text": [
        "\r",
        "26% [=========>                             ] 824,136     27.6KB/s  eta 92s    "
       ]
      },
      {
       "output_type": "stream",
       "stream": "stdout",
       "text": [
        "\r",
        "26% [=========>                             ] 837,168     29.7KB/s  eta 92s    "
       ]
      },
      {
       "output_type": "stream",
       "stream": "stdout",
       "text": [
        "\r",
        "27% [=========>                             ] 851,648     32.5KB/s  eta 92s    "
       ]
      },
      {
       "output_type": "stream",
       "stream": "stdout",
       "text": [
        "\r",
        "27% [=========>                             ] 866,128     34.1KB/s  eta 92s    "
       ]
      },
      {
       "output_type": "stream",
       "stream": "stdout",
       "text": [
        "\r",
        "28% [=========>                             ] 882,056     37.4KB/s  eta 92s    "
       ]
      },
      {
       "output_type": "stream",
       "stream": "stdout",
       "text": [
        "\r",
        "28% [==========>                            ] 899,432     41.4KB/s  eta 85s    "
       ]
      },
      {
       "output_type": "stream",
       "stream": "stdout",
       "text": [
        "\r",
        "29% [==========>                            ] 916,808     45.0KB/s  eta 85s    "
       ]
      },
      {
       "output_type": "stream",
       "stream": "stdout",
       "text": [
        "\r",
        "29% [==========>                            ] 935,632     48.6KB/s  eta 85s    "
       ]
      },
      {
       "output_type": "stream",
       "stream": "stdout",
       "text": [
        "\r",
        "30% [==========>                            ] 955,904     52.5KB/s  eta 85s    "
       ]
      },
      {
       "output_type": "stream",
       "stream": "stdout",
       "text": [
        "\r",
        "31% [===========>                           ] 976,176     56.4KB/s  eta 85s    "
       ]
      },
      {
       "output_type": "stream",
       "stream": "stdout",
       "text": [
        "\r",
        "31% [===========>                           ] 996,448     60.3KB/s  eta 76s    "
       ]
      },
      {
       "output_type": "stream",
       "stream": "stdout",
       "text": [
        "\r",
        "32% [===========>                           ] 1,019,616   63.9KB/s  eta 76s    "
       ]
      },
      {
       "output_type": "stream",
       "stream": "stdout",
       "text": [
        "\r",
        "33% [===========>                           ] 1,041,336   66.8KB/s  eta 76s    "
       ]
      },
      {
       "output_type": "stream",
       "stream": "stdout",
       "text": [
        "\r",
        "33% [============>                          ] 1,050,976   66.3KB/s  eta 76s    "
       ]
      },
      {
       "output_type": "stream",
       "stream": "stdout",
       "text": [
        "\r",
        "34% [============>                          ] 1,080,432   70.6KB/s  eta 76s    "
       ]
      },
      {
       "output_type": "stream",
       "stream": "stdout",
       "text": [
        "\r",
        "34% [============>                          ] 1,093,464   71.1KB/s  eta 68s    "
       ]
      },
      {
       "output_type": "stream",
       "stream": "stdout",
       "text": [
        "\r",
        "35% [============>                          ] 1,106,496   71.6KB/s  eta 68s    "
       ]
      },
      {
       "output_type": "stream",
       "stream": "stdout",
       "text": [
        "\r",
        "35% [============>                          ] 1,120,976   72.2KB/s  eta 68s    "
       ]
      },
      {
       "output_type": "stream",
       "stream": "stdout",
       "text": [
        "\r",
        "36% [=============>                         ] 1,134,960   70.0KB/s  eta 68s    "
       ]
      },
      {
       "output_type": "stream",
       "stream": "stdout",
       "text": [
        "\r",
        "36% [=============>                         ] 1,152,832   70.9KB/s  eta 64s    "
       ]
      },
      {
       "output_type": "stream",
       "stream": "stdout",
       "text": [
        "\r",
        "37% [=============>                         ] 1,161,520   68.4KB/s  eta 64s    "
       ]
      },
      {
       "output_type": "stream",
       "stream": "stdout",
       "text": [
        "\r",
        "37% [=============>                         ] 1,170,208   67.5KB/s  eta 64s    "
       ]
      },
      {
       "output_type": "stream",
       "stream": "stdout",
       "text": [
        "\r",
        "37% [=============>                         ] 1,180,344   66.8KB/s  eta 64s    "
       ]
      },
      {
       "output_type": "stream",
       "stream": "stdout",
       "text": [
        "\r",
        "37% [=============>                         ] 1,190,480   66.0KB/s  eta 63s    "
       ]
      },
      {
       "output_type": "stream",
       "stream": "stdout",
       "text": [
        "\r",
        "38% [=============>                         ] 1,202,064   65.1KB/s  eta 63s    "
       ]
      },
      {
       "output_type": "stream",
       "stream": "stdout",
       "text": [
        "\r",
        "38% [==============>                        ] 1,213,648   63.7KB/s  eta 63s    "
       ]
      },
      {
       "output_type": "stream",
       "stream": "stdout",
       "text": [
        "\r",
        "39% [==============>                        ] 1,225,232   62.3KB/s  eta 63s    "
       ]
      },
      {
       "output_type": "stream",
       "stream": "stdout",
       "text": [
        "\r",
        "39% [==============>                        ] 1,238,264   61.4KB/s  eta 63s    "
       ]
      },
      {
       "output_type": "stream",
       "stream": "stdout",
       "text": [
        "\r",
        "39% [==============>                        ] 1,252,744   59.8KB/s  eta 59s    "
       ]
      },
      {
       "output_type": "stream",
       "stream": "stdout",
       "text": [
        "\r",
        "40% [==============>                        ] 1,265,776   58.3KB/s  eta 59s    "
       ]
      },
      {
       "output_type": "stream",
       "stream": "stdout",
       "text": [
        "\r",
        "40% [==============>                        ] 1,281,704   57.9KB/s  eta 59s    "
       ]
      },
      {
       "output_type": "stream",
       "stream": "stdout",
       "text": [
        "\r",
        "41% [===============>                       ] 1,299,080   57.0KB/s  eta 59s    "
       ]
      },
      {
       "output_type": "stream",
       "stream": "stdout",
       "text": [
        "\r",
        "41% [===============>                       ] 1,316,456   55.7KB/s  eta 59s    "
       ]
      },
      {
       "output_type": "stream",
       "stream": "stdout",
       "text": [
        "\r",
        "42% [===============>                       ] 1,335,280   57.9KB/s  eta 55s    "
       ]
      },
      {
       "output_type": "stream",
       "stream": "stdout",
       "text": [
        "\r",
        "43% [===============>                       ] 1,352,656   55.3KB/s  eta 55s    "
       ]
      },
      {
       "output_type": "stream",
       "stream": "stdout",
       "text": [
        "\r",
        "43% [================>                      ] 1,372,928   56.9KB/s  eta 55s    "
       ]
      },
      {
       "output_type": "stream",
       "stream": "stdout",
       "text": [
        "\r",
        "44% [================>                      ] 1,393,200   58.4KB/s  eta 55s    "
       ]
      },
      {
       "output_type": "stream",
       "stream": "stdout",
       "text": [
        "\r",
        "45% [================>                      ] 1,413,472   59.7KB/s  eta 55s    "
       ]
      },
      {
       "output_type": "stream",
       "stream": "stdout",
       "text": [
        "\r",
        "45% [================>                      ] 1,436,640   63.3KB/s  eta 50s    "
       ]
      },
      {
       "output_type": "stream",
       "stream": "stdout",
       "text": [
        "\r",
        "46% [=================>                     ] 1,459,808   66.4KB/s  eta 50s    "
       ]
      },
      {
       "output_type": "stream",
       "stream": "stdout",
       "text": [
        "\r",
        "47% [=================>                     ] 1,484,424   69.6KB/s  eta 50s    "
       ]
      },
      {
       "output_type": "stream",
       "stream": "stdout",
       "text": [
        "\r",
        "48% [=================>                     ] 1,509,040   72.9KB/s  eta 50s    "
       ]
      },
      {
       "output_type": "stream",
       "stream": "stdout",
       "text": [
        "\r",
        "48% [==================>                    ] 1,535,104   76.3KB/s  eta 45s    "
       ]
      },
      {
       "output_type": "stream",
       "stream": "stdout",
       "text": [
        "\r",
        "49% [==================>                    ] 1,561,168   79.5KB/s  eta 45s    "
       ]
      },
      {
       "output_type": "stream",
       "stream": "stdout",
       "text": [
        "\r",
        "50% [==================>                    ] 1,585,784   82.5KB/s  eta 45s    "
       ]
      },
      {
       "output_type": "stream",
       "stream": "stdout",
       "text": [
        "\r",
        "51% [===================>                   ] 1,613,296   86.1KB/s  eta 45s    "
       ]
      },
      {
       "output_type": "stream",
       "stream": "stdout",
       "text": [
        "\r",
        "52% [===================>                   ] 1,638,864   86.1KB/s  eta 40s    "
       ]
      },
      {
       "output_type": "stream",
       "stream": "stdout",
       "text": [
        "\r",
        "53% [===================>                   ] 1,674,112   91.1KB/s  eta 40s    "
       ]
      },
      {
       "output_type": "stream",
       "stream": "stdout",
       "text": [
        "\r",
        "53% [====================>                  ] 1,691,488   84.2KB/s  eta 40s    "
       ]
      },
      {
       "output_type": "stream",
       "stream": "stdout",
       "text": [
        "\r",
        "54% [====================>                  ] 1,711,760   84.0KB/s  eta 37s    "
       ]
      },
      {
       "output_type": "stream",
       "stream": "stdout",
       "text": [
        "\r",
        "54% [====================>                  ] 1,720,448   81.9KB/s  eta 37s    "
       ]
      },
      {
       "output_type": "stream",
       "stream": "stdout",
       "text": [
        "\r",
        "55% [====================>                  ] 1,729,136   80.2KB/s  eta 37s    "
       ]
      },
      {
       "output_type": "stream",
       "stream": "stdout",
       "text": [
        "\r",
        "55% [====================>                  ] 1,742,168   78.5KB/s  eta 37s    "
       ]
      },
      {
       "output_type": "stream",
       "stream": "stdout",
       "text": [
        "\r",
        "55% [====================>                  ] 1,747,960   75.8KB/s  eta 37s    "
       ]
      },
      {
       "output_type": "stream",
       "stream": "stdout",
       "text": [
        "\r",
        "56% [====================>                  ] 1,759,544   73.6KB/s  eta 36s    "
       ]
      },
      {
       "output_type": "stream",
       "stream": "stdout",
       "text": [
        "\r",
        "56% [=====================>                 ] 1,771,128   71.6KB/s  eta 36s    "
       ]
      },
      {
       "output_type": "stream",
       "stream": "stdout",
       "text": [
        "\r",
        "56% [=====================>                 ] 1,782,712   71.2KB/s  eta 36s    "
       ]
      },
      {
       "output_type": "stream",
       "stream": "stdout",
       "text": [
        "\r",
        "57% [=====================>                 ] 1,794,296   69.4KB/s  eta 36s    "
       ]
      },
      {
       "output_type": "stream",
       "stream": "stdout",
       "text": [
        "\r",
        "57% [=====================>                 ] 1,808,776   67.6KB/s  eta 36s    "
       ]
      },
      {
       "output_type": "stream",
       "stream": "stdout",
       "text": [
        "\r",
        "58% [=====================>                 ] 1,820,360   65.0KB/s  eta 34s    "
       ]
      },
      {
       "output_type": "stream",
       "stream": "stdout",
       "text": [
        "\r",
        "58% [=====================>                 ] 1,834,840   62.5KB/s  eta 34s    "
       ]
      },
      {
       "output_type": "stream",
       "stream": "stdout",
       "text": [
        "\r",
        "58% [======================>                ] 1,850,768   60.1KB/s  eta 34s    "
       ]
      },
      {
       "output_type": "stream",
       "stream": "stdout",
       "text": [
        "\r",
        "59% [======================>                ] 1,862,352   57.4KB/s  eta 34s    "
       ]
      },
      {
       "output_type": "stream",
       "stream": "stdout",
       "text": [
        "\r",
        "60% [======================>                ] 1,883,576   53.3KB/s  eta 32s    "
       ]
      },
      {
       "output_type": "stream",
       "stream": "stdout",
       "text": [
        "\r",
        "60% [======================>                ] 1,902,896   53.8KB/s  eta 32s    "
       ]
      },
      {
       "output_type": "stream",
       "stream": "stdout",
       "text": [
        "\r",
        "61% [======================>                ] 1,917,376   49.8KB/s  eta 32s    "
       ]
      },
      {
       "output_type": "stream",
       "stream": "stdout",
       "text": [
        "\r",
        "61% [======================>                ] 1,923,168   48.0KB/s  eta 32s    "
       ]
      },
      {
       "output_type": "stream",
       "stream": "stdout",
       "text": [
        "\r",
        "61% [=======================>               ] 1,934,752   50.3KB/s  eta 32s    "
       ]
      },
      {
       "output_type": "stream",
       "stream": "stdout",
       "text": [
        "\r",
        "61% [=======================>               ] 1,944,888   48.6KB/s  eta 30s    "
       ]
      },
      {
       "output_type": "stream",
       "stream": "stdout",
       "text": [
        "\r",
        "62% [=======================>               ] 1,957,920   49.7KB/s  eta 30s    "
       ]
      },
      {
       "output_type": "stream",
       "stream": "stdout",
       "text": [
        "\r",
        "62% [=======================>               ] 1,969,504   50.3KB/s  eta 30s    "
       ]
      },
      {
       "output_type": "stream",
       "stream": "stdout",
       "text": [
        "\r",
        "63% [=======================>               ] 1,989,280   49.2KB/s  eta 30s    "
       ]
      },
      {
       "output_type": "stream",
       "stream": "stdout",
       "text": [
        "\r",
        "63% [=======================>               ] 2,004,256   51.0KB/s  eta 29s    "
       ]
      },
      {
       "output_type": "stream",
       "stream": "stdout",
       "text": [
        "\r",
        "64% [========================>              ] 2,015,344   46.5KB/s  eta 29s    "
       ]
      },
      {
       "output_type": "stream",
       "stream": "stdout",
       "text": [
        "\r",
        "64% [========================>              ] 2,020,184   44.6KB/s  eta 29s    "
       ]
      },
      {
       "output_type": "stream",
       "stream": "stdout",
       "text": [
        "\r",
        "64% [========================>              ] 2,024,528   42.5KB/s  eta 29s    "
       ]
      },
      {
       "output_type": "stream",
       "stream": "stdout",
       "text": [
        "\r",
        "64% [========================>              ] 2,030,320   40.7KB/s  eta 29s    "
       ]
      },
      {
       "output_type": "stream",
       "stream": "stdout",
       "text": [
        "\r",
        "64% [========================>              ] 2,037,560   34.9KB/s  eta 29s    "
       ]
      },
      {
       "output_type": "stream",
       "stream": "stdout",
       "text": [
        "\r",
        "64% [========================>              ] 2,039,008   31.7KB/s  eta 29s    "
       ]
      },
      {
       "output_type": "stream",
       "stream": "stdout",
       "text": [
        "\r",
        "65% [========================>              ] 2,041,904   30.5KB/s  eta 29s    "
       ]
      },
      {
       "output_type": "stream",
       "stream": "stdout",
       "text": [
        "\r",
        "65% [========================>              ] 2,046,248   29.0KB/s  eta 29s    "
       ]
      },
      {
       "output_type": "stream",
       "stream": "stdout",
       "text": [
        "\r",
        "65% [========================>              ] 2,050,592   26.8KB/s  eta 29s    "
       ]
      },
      {
       "output_type": "stream",
       "stream": "stdout",
       "text": [
        "\r",
        "65% [========================>              ] 2,056,384   25.9KB/s  eta 29s    "
       ]
      },
      {
       "output_type": "stream",
       "stream": "stdout",
       "text": [
        "\r",
        "65% [========================>              ] 2,062,176   24.4KB/s  eta 29s    "
       ]
      },
      {
       "output_type": "stream",
       "stream": "stdout",
       "text": [
        "\r",
        "65% [========================>              ] 2,067,968   21.7KB/s  eta 29s    "
       ]
      },
      {
       "output_type": "stream",
       "stream": "stdout",
       "text": [
        "\r",
        "66% [========================>              ] 2,075,208   20.7KB/s  eta 29s    "
       ]
      },
      {
       "output_type": "stream",
       "stream": "stdout",
       "text": [
        "\r",
        "66% [========================>              ] 2,083,896   20.9KB/s  eta 29s    "
       ]
      },
      {
       "output_type": "stream",
       "stream": "stdout",
       "text": [
        "\r",
        "66% [=========================>             ] 2,092,584   20.3KB/s  eta 29s    "
       ]
      },
      {
       "output_type": "stream",
       "stream": "stdout",
       "text": [
        "\r",
        "67% [=========================>             ] 2,102,720   20.0KB/s  eta 29s    "
       ]
      },
      {
       "output_type": "stream",
       "stream": "stdout",
       "text": [
        "\r",
        "67% [=========================>             ] 2,112,856   19.5KB/s  eta 29s    "
       ]
      },
      {
       "output_type": "stream",
       "stream": "stdout",
       "text": [
        "\r",
        "67% [=========================>             ] 2,122,992   19.1KB/s  eta 28s    "
       ]
      },
      {
       "output_type": "stream",
       "stream": "stdout",
       "text": [
        "\r",
        "67% [=========================>             ] 2,133,128   18.5KB/s  eta 28s    "
       ]
      },
      {
       "output_type": "stream",
       "stream": "stdout",
       "text": [
        "\r",
        "68% [=========================>             ] 2,143,264   17.9KB/s  eta 28s    "
       ]
      },
      {
       "output_type": "stream",
       "stream": "stdout",
       "text": [
        "\r",
        "68% [=========================>             ] 2,154,848   19.2KB/s  eta 28s    "
       ]
      },
      {
       "output_type": "stream",
       "stream": "stdout",
       "text": [
        "\r",
        "69% [=========================>             ] 2,167,880   20.5KB/s  eta 28s    "
       ]
      },
      {
       "output_type": "stream",
       "stream": "stdout",
       "text": [
        "\r",
        "69% [==========================>            ] 2,179,464   21.7KB/s  eta 26s    "
       ]
      },
      {
       "output_type": "stream",
       "stream": "stdout",
       "text": [
        "\r",
        "69% [==========================>            ] 2,192,496   22.9KB/s  eta 26s    "
       ]
      },
      {
       "output_type": "stream",
       "stream": "stdout",
       "text": [
        "\r",
        "70% [==========================>            ] 2,206,976   26.7KB/s  eta 26s    "
       ]
      },
      {
       "output_type": "stream",
       "stream": "stdout",
       "text": [
        "\r",
        "70% [==========================>            ] 2,220,008   30.2KB/s  eta 26s    "
       ]
      },
      {
       "output_type": "stream",
       "stream": "stdout",
       "text": [
        "\r",
        "71% [==========================>            ] 2,229,648   31.5KB/s  eta 24s    "
       ]
      },
      {
       "output_type": "stream",
       "stream": "stdout",
       "text": [
        "\r",
        "71% [==========================>            ] 2,244,624   32.9KB/s  eta 24s    "
       ]
      },
      {
       "output_type": "stream",
       "stream": "stdout",
       "text": [
        "\r",
        "71% [===========================>           ] 2,253,312   34.5KB/s  eta 24s    "
       ]
      },
      {
       "output_type": "stream",
       "stream": "stdout",
       "text": [
        "\r",
        "72% [===========================>           ] 2,262,000   36.1KB/s  eta 24s    "
       ]
      },
      {
       "output_type": "stream",
       "stream": "stdout",
       "text": [
        "\r",
        "72% [===========================>           ] 2,272,136   37.3KB/s  eta 24s    "
       ]
      },
      {
       "output_type": "stream",
       "stream": "stdout",
       "text": [
        "\r",
        "72% [===========================>           ] 2,280,824   40.1KB/s  eta 23s    "
       ]
      },
      {
       "output_type": "stream",
       "stream": "stdout",
       "text": [
        "\r",
        "73% [===========================>           ] 2,292,408   40.7KB/s  eta 23s    "
       ]
      },
      {
       "output_type": "stream",
       "stream": "stdout",
       "text": [
        "\r",
        "73% [===========================>           ] 2,303,992   41.2KB/s  eta 23s    "
       ]
      },
      {
       "output_type": "stream",
       "stream": "stdout",
       "text": [
        "\r",
        "73% [===========================>           ] 2,317,024   42.6KB/s  eta 23s    "
       ]
      },
      {
       "output_type": "stream",
       "stream": "stdout",
       "text": [
        "\r",
        "74% [===========================>           ] 2,330,056   43.9KB/s  eta 22s    "
       ]
      },
      {
       "output_type": "stream",
       "stream": "stdout",
       "text": [
        "\r",
        "74% [============================>          ] 2,344,536   45.4KB/s  eta 22s    "
       ]
      },
      {
       "output_type": "stream",
       "stream": "stdout",
       "text": [
        "\r",
        "75% [============================>          ] 2,358,520   46.7KB/s  eta 22s    "
       ]
      },
      {
       "output_type": "stream",
       "stream": "stdout",
       "text": [
        "\r",
        "75% [============================>          ] 2,370,600   47.3KB/s  eta 22s    "
       ]
      },
      {
       "output_type": "stream",
       "stream": "stdout",
       "text": [
        "\r",
        "75% [============================>          ] 2,376,392   46.3KB/s  eta 22s    "
       ]
      },
      {
       "output_type": "stream",
       "stream": "stdout",
       "text": [
        "\r",
        "76% [============================>          ] 2,385,080   45.7KB/s  eta 20s    "
       ]
      },
      {
       "output_type": "stream",
       "stream": "stdout",
       "text": [
        "\r",
        "76% [============================>          ] 2,393,272   44.5KB/s  eta 20s    "
       ]
      },
      {
       "output_type": "stream",
       "stream": "stdout",
       "text": [
        "\r",
        "76% [============================>          ] 2,401,008   43.9KB/s  eta 20s    "
       ]
      },
      {
       "output_type": "stream",
       "stream": "stdout",
       "text": [
        "\r",
        "76% [============================>          ] 2,406,800   42.9KB/s  eta 20s    "
       ]
      },
      {
       "output_type": "stream",
       "stream": "stdout",
       "text": [
        "\r",
        "76% [============================>          ] 2,411,144   40.8KB/s  eta 20s    "
       ]
      },
      {
       "output_type": "stream",
       "stream": "stdout",
       "text": [
        "\r",
        "76% [=============================>         ] 2,415,488   38.8KB/s  eta 19s    "
       ]
      },
      {
       "output_type": "stream",
       "stream": "stdout",
       "text": [
        "\r",
        "77% [=============================>         ] 2,422,728   38.8KB/s  eta 19s    "
       ]
      },
      {
       "output_type": "stream",
       "stream": "stdout",
       "text": [
        "\r",
        "77% [=============================>         ] 2,429,968   37.9KB/s  eta 19s    "
       ]
      },
      {
       "output_type": "stream",
       "stream": "stdout",
       "text": [
        "\r",
        "77% [=============================>         ] 2,437,208   37.7KB/s  eta 19s    "
       ]
      },
      {
       "output_type": "stream",
       "stream": "stdout",
       "text": [
        "\r",
        "77% [=============================>         ] 2,445,896   37.7KB/s  eta 19s    "
       ]
      },
      {
       "output_type": "stream",
       "stream": "stdout",
       "text": [
        "\r",
        "78% [=============================>         ] 2,456,032   37.6KB/s  eta 18s    "
       ]
      },
      {
       "output_type": "stream",
       "stream": "stdout",
       "text": [
        "\r",
        "78% [=============================>         ] 2,464,720   37.6KB/s  eta 18s    "
       ]
      },
      {
       "output_type": "stream",
       "stream": "stdout",
       "text": [
        "\r",
        "78% [=============================>         ] 2,476,304   38.5KB/s  eta 18s    "
       ]
      },
      {
       "output_type": "stream",
       "stream": "stdout",
       "text": [
        "\r",
        "79% [=============================>         ] 2,486,440   38.9KB/s  eta 18s    "
       ]
      },
      {
       "output_type": "stream",
       "stream": "stdout",
       "text": [
        "\r",
        "79% [==============================>        ] 2,499,472   39.0KB/s  eta 18s    "
       ]
      },
      {
       "output_type": "stream",
       "stream": "stdout",
       "text": [
        "\r",
        "80% [==============================>        ] 2,512,504   39.0KB/s  eta 17s    "
       ]
      },
      {
       "output_type": "stream",
       "stream": "stdout",
       "text": [
        "\r",
        "80% [==============================>        ] 2,526,984   39.1KB/s  eta 17s    "
       ]
      },
      {
       "output_type": "stream",
       "stream": "stdout",
       "text": [
        "\r",
        "81% [==============================>        ] 2,542,912   39.6KB/s  eta 17s    "
       ]
      },
      {
       "output_type": "stream",
       "stream": "stdout",
       "text": [
        "\r",
        "81% [==============================>        ] 2,557,392   40.2KB/s  eta 17s    "
       ]
      },
      {
       "output_type": "stream",
       "stream": "stdout",
       "text": [
        "\r",
        "82% [===============================>       ] 2,574,768   42.5KB/s  eta 17s    "
       ]
      },
      {
       "output_type": "stream",
       "stream": "stdout",
       "text": [
        "\r",
        "82% [===============================>       ] 2,592,144   44.4KB/s  eta 14s    "
       ]
      },
      {
       "output_type": "stream",
       "stream": "stdout",
       "text": [
        "\r",
        "83% [===============================>       ] 2,610,968   46.8KB/s  eta 14s    "
       ]
      },
      {
       "output_type": "stream",
       "stream": "stdout",
       "text": [
        "\r",
        "83% [===============================>       ] 2,631,240   49.2KB/s  eta 14s    "
       ]
      },
      {
       "output_type": "stream",
       "stream": "stdout",
       "text": [
        "\r",
        "84% [===============================>       ] 2,652,464   49.6KB/s  eta 14s    "
       ]
      },
      {
       "output_type": "stream",
       "stream": "stdout",
       "text": [
        "\r",
        "85% [================================>      ] 2,677,576   53.8KB/s  eta 12s    "
       ]
      },
      {
       "output_type": "stream",
       "stream": "stdout",
       "text": [
        "\r",
        "85% [================================>      ] 2,689,160   56.5KB/s  eta 12s    "
       ]
      },
      {
       "output_type": "stream",
       "stream": "stdout",
       "text": [
        "\r",
        "86% [================================>      ] 2,699,296   56.5KB/s  eta 12s    "
       ]
      },
      {
       "output_type": "stream",
       "stream": "stdout",
       "text": [
        "\r",
        "86% [================================>      ] 2,710,880   57.5KB/s  eta 12s    "
       ]
      },
      {
       "output_type": "stream",
       "stream": "stdout",
       "text": [
        "\r",
        "86% [================================>      ] 2,723,912   57.9KB/s  eta 11s    "
       ]
      },
      {
       "output_type": "stream",
       "stream": "stdout",
       "text": [
        "\r",
        "87% [=================================>     ] 2,738,392   58.1KB/s  eta 11s    "
       ]
      },
      {
       "output_type": "stream",
       "stream": "stdout",
       "text": [
        "\r",
        "87% [=================================>     ] 2,752,872   57.7KB/s  eta 11s    "
       ]
      },
      {
       "output_type": "stream",
       "stream": "stdout",
       "text": [
        "\r",
        "88% [=================================>     ] 2,768,800   58.4KB/s  eta 11s    "
       ]
      },
      {
       "output_type": "stream",
       "stream": "stdout",
       "text": [
        "\r",
        "88% [=================================>     ] 2,784,728   58.7KB/s  eta 9s     "
       ]
      },
      {
       "output_type": "stream",
       "stream": "stdout",
       "text": [
        "\r",
        "89% [=================================>     ] 2,802,104   59.7KB/s  eta 9s     "
       ]
      },
      {
       "output_type": "stream",
       "stream": "stdout",
       "text": [
        "\r",
        "89% [==================================>    ] 2,819,480   60.8KB/s  eta 9s     "
       ]
      },
      {
       "output_type": "stream",
       "stream": "stdout",
       "text": [
        "\r",
        "90% [==================================>    ] 2,836,856   61.7KB/s  eta 9s     "
       ]
      },
      {
       "output_type": "stream",
       "stream": "stdout",
       "text": [
        "\r",
        "91% [==================================>    ] 2,859,528   60.4KB/s  eta 7s     "
       ]
      },
      {
       "output_type": "stream",
       "stream": "stdout",
       "text": [
        "\r",
        "91% [==================================>    ] 2,878,848   61.0KB/s  eta 7s     "
       ]
      },
      {
       "output_type": "stream",
       "stream": "stdout",
       "text": [
        "\r",
        "92% [==================================>    ] 2,887,536   59.3KB/s  eta 7s     "
       ]
      },
      {
       "output_type": "stream",
       "stream": "stdout",
       "text": [
        "\r",
        "92% [===================================>   ] 2,897,672   57.9KB/s  eta 7s     "
       ]
      },
      {
       "output_type": "stream",
       "stream": "stdout",
       "text": [
        "\r",
        "92% [===================================>   ] 2,906,360   56.0KB/s  eta 7s     "
       ]
      },
      {
       "output_type": "stream",
       "stream": "stdout",
       "text": [
        "\r",
        "92% [===================================>   ] 2,916,496   54.4KB/s  eta 6s     "
       ]
      },
      {
       "output_type": "stream",
       "stream": "stdout",
       "text": [
        "\r",
        "93% [===================================>   ] 2,928,080   54.4KB/s  eta 6s     "
       ]
      },
      {
       "output_type": "stream",
       "stream": "stdout",
       "text": [
        "\r",
        "93% [===================================>   ] 2,936,272   50.6KB/s  eta 6s     "
       ]
      },
      {
       "output_type": "stream",
       "stream": "stdout",
       "text": [
        "\r",
        "93% [===================================>   ] 2,948,352   51.1KB/s  eta 6s     "
       ]
      },
      {
       "output_type": "stream",
       "stream": "stdout",
       "text": [
        "\r",
        "94% [===================================>   ] 2,955,592   50.3KB/s  eta 6s     "
       ]
      },
      {
       "output_type": "stream",
       "stream": "stdout",
       "text": [
        "\r",
        "94% [===================================>   ] 2,961,384   50.4KB/s  eta 4s     "
       ]
      },
      {
       "output_type": "stream",
       "stream": "stdout",
       "text": [
        "\r",
        "94% [===================================>   ] 2,970,072   49.0KB/s  eta 4s     "
       ]
      },
      {
       "output_type": "stream",
       "stream": "stdout",
       "text": [
        "\r",
        "94% [====================================>  ] 2,977,312   48.5KB/s  eta 4s     "
       ]
      },
      {
       "output_type": "stream",
       "stream": "stdout",
       "text": [
        "\r",
        "95% [====================================>  ] 2,987,448   47.0KB/s  eta 4s     "
       ]
      },
      {
       "output_type": "stream",
       "stream": "stdout",
       "text": [
        "\r",
        "95% [====================================>  ] 2,996,136   46.0KB/s  eta 4s     "
       ]
      },
      {
       "output_type": "stream",
       "stream": "stdout",
       "text": [
        "\r",
        "95% [====================================>  ] 3,007,720   42.1KB/s  eta 4s     "
       ]
      },
      {
       "output_type": "stream",
       "stream": "stdout",
       "text": [
        "\r",
        "96% [====================================>  ] 3,020,752   40.5KB/s  eta 4s     "
       ]
      },
      {
       "output_type": "stream",
       "stream": "stdout",
       "text": [
        "\r",
        "96% [====================================>  ] 3,030,888   38.4KB/s  eta 3s     "
       ]
      },
      {
       "output_type": "stream",
       "stream": "stdout",
       "text": [
        "\r",
        "96% [====================================>  ] 3,042,472   36.5KB/s  eta 3s     "
       ]
      },
      {
       "output_type": "stream",
       "stream": "stdout",
       "text": [
        "\r",
        "97% [====================================>  ] 3,055,504   37.7KB/s  eta 3s     "
       ]
      },
      {
       "output_type": "stream",
       "stream": "stdout",
       "text": [
        "\r",
        "97% [=====================================> ] 3,068,536   35.9KB/s  eta 3s     "
       ]
      },
      {
       "output_type": "stream",
       "stream": "stdout",
       "text": [
        "\r",
        "98% [=====================================> ] 3,081,568   34.1KB/s  eta 1s     "
       ]
      },
      {
       "output_type": "stream",
       "stream": "stdout",
       "text": [
        "\r",
        "98% [=====================================> ] 3,094,600   34.4KB/s  eta 1s     "
       ]
      },
      {
       "output_type": "stream",
       "stream": "stdout",
       "text": [
        "\r",
        "99% [=====================================> ] 3,111,480   33.5KB/s  eta 1s     "
       ]
      },
      {
       "output_type": "stream",
       "stream": "stdout",
       "text": [
        "\r",
        "99% [=====================================> ] 3,127,904   34.6KB/s  eta 0s     "
       ]
      },
      {
       "output_type": "stream",
       "stream": "stdout",
       "text": [
        "\r",
        "99% [=====================================> ] 3,133,696   32.8KB/s  eta 0s     \r",
        "100%[======================================>] 3,137,204   33.3KB/s   in 80s    \r\n",
        "\r\n",
        "2014-03-03 12:46:17 (38.2 KB/s) - \u2018enron6.tar.gz\u2019 saved [3137204/3137204]\r\n",
        "\r\n"
       ]
      }
     ],
     "prompt_number": 2
    },
    {
     "cell_type": "code",
     "collapsed": false,
     "input": [
      "%%bash\n",
      "\n",
      "# unzip/tar files (also only need to do this once)\n",
      "mkdir data\n",
      "for file in *.tar.gz ; \n",
      "do\n",
      "    tar -C data -zxvf \"$file\"\n",
      "done"
     ],
     "language": "python",
     "metadata": {},
     "outputs": [
      {
       "output_type": "stream",
       "stream": "stderr",
       "text": [
        "tar: Error opening archive: Failed to open '*.tar.gz'\n"
       ]
      }
     ],
     "prompt_number": 8
    },
    {
     "cell_type": "code",
     "collapsed": false,
     "input": [
      "# Read in files\n",
      "\n",
      "import os, pdb\n",
      "\n",
      "NEWLINE = '\\n'\n",
      "SKIP_FILES = set(['cmds'])\n",
      "\n",
      "def read_files(path):\n",
      "  for root, dir_names, file_names in os.walk(path):\n",
      "    for path in dir_names:\n",
      "      read_files(os.path.join(root, path))\n",
      "    for file_name in file_names:\n",
      "      if file_name not in SKIP_FILES:\n",
      "        file_path = os.path.join(root, file_name)\n",
      "        if os.path.isfile(file_path):\n",
      "          past_header, lines = False, []\n",
      "          f = open(file_path)\n",
      "          for line in f:\n",
      "              lines.append(line)\n",
      "          f.close()\n",
      "          yield file_path, NEWLINE.join(lines).decode('cp1252', 'ignore')"
     ],
     "language": "python",
     "metadata": {},
     "outputs": [],
     "prompt_number": 9
    },
    {
     "cell_type": "code",
     "collapsed": false,
     "input": [
      "# construct dataframe for enron dataset\n",
      "\n",
      "from pandas import DataFrame\n",
      "\n",
      "def build_data_frame(path, classification):\n",
      "  data_frame = DataFrame({'text': [], 'class': []})\n",
      "  for file_name, text in read_files(path):\n",
      "    data_frame = data_frame.append(\n",
      "        DataFrame({'text': [text], 'class': [classification]}, index=[file_name]))\n",
      "  return data_frame"
     ],
     "language": "python",
     "metadata": {},
     "outputs": [],
     "prompt_number": 10
    },
    {
     "cell_type": "code",
     "collapsed": false,
     "input": [
      "HAM = 0\n",
      "SPAM = 1\n",
      "\n",
      "SOURCES = [\n",
      "    ('data/enron1/spam',    SPAM),\n",
      "    ('data/enron1/ham',     HAM),\n",
      "    ('data/enron2/spam',    SPAM),\n",
      "    ('data/enron2/ham',     HAM),\n",
      "    ('data/enron3/spam',    SPAM),\n",
      "    ('data/enron3/ham',     HAM),\n",
      "    ('data/enron4/spam',    SPAM),\n",
      "    ('data/enron4/ham',     HAM),\n",
      "    ('data/enron5/spam',    SPAM),\n",
      "    ('data/enron5/ham',     HAM),\n",
      "    ('data/enron6/spam',    SPAM),\n",
      "    ('data/enron6/ham',     HAM),\n",
      "    ]\n",
      "\n",
      "data = DataFrame({'text': [], 'class': []})\n",
      "for path, classification in SOURCES:\n",
      "  data = data.append(build_data_frame(path, classification))\n",
      "\n",
      "data = data.reindex(np.random.permutation(data.index))"
     ],
     "language": "python",
     "metadata": {},
     "outputs": [],
     "prompt_number": 60
    },
    {
     "cell_type": "code",
     "collapsed": false,
     "input": [
      "data.head()"
     ],
     "language": "python",
     "metadata": {},
     "outputs": [
      {
       "output_type": "stream",
       "stream": "stderr",
       "text": [
        "/Users/willow/anaconda/lib/python2.7/site-packages/pandas/core/config.py:570: DeprecationWarning: height has been deprecated.\n",
        "\n",
        "  warnings.warn(d.msg, DeprecationWarning)\n",
        "/Users/willow/anaconda/lib/python2.7/site-packages/pandas/core/config.py:570: DeprecationWarning: height has been deprecated.\n",
        "\n",
        "  warnings.warn(d.msg, DeprecationWarning)\n",
        "/Users/willow/anaconda/lib/python2.7/site-packages/pandas/core/config.py:570: DeprecationWarning: height has been deprecated.\n",
        "\n",
        "  warnings.warn(d.msg, DeprecationWarning)\n"
       ]
      },
      {
       "html": [
        "<div style=\"max-height:1000px;max-width:1500px;overflow:auto;\">\n",
        "<table border=\"1\" class=\"dataframe\">\n",
        "  <thead>\n",
        "    <tr style=\"text-align: right;\">\n",
        "      <th></th>\n",
        "      <th>class</th>\n",
        "      <th>text</th>\n",
        "    </tr>\n",
        "  </thead>\n",
        "  <tbody>\n",
        "    <tr>\n",
        "      <th>data/enron2/spam/4777.2005-07-16.SA_and_HP.spam.txt</th>\n",
        "      <td> 1</td>\n",
        "      <td> Subject: no pills , no pumps - its the patch\\r...</td>\n",
        "    </tr>\n",
        "    <tr>\n",
        "      <th>data/enron1/spam/1535.2004-07-09.GP.spam.txt</th>\n",
        "      <td> 1</td>\n",
        "      <td> Subject: a witch . i don ' t\\r\\n\\nhtmlbody\\r\\n...</td>\n",
        "    </tr>\n",
        "    <tr>\n",
        "      <th>data/enron6/spam/2606.2005-01-09.BG.spam.txt</th>\n",
        "      <td> 1</td>\n",
        "      <td> Subject: re : nice mmos wants a date\\r\\n\\nunbe...</td>\n",
        "    </tr>\n",
        "    <tr>\n",
        "      <th>data/enron4/ham/4594.2002-01-11.williams.ham.txt</th>\n",
        "      <td> 0</td>\n",
        "      <td> Subject: start date : 1 / 11 / 02 ; hourahead ...</td>\n",
        "    </tr>\n",
        "    <tr>\n",
        "      <th>data/enron3/ham/1879.2001-08-02.kitchen.ham.txt</th>\n",
        "      <td> 0</td>\n",
        "      <td> Subject: off - site travel question\\r\\n\\nthe e...</td>\n",
        "    </tr>\n",
        "  </tbody>\n",
        "</table>\n",
        "</div>"
       ],
       "metadata": {},
       "output_type": "pyout",
       "prompt_number": 61,
       "text": [
        "                                                     class  \\\n",
        "data/enron2/spam/4777.2005-07-16.SA_and_HP.spam.txt      1   \n",
        "data/enron1/spam/1535.2004-07-09.GP.spam.txt             1   \n",
        "data/enron6/spam/2606.2005-01-09.BG.spam.txt             1   \n",
        "data/enron4/ham/4594.2002-01-11.williams.ham.txt         0   \n",
        "data/enron3/ham/1879.2001-08-02.kitchen.ham.txt          0   \n",
        "\n",
        "                                                                                                  text  \n",
        "data/enron2/spam/4777.2005-07-16.SA_and_HP.spam.txt  Subject: no pills , no pumps - its the patch\\r...  \n",
        "data/enron1/spam/1535.2004-07-09.GP.spam.txt         Subject: a witch . i don ' t\\r\\n\\nhtmlbody\\r\\n...  \n",
        "data/enron6/spam/2606.2005-01-09.BG.spam.txt         Subject: re : nice mmos wants a date\\r\\n\\nunbe...  \n",
        "data/enron4/ham/4594.2002-01-11.williams.ham.txt     Subject: start date : 1 / 11 / 02 ; hourahead ...  \n",
        "data/enron3/ham/1879.2001-08-02.kitchen.ham.txt      Subject: off - site travel question\\r\\n\\nthe e...  "
       ]
      }
     ],
     "prompt_number": 61
    },
    {
     "cell_type": "code",
     "collapsed": false,
     "input": [
      "# inpect class (in)balance\n",
      "data.groupby('class').count()"
     ],
     "language": "python",
     "metadata": {},
     "outputs": [
      {
       "output_type": "stream",
       "stream": "stderr",
       "text": [
        "/Users/willow/anaconda/lib/python2.7/site-packages/pandas/core/config.py:570: DeprecationWarning: height has been deprecated.\n",
        "\n",
        "  warnings.warn(d.msg, DeprecationWarning)\n",
        "/Users/willow/anaconda/lib/python2.7/site-packages/pandas/core/config.py:570: DeprecationWarning: height has been deprecated.\n",
        "\n",
        "  warnings.warn(d.msg, DeprecationWarning)\n"
       ]
      },
      {
       "html": [
        "<div style=\"max-height:1000px;max-width:1500px;overflow:auto;\">\n",
        "<table border=\"1\" class=\"dataframe\">\n",
        "  <thead>\n",
        "    <tr style=\"text-align: right;\">\n",
        "      <th></th>\n",
        "      <th>class</th>\n",
        "      <th>text</th>\n",
        "    </tr>\n",
        "    <tr>\n",
        "      <th>class</th>\n",
        "      <th></th>\n",
        "      <th></th>\n",
        "    </tr>\n",
        "  </thead>\n",
        "  <tbody>\n",
        "    <tr>\n",
        "      <th>0</th>\n",
        "      <td> 16545</td>\n",
        "      <td> 16545</td>\n",
        "    </tr>\n",
        "    <tr>\n",
        "      <th>1</th>\n",
        "      <td> 17171</td>\n",
        "      <td> 17171</td>\n",
        "    </tr>\n",
        "  </tbody>\n",
        "</table>\n",
        "</div>"
       ],
       "metadata": {},
       "output_type": "pyout",
       "prompt_number": 62,
       "text": [
        "       class   text\n",
        "class              \n",
        "0      16545  16545\n",
        "1      17171  17171"
       ]
      }
     ],
     "prompt_number": 62
    },
    {
     "cell_type": "code",
     "collapsed": false,
     "input": [
      "import random\n",
      "\n",
      "# get a random subsample of the data\n",
      "def some(x, n):\n",
      "    return x.ix[random.sample(x.index, n)]"
     ],
     "language": "python",
     "metadata": {},
     "outputs": [],
     "prompt_number": 63
    },
    {
     "cell_type": "code",
     "collapsed": false,
     "input": [
      "sample = some(data, 1000)"
     ],
     "language": "python",
     "metadata": {},
     "outputs": [],
     "prompt_number": 64
    },
    {
     "cell_type": "code",
     "collapsed": false,
     "input": [
      "sample['text'].head()"
     ],
     "language": "python",
     "metadata": {},
     "outputs": [
      {
       "metadata": {},
       "output_type": "pyout",
       "prompt_number": 68,
       "text": [
        "data/enron2/ham/5002.2001-04-06.kaminski.ham.txt       Subject: free latex\\r\\n\\ngo to http : / / www ...\n",
        "data/enron1/ham/2502.2000-10-10.farmer.ham.txt         Subject: re : cornhusker\\r\\n\\ni meant to copy ...\n",
        "data/enron3/spam/4835.2005-06-14.BG.spam.txt           Subject: if yoou need it\\r\\n\\ndear sir / madam...\n",
        "data/enron5/spam/0339.2002-05-30.SA_and_HP.spam.txt    Subject: you can gain from lowest interest rat...\n",
        "data/enron1/ham/5091.2001-11-29.farmer.ham.txt         Subject: bammel football stuff\\r\\n\\nhey fellas...\n",
        "Name: text, dtype: object"
       ]
      }
     ],
     "prompt_number": 68
    },
    {
     "cell_type": "code",
     "collapsed": false,
     "input": [
      "sample.groupby('class').count()"
     ],
     "language": "python",
     "metadata": {},
     "outputs": [
      {
       "output_type": "stream",
       "stream": "stderr",
       "text": [
        "/Users/willow/anaconda/lib/python2.7/site-packages/pandas/core/config.py:570: DeprecationWarning: height has been deprecated.\n",
        "\n",
        "  warnings.warn(d.msg, DeprecationWarning)\n",
        "/Users/willow/anaconda/lib/python2.7/site-packages/pandas/core/config.py:570: DeprecationWarning: height has been deprecated.\n",
        "\n",
        "  warnings.warn(d.msg, DeprecationWarning)\n"
       ]
      },
      {
       "html": [
        "<div style=\"max-height:1000px;max-width:1500px;overflow:auto;\">\n",
        "<table border=\"1\" class=\"dataframe\">\n",
        "  <thead>\n",
        "    <tr style=\"text-align: right;\">\n",
        "      <th></th>\n",
        "      <th>class</th>\n",
        "      <th>text</th>\n",
        "    </tr>\n",
        "    <tr>\n",
        "      <th>class</th>\n",
        "      <th></th>\n",
        "      <th></th>\n",
        "    </tr>\n",
        "  </thead>\n",
        "  <tbody>\n",
        "    <tr>\n",
        "      <th>0</th>\n",
        "      <td> 492</td>\n",
        "      <td> 492</td>\n",
        "    </tr>\n",
        "    <tr>\n",
        "      <th>1</th>\n",
        "      <td> 508</td>\n",
        "      <td> 508</td>\n",
        "    </tr>\n",
        "  </tbody>\n",
        "</table>\n",
        "</div>"
       ],
       "metadata": {},
       "output_type": "pyout",
       "prompt_number": 66,
       "text": [
        "       class  text\n",
        "class             \n",
        "0        492   492\n",
        "1        508   508"
       ]
      }
     ],
     "prompt_number": 66
    },
    {
     "cell_type": "code",
     "collapsed": false,
     "input": [
      "vect = TfidfVectorizer()"
     ],
     "language": "python",
     "metadata": {},
     "outputs": [],
     "prompt_number": 48
    },
    {
     "cell_type": "code",
     "collapsed": false,
     "input": [
      "# X = vect.fit_transform(sample['text'])\n",
      "# Y = sample['class']\n",
      "X = vect.fit_transform(data['text'])\n",
      "Y = data['class']"
     ],
     "language": "python",
     "metadata": {},
     "outputs": [],
     "prompt_number": 92
    },
    {
     "cell_type": "code",
     "collapsed": false,
     "input": [
      "x_train, x_test, y_train, y_test = train_test_split(X, Y, test_size=0.30, random_state=42)"
     ],
     "language": "python",
     "metadata": {},
     "outputs": [],
     "prompt_number": 93
    },
    {
     "cell_type": "code",
     "collapsed": false,
     "input": [
      "x_test.shape, x_train.shape"
     ],
     "language": "python",
     "metadata": {},
     "outputs": [
      {
       "metadata": {},
       "output_type": "pyout",
       "prompt_number": 101,
       "text": [
        "((10115, 158288), (23601, 158288))"
       ]
      }
     ],
     "prompt_number": 101
    },
    {
     "cell_type": "code",
     "collapsed": false,
     "input": [
      "# Predict spam - y is class and x is text, use text and predict spam\n",
      "\n",
      "# %%timeit -n2\n",
      "\n",
      "n_neighbors = 7\n",
      "nbrs = KNeighborsClassifier(n_neighbors, weights = 'uniform')\n",
      "nbrs.fit(x_train, y_train)\n",
      "result = nbrs.predict(x_test)\n",
      "\n",
      "#plt.scatter(X, Y, cmap=plt.cm.Paired)"
     ],
     "language": "python",
     "metadata": {},
     "outputs": [],
     "prompt_number": 102
    },
    {
     "cell_type": "code",
     "collapsed": false,
     "input": [
      "print nbrs.score(x_test, y_test)"
     ],
     "language": "python",
     "metadata": {},
     "outputs": [
      {
       "output_type": "stream",
       "stream": "stdout",
       "text": [
        "0.964508156204\n"
       ]
      }
     ],
     "prompt_number": 105
    },
    {
     "cell_type": "code",
     "collapsed": false,
     "input": [
      "print nbrs.score(x_train, y_train)"
     ],
     "language": "python",
     "metadata": {},
     "outputs": [
      {
       "output_type": "stream",
       "stream": "stdout",
       "text": [
        "0.972374051947\n"
       ]
      }
     ],
     "prompt_number": 106
    },
    {
     "cell_type": "code",
     "collapsed": false,
     "input": [
      "# Need to run a loop through to get the nearest neighbors and accuracy and plot test vs train"
     ],
     "language": "python",
     "metadata": {},
     "outputs": []
    },
    {
     "cell_type": "code",
     "collapsed": false,
     "input": [
      "# Create dataset and plot confusion matrix"
     ],
     "language": "python",
     "metadata": {},
     "outputs": []
    },
    {
     "cell_type": "code",
     "collapsed": false,
     "input": [
      "# Naive bayes\n",
      "\n",
      "# Look at cross val spring to see how to optimize the alpha\n",
      "multnb = MultinomialNB()\n",
      "multnb.fit(x_train, y_train)\n",
      "#mult_result = multnb.predict(x_test)\n",
      "multnb.score(x_test, y_test)"
     ],
     "language": "python",
     "metadata": {},
     "outputs": [
      {
       "metadata": {},
       "output_type": "pyout",
       "prompt_number": 111,
       "text": [
        "0.9842807711319822"
       ]
      }
     ],
     "prompt_number": 111
    },
    {
     "cell_type": "code",
     "collapsed": false,
     "input": [
      "### \n",
      "Logistic Regression"
     ],
     "language": "python",
     "metadata": {},
     "outputs": [
      {
       "ename": "SyntaxError",
       "evalue": "invalid syntax (<ipython-input-114-ced1ce17bdd5>, line 2)",
       "output_type": "pyerr",
       "traceback": [
        "\u001b[0;36m  File \u001b[0;32m\"<ipython-input-114-ced1ce17bdd5>\"\u001b[0;36m, line \u001b[0;32m2\u001b[0m\n\u001b[0;31m    Logistic Regression\u001b[0m\n\u001b[0m                      ^\u001b[0m\n\u001b[0;31mSyntaxError\u001b[0m\u001b[0;31m:\u001b[0m invalid syntax\n"
       ]
      }
     ],
     "prompt_number": 114
    },
    {
     "cell_type": "code",
     "collapsed": false,
     "input": [
      "newsgroups_train = fetch_20newsgroups(subset='train')"
     ],
     "language": "python",
     "metadata": {},
     "outputs": [
      {
       "output_type": "stream",
       "stream": "stderr",
       "text": [
        "No handlers could be found for logger \"sklearn.datasets.twenty_newsgroups\"\n"
       ]
      }
     ],
     "prompt_number": 121
    },
    {
     "cell_type": "code",
     "collapsed": false,
     "input": [
      "pprint(list(newsgroups_train.target_names))"
     ],
     "language": "python",
     "metadata": {},
     "outputs": [
      {
       "output_type": "stream",
       "stream": "stdout",
       "text": [
        "['alt.atheism',\n",
        " 'comp.graphics',\n",
        " 'comp.os.ms-windows.misc',\n",
        " 'comp.sys.ibm.pc.hardware',\n",
        " 'comp.sys.mac.hardware',\n",
        " 'comp.windows.x',\n",
        " 'misc.forsale',\n",
        " 'rec.autos',\n",
        " 'rec.motorcycles',\n",
        " 'rec.sport.baseball',\n",
        " 'rec.sport.hockey',\n",
        " 'sci.crypt',\n",
        " 'sci.electronics',\n",
        " 'sci.med',\n",
        " 'sci.space',\n",
        " 'soc.religion.christian',\n",
        " 'talk.politics.guns',\n",
        " 'talk.politics.mideast',\n",
        " 'talk.politics.misc',\n",
        " 'talk.religion.misc']\n"
       ]
      }
     ],
     "prompt_number": 123
    },
    {
     "cell_type": "code",
     "collapsed": false,
     "input": [
      "newsgroups_train.keys()"
     ],
     "language": "python",
     "metadata": {},
     "outputs": [
      {
       "metadata": {},
       "output_type": "pyout",
       "prompt_number": 125,
       "text": [
        "['target_names', 'data', 'target', 'DESCR', 'filenames']"
       ]
      }
     ],
     "prompt_number": 125
    },
    {
     "cell_type": "code",
     "collapsed": false,
     "input": [
      "newsgroups_train.data[:1]"
     ],
     "language": "python",
     "metadata": {},
     "outputs": [
      {
       "metadata": {},
       "output_type": "pyout",
       "prompt_number": 145,
       "text": [
        "[u\"From: lerxst@wam.umd.edu (where's my thing)\\nSubject: WHAT car is this!?\\nNntp-Posting-Host: rac3.wam.umd.edu\\nOrganization: University of Maryland, College Park\\nLines: 15\\n\\n I was wondering if anyone out there could enlighten me on this car I saw\\nthe other day. It was a 2-door sports car, looked to be from the late 60s/\\nearly 70s. It was called a Bricklin. The doors were really small. In addition,\\nthe front bumper was separate from the rest of the body. This is \\nall I know. If anyone can tellme a model name, engine specs, years\\nof production, where this car is made, history, or whatever info you\\nhave on this funky looking car, please e-mail.\\n\\nThanks,\\n- IL\\n   ---- brought to you by your neighborhood Lerxst ----\\n\\n\\n\\n\\n\"]"
       ]
      }
     ],
     "prompt_number": 145
    },
    {
     "cell_type": "code",
     "collapsed": false,
     "input": [
      "lg = LogisticRegression()"
     ],
     "language": "python",
     "metadata": {},
     "outputs": [
      {
       "output_type": "stream",
       "stream": "stdout",
       "text": [
        "LogisticRegression(C=1.0, class_weight=None, dual=False, fit_intercept=True,\n",
        "          intercept_scaling=1, penalty=l2, random_state=None, tol=0.0001)\n"
       ]
      }
     ],
     "prompt_number": 117
    },
    {
     "cell_type": "code",
     "collapsed": false,
     "input": [
      "x_news = newsgroups_train['data']\n",
      "y_news = newsgroups_train['target_names']"
     ],
     "language": "python",
     "metadata": {},
     "outputs": []
    },
    {
     "cell_type": "code",
     "collapsed": false,
     "input": [
      "OneVsRestClassifier(LogisticRegression(random_state=0)).fit(x_news, y_news).predict(?)\n",
      "array"
     ],
     "language": "python",
     "metadata": {},
     "outputs": []
    },
    {
     "cell_type": "code",
     "collapsed": false,
     "input": [
      "a_train, a_test, b_train, b_test = train_test_split(a, b, test_size=0.30, random_state=42)"
     ],
     "language": "python",
     "metadata": {},
     "outputs": []
    },
    {
     "cell_type": "code",
     "collapsed": false,
     "input": [],
     "language": "python",
     "metadata": {},
     "outputs": []
    },
    {
     "cell_type": "code",
     "collapsed": false,
     "input": [
      "lg.fit_transform(x_train, y_train)\n",
      "lg.predict(x_test)\n",
      "lg.score(x_test, y_test)"
     ],
     "language": "python",
     "metadata": {},
     "outputs": [
      {
       "metadata": {},
       "output_type": "pyout",
       "prompt_number": 119,
       "text": [
        "0.9837864557587741"
       ]
      }
     ],
     "prompt_number": 119
    },
    {
     "cell_type": "code",
     "collapsed": false,
     "input": [
      "#cv = cross_validation.ShuffleSplit(data['', n_iter=3, test_size=0.3, random_state=0)\n",
      "#print cross_val_score(KNeighborsClassifier(n_neighbors, weights = 'uniform'), data, "
     ],
     "language": "python",
     "metadata": {},
     "outputs": []
    }
   ],
   "metadata": {}
  }
 ]
}